{
    "cells": [
        {
            "cell_type": "markdown",
            "metadata": {},
            "source": [
                "# Chest X-ray Image Report Generation (CXIRG)"
            ]
        },
        {
            "cell_type": "markdown",
            "metadata": {},
            "source": [
                "## Install Required Modules"
            ]
        },
        {
            "cell_type": "code",
            "execution_count": 1,
            "metadata": {},
            "outputs": [
                {
                    "name": "stdout",
                    "output_type": "stream",
                    "text": [
                        "Requirement already satisfied: openpyxl in /home/pulsar/miniconda3/envs/GAI/lib/python3.10/site-packages (3.1.2)\n",
                        "Requirement already satisfied: et-xmlfile in /home/pulsar/miniconda3/envs/GAI/lib/python3.10/site-packages (from openpyxl) (1.1.0)\n",
                        "Requirement already satisfied: pandas in /home/pulsar/miniconda3/envs/GAI/lib/python3.10/site-packages (2.2.2)\n",
                        "Requirement already satisfied: numpy>=1.22.4 in /home/pulsar/miniconda3/envs/GAI/lib/python3.10/site-packages (from pandas) (1.26.4)\n",
                        "Requirement already satisfied: python-dateutil>=2.8.2 in /home/pulsar/miniconda3/envs/GAI/lib/python3.10/site-packages (from pandas) (2.9.0)\n",
                        "Requirement already satisfied: pytz>=2020.1 in /home/pulsar/miniconda3/envs/GAI/lib/python3.10/site-packages (from pandas) (2024.1)\n",
                        "Requirement already satisfied: tzdata>=2022.7 in /home/pulsar/miniconda3/envs/GAI/lib/python3.10/site-packages (from pandas) (2024.1)\n",
                        "Requirement already satisfied: six>=1.5 in /home/pulsar/miniconda3/envs/GAI/lib/python3.10/site-packages (from python-dateutil>=2.8.2->pandas) (1.16.0)\n",
                        "Requirement already satisfied: pillow in /home/pulsar/miniconda3/envs/GAI/lib/python3.10/site-packages (10.3.0)\n",
                        "Requirement already satisfied: pytorch-ignite in /home/pulsar/miniconda3/envs/GAI/lib/python3.10/site-packages (0.5.0.post2)\n",
                        "Requirement already satisfied: torch<3,>=1.3 in /home/pulsar/miniconda3/envs/GAI/lib/python3.10/site-packages (from pytorch-ignite) (2.3.0)\n",
                        "Requirement already satisfied: packaging in /home/pulsar/miniconda3/envs/GAI/lib/python3.10/site-packages (from pytorch-ignite) (24.0)\n",
                        "Requirement already satisfied: filelock in /home/pulsar/.local/lib/python3.10/site-packages (from torch<3,>=1.3->pytorch-ignite) (3.12.4)\n",
                        "Requirement already satisfied: typing-extensions>=4.8.0 in /home/pulsar/miniconda3/envs/GAI/lib/python3.10/site-packages (from torch<3,>=1.3->pytorch-ignite) (4.11.0)\n",
                        "Requirement already satisfied: sympy in /home/pulsar/miniconda3/envs/GAI/lib/python3.10/site-packages (from torch<3,>=1.3->pytorch-ignite) (1.12)\n",
                        "Requirement already satisfied: networkx in /home/pulsar/miniconda3/envs/GAI/lib/python3.10/site-packages (from torch<3,>=1.3->pytorch-ignite) (3.3)\n",
                        "Requirement already satisfied: jinja2 in /home/pulsar/miniconda3/envs/GAI/lib/python3.10/site-packages (from torch<3,>=1.3->pytorch-ignite) (3.1.4)\n",
                        "Requirement already satisfied: fsspec in /home/pulsar/miniconda3/envs/GAI/lib/python3.10/site-packages (from torch<3,>=1.3->pytorch-ignite) (2024.3.1)\n",
                        "Requirement already satisfied: nvidia-cuda-nvrtc-cu12==12.1.105 in /home/pulsar/miniconda3/envs/GAI/lib/python3.10/site-packages (from torch<3,>=1.3->pytorch-ignite) (12.1.105)\n",
                        "Requirement already satisfied: nvidia-cuda-runtime-cu12==12.1.105 in /home/pulsar/miniconda3/envs/GAI/lib/python3.10/site-packages (from torch<3,>=1.3->pytorch-ignite) (12.1.105)\n",
                        "Requirement already satisfied: nvidia-cuda-cupti-cu12==12.1.105 in /home/pulsar/miniconda3/envs/GAI/lib/python3.10/site-packages (from torch<3,>=1.3->pytorch-ignite) (12.1.105)\n",
                        "Requirement already satisfied: nvidia-cudnn-cu12==8.9.2.26 in /home/pulsar/miniconda3/envs/GAI/lib/python3.10/site-packages (from torch<3,>=1.3->pytorch-ignite) (8.9.2.26)\n",
                        "Requirement already satisfied: nvidia-cublas-cu12==12.1.3.1 in /home/pulsar/miniconda3/envs/GAI/lib/python3.10/site-packages (from torch<3,>=1.3->pytorch-ignite) (12.1.3.1)\n",
                        "Requirement already satisfied: nvidia-cufft-cu12==11.0.2.54 in /home/pulsar/miniconda3/envs/GAI/lib/python3.10/site-packages (from torch<3,>=1.3->pytorch-ignite) (11.0.2.54)\n",
                        "Requirement already satisfied: nvidia-curand-cu12==10.3.2.106 in /home/pulsar/miniconda3/envs/GAI/lib/python3.10/site-packages (from torch<3,>=1.3->pytorch-ignite) (10.3.2.106)\n",
                        "Requirement already satisfied: nvidia-cusolver-cu12==11.4.5.107 in /home/pulsar/miniconda3/envs/GAI/lib/python3.10/site-packages (from torch<3,>=1.3->pytorch-ignite) (11.4.5.107)\n",
                        "Requirement already satisfied: nvidia-cusparse-cu12==12.1.0.106 in /home/pulsar/miniconda3/envs/GAI/lib/python3.10/site-packages (from torch<3,>=1.3->pytorch-ignite) (12.1.0.106)\n",
                        "Requirement already satisfied: nvidia-nccl-cu12==2.20.5 in /home/pulsar/miniconda3/envs/GAI/lib/python3.10/site-packages (from torch<3,>=1.3->pytorch-ignite) (2.20.5)\n",
                        "Requirement already satisfied: nvidia-nvtx-cu12==12.1.105 in /home/pulsar/miniconda3/envs/GAI/lib/python3.10/site-packages (from torch<3,>=1.3->pytorch-ignite) (12.1.105)\n",
                        "Requirement already satisfied: triton==2.3.0 in /home/pulsar/miniconda3/envs/GAI/lib/python3.10/site-packages (from torch<3,>=1.3->pytorch-ignite) (2.3.0)\n",
                        "Requirement already satisfied: nvidia-nvjitlink-cu12 in /home/pulsar/miniconda3/envs/GAI/lib/python3.10/site-packages (from nvidia-cusolver-cu12==11.4.5.107->torch<3,>=1.3->pytorch-ignite) (12.4.127)\n",
                        "Requirement already satisfied: MarkupSafe>=2.0 in /home/pulsar/miniconda3/envs/GAI/lib/python3.10/site-packages (from jinja2->torch<3,>=1.3->pytorch-ignite) (2.1.5)\n",
                        "Requirement already satisfied: mpmath>=0.19 in /home/pulsar/miniconda3/envs/GAI/lib/python3.10/site-packages (from sympy->torch<3,>=1.3->pytorch-ignite) (1.3.0)\n",
                        "Requirement already satisfied: scikit-learn in /home/pulsar/miniconda3/envs/GAI/lib/python3.10/site-packages (1.4.2)\n",
                        "Requirement already satisfied: numpy>=1.19.5 in /home/pulsar/miniconda3/envs/GAI/lib/python3.10/site-packages (from scikit-learn) (1.26.4)\n",
                        "Requirement already satisfied: scipy>=1.6.0 in /home/pulsar/miniconda3/envs/GAI/lib/python3.10/site-packages (from scikit-learn) (1.13.0)\n",
                        "Requirement already satisfied: joblib>=1.2.0 in /home/pulsar/miniconda3/envs/GAI/lib/python3.10/site-packages (from scikit-learn) (1.4.2)\n",
                        "Requirement already satisfied: threadpoolctl>=2.0.0 in /home/pulsar/miniconda3/envs/GAI/lib/python3.10/site-packages (from scikit-learn) (3.5.0)\n",
                        "Requirement already satisfied: torch in /home/pulsar/miniconda3/envs/GAI/lib/python3.10/site-packages (2.3.0)\n",
                        "Requirement already satisfied: filelock in /home/pulsar/.local/lib/python3.10/site-packages (from torch) (3.12.4)\n",
                        "Requirement already satisfied: typing-extensions>=4.8.0 in /home/pulsar/miniconda3/envs/GAI/lib/python3.10/site-packages (from torch) (4.11.0)\n",
                        "Requirement already satisfied: sympy in /home/pulsar/miniconda3/envs/GAI/lib/python3.10/site-packages (from torch) (1.12)\n",
                        "Requirement already satisfied: networkx in /home/pulsar/miniconda3/envs/GAI/lib/python3.10/site-packages (from torch) (3.3)\n",
                        "Requirement already satisfied: jinja2 in /home/pulsar/miniconda3/envs/GAI/lib/python3.10/site-packages (from torch) (3.1.4)\n",
                        "Requirement already satisfied: fsspec in /home/pulsar/miniconda3/envs/GAI/lib/python3.10/site-packages (from torch) (2024.3.1)\n",
                        "Requirement already satisfied: nvidia-cuda-nvrtc-cu12==12.1.105 in /home/pulsar/miniconda3/envs/GAI/lib/python3.10/site-packages (from torch) (12.1.105)\n",
                        "Requirement already satisfied: nvidia-cuda-runtime-cu12==12.1.105 in /home/pulsar/miniconda3/envs/GAI/lib/python3.10/site-packages (from torch) (12.1.105)\n",
                        "Requirement already satisfied: nvidia-cuda-cupti-cu12==12.1.105 in /home/pulsar/miniconda3/envs/GAI/lib/python3.10/site-packages (from torch) (12.1.105)\n",
                        "Requirement already satisfied: nvidia-cudnn-cu12==8.9.2.26 in /home/pulsar/miniconda3/envs/GAI/lib/python3.10/site-packages (from torch) (8.9.2.26)\n",
                        "Requirement already satisfied: nvidia-cublas-cu12==12.1.3.1 in /home/pulsar/miniconda3/envs/GAI/lib/python3.10/site-packages (from torch) (12.1.3.1)\n",
                        "Requirement already satisfied: nvidia-cufft-cu12==11.0.2.54 in /home/pulsar/miniconda3/envs/GAI/lib/python3.10/site-packages (from torch) (11.0.2.54)\n",
                        "Requirement already satisfied: nvidia-curand-cu12==10.3.2.106 in /home/pulsar/miniconda3/envs/GAI/lib/python3.10/site-packages (from torch) (10.3.2.106)\n",
                        "Requirement already satisfied: nvidia-cusolver-cu12==11.4.5.107 in /home/pulsar/miniconda3/envs/GAI/lib/python3.10/site-packages (from torch) (11.4.5.107)\n",
                        "Requirement already satisfied: nvidia-cusparse-cu12==12.1.0.106 in /home/pulsar/miniconda3/envs/GAI/lib/python3.10/site-packages (from torch) (12.1.0.106)\n",
                        "Requirement already satisfied: nvidia-nccl-cu12==2.20.5 in /home/pulsar/miniconda3/envs/GAI/lib/python3.10/site-packages (from torch) (2.20.5)\n",
                        "Requirement already satisfied: nvidia-nvtx-cu12==12.1.105 in /home/pulsar/miniconda3/envs/GAI/lib/python3.10/site-packages (from torch) (12.1.105)\n",
                        "Requirement already satisfied: triton==2.3.0 in /home/pulsar/miniconda3/envs/GAI/lib/python3.10/site-packages (from torch) (2.3.0)\n",
                        "Requirement already satisfied: nvidia-nvjitlink-cu12 in /home/pulsar/miniconda3/envs/GAI/lib/python3.10/site-packages (from nvidia-cusolver-cu12==11.4.5.107->torch) (12.4.127)\n",
                        "Requirement already satisfied: MarkupSafe>=2.0 in /home/pulsar/miniconda3/envs/GAI/lib/python3.10/site-packages (from jinja2->torch) (2.1.5)\n",
                        "Requirement already satisfied: mpmath>=0.19 in /home/pulsar/miniconda3/envs/GAI/lib/python3.10/site-packages (from sympy->torch) (1.3.0)\n",
                        "Requirement already satisfied: transformers in /home/pulsar/miniconda3/envs/GAI/lib/python3.10/site-packages (4.41.0)\n",
                        "Requirement already satisfied: filelock in /home/pulsar/.local/lib/python3.10/site-packages (from transformers) (3.12.4)\n",
                        "Requirement already satisfied: huggingface-hub<1.0,>=0.23.0 in /home/pulsar/miniconda3/envs/GAI/lib/python3.10/site-packages (from transformers) (0.23.0)\n",
                        "Requirement already satisfied: numpy>=1.17 in /home/pulsar/miniconda3/envs/GAI/lib/python3.10/site-packages (from transformers) (1.26.4)\n",
                        "Requirement already satisfied: packaging>=20.0 in /home/pulsar/miniconda3/envs/GAI/lib/python3.10/site-packages (from transformers) (24.0)\n",
                        "Requirement already satisfied: pyyaml>=5.1 in /home/pulsar/miniconda3/envs/GAI/lib/python3.10/site-packages (from transformers) (6.0.1)\n",
                        "Requirement already satisfied: regex!=2019.12.17 in /home/pulsar/miniconda3/envs/GAI/lib/python3.10/site-packages (from transformers) (2024.5.15)\n",
                        "Requirement already satisfied: requests in /home/pulsar/miniconda3/envs/GAI/lib/python3.10/site-packages (from transformers) (2.32.1)\n",
                        "Requirement already satisfied: tokenizers<0.20,>=0.19 in /home/pulsar/miniconda3/envs/GAI/lib/python3.10/site-packages (from transformers) (0.19.1)\n",
                        "Requirement already satisfied: safetensors>=0.4.1 in /home/pulsar/miniconda3/envs/GAI/lib/python3.10/site-packages (from transformers) (0.4.3)\n",
                        "Requirement already satisfied: tqdm>=4.27 in /home/pulsar/miniconda3/envs/GAI/lib/python3.10/site-packages (from transformers) (4.66.4)\n",
                        "Requirement already satisfied: fsspec>=2023.5.0 in /home/pulsar/miniconda3/envs/GAI/lib/python3.10/site-packages (from huggingface-hub<1.0,>=0.23.0->transformers) (2024.3.1)\n",
                        "Requirement already satisfied: typing-extensions>=3.7.4.3 in /home/pulsar/miniconda3/envs/GAI/lib/python3.10/site-packages (from huggingface-hub<1.0,>=0.23.0->transformers) (4.11.0)\n",
                        "Requirement already satisfied: charset-normalizer<4,>=2 in /home/pulsar/miniconda3/envs/GAI/lib/python3.10/site-packages (from requests->transformers) (3.3.2)\n",
                        "Requirement already satisfied: idna<4,>=2.5 in /home/pulsar/miniconda3/envs/GAI/lib/python3.10/site-packages (from requests->transformers) (3.7)\n",
                        "Requirement already satisfied: urllib3<3,>=1.21.1 in /home/pulsar/miniconda3/envs/GAI/lib/python3.10/site-packages (from requests->transformers) (2.2.1)\n",
                        "Requirement already satisfied: certifi>=2017.4.17 in /home/pulsar/miniconda3/envs/GAI/lib/python3.10/site-packages (from requests->transformers) (2024.2.2)\n"
                    ]
                }
            ],
            "source": [
                "!pip install openpyxl\n",
                "!pip install pandas\n",
                "!pip install pillow\n",
                "!pip install pytorch-ignite\n",
                "!pip install scikit-learn\n",
                "!pip install torch\n",
                "!pip install transformers"
            ]
        },
        {
            "cell_type": "markdown",
            "metadata": {},
            "source": [
                "## Import Required Modules"
            ]
        },
        {
            "cell_type": "code",
            "execution_count": 2,
            "metadata": {},
            "outputs": [
                {
                    "name": "stderr",
                    "output_type": "stream",
                    "text": [
                        "/home/pulsar/miniconda3/envs/GAI/lib/python3.10/site-packages/tqdm/auto.py:21: TqdmWarning: IProgress not found. Please update jupyter and ipywidgets. See https://ipywidgets.readthedocs.io/en/stable/user_install.html\n",
                        "  from .autonotebook import tqdm as notebook_tqdm\n"
                    ]
                }
            ],
            "source": [
                "import os\n",
                "import random\n",
                "import torch\n",
                "\n",
                "import numpy as np\n",
                "import pandas as pd\n",
                "import torch.nn as nn\n",
                "\n",
                "from ignite.metrics import Rouge\n",
                "from pandas.core.common import random_state\n",
                "from PIL import Image\n",
                "from torch.optim import AdamW\n",
                "from torch.utils.data import Dataset, DataLoader\n",
                "from tqdm import tqdm\n",
                "from transformers import GPT2Tokenizer, VisionEncoderDecoderModel, ViTImageProcessor\n",
                "from typing import Any, Dict, List"
            ]
        },
        {
            "cell_type": "markdown",
            "metadata": {},
            "source": [
                "## Set The Random Seed"
            ]
        },
        {
            "cell_type": "code",
            "execution_count": 3,
            "metadata": {},
            "outputs": [],
            "source": [
                "seed = 48763\n",
                "\n",
                "np.random.seed(seed=seed, )\n",
                "\n",
                "random_state(state=seed, )\n",
                "\n",
                "random.seed(a=seed, )\n",
                "\n",
                "torch.manual_seed(seed=seed, )\n",
                "torch.cuda.manual_seed(seed=seed, )\n",
                "torch.cuda.manual_seed_all(seed=seed, )\n",
                "torch.backends.cudnn.benchmark = False\n",
                "torch.backends.cudnn.deterministic = True"
            ]
        },
        {
            "cell_type": "markdown",
            "metadata": {},
            "source": [
                "## Set The Device & Initialize Models"
            ]
        },
        {
            "cell_type": "code",
            "execution_count": 4,
            "metadata": {},
            "outputs": [
                {
                    "name": "stderr",
                    "output_type": "stream",
                    "text": [
                        "/home/pulsar/miniconda3/envs/GAI/lib/python3.10/site-packages/huggingface_hub/file_download.py:1132: FutureWarning: `resume_download` is deprecated and will be removed in version 1.0.0. Downloads always resume when possible. If you want to force a new download, use `force_download=True`.\n",
                        "  warnings.warn(\n",
                        "Some weights of ViTModel were not initialized from the model checkpoint at nickmuchi/vit-finetuned-chest-xray-pneumonia and are newly initialized: ['vit.pooler.dense.bias', 'vit.pooler.dense.weight']\n",
                        "You should probably TRAIN this model on a down-stream task to be able to use it for predictions and inference.\n",
                        "Some weights of GPT2LMHeadModel were not initialized from the model checkpoint at openai-community/gpt2 and are newly initialized: ['h.0.crossattention.c_attn.bias', 'h.0.crossattention.c_attn.weight', 'h.0.crossattention.c_proj.bias', 'h.0.crossattention.c_proj.weight', 'h.0.crossattention.q_attn.bias', 'h.0.crossattention.q_attn.weight', 'h.0.ln_cross_attn.bias', 'h.0.ln_cross_attn.weight', 'h.1.crossattention.c_attn.bias', 'h.1.crossattention.c_attn.weight', 'h.1.crossattention.c_proj.bias', 'h.1.crossattention.c_proj.weight', 'h.1.crossattention.q_attn.bias', 'h.1.crossattention.q_attn.weight', 'h.1.ln_cross_attn.bias', 'h.1.ln_cross_attn.weight', 'h.10.crossattention.c_attn.bias', 'h.10.crossattention.c_attn.weight', 'h.10.crossattention.c_proj.bias', 'h.10.crossattention.c_proj.weight', 'h.10.crossattention.q_attn.bias', 'h.10.crossattention.q_attn.weight', 'h.10.ln_cross_attn.bias', 'h.10.ln_cross_attn.weight', 'h.11.crossattention.c_attn.bias', 'h.11.crossattention.c_attn.weight', 'h.11.crossattention.c_proj.bias', 'h.11.crossattention.c_proj.weight', 'h.11.crossattention.q_attn.bias', 'h.11.crossattention.q_attn.weight', 'h.11.ln_cross_attn.bias', 'h.11.ln_cross_attn.weight', 'h.2.crossattention.c_attn.bias', 'h.2.crossattention.c_attn.weight', 'h.2.crossattention.c_proj.bias', 'h.2.crossattention.c_proj.weight', 'h.2.crossattention.q_attn.bias', 'h.2.crossattention.q_attn.weight', 'h.2.ln_cross_attn.bias', 'h.2.ln_cross_attn.weight', 'h.3.crossattention.c_attn.bias', 'h.3.crossattention.c_attn.weight', 'h.3.crossattention.c_proj.bias', 'h.3.crossattention.c_proj.weight', 'h.3.crossattention.q_attn.bias', 'h.3.crossattention.q_attn.weight', 'h.3.ln_cross_attn.bias', 'h.3.ln_cross_attn.weight', 'h.4.crossattention.c_attn.bias', 'h.4.crossattention.c_attn.weight', 'h.4.crossattention.c_proj.bias', 'h.4.crossattention.c_proj.weight', 'h.4.crossattention.q_attn.bias', 'h.4.crossattention.q_attn.weight', 'h.4.ln_cross_attn.bias', 'h.4.ln_cross_attn.weight', 'h.5.crossattention.c_attn.bias', 'h.5.crossattention.c_attn.weight', 'h.5.crossattention.c_proj.bias', 'h.5.crossattention.c_proj.weight', 'h.5.crossattention.q_attn.bias', 'h.5.crossattention.q_attn.weight', 'h.5.ln_cross_attn.bias', 'h.5.ln_cross_attn.weight', 'h.6.crossattention.c_attn.bias', 'h.6.crossattention.c_attn.weight', 'h.6.crossattention.c_proj.bias', 'h.6.crossattention.c_proj.weight', 'h.6.crossattention.q_attn.bias', 'h.6.crossattention.q_attn.weight', 'h.6.ln_cross_attn.bias', 'h.6.ln_cross_attn.weight', 'h.7.crossattention.c_attn.bias', 'h.7.crossattention.c_attn.weight', 'h.7.crossattention.c_proj.bias', 'h.7.crossattention.c_proj.weight', 'h.7.crossattention.q_attn.bias', 'h.7.crossattention.q_attn.weight', 'h.7.ln_cross_attn.bias', 'h.7.ln_cross_attn.weight', 'h.8.crossattention.c_attn.bias', 'h.8.crossattention.c_attn.weight', 'h.8.crossattention.c_proj.bias', 'h.8.crossattention.c_proj.weight', 'h.8.crossattention.q_attn.bias', 'h.8.crossattention.q_attn.weight', 'h.8.ln_cross_attn.bias', 'h.8.ln_cross_attn.weight', 'h.9.crossattention.c_attn.bias', 'h.9.crossattention.c_attn.weight', 'h.9.crossattention.c_proj.bias', 'h.9.crossattention.c_proj.weight', 'h.9.crossattention.q_attn.bias', 'h.9.crossattention.q_attn.weight', 'h.9.ln_cross_attn.bias', 'h.9.ln_cross_attn.weight']\n",
                        "You should probably TRAIN this model on a down-stream task to be able to use it for predictions and inference.\n"
                    ]
                },
                {
                    "name": "stdout",
                    "output_type": "stream",
                    "text": [
                        "['<|endoftext|>']\n"
                    ]
                }
            ],
            "source": [
                "device = \"cuda\" if torch.cuda.is_available() else \"cpu\"\n",
                "\n",
                "model = VisionEncoderDecoderModel.from_encoder_decoder_pretrained(\"nickmuchi/vit-finetuned-chest-xray-pneumonia\", \"openai-community/gpt2\").to(device)\n",
                "\n",
                "tokenizer = GPT2Tokenizer.from_pretrained(\n",
                "    \"openai-community/gpt2\"\n",
                ")\n",
                "\n",
                "print(tokenizer.all_special_tokens)\n",
                "\n",
                "tokenizer.add_special_tokens({\n",
                "    \"bos_token\": \"<|beginoftext|>\",\n",
                "    \"pad_token\": \"<|pad|>\",\n",
                "})\n",
                "\n",
                "model.config.decoder_start_token_id = tokenizer.bos_token_id\n",
                "model.config.pad_token_id = tokenizer.pad_token_id\n",
                "\n",
                "model.decoder.resize_token_embeddings(len(tokenizer))\n",
                "\n",
                "processor = ViTImageProcessor.from_pretrained(\"nickmuchi/vit-finetuned-chest-xray-pneumonia\")"
            ]
        },
        {
            "cell_type": "markdown",
            "metadata": {},
            "source": [
                "## The CXIRG Dataset"
            ]
        },
        {
            "cell_type": "code",
            "execution_count": 5,
            "metadata": {},
            "outputs": [],
            "source": [
                "class CXIRGDataset(Dataset):\n",
                "    def __init__(self, data: List[Dict[str, Any]]) -> None:\n",
                "        super(CXIRGDataset, self).__init__()\n",
                "        self.data = data\n",
                "\n",
                "    def __getitem__(self, index: int) -> Dict[str, Any]:\n",
                "        return self.data[index]\n",
                "\n",
                "    def __len__(self) -> int:\n",
                "        return len(self.data)"
            ]
        },
        {
            "cell_type": "markdown",
            "metadata": {},
            "source": [
                "## The Collate Function for The DataLoader"
            ]
        },
        {
            "cell_type": "code",
            "execution_count": 6,
            "metadata": {},
            "outputs": [],
            "source": [
                "max_length = 256\n",
                "\n",
                "def train_dl_collate_fn(one_batch_data: List[Dict[str, Any]]):\n",
                "    names = [one_data[\"name\"] for one_data in one_batch_data]\n",
                "\n",
                "    pixel_values = processor(\n",
                "        images=[one_data[\"image\"] for one_data in one_batch_data], \n",
                "        return_tensors=\"pt\"\n",
                "    ).pixel_values\n",
                "\n",
                "    label_ids = tokenizer.batch_encode_plus(\n",
                "        batch_text_or_text_pairs=[\n",
                "            (tokenizer.bos_token + one_data[\"text\"] + tokenizer.eos_token) for one_data in one_batch_data\n",
                "        ],\n",
                "        max_length=max_length,\n",
                "        padding=\"max_length\",\n",
                "        truncation=True,\n",
                "        return_tensors=\"pt\"\n",
                "    ).input_ids\n",
                "\n",
                "    return names, pixel_values.to(device), label_ids.to(device)\n",
                "\n",
                "def valid_dl_collate_fn(one_batch_data: List[Dict[str, Any]]):\n",
                "    names = [one_data[\"name\"] for one_data in one_batch_data]\n",
                "\n",
                "    pixel_values = processor(\n",
                "        images=[one_data[\"image\"] for one_data in one_batch_data], \n",
                "        return_tensors=\"pt\"\n",
                "    ).pixel_values\n",
                "\n",
                "    label_ids = tokenizer.batch_encode_plus(\n",
                "        batch_text_or_text_pairs=[\n",
                "            (tokenizer.bos_token + one_data[\"text\"] + tokenizer.eos_token) for one_data in one_batch_data\n",
                "        ],\n",
                "        max_length=max_length,\n",
                "        padding=\"max_length\",\n",
                "        truncation=True,\n",
                "        return_tensors=\"pt\"\n",
                "    ).input_ids\n",
                "\n",
                "    return names, pixel_values.to(device), label_ids.to(device)"
            ]
        },
        {
            "cell_type": "markdown",
            "metadata": {},
            "source": [
                "## Load The Train & Validation Data"
            ]
        },
        {
            "cell_type": "code",
            "execution_count": 7,
            "metadata": {},
            "outputs": [],
            "source": [
                "train_data = []\n",
                "\n",
                "report_path = \"data/train_data/reports.xlsx\"\n",
                "report_df = pd.read_excel(report_path)\n",
                "\n",
                "image_dir_path = \"data/train_data/images\"\n",
                "for image_name in os.listdir(image_dir_path):\n",
                "    image = Image.open(os.path.join(image_dir_path, image_name))\n",
                "    if image.mode != \"RGB\":\n",
                "        image = image.convert(\"RGB\")\n",
                "\n",
                "    text = report_df[report_df[\"name\"] == image_name[:13]][\"text\"].values[0].replace(\"_x000D_\", \"\\r\")\n",
                "\n",
                "    train_data.append({\n",
                "        \"name\": image_name[:13],\n",
                "        \"image\": image,\n",
                "        \"text\": text\n",
                "    })\n",
                "\n",
                "train_dataset = CXIRGDataset(train_data)"
            ]
        },
        {
            "cell_type": "code",
            "execution_count": 8,
            "metadata": {},
            "outputs": [],
            "source": [
                "valid_data = []\n",
                "\n",
                "report_path = \"data/valid_data/reports.xlsx\"\n",
                "report_df = pd.read_excel(report_path)\n",
                "\n",
                "image_dir_path = \"data/valid_data/images\"\n",
                "for image_name in os.listdir(image_dir_path):\n",
                "    image = Image.open(os.path.join(image_dir_path, image_name))\n",
                "    if image.mode != \"RGB\":\n",
                "        image = image.convert(\"RGB\")\n",
                "\n",
                "    text = report_df[report_df[\"name\"] == image_name[:13]][\"text\"].values[0].replace(\"_x000D_\", \"\\r\")\n",
                "\n",
                "    valid_data.append({\n",
                "        \"name\": image_name[:13],\n",
                "        \"image\": image,\n",
                "        \"text\": text\n",
                "    })\n",
                "\n",
                "valid_dataset = CXIRGDataset(valid_data)"
            ]
        },
        {
            "cell_type": "markdown",
            "metadata": {},
            "source": [
                "## Set The Hyperparameters & Initialize The Optimizer, Dataloaders and Evaluation Metric"
            ]
        },
        {
            "cell_type": "code",
            "execution_count": 9,
            "metadata": {},
            "outputs": [],
            "source": [
                "lr = 1e-5\n",
                "epochs = 30\n",
                "optimizer = AdamW(params=model.parameters(), lr=lr)\n",
                "\n",
                "train_batch_size = 1\n",
                "valid_batch_size = 1\n",
                "train_dataloader = DataLoader(\n",
                "    dataset=train_dataset,\n",
                "    batch_size=train_batch_size,\n",
                "    shuffle=True,\n",
                "    collate_fn=train_dl_collate_fn\n",
                ")\n",
                "valid_dataloader = DataLoader(\n",
                "    dataset=valid_dataset,\n",
                "    batch_size=valid_batch_size,\n",
                "    shuffle=False,\n",
                "    collate_fn=valid_dl_collate_fn\n",
                ")\n",
                "\n",
                "rouge = Rouge(variants=[\"L\", 2], multiref=\"best\")"
            ]
        },
        {
            "cell_type": "markdown",
            "metadata": {},
            "source": [
                "## The Evaluation Function"
            ]
        },
        {
            "cell_type": "code",
            "execution_count": 10,
            "metadata": {},
            "outputs": [],
            "source": [
                "def evaluate(model: VisionEncoderDecoderModel, epoch: int) -> Dict[str, float]:\n",
                "    model.eval()\n",
                "\n",
                "    pbar = tqdm(valid_dataloader)\n",
                "    pbar.set_description(f\"Evaluting Epoch: {epoch + 1}\")\n",
                "\n",
                "    with torch.no_grad():\n",
                "        for names, pixel_values, label_ids in pbar:\n",
                "            predictions = model.generate(pixel_values)\n",
                "\n",
                "            _predictions = tokenizer.batch_decode(\n",
                "                predictions,\n",
                "                skip_special_tokens=True\n",
                "            )\n",
                "\n",
                "            _labels = tokenizer.batch_decode(\n",
                "                label_ids,\n",
                "                skip_special_tokens=True\n",
                "            )\n",
                "\n",
                "            print(f\"Names      : {names}\")\n",
                "            print(f\"Predictions: {_predictions}\")\n",
                "            print(f\"Labels     : {_labels}\")\n",
                "            print()\n",
                "\n",
                "            for _prediction, _label in zip(_predictions, _labels):\n",
                "                split_prediction = _prediction.split()\n",
                "                split_label = _label.split()\n",
                "\n",
                "                rouge.update(([split_prediction], [[split_label]]))\n",
                "\n",
                "    return rouge.compute()"
            ]
        },
        {
            "cell_type": "code",
            "execution_count": 11,
            "metadata": {},
            "outputs": [
                {
                    "name": "stderr",
                    "output_type": "stream",
                    "text": [
                        "Training Epoch [1 / 30]:   0%|          | 0/89 [00:00<?, ?it/s]"
                    ]
                },
                {
                    "name": "stderr",
                    "output_type": "stream",
                    "text": [
                        "Training Epoch [1 / 30]: 100%|██████████| 89/89 [00:09<00:00,  9.88it/s, loss=6.87]\n",
                        "Evaluting Epoch: 1:   0%|          | 0/10 [00:00<?, ?it/s]The attention mask and the pad token id were not set. As a consequence, you may observe unexpected behavior. Please pass your input's `attention_mask` to obtain reliable results.\n",
                        "Setting `pad_token_id` to `eos_token_id`:50256 for open-end generation.\n",
                        "/home/pulsar/miniconda3/envs/GAI/lib/python3.10/site-packages/transformers/generation/utils.py:1168: UserWarning: Using the model-agnostic default `max_length` (=20) to control the generation length. We recommend setting `max_new_tokens` to control the maximum length of the generation.\n",
                        "  warnings.warn(\n",
                        "Evaluting Epoch: 1:  10%|█         | 1/10 [00:00<00:02,  4.04it/s]The attention mask and the pad token id were not set. As a consequence, you may observe unexpected behavior. Please pass your input's `attention_mask` to obtain reliable results.\n",
                        "Setting `pad_token_id` to `eos_token_id`:50256 for open-end generation.\n"
                    ]
                },
                {
                    "name": "stdout",
                    "output_type": "stream",
                    "text": [
                        "Names      : ['NLP_CHEST_071']\n",
                        "Predictions: ['']\n",
                        "Labels     : ['Chest film shows:\\r\\nImpression:\\r\\n-Bilateral lung infiltrations.\\r\\n-Suspect right lower lung patch. \\r\\n Blunting right CP angle. \\r\\n-Tortuous atherosclerotic aorta. \\r\\n-Scoliosis, DJD and osteoporosis of spine. \\r\\n Compression fracture of T12.\\r\\n Old fracture of left ribs.\\r\\n-S/P fixation in L-spine.  \\r\\n-S/P tracheostomy and NG tube.   \\r\\n']\n",
                        "\n"
                    ]
                },
                {
                    "name": "stderr",
                    "output_type": "stream",
                    "text": [
                        "Evaluting Epoch: 1:  20%|██        | 2/10 [00:00<00:01,  4.24it/s]The attention mask and the pad token id were not set. As a consequence, you may observe unexpected behavior. Please pass your input's `attention_mask` to obtain reliable results.\n",
                        "Setting `pad_token_id` to `eos_token_id`:50256 for open-end generation.\n"
                    ]
                },
                {
                    "name": "stdout",
                    "output_type": "stream",
                    "text": [
                        "Names      : ['NLP_CHEST_002']\n",
                        "Predictions: ['']\n",
                        "Labels     : ['Chest PA view shows: \\r\\n\\r\\nPartial atelectasis at left lower lung field. \\r\\nLeft pleural effusion.\\r\\n\\r\\nBorderline heart size. \\r\\nAtherosclerotic change of aortic knob. \\r\\n\\r\\nS/P port-A implantation via left subclavian vein. \\r\\nIntraperitoneal port catheter.\\r\\nSurgical clips at RUQ of abdomen.\\r\\n']\n",
                        "\n"
                    ]
                },
                {
                    "name": "stderr",
                    "output_type": "stream",
                    "text": [
                        "Evaluting Epoch: 1:  30%|███       | 3/10 [00:00<00:01,  4.32it/s]The attention mask and the pad token id were not set. As a consequence, you may observe unexpected behavior. Please pass your input's `attention_mask` to obtain reliable results.\n",
                        "Setting `pad_token_id` to `eos_token_id`:50256 for open-end generation.\n"
                    ]
                },
                {
                    "name": "stdout",
                    "output_type": "stream",
                    "text": [
                        "Names      : ['NLP_CHEST_004']\n",
                        "Predictions: ['']\n",
                        "Labels     : ['Chest PA view show: \\r\\nImpression:\\r\\n-S/P RLL wedge resection.\\u3000 \\r\\n-Bilateral lungs metastasis.\\r\\n-Left lower lung subsegmental atelectasis. \\r\\n-Increased infiltrations in both lungs.\\r\\n-Blunting right CP angle. \\r\\n-Tortuous atherosclerotic aorta.\\r\\n-Scoliosis, DJD and osteoporosis of spine. \\r\\n-Compression fracture of L1.']\n",
                        "\n"
                    ]
                },
                {
                    "name": "stderr",
                    "output_type": "stream",
                    "text": [
                        "Evaluting Epoch: 1:  40%|████      | 4/10 [00:00<00:01,  4.41it/s]The attention mask and the pad token id were not set. As a consequence, you may observe unexpected behavior. Please pass your input's `attention_mask` to obtain reliable results.\n",
                        "Setting `pad_token_id` to `eos_token_id`:50256 for open-end generation.\n"
                    ]
                },
                {
                    "name": "stdout",
                    "output_type": "stream",
                    "text": [
                        "Names      : ['NLP_CHEST_031']\n",
                        "Predictions: ['']\n",
                        "Labels     : ['Chest PA view:\\r\\nImpression:\\r\\n-Increased both lung markings. \\r\\n-Compatible with right lung nodules.\\r\\n-Fibrotic lesion in left upper lung.\\r\\n-Normal heart size. Atherosclerotic aorta. \\r\\n-Suspect right pleural effusion.\\r\\n-Spondylosis. R/O osteoporosis. \\r\\n-Compatible with multiple bony metastases.\\r\\n-S/P NG and endotracheal tube.\\r\\n-S/P Lt subclavian Port-A-cath. ']\n",
                        "\n"
                    ]
                },
                {
                    "name": "stderr",
                    "output_type": "stream",
                    "text": [
                        "Evaluting Epoch: 1:  50%|█████     | 5/10 [00:01<00:01,  4.46it/s]The attention mask and the pad token id were not set. As a consequence, you may observe unexpected behavior. Please pass your input's `attention_mask` to obtain reliable results.\n",
                        "Setting `pad_token_id` to `eos_token_id`:50256 for open-end generation.\n"
                    ]
                },
                {
                    "name": "stdout",
                    "output_type": "stream",
                    "text": [
                        "Names      : ['NLP_CHEST_057']\n",
                        "Predictions: ['']\n",
                        "Labels     : ['Chest plain film shows:\\r\\nImpression:\\r\\n-Increased infiltrations in both lungs.\\r\\n-Tortuous atherosclerotic dilated aorta.\\r\\n-Normal heart size. \\r\\n-DJD of spine. \\r\\n Old fracture of right ribs.\\r\\n-Increased both lung markings. \\r\\n S/P Lt jugular CVC insertion. \\r\\n S/P NG and endotracheal tube.\\r\\n-Susp. Lt pneumothorax. \\r\\n Suspect pneumomediastinum. \\r\\n Subcutaneous emphysema in bilateral neck.  \\r\\n-S/P bilateral chest tube insertion. ']\n",
                        "\n"
                    ]
                },
                {
                    "name": "stderr",
                    "output_type": "stream",
                    "text": [
                        "Evaluting Epoch: 1:  60%|██████    | 6/10 [00:01<00:00,  4.54it/s]The attention mask and the pad token id were not set. As a consequence, you may observe unexpected behavior. Please pass your input's `attention_mask` to obtain reliable results.\n",
                        "Setting `pad_token_id` to `eos_token_id`:50256 for open-end generation.\n"
                    ]
                },
                {
                    "name": "stdout",
                    "output_type": "stream",
                    "text": [
                        "Names      : ['NLP_CHEST_059']\n",
                        "Predictions: ['']\n",
                        "Labels     : ['Supine chest AP view shows: \\r\\n\\r\\nPigtail catheter at right lower chest.\\r\\nDecreased amount of right pleural effusion.\\r\\nAir in the right lower pleural space. Poor lung expansion.\\r\\nMild subcutaneous emphysema at right chest wall.\\r\\n\\r\\nRight pleural thickening.\\r\\nIll-defined masses at right perihilar region.\\r\\n\\r\\nNormal heart size. \\r\\n']\n",
                        "\n"
                    ]
                },
                {
                    "name": "stderr",
                    "output_type": "stream",
                    "text": [
                        "Evaluting Epoch: 1:  70%|███████   | 7/10 [00:01<00:00,  4.52it/s]The attention mask and the pad token id were not set. As a consequence, you may observe unexpected behavior. Please pass your input's `attention_mask` to obtain reliable results.\n",
                        "Setting `pad_token_id` to `eos_token_id`:50256 for open-end generation.\n"
                    ]
                },
                {
                    "name": "stdout",
                    "output_type": "stream",
                    "text": [
                        "Names      : ['NLP_CHEST_027']\n",
                        "Predictions: ['']\n",
                        "Labels     : ['Chest PA View:\\r\\nImpression: \\r\\n> Cardiomegaly with bilateral pulmonary congestion.\\r\\n> Postinflammatory fibrosis in both upper lungs.\\r\\n> Atherosclerosis of aorta.\\r\\n> Old fractures of left 5th and 6th ribs.\\r\\n> R/O osteoporosis.\\r\\n> Spondylosis of thoracolumbar spine.\\r\\n> S/P abdominal operation in RUQ.']\n",
                        "\n"
                    ]
                },
                {
                    "name": "stderr",
                    "output_type": "stream",
                    "text": [
                        "Evaluting Epoch: 1:  80%|████████  | 8/10 [00:01<00:00,  4.56it/s]The attention mask and the pad token id were not set. As a consequence, you may observe unexpected behavior. Please pass your input's `attention_mask` to obtain reliable results.\n",
                        "Setting `pad_token_id` to `eos_token_id`:50256 for open-end generation.\n"
                    ]
                },
                {
                    "name": "stdout",
                    "output_type": "stream",
                    "text": [
                        "Names      : ['NLP_CHEST_085']\n",
                        "Predictions: ['']\n",
                        "Labels     : ['Chest X ray: \\r\\n\\r\\n- Right pneumothorax with pleural effusion, status post drainge \\r\\n  tube placement.\\r\\n- Extensive subcutaneous emphysema from neck to right side \\r\\n  thoracic cage.\\r\\n- Increased right hilar opacity.\\r\\n- Atherosclerosis and tortuous aorta. \\r\\n- Obscured bilateral costophrenic angles. \\r\\n- Spondylosis and mild scoliosis of thoracolumbar spine. \\r\\n- OA of right glenohumeral joint.\\r\\n- Generalized osteopenia. \\r\\n']\n",
                        "\n"
                    ]
                },
                {
                    "name": "stderr",
                    "output_type": "stream",
                    "text": [
                        "Evaluting Epoch: 1:  90%|█████████ | 9/10 [00:02<00:00,  4.53it/s]The attention mask and the pad token id were not set. As a consequence, you may observe unexpected behavior. Please pass your input's `attention_mask` to obtain reliable results.\n",
                        "Setting `pad_token_id` to `eos_token_id`:50256 for open-end generation.\n"
                    ]
                },
                {
                    "name": "stdout",
                    "output_type": "stream",
                    "text": [
                        "Names      : ['NLP_CHEST_011']\n",
                        "Predictions: ['']\n",
                        "Labels     : [\"Chest AP view showed:\\r\\n1.s/p sternotomy and CABG.\\r\\n  Enlarged heart size with tortuous aorta.\\r\\n2.R't middle and lower lung faint patches.\\r\\n  L't lower lung consolidation.\\r\\n  L't pleural effusion.\\r\\n3.No mediastinum widening.\\r\\n4.s/p endotracheal tube and NG intubation.\\r\\n\"]\n",
                        "\n"
                    ]
                },
                {
                    "name": "stderr",
                    "output_type": "stream",
                    "text": [
                        "Evaluting Epoch: 1: 100%|██████████| 10/10 [00:02<00:00,  4.46it/s]\n"
                    ]
                },
                {
                    "name": "stdout",
                    "output_type": "stream",
                    "text": [
                        "Names      : ['NLP_CHEST_015']\n",
                        "Predictions: ['']\n",
                        "Labels     : ['Chest X ray: \\r\\n\\r\\n- No obvious lung mass nor consolidation patch.\\r\\n- Normal heart size.\\r\\n- No pleural effusion. ']\n",
                        "\n",
                        "Rouge-2 score on epoch 0: {'Rouge-L-P': 0.0, 'Rouge-L-R': 0.0, 'Rouge-L-F': 0.0, 'Rouge-2-P': 0.0, 'Rouge-2-R': 0.0, 'Rouge-2-F': 0.0}\n"
                    ]
                },
                {
                    "name": "stderr",
                    "output_type": "stream",
                    "text": [
                        "Training Epoch [2 / 30]: 100%|██████████| 89/89 [00:08<00:00, 10.23it/s, loss=2.44]\n",
                        "Evaluting Epoch: 2:   0%|          | 0/10 [00:00<?, ?it/s]The attention mask and the pad token id were not set. As a consequence, you may observe unexpected behavior. Please pass your input's `attention_mask` to obtain reliable results.\n",
                        "Setting `pad_token_id` to `eos_token_id`:50256 for open-end generation.\n",
                        "Evaluting Epoch: 2:  10%|█         | 1/10 [00:00<00:02,  4.38it/s]The attention mask and the pad token id were not set. As a consequence, you may observe unexpected behavior. Please pass your input's `attention_mask` to obtain reliable results.\n",
                        "Setting `pad_token_id` to `eos_token_id`:50256 for open-end generation.\n"
                    ]
                },
                {
                    "name": "stdout",
                    "output_type": "stream",
                    "text": [
                        "Names      : ['NLP_CHEST_071']\n",
                        "Predictions: ['\\n\\n\\n\\nI\\n\\n\\nI\\n']\n",
                        "Labels     : ['Chest film shows:\\r\\nImpression:\\r\\n-Bilateral lung infiltrations.\\r\\n-Suspect right lower lung patch. \\r\\n Blunting right CP angle. \\r\\n-Tortuous atherosclerotic aorta. \\r\\n-Scoliosis, DJD and osteoporosis of spine. \\r\\n Compression fracture of T12.\\r\\n Old fracture of left ribs.\\r\\n-S/P fixation in L-spine.  \\r\\n-S/P tracheostomy and NG tube.   \\r\\n']\n",
                        "\n"
                    ]
                },
                {
                    "name": "stderr",
                    "output_type": "stream",
                    "text": [
                        "Evaluting Epoch: 2:  20%|██        | 2/10 [00:00<00:01,  4.61it/s]The attention mask and the pad token id were not set. As a consequence, you may observe unexpected behavior. Please pass your input's `attention_mask` to obtain reliable results.\n",
                        "Setting `pad_token_id` to `eos_token_id`:50256 for open-end generation.\n"
                    ]
                },
                {
                    "name": "stdout",
                    "output_type": "stream",
                    "text": [
                        "Names      : ['NLP_CHEST_002']\n",
                        "Predictions: [\"\\n\\nI I'm I I\\n I'm\"]\n",
                        "Labels     : ['Chest PA view shows: \\r\\n\\r\\nPartial atelectasis at left lower lung field. \\r\\nLeft pleural effusion.\\r\\n\\r\\nBorderline heart size. \\r\\nAtherosclerotic change of aortic knob. \\r\\n\\r\\nS/P port-A implantation via left subclavian vein. \\r\\nIntraperitoneal port catheter.\\r\\nSurgical clips at RUQ of abdomen.\\r\\n']\n",
                        "\n"
                    ]
                },
                {
                    "name": "stderr",
                    "output_type": "stream",
                    "text": [
                        "Evaluting Epoch: 2:  30%|███       | 3/10 [00:00<00:01,  4.50it/s]The attention mask and the pad token id were not set. As a consequence, you may observe unexpected behavior. Please pass your input's `attention_mask` to obtain reliable results.\n",
                        "Setting `pad_token_id` to `eos_token_id`:50256 for open-end generation.\n"
                    ]
                },
                {
                    "name": "stdout",
                    "output_type": "stream",
                    "text": [
                        "Names      : ['NLP_CHEST_004']\n",
                        "Predictions: ['\\n\\n\\n\\nI\\n\\n\\nI\\n']\n",
                        "Labels     : ['Chest PA view show: \\r\\nImpression:\\r\\n-S/P RLL wedge resection.\\u3000 \\r\\n-Bilateral lungs metastasis.\\r\\n-Left lower lung subsegmental atelectasis. \\r\\n-Increased infiltrations in both lungs.\\r\\n-Blunting right CP angle. \\r\\n-Tortuous atherosclerotic aorta.\\r\\n-Scoliosis, DJD and osteoporosis of spine. \\r\\n-Compression fracture of L1.']\n",
                        "\n"
                    ]
                },
                {
                    "name": "stderr",
                    "output_type": "stream",
                    "text": [
                        "Evaluting Epoch: 2:  40%|████      | 4/10 [00:00<00:01,  4.50it/s]The attention mask and the pad token id were not set. As a consequence, you may observe unexpected behavior. Please pass your input's `attention_mask` to obtain reliable results.\n",
                        "Setting `pad_token_id` to `eos_token_id`:50256 for open-end generation.\n"
                    ]
                },
                {
                    "name": "stdout",
                    "output_type": "stream",
                    "text": [
                        "Names      : ['NLP_CHEST_031']\n",
                        "Predictions: ['\\n\\n\\n\\nI\\n\\n\\nI\\n']\n",
                        "Labels     : ['Chest PA view:\\r\\nImpression:\\r\\n-Increased both lung markings. \\r\\n-Compatible with right lung nodules.\\r\\n-Fibrotic lesion in left upper lung.\\r\\n-Normal heart size. Atherosclerotic aorta. \\r\\n-Suspect right pleural effusion.\\r\\n-Spondylosis. R/O osteoporosis. \\r\\n-Compatible with multiple bony metastases.\\r\\n-S/P NG and endotracheal tube.\\r\\n-S/P Lt subclavian Port-A-cath. ']\n",
                        "\n"
                    ]
                },
                {
                    "name": "stderr",
                    "output_type": "stream",
                    "text": [
                        "Evaluting Epoch: 2:  50%|█████     | 5/10 [00:01<00:01,  4.51it/s]The attention mask and the pad token id were not set. As a consequence, you may observe unexpected behavior. Please pass your input's `attention_mask` to obtain reliable results.\n",
                        "Setting `pad_token_id` to `eos_token_id`:50256 for open-end generation.\n"
                    ]
                },
                {
                    "name": "stdout",
                    "output_type": "stream",
                    "text": [
                        "Names      : ['NLP_CHEST_057']\n",
                        "Predictions: ['\\n\\n\\n\\nI\\n\\n\\nI\\n']\n",
                        "Labels     : ['Chest plain film shows:\\r\\nImpression:\\r\\n-Increased infiltrations in both lungs.\\r\\n-Tortuous atherosclerotic dilated aorta.\\r\\n-Normal heart size. \\r\\n-DJD of spine. \\r\\n Old fracture of right ribs.\\r\\n-Increased both lung markings. \\r\\n S/P Lt jugular CVC insertion. \\r\\n S/P NG and endotracheal tube.\\r\\n-Susp. Lt pneumothorax. \\r\\n Suspect pneumomediastinum. \\r\\n Subcutaneous emphysema in bilateral neck.  \\r\\n-S/P bilateral chest tube insertion. ']\n",
                        "\n"
                    ]
                },
                {
                    "name": "stderr",
                    "output_type": "stream",
                    "text": [
                        "Evaluting Epoch: 2:  60%|██████    | 6/10 [00:01<00:00,  4.56it/s]The attention mask and the pad token id were not set. As a consequence, you may observe unexpected behavior. Please pass your input's `attention_mask` to obtain reliable results.\n",
                        "Setting `pad_token_id` to `eos_token_id`:50256 for open-end generation.\n"
                    ]
                },
                {
                    "name": "stdout",
                    "output_type": "stream",
                    "text": [
                        "Names      : ['NLP_CHEST_059']\n",
                        "Predictions: ['\\n\\n\\n\\nI\\n\\n\\nI\\n']\n",
                        "Labels     : ['Supine chest AP view shows: \\r\\n\\r\\nPigtail catheter at right lower chest.\\r\\nDecreased amount of right pleural effusion.\\r\\nAir in the right lower pleural space. Poor lung expansion.\\r\\nMild subcutaneous emphysema at right chest wall.\\r\\n\\r\\nRight pleural thickening.\\r\\nIll-defined masses at right perihilar region.\\r\\n\\r\\nNormal heart size. \\r\\n']\n",
                        "\n"
                    ]
                },
                {
                    "name": "stderr",
                    "output_type": "stream",
                    "text": [
                        "Evaluting Epoch: 2:  70%|███████   | 7/10 [00:01<00:00,  4.55it/s]The attention mask and the pad token id were not set. As a consequence, you may observe unexpected behavior. Please pass your input's `attention_mask` to obtain reliable results.\n",
                        "Setting `pad_token_id` to `eos_token_id`:50256 for open-end generation.\n"
                    ]
                },
                {
                    "name": "stdout",
                    "output_type": "stream",
                    "text": [
                        "Names      : ['NLP_CHEST_027']\n",
                        "Predictions: ['\\n\\n\\n\\nI\\n\\n\\nI\\n']\n",
                        "Labels     : ['Chest PA View:\\r\\nImpression: \\r\\n> Cardiomegaly with bilateral pulmonary congestion.\\r\\n> Postinflammatory fibrosis in both upper lungs.\\r\\n> Atherosclerosis of aorta.\\r\\n> Old fractures of left 5th and 6th ribs.\\r\\n> R/O osteoporosis.\\r\\n> Spondylosis of thoracolumbar spine.\\r\\n> S/P abdominal operation in RUQ.']\n",
                        "\n"
                    ]
                },
                {
                    "name": "stderr",
                    "output_type": "stream",
                    "text": [
                        "Evaluting Epoch: 2:  80%|████████  | 8/10 [00:01<00:00,  4.57it/s]The attention mask and the pad token id were not set. As a consequence, you may observe unexpected behavior. Please pass your input's `attention_mask` to obtain reliable results.\n",
                        "Setting `pad_token_id` to `eos_token_id`:50256 for open-end generation.\n"
                    ]
                },
                {
                    "name": "stdout",
                    "output_type": "stream",
                    "text": [
                        "Names      : ['NLP_CHEST_085']\n",
                        "Predictions: ['\\n\\n\\n\\nI\\n\\n\\nI\\n']\n",
                        "Labels     : ['Chest X ray: \\r\\n\\r\\n- Right pneumothorax with pleural effusion, status post drainge \\r\\n  tube placement.\\r\\n- Extensive subcutaneous emphysema from neck to right side \\r\\n  thoracic cage.\\r\\n- Increased right hilar opacity.\\r\\n- Atherosclerosis and tortuous aorta. \\r\\n- Obscured bilateral costophrenic angles. \\r\\n- Spondylosis and mild scoliosis of thoracolumbar spine. \\r\\n- OA of right glenohumeral joint.\\r\\n- Generalized osteopenia. \\r\\n']\n",
                        "\n"
                    ]
                },
                {
                    "name": "stderr",
                    "output_type": "stream",
                    "text": [
                        "Evaluting Epoch: 2:  90%|█████████ | 9/10 [00:01<00:00,  4.49it/s]The attention mask and the pad token id were not set. As a consequence, you may observe unexpected behavior. Please pass your input's `attention_mask` to obtain reliable results.\n",
                        "Setting `pad_token_id` to `eos_token_id`:50256 for open-end generation.\n"
                    ]
                },
                {
                    "name": "stdout",
                    "output_type": "stream",
                    "text": [
                        "Names      : ['NLP_CHEST_011']\n",
                        "Predictions: ['\\n\\n and\\n and the\\n\\n']\n",
                        "Labels     : [\"Chest AP view showed:\\r\\n1.s/p sternotomy and CABG.\\r\\n  Enlarged heart size with tortuous aorta.\\r\\n2.R't middle and lower lung faint patches.\\r\\n  L't lower lung consolidation.\\r\\n  L't pleural effusion.\\r\\n3.No mediastinum widening.\\r\\n4.s/p endotracheal tube and NG intubation.\\r\\n\"]\n",
                        "\n"
                    ]
                },
                {
                    "name": "stderr",
                    "output_type": "stream",
                    "text": [
                        "Evaluting Epoch: 2: 100%|██████████| 10/10 [00:02<00:00,  4.51it/s]\n"
                    ]
                },
                {
                    "name": "stdout",
                    "output_type": "stream",
                    "text": [
                        "Names      : ['NLP_CHEST_015']\n",
                        "Predictions: ['\\n\\n\\n\\nI\\n\\n\\nI\\n']\n",
                        "Labels     : ['Chest X ray: \\r\\n\\r\\n- No obvious lung mass nor consolidation patch.\\r\\n- Normal heart size.\\r\\n- No pleural effusion. ']\n",
                        "\n",
                        "Rouge-2 score on epoch 1: {'Rouge-L-P': 0.03333333333333333, 'Rouge-L-R': 0.002702702702702703, 'Rouge-L-F': 0.002702702702702703, 'Rouge-2-P': 0.0, 'Rouge-2-R': 0.0, 'Rouge-2-F': 0.0}\n"
                    ]
                },
                {
                    "name": "stderr",
                    "output_type": "stream",
                    "text": [
                        "Training Epoch [3 / 30]: 100%|██████████| 89/89 [00:08<00:00, 10.08it/s, loss=1.96]\n",
                        "Evaluting Epoch: 3:   0%|          | 0/10 [00:00<?, ?it/s]The attention mask and the pad token id were not set. As a consequence, you may observe unexpected behavior. Please pass your input's `attention_mask` to obtain reliable results.\n",
                        "Setting `pad_token_id` to `eos_token_id`:50256 for open-end generation.\n",
                        "Evaluting Epoch: 3:  10%|█         | 1/10 [00:00<00:02,  4.40it/s]The attention mask and the pad token id were not set. As a consequence, you may observe unexpected behavior. Please pass your input's `attention_mask` to obtain reliable results.\n",
                        "Setting `pad_token_id` to `eos_token_id`:50256 for open-end generation.\n"
                    ]
                },
                {
                    "name": "stdout",
                    "output_type": "stream",
                    "text": [
                        "Names      : ['NLP_CHEST_071']\n",
                        "Predictions: [' and and the two of them and the and the two of']\n",
                        "Labels     : ['Chest film shows:\\r\\nImpression:\\r\\n-Bilateral lung infiltrations.\\r\\n-Suspect right lower lung patch. \\r\\n Blunting right CP angle. \\r\\n-Tortuous atherosclerotic aorta. \\r\\n-Scoliosis, DJD and osteoporosis of spine. \\r\\n Compression fracture of T12.\\r\\n Old fracture of left ribs.\\r\\n-S/P fixation in L-spine.  \\r\\n-S/P tracheostomy and NG tube.   \\r\\n']\n",
                        "\n"
                    ]
                },
                {
                    "name": "stderr",
                    "output_type": "stream",
                    "text": [
                        "Evaluting Epoch: 3:  20%|██        | 2/10 [00:00<00:01,  4.61it/s]The attention mask and the pad token id were not set. As a consequence, you may observe unexpected behavior. Please pass your input's `attention_mask` to obtain reliable results.\n",
                        "Setting `pad_token_id` to `eos_token_id`:50256 for open-end generation.\n"
                    ]
                },
                {
                    "name": "stdout",
                    "output_type": "stream",
                    "text": [
                        "Names      : ['NLP_CHEST_002']\n",
                        "Predictions: ['\\n\\nI\\n\\n\\nI\\n\\n\\nI\\n']\n",
                        "Labels     : ['Chest PA view shows: \\r\\n\\r\\nPartial atelectasis at left lower lung field. \\r\\nLeft pleural effusion.\\r\\n\\r\\nBorderline heart size. \\r\\nAtherosclerotic change of aortic knob. \\r\\n\\r\\nS/P port-A implantation via left subclavian vein. \\r\\nIntraperitoneal port catheter.\\r\\nSurgical clips at RUQ of abdomen.\\r\\n']\n",
                        "\n"
                    ]
                },
                {
                    "name": "stderr",
                    "output_type": "stream",
                    "text": [
                        "Evaluting Epoch: 3:  30%|███       | 3/10 [00:00<00:01,  4.50it/s]The attention mask and the pad token id were not set. As a consequence, you may observe unexpected behavior. Please pass your input's `attention_mask` to obtain reliable results.\n",
                        "Setting `pad_token_id` to `eos_token_id`:50256 for open-end generation.\n"
                    ]
                },
                {
                    "name": "stdout",
                    "output_type": "stream",
                    "text": [
                        "Names      : ['NLP_CHEST_004']\n",
                        "Predictions: ['\\n\\nI\\n\\nI I\\n\\nI I\\n\\n']\n",
                        "Labels     : ['Chest PA view show: \\r\\nImpression:\\r\\n-S/P RLL wedge resection.\\u3000 \\r\\n-Bilateral lungs metastasis.\\r\\n-Left lower lung subsegmental atelectasis. \\r\\n-Increased infiltrations in both lungs.\\r\\n-Blunting right CP angle. \\r\\n-Tortuous atherosclerotic aorta.\\r\\n-Scoliosis, DJD and osteoporosis of spine. \\r\\n-Compression fracture of L1.']\n",
                        "\n"
                    ]
                },
                {
                    "name": "stderr",
                    "output_type": "stream",
                    "text": [
                        "Evaluting Epoch: 3:  40%|████      | 4/10 [00:00<00:01,  4.51it/s]The attention mask and the pad token id were not set. As a consequence, you may observe unexpected behavior. Please pass your input's `attention_mask` to obtain reliable results.\n",
                        "Setting `pad_token_id` to `eos_token_id`:50256 for open-end generation.\n"
                    ]
                },
                {
                    "name": "stdout",
                    "output_type": "stream",
                    "text": [
                        "Names      : ['NLP_CHEST_031']\n",
                        "Predictions: [' and and the two of them and the and the two of']\n",
                        "Labels     : ['Chest PA view:\\r\\nImpression:\\r\\n-Increased both lung markings. \\r\\n-Compatible with right lung nodules.\\r\\n-Fibrotic lesion in left upper lung.\\r\\n-Normal heart size. Atherosclerotic aorta. \\r\\n-Suspect right pleural effusion.\\r\\n-Spondylosis. R/O osteoporosis. \\r\\n-Compatible with multiple bony metastases.\\r\\n-S/P NG and endotracheal tube.\\r\\n-S/P Lt subclavian Port-A-cath. ']\n",
                        "\n"
                    ]
                },
                {
                    "name": "stderr",
                    "output_type": "stream",
                    "text": [
                        "Evaluting Epoch: 3:  50%|█████     | 5/10 [00:01<00:01,  4.51it/s]The attention mask and the pad token id were not set. As a consequence, you may observe unexpected behavior. Please pass your input's `attention_mask` to obtain reliable results.\n",
                        "Setting `pad_token_id` to `eos_token_id`:50256 for open-end generation.\n"
                    ]
                },
                {
                    "name": "stdout",
                    "output_type": "stream",
                    "text": [
                        "Names      : ['NLP_CHEST_057']\n",
                        "Predictions: ['\\n\\nI\\n\\n\\nI I\\n\\n\\nI']\n",
                        "Labels     : ['Chest plain film shows:\\r\\nImpression:\\r\\n-Increased infiltrations in both lungs.\\r\\n-Tortuous atherosclerotic dilated aorta.\\r\\n-Normal heart size. \\r\\n-DJD of spine. \\r\\n Old fracture of right ribs.\\r\\n-Increased both lung markings. \\r\\n S/P Lt jugular CVC insertion. \\r\\n S/P NG and endotracheal tube.\\r\\n-Susp. Lt pneumothorax. \\r\\n Suspect pneumomediastinum. \\r\\n Subcutaneous emphysema in bilateral neck.  \\r\\n-S/P bilateral chest tube insertion. ']\n",
                        "\n"
                    ]
                },
                {
                    "name": "stderr",
                    "output_type": "stream",
                    "text": [
                        "Evaluting Epoch: 3:  60%|██████    | 6/10 [00:01<00:00,  4.56it/s]The attention mask and the pad token id were not set. As a consequence, you may observe unexpected behavior. Please pass your input's `attention_mask` to obtain reliable results.\n",
                        "Setting `pad_token_id` to `eos_token_id`:50256 for open-end generation.\n"
                    ]
                },
                {
                    "name": "stdout",
                    "output_type": "stream",
                    "text": [
                        "Names      : ['NLP_CHEST_059']\n",
                        "Predictions: ['\\n\\nI\\n\\n\\nI I\\n\\n\\nI']\n",
                        "Labels     : ['Supine chest AP view shows: \\r\\n\\r\\nPigtail catheter at right lower chest.\\r\\nDecreased amount of right pleural effusion.\\r\\nAir in the right lower pleural space. Poor lung expansion.\\r\\nMild subcutaneous emphysema at right chest wall.\\r\\n\\r\\nRight pleural thickening.\\r\\nIll-defined masses at right perihilar region.\\r\\n\\r\\nNormal heart size. \\r\\n']\n",
                        "\n"
                    ]
                },
                {
                    "name": "stderr",
                    "output_type": "stream",
                    "text": [
                        "Evaluting Epoch: 3:  70%|███████   | 7/10 [00:01<00:00,  4.54it/s]The attention mask and the pad token id were not set. As a consequence, you may observe unexpected behavior. Please pass your input's `attention_mask` to obtain reliable results.\n",
                        "Setting `pad_token_id` to `eos_token_id`:50256 for open-end generation.\n"
                    ]
                },
                {
                    "name": "stdout",
                    "output_type": "stream",
                    "text": [
                        "Names      : ['NLP_CHEST_027']\n",
                        "Predictions: ['\\n\\nI\\n\\n\\nI I I\\n\\nI I']\n",
                        "Labels     : ['Chest PA View:\\r\\nImpression: \\r\\n> Cardiomegaly with bilateral pulmonary congestion.\\r\\n> Postinflammatory fibrosis in both upper lungs.\\r\\n> Atherosclerosis of aorta.\\r\\n> Old fractures of left 5th and 6th ribs.\\r\\n> R/O osteoporosis.\\r\\n> Spondylosis of thoracolumbar spine.\\r\\n> S/P abdominal operation in RUQ.']\n",
                        "\n"
                    ]
                },
                {
                    "name": "stderr",
                    "output_type": "stream",
                    "text": [
                        "Evaluting Epoch: 3:  80%|████████  | 8/10 [00:01<00:00,  4.55it/s]The attention mask and the pad token id were not set. As a consequence, you may observe unexpected behavior. Please pass your input's `attention_mask` to obtain reliable results.\n",
                        "Setting `pad_token_id` to `eos_token_id`:50256 for open-end generation.\n"
                    ]
                },
                {
                    "name": "stdout",
                    "output_type": "stream",
                    "text": [
                        "Names      : ['NLP_CHEST_085']\n",
                        "Predictions: ['\\n\\nI\\n\\n\\nI I\\n\\n\\nI']\n",
                        "Labels     : ['Chest X ray: \\r\\n\\r\\n- Right pneumothorax with pleural effusion, status post drainge \\r\\n  tube placement.\\r\\n- Extensive subcutaneous emphysema from neck to right side \\r\\n  thoracic cage.\\r\\n- Increased right hilar opacity.\\r\\n- Atherosclerosis and tortuous aorta. \\r\\n- Obscured bilateral costophrenic angles. \\r\\n- Spondylosis and mild scoliosis of thoracolumbar spine. \\r\\n- OA of right glenohumeral joint.\\r\\n- Generalized osteopenia. \\r\\n']\n",
                        "\n"
                    ]
                },
                {
                    "name": "stderr",
                    "output_type": "stream",
                    "text": [
                        "Evaluting Epoch: 3:  90%|█████████ | 9/10 [00:01<00:00,  4.49it/s]The attention mask and the pad token id were not set. As a consequence, you may observe unexpected behavior. Please pass your input's `attention_mask` to obtain reliable results.\n",
                        "Setting `pad_token_id` to `eos_token_id`:50256 for open-end generation.\n"
                    ]
                },
                {
                    "name": "stdout",
                    "output_type": "stream",
                    "text": [
                        "Names      : ['NLP_CHEST_011']\n",
                        "Predictions: ['\\n\\nI\\n\\n\\nI I\\n\\nI I']\n",
                        "Labels     : [\"Chest AP view showed:\\r\\n1.s/p sternotomy and CABG.\\r\\n  Enlarged heart size with tortuous aorta.\\r\\n2.R't middle and lower lung faint patches.\\r\\n  L't lower lung consolidation.\\r\\n  L't pleural effusion.\\r\\n3.No mediastinum widening.\\r\\n4.s/p endotracheal tube and NG intubation.\\r\\n\"]\n",
                        "\n"
                    ]
                },
                {
                    "name": "stderr",
                    "output_type": "stream",
                    "text": [
                        "Evaluting Epoch: 3: 100%|██████████| 10/10 [00:02<00:00,  4.51it/s]\n"
                    ]
                },
                {
                    "name": "stdout",
                    "output_type": "stream",
                    "text": [
                        "Names      : ['NLP_CHEST_015']\n",
                        "Predictions: ['\\n\\nI\\n\\n\\nI\\n\\n\\nI\\n']\n",
                        "Labels     : ['Chest X ray: \\r\\n\\r\\n- No obvious lung mass nor consolidation patch.\\r\\n- Normal heart size.\\r\\n- No pleural effusion. ']\n",
                        "\n",
                        "Rouge-2 score on epoch 2: {'Rouge-L-P': 0.03333333333333333, 'Rouge-L-R': 0.004868123937891379, 'Rouge-L-F': 0.004868123937891379, 'Rouge-2-P': 0.0, 'Rouge-2-R': 0.0, 'Rouge-2-F': 0.0}\n"
                    ]
                },
                {
                    "name": "stderr",
                    "output_type": "stream",
                    "text": [
                        "Training Epoch [4 / 30]: 100%|██████████| 89/89 [00:08<00:00, 10.05it/s, loss=1.67]\n",
                        "Evaluting Epoch: 4:   0%|          | 0/10 [00:00<?, ?it/s]The attention mask and the pad token id were not set. As a consequence, you may observe unexpected behavior. Please pass your input's `attention_mask` to obtain reliable results.\n",
                        "Setting `pad_token_id` to `eos_token_id`:50256 for open-end generation.\n",
                        "Evaluting Epoch: 4:  10%|█         | 1/10 [00:00<00:02,  4.49it/s]The attention mask and the pad token id were not set. As a consequence, you may observe unexpected behavior. Please pass your input's `attention_mask` to obtain reliable results.\n",
                        "Setting `pad_token_id` to `eos_token_id`:50256 for open-end generation.\n"
                    ]
                },
                {
                    "name": "stdout",
                    "output_type": "stream",
                    "text": [
                        "Names      : ['NLP_CHEST_071']\n",
                        "Predictions: [' the way the way\\n\\nI the way\\n\\nI I']\n",
                        "Labels     : ['Chest film shows:\\r\\nImpression:\\r\\n-Bilateral lung infiltrations.\\r\\n-Suspect right lower lung patch. \\r\\n Blunting right CP angle. \\r\\n-Tortuous atherosclerotic aorta. \\r\\n-Scoliosis, DJD and osteoporosis of spine. \\r\\n Compression fracture of T12.\\r\\n Old fracture of left ribs.\\r\\n-S/P fixation in L-spine.  \\r\\n-S/P tracheostomy and NG tube.   \\r\\n']\n",
                        "\n"
                    ]
                },
                {
                    "name": "stderr",
                    "output_type": "stream",
                    "text": [
                        "Evaluting Epoch: 4:  20%|██        | 2/10 [00:00<00:01,  4.64it/s]The attention mask and the pad token id were not set. As a consequence, you may observe unexpected behavior. Please pass your input's `attention_mask` to obtain reliable results.\n",
                        "Setting `pad_token_id` to `eos_token_id`:50256 for open-end generation.\n"
                    ]
                },
                {
                    "name": "stdout",
                    "output_type": "stream",
                    "text": [
                        "Names      : ['NLP_CHEST_002']\n",
                        "Predictions: ['\\n\\nI\\n\\n\\nI\\n\\n\\nI\\n\\n']\n",
                        "Labels     : ['Chest PA view shows: \\r\\n\\r\\nPartial atelectasis at left lower lung field. \\r\\nLeft pleural effusion.\\r\\n\\r\\nBorderline heart size. \\r\\nAtherosclerotic change of aortic knob. \\r\\n\\r\\nS/P port-A implantation via left subclavian vein. \\r\\nIntraperitoneal port catheter.\\r\\nSurgical clips at RUQ of abdomen.\\r\\n']\n",
                        "\n"
                    ]
                },
                {
                    "name": "stderr",
                    "output_type": "stream",
                    "text": [
                        "Evaluting Epoch: 4:  30%|███       | 3/10 [00:00<00:01,  4.51it/s]The attention mask and the pad token id were not set. As a consequence, you may observe unexpected behavior. Please pass your input's `attention_mask` to obtain reliable results.\n",
                        "Setting `pad_token_id` to `eos_token_id`:50256 for open-end generation.\n"
                    ]
                },
                {
                    "name": "stdout",
                    "output_type": "stream",
                    "text": [
                        "Names      : ['NLP_CHEST_004']\n",
                        "Predictions: ['\\n\\nI\\n\\nI I\\n\\nI I\\n\\nI']\n",
                        "Labels     : ['Chest PA view show: \\r\\nImpression:\\r\\n-S/P RLL wedge resection.\\u3000 \\r\\n-Bilateral lungs metastasis.\\r\\n-Left lower lung subsegmental atelectasis. \\r\\n-Increased infiltrations in both lungs.\\r\\n-Blunting right CP angle. \\r\\n-Tortuous atherosclerotic aorta.\\r\\n-Scoliosis, DJD and osteoporosis of spine. \\r\\n-Compression fracture of L1.']\n",
                        "\n"
                    ]
                },
                {
                    "name": "stderr",
                    "output_type": "stream",
                    "text": [
                        "Evaluting Epoch: 4:  40%|████      | 4/10 [00:00<00:01,  4.46it/s]The attention mask and the pad token id were not set. As a consequence, you may observe unexpected behavior. Please pass your input's `attention_mask` to obtain reliable results.\n",
                        "Setting `pad_token_id` to `eos_token_id`:50256 for open-end generation.\n"
                    ]
                },
                {
                    "name": "stdout",
                    "output_type": "stream",
                    "text": [
                        "Names      : ['NLP_CHEST_031']\n",
                        "Predictions: [\"\\n\\nI\\n\\nI'm a bit of a\\n\\n\"]\n",
                        "Labels     : ['Chest PA view:\\r\\nImpression:\\r\\n-Increased both lung markings. \\r\\n-Compatible with right lung nodules.\\r\\n-Fibrotic lesion in left upper lung.\\r\\n-Normal heart size. Atherosclerotic aorta. \\r\\n-Suspect right pleural effusion.\\r\\n-Spondylosis. R/O osteoporosis. \\r\\n-Compatible with multiple bony metastases.\\r\\n-S/P NG and endotracheal tube.\\r\\n-S/P Lt subclavian Port-A-cath. ']\n",
                        "\n"
                    ]
                },
                {
                    "name": "stderr",
                    "output_type": "stream",
                    "text": [
                        "Evaluting Epoch: 4:  50%|█████     | 5/10 [00:01<00:01,  4.48it/s]The attention mask and the pad token id were not set. As a consequence, you may observe unexpected behavior. Please pass your input's `attention_mask` to obtain reliable results.\n",
                        "Setting `pad_token_id` to `eos_token_id`:50256 for open-end generation.\n"
                    ]
                },
                {
                    "name": "stdout",
                    "output_type": "stream",
                    "text": [
                        "Names      : ['NLP_CHEST_057']\n",
                        "Predictions: [\"\\n\\nI\\n\\nI'm a bit of a\\n\\n\"]\n",
                        "Labels     : ['Chest plain film shows:\\r\\nImpression:\\r\\n-Increased infiltrations in both lungs.\\r\\n-Tortuous atherosclerotic dilated aorta.\\r\\n-Normal heart size. \\r\\n-DJD of spine. \\r\\n Old fracture of right ribs.\\r\\n-Increased both lung markings. \\r\\n S/P Lt jugular CVC insertion. \\r\\n S/P NG and endotracheal tube.\\r\\n-Susp. Lt pneumothorax. \\r\\n Suspect pneumomediastinum. \\r\\n Subcutaneous emphysema in bilateral neck.  \\r\\n-S/P bilateral chest tube insertion. ']\n",
                        "\n"
                    ]
                },
                {
                    "name": "stderr",
                    "output_type": "stream",
                    "text": [
                        "Evaluting Epoch: 4:  60%|██████    | 6/10 [00:01<00:00,  4.54it/s]The attention mask and the pad token id were not set. As a consequence, you may observe unexpected behavior. Please pass your input's `attention_mask` to obtain reliable results.\n",
                        "Setting `pad_token_id` to `eos_token_id`:50256 for open-end generation.\n"
                    ]
                },
                {
                    "name": "stdout",
                    "output_type": "stream",
                    "text": [
                        "Names      : ['NLP_CHEST_059']\n",
                        "Predictions: ['\\n\\nI\\n\\n\\nI\\n\\n\\nI\\n\\n']\n",
                        "Labels     : ['Supine chest AP view shows: \\r\\n\\r\\nPigtail catheter at right lower chest.\\r\\nDecreased amount of right pleural effusion.\\r\\nAir in the right lower pleural space. Poor lung expansion.\\r\\nMild subcutaneous emphysema at right chest wall.\\r\\n\\r\\nRight pleural thickening.\\r\\nIll-defined masses at right perihilar region.\\r\\n\\r\\nNormal heart size. \\r\\n']\n",
                        "\n"
                    ]
                },
                {
                    "name": "stderr",
                    "output_type": "stream",
                    "text": [
                        "Evaluting Epoch: 4:  70%|███████   | 7/10 [00:01<00:00,  4.52it/s]The attention mask and the pad token id were not set. As a consequence, you may observe unexpected behavior. Please pass your input's `attention_mask` to obtain reliable results.\n",
                        "Setting `pad_token_id` to `eos_token_id`:50256 for open-end generation.\n"
                    ]
                },
                {
                    "name": "stdout",
                    "output_type": "stream",
                    "text": [
                        "Names      : ['NLP_CHEST_027']\n",
                        "Predictions: ['\\n\\nI\\n\\nI I\\n\\nI I\\n\\nI']\n",
                        "Labels     : ['Chest PA View:\\r\\nImpression: \\r\\n> Cardiomegaly with bilateral pulmonary congestion.\\r\\n> Postinflammatory fibrosis in both upper lungs.\\r\\n> Atherosclerosis of aorta.\\r\\n> Old fractures of left 5th and 6th ribs.\\r\\n> R/O osteoporosis.\\r\\n> Spondylosis of thoracolumbar spine.\\r\\n> S/P abdominal operation in RUQ.']\n",
                        "\n"
                    ]
                },
                {
                    "name": "stderr",
                    "output_type": "stream",
                    "text": [
                        "Evaluting Epoch: 4:  80%|████████  | 8/10 [00:01<00:00,  4.53it/s]The attention mask and the pad token id were not set. As a consequence, you may observe unexpected behavior. Please pass your input's `attention_mask` to obtain reliable results.\n",
                        "Setting `pad_token_id` to `eos_token_id`:50256 for open-end generation.\n"
                    ]
                },
                {
                    "name": "stdout",
                    "output_type": "stream",
                    "text": [
                        "Names      : ['NLP_CHEST_085']\n",
                        "Predictions: [\"\\n\\nI\\n\\n\\nI'm a bit of a\\n\"]\n",
                        "Labels     : ['Chest X ray: \\r\\n\\r\\n- Right pneumothorax with pleural effusion, status post drainge \\r\\n  tube placement.\\r\\n- Extensive subcutaneous emphysema from neck to right side \\r\\n  thoracic cage.\\r\\n- Increased right hilar opacity.\\r\\n- Atherosclerosis and tortuous aorta. \\r\\n- Obscured bilateral costophrenic angles. \\r\\n- Spondylosis and mild scoliosis of thoracolumbar spine. \\r\\n- OA of right glenohumeral joint.\\r\\n- Generalized osteopenia. \\r\\n']\n",
                        "\n"
                    ]
                },
                {
                    "name": "stderr",
                    "output_type": "stream",
                    "text": [
                        "Evaluting Epoch: 4:  90%|█████████ | 9/10 [00:01<00:00,  4.48it/s]The attention mask and the pad token id were not set. As a consequence, you may observe unexpected behavior. Please pass your input's `attention_mask` to obtain reliable results.\n",
                        "Setting `pad_token_id` to `eos_token_id`:50256 for open-end generation.\n"
                    ]
                },
                {
                    "name": "stdout",
                    "output_type": "stream",
                    "text": [
                        "Names      : ['NLP_CHEST_011']\n",
                        "Predictions: [\"\\n\\nI\\n\\nI'm a bit of a\\n\\n\"]\n",
                        "Labels     : [\"Chest AP view showed:\\r\\n1.s/p sternotomy and CABG.\\r\\n  Enlarged heart size with tortuous aorta.\\r\\n2.R't middle and lower lung faint patches.\\r\\n  L't lower lung consolidation.\\r\\n  L't pleural effusion.\\r\\n3.No mediastinum widening.\\r\\n4.s/p endotracheal tube and NG intubation.\\r\\n\"]\n",
                        "\n"
                    ]
                },
                {
                    "name": "stderr",
                    "output_type": "stream",
                    "text": [
                        "Evaluting Epoch: 4: 100%|██████████| 10/10 [00:02<00:00,  4.51it/s]\n"
                    ]
                },
                {
                    "name": "stdout",
                    "output_type": "stream",
                    "text": [
                        "Names      : ['NLP_CHEST_015']\n",
                        "Predictions: ['\\n\\nI\\n\\n\\nI\\n\\n\\nI\\n\\n']\n",
                        "Labels     : ['Chest X ray: \\r\\n\\r\\n- No obvious lung mass nor consolidation patch.\\r\\n- Normal heart size.\\r\\n- No pleural effusion. ']\n",
                        "\n",
                        "Rouge-2 score on epoch 3: {'Rouge-L-P': 0.03333333333333334, 'Rouge-L-R': 0.0045526524076095675, 'Rouge-L-F': 0.0045526524076095675, 'Rouge-2-P': 0.0, 'Rouge-2-R': 0.0, 'Rouge-2-F': 0.0}\n"
                    ]
                },
                {
                    "name": "stderr",
                    "output_type": "stream",
                    "text": [
                        "Training Epoch [5 / 30]: 100%|██████████| 89/89 [00:08<00:00,  9.94it/s, loss=1.4] \n",
                        "Evaluting Epoch: 5:   0%|          | 0/10 [00:00<?, ?it/s]The attention mask and the pad token id were not set. As a consequence, you may observe unexpected behavior. Please pass your input's `attention_mask` to obtain reliable results.\n",
                        "Setting `pad_token_id` to `eos_token_id`:50256 for open-end generation.\n",
                        "Evaluting Epoch: 5:  10%|█         | 1/10 [00:00<00:01,  4.55it/s]The attention mask and the pad token id were not set. As a consequence, you may observe unexpected behavior. Please pass your input's `attention_mask` to obtain reliable results.\n",
                        "Setting `pad_token_id` to `eos_token_id`:50256 for open-end generation.\n"
                    ]
                },
                {
                    "name": "stdout",
                    "output_type": "stream",
                    "text": [
                        "Names      : ['NLP_CHEST_071']\n",
                        "Predictions: ['\\n\\nPosted\\n\\nPosted by: on on']\n",
                        "Labels     : ['Chest film shows:\\r\\nImpression:\\r\\n-Bilateral lung infiltrations.\\r\\n-Suspect right lower lung patch. \\r\\n Blunting right CP angle. \\r\\n-Tortuous atherosclerotic aorta. \\r\\n-Scoliosis, DJD and osteoporosis of spine. \\r\\n Compression fracture of T12.\\r\\n Old fracture of left ribs.\\r\\n-S/P fixation in L-spine.  \\r\\n-S/P tracheostomy and NG tube.   \\r\\n']\n",
                        "\n"
                    ]
                },
                {
                    "name": "stderr",
                    "output_type": "stream",
                    "text": [
                        "Evaluting Epoch: 5:  20%|██        | 2/10 [00:00<00:01,  4.69it/s]The attention mask and the pad token id were not set. As a consequence, you may observe unexpected behavior. Please pass your input's `attention_mask` to obtain reliable results.\n",
                        "Setting `pad_token_id` to `eos_token_id`:50256 for open-end generation.\n"
                    ]
                },
                {
                    "name": "stdout",
                    "output_type": "stream",
                    "text": [
                        "Names      : ['NLP_CHEST_002']\n",
                        "Predictions: [\"\\n\\nI\\n\\nI'm\\n\\nI'm\\n\\n\"]\n",
                        "Labels     : ['Chest PA view shows: \\r\\n\\r\\nPartial atelectasis at left lower lung field. \\r\\nLeft pleural effusion.\\r\\n\\r\\nBorderline heart size. \\r\\nAtherosclerotic change of aortic knob. \\r\\n\\r\\nS/P port-A implantation via left subclavian vein. \\r\\nIntraperitoneal port catheter.\\r\\nSurgical clips at RUQ of abdomen.\\r\\n']\n",
                        "\n"
                    ]
                },
                {
                    "name": "stderr",
                    "output_type": "stream",
                    "text": [
                        "Evaluting Epoch: 5:  30%|███       | 3/10 [00:00<00:01,  4.55it/s]The attention mask and the pad token id were not set. As a consequence, you may observe unexpected behavior. Please pass your input's `attention_mask` to obtain reliable results.\n",
                        "Setting `pad_token_id` to `eos_token_id`:50256 for open-end generation.\n"
                    ]
                },
                {
                    "name": "stdout",
                    "output_type": "stream",
                    "text": [
                        "Names      : ['NLP_CHEST_004']\n",
                        "Predictions: ['\\n\\nI\\n\\nI\\n\\nI\\n\\n\\nI\\n']\n",
                        "Labels     : ['Chest PA view show: \\r\\nImpression:\\r\\n-S/P RLL wedge resection.\\u3000 \\r\\n-Bilateral lungs metastasis.\\r\\n-Left lower lung subsegmental atelectasis. \\r\\n-Increased infiltrations in both lungs.\\r\\n-Blunting right CP angle. \\r\\n-Tortuous atherosclerotic aorta.\\r\\n-Scoliosis, DJD and osteoporosis of spine. \\r\\n-Compression fracture of L1.']\n",
                        "\n"
                    ]
                },
                {
                    "name": "stderr",
                    "output_type": "stream",
                    "text": [
                        "Evaluting Epoch: 5:  40%|████      | 4/10 [00:00<00:01,  4.55it/s]The attention mask and the pad token id were not set. As a consequence, you may observe unexpected behavior. Please pass your input's `attention_mask` to obtain reliable results.\n",
                        "Setting `pad_token_id` to `eos_token_id`:50256 for open-end generation.\n"
                    ]
                },
                {
                    "name": "stdout",
                    "output_type": "stream",
                    "text": [
                        "Names      : ['NLP_CHEST_031']\n",
                        "Predictions: [\"\\n\\nI\\n\\nI'm\\n\\nI'm\\n\\n\"]\n",
                        "Labels     : ['Chest PA view:\\r\\nImpression:\\r\\n-Increased both lung markings. \\r\\n-Compatible with right lung nodules.\\r\\n-Fibrotic lesion in left upper lung.\\r\\n-Normal heart size. Atherosclerotic aorta. \\r\\n-Suspect right pleural effusion.\\r\\n-Spondylosis. R/O osteoporosis. \\r\\n-Compatible with multiple bony metastases.\\r\\n-S/P NG and endotracheal tube.\\r\\n-S/P Lt subclavian Port-A-cath. ']\n",
                        "\n"
                    ]
                },
                {
                    "name": "stderr",
                    "output_type": "stream",
                    "text": [
                        "Evaluting Epoch: 5:  50%|█████     | 5/10 [00:01<00:01,  4.55it/s]The attention mask and the pad token id were not set. As a consequence, you may observe unexpected behavior. Please pass your input's `attention_mask` to obtain reliable results.\n",
                        "Setting `pad_token_id` to `eos_token_id`:50256 for open-end generation.\n"
                    ]
                },
                {
                    "name": "stdout",
                    "output_type": "stream",
                    "text": [
                        "Names      : ['NLP_CHEST_057']\n",
                        "Predictions: [\"\\n\\nI\\n\\nI'm\\n\\nI'm\\n\\n\"]\n",
                        "Labels     : ['Chest plain film shows:\\r\\nImpression:\\r\\n-Increased infiltrations in both lungs.\\r\\n-Tortuous atherosclerotic dilated aorta.\\r\\n-Normal heart size. \\r\\n-DJD of spine. \\r\\n Old fracture of right ribs.\\r\\n-Increased both lung markings. \\r\\n S/P Lt jugular CVC insertion. \\r\\n S/P NG and endotracheal tube.\\r\\n-Susp. Lt pneumothorax. \\r\\n Suspect pneumomediastinum. \\r\\n Subcutaneous emphysema in bilateral neck.  \\r\\n-S/P bilateral chest tube insertion. ']\n",
                        "\n"
                    ]
                },
                {
                    "name": "stderr",
                    "output_type": "stream",
                    "text": [
                        "Evaluting Epoch: 5:  60%|██████    | 6/10 [00:01<00:00,  4.59it/s]The attention mask and the pad token id were not set. As a consequence, you may observe unexpected behavior. Please pass your input's `attention_mask` to obtain reliable results.\n",
                        "Setting `pad_token_id` to `eos_token_id`:50256 for open-end generation.\n"
                    ]
                },
                {
                    "name": "stdout",
                    "output_type": "stream",
                    "text": [
                        "Names      : ['NLP_CHEST_059']\n",
                        "Predictions: [\"\\n\\nI\\n\\nI'm\\n\\nI'm\\n\\n\"]\n",
                        "Labels     : ['Supine chest AP view shows: \\r\\n\\r\\nPigtail catheter at right lower chest.\\r\\nDecreased amount of right pleural effusion.\\r\\nAir in the right lower pleural space. Poor lung expansion.\\r\\nMild subcutaneous emphysema at right chest wall.\\r\\n\\r\\nRight pleural thickening.\\r\\nIll-defined masses at right perihilar region.\\r\\n\\r\\nNormal heart size. \\r\\n']\n",
                        "\n"
                    ]
                },
                {
                    "name": "stderr",
                    "output_type": "stream",
                    "text": [
                        "Evaluting Epoch: 5:  70%|███████   | 7/10 [00:01<00:00,  4.53it/s]The attention mask and the pad token id were not set. As a consequence, you may observe unexpected behavior. Please pass your input's `attention_mask` to obtain reliable results.\n",
                        "Setting `pad_token_id` to `eos_token_id`:50256 for open-end generation.\n"
                    ]
                },
                {
                    "name": "stdout",
                    "output_type": "stream",
                    "text": [
                        "Names      : ['NLP_CHEST_027']\n",
                        "Predictions: ['\\n\\nI\\n\\nI\\n\\nI\\n\\n\\nI\\n']\n",
                        "Labels     : ['Chest PA View:\\r\\nImpression: \\r\\n> Cardiomegaly with bilateral pulmonary congestion.\\r\\n> Postinflammatory fibrosis in both upper lungs.\\r\\n> Atherosclerosis of aorta.\\r\\n> Old fractures of left 5th and 6th ribs.\\r\\n> R/O osteoporosis.\\r\\n> Spondylosis of thoracolumbar spine.\\r\\n> S/P abdominal operation in RUQ.']\n",
                        "\n"
                    ]
                },
                {
                    "name": "stderr",
                    "output_type": "stream",
                    "text": [
                        "Evaluting Epoch: 5:  80%|████████  | 8/10 [00:01<00:00,  4.55it/s]The attention mask and the pad token id were not set. As a consequence, you may observe unexpected behavior. Please pass your input's `attention_mask` to obtain reliable results.\n",
                        "Setting `pad_token_id` to `eos_token_id`:50256 for open-end generation.\n"
                    ]
                },
                {
                    "name": "stdout",
                    "output_type": "stream",
                    "text": [
                        "Names      : ['NLP_CHEST_085']\n",
                        "Predictions: ['\\n\\nI\\n\\nI\\n\\nI\\n\\n\\nI\\n']\n",
                        "Labels     : ['Chest X ray: \\r\\n\\r\\n- Right pneumothorax with pleural effusion, status post drainge \\r\\n  tube placement.\\r\\n- Extensive subcutaneous emphysema from neck to right side \\r\\n  thoracic cage.\\r\\n- Increased right hilar opacity.\\r\\n- Atherosclerosis and tortuous aorta. \\r\\n- Obscured bilateral costophrenic angles. \\r\\n- Spondylosis and mild scoliosis of thoracolumbar spine. \\r\\n- OA of right glenohumeral joint.\\r\\n- Generalized osteopenia. \\r\\n']\n",
                        "\n"
                    ]
                },
                {
                    "name": "stderr",
                    "output_type": "stream",
                    "text": [
                        "Evaluting Epoch: 5:  90%|█████████ | 9/10 [00:01<00:00,  4.50it/s]The attention mask and the pad token id were not set. As a consequence, you may observe unexpected behavior. Please pass your input's `attention_mask` to obtain reliable results.\n",
                        "Setting `pad_token_id` to `eos_token_id`:50256 for open-end generation.\n"
                    ]
                },
                {
                    "name": "stdout",
                    "output_type": "stream",
                    "text": [
                        "Names      : ['NLP_CHEST_011']\n",
                        "Predictions: [\"\\n\\nI\\n\\nI'm\\n\\nI'm\\n\\n\"]\n",
                        "Labels     : [\"Chest AP view showed:\\r\\n1.s/p sternotomy and CABG.\\r\\n  Enlarged heart size with tortuous aorta.\\r\\n2.R't middle and lower lung faint patches.\\r\\n  L't lower lung consolidation.\\r\\n  L't pleural effusion.\\r\\n3.No mediastinum widening.\\r\\n4.s/p endotracheal tube and NG intubation.\\r\\n\"]\n",
                        "\n"
                    ]
                },
                {
                    "name": "stderr",
                    "output_type": "stream",
                    "text": [
                        "Evaluting Epoch: 5: 100%|██████████| 10/10 [00:02<00:00,  4.54it/s]\n"
                    ]
                },
                {
                    "name": "stdout",
                    "output_type": "stream",
                    "text": [
                        "Names      : ['NLP_CHEST_015']\n",
                        "Predictions: [\"\\n\\nI\\n\\nI'm\\n\\nI'm\\n\\n\"]\n",
                        "Labels     : ['Chest X ray: \\r\\n\\r\\n- No obvious lung mass nor consolidation patch.\\r\\n- Normal heart size.\\r\\n- No pleural effusion. ']\n",
                        "\n",
                        "Rouge-2 score on epoch 4: {'Rouge-L-P': 0.02666666666666667, 'Rouge-L-R': 0.0036421219260876544, 'Rouge-L-F': 0.0036421219260876544, 'Rouge-2-P': 0.0, 'Rouge-2-R': 0.0, 'Rouge-2-F': 0.0}\n"
                    ]
                },
                {
                    "name": "stderr",
                    "output_type": "stream",
                    "text": [
                        "Training Epoch [6 / 30]: 100%|██████████| 89/89 [00:09<00:00,  9.65it/s, loss=1.16]\n",
                        "Evaluting Epoch: 6:   0%|          | 0/10 [00:00<?, ?it/s]The attention mask and the pad token id were not set. As a consequence, you may observe unexpected behavior. Please pass your input's `attention_mask` to obtain reliable results.\n",
                        "Setting `pad_token_id` to `eos_token_id`:50256 for open-end generation.\n",
                        "Evaluting Epoch: 6:  10%|█         | 1/10 [00:00<00:01,  4.56it/s]The attention mask and the pad token id were not set. As a consequence, you may observe unexpected behavior. Please pass your input's `attention_mask` to obtain reliable results.\n",
                        "Setting `pad_token_id` to `eos_token_id`:50256 for open-end generation.\n"
                    ]
                },
                {
                    "name": "stdout",
                    "output_type": "stream",
                    "text": [
                        "Names      : ['NLP_CHEST_071']\n",
                        "Predictions: [' a a little bit of a bust\\n\\na little bit of a bust b']\n",
                        "Labels     : ['Chest film shows:\\r\\nImpression:\\r\\n-Bilateral lung infiltrations.\\r\\n-Suspect right lower lung patch. \\r\\n Blunting right CP angle. \\r\\n-Tortuous atherosclerotic aorta. \\r\\n-Scoliosis, DJD and osteoporosis of spine. \\r\\n Compression fracture of T12.\\r\\n Old fracture of left ribs.\\r\\n-S/P fixation in L-spine.  \\r\\n-S/P tracheostomy and NG tube.   \\r\\n']\n",
                        "\n"
                    ]
                },
                {
                    "name": "stderr",
                    "output_type": "stream",
                    "text": [
                        "Evaluting Epoch: 6:  20%|██        | 2/10 [00:00<00:01,  4.63it/s]The attention mask and the pad token id were not set. As a consequence, you may observe unexpected behavior. Please pass your input's `attention_mask` to obtain reliable results.\n",
                        "Setting `pad_token_id` to `eos_token_id`:50256 for open-end generation.\n"
                    ]
                },
                {
                    "name": "stdout",
                    "output_type": "stream",
                    "text": [
                        "Names      : ['NLP_CHEST_002']\n",
                        "Predictions: ['\\nPosted\\nPosted by: on on on the left']\n",
                        "Labels     : ['Chest PA view shows: \\r\\n\\r\\nPartial atelectasis at left lower lung field. \\r\\nLeft pleural effusion.\\r\\n\\r\\nBorderline heart size. \\r\\nAtherosclerotic change of aortic knob. \\r\\n\\r\\nS/P port-A implantation via left subclavian vein. \\r\\nIntraperitoneal port catheter.\\r\\nSurgical clips at RUQ of abdomen.\\r\\n']\n",
                        "\n"
                    ]
                },
                {
                    "name": "stderr",
                    "output_type": "stream",
                    "text": [
                        "Evaluting Epoch: 6:  30%|███       | 3/10 [00:00<00:01,  4.51it/s]The attention mask and the pad token id were not set. As a consequence, you may observe unexpected behavior. Please pass your input's `attention_mask` to obtain reliable results.\n",
                        "Setting `pad_token_id` to `eos_token_id`:50256 for open-end generation.\n"
                    ]
                },
                {
                    "name": "stdout",
                    "output_type": "stream",
                    "text": [
                        "Names      : ['NLP_CHEST_004']\n",
                        "Predictions: [' a girl little girl\\n\\nPosted year ago\\n']\n",
                        "Labels     : ['Chest PA view show: \\r\\nImpression:\\r\\n-S/P RLL wedge resection.\\u3000 \\r\\n-Bilateral lungs metastasis.\\r\\n-Left lower lung subsegmental atelectasis. \\r\\n-Increased infiltrations in both lungs.\\r\\n-Blunting right CP angle. \\r\\n-Tortuous atherosclerotic aorta.\\r\\n-Scoliosis, DJD and osteoporosis of spine. \\r\\n-Compression fracture of L1.']\n",
                        "\n"
                    ]
                },
                {
                    "name": "stderr",
                    "output_type": "stream",
                    "text": [
                        "Evaluting Epoch: 6:  40%|████      | 4/10 [00:00<00:01,  4.51it/s]The attention mask and the pad token id were not set. As a consequence, you may observe unexpected behavior. Please pass your input's `attention_mask` to obtain reliable results.\n",
                        "Setting `pad_token_id` to `eos_token_id`:50256 for open-end generation.\n"
                    ]
                },
                {
                    "name": "stdout",
                    "output_type": "stream",
                    "text": [
                        "Names      : ['NLP_CHEST_031']\n",
                        "Predictions: [' a a little bit of a bust\\n\\na little bit of a bust b']\n",
                        "Labels     : ['Chest PA view:\\r\\nImpression:\\r\\n-Increased both lung markings. \\r\\n-Compatible with right lung nodules.\\r\\n-Fibrotic lesion in left upper lung.\\r\\n-Normal heart size. Atherosclerotic aorta. \\r\\n-Suspect right pleural effusion.\\r\\n-Spondylosis. R/O osteoporosis. \\r\\n-Compatible with multiple bony metastases.\\r\\n-S/P NG and endotracheal tube.\\r\\n-S/P Lt subclavian Port-A-cath. ']\n",
                        "\n"
                    ]
                },
                {
                    "name": "stderr",
                    "output_type": "stream",
                    "text": [
                        "Evaluting Epoch: 6:  50%|█████     | 5/10 [00:01<00:01,  4.50it/s]The attention mask and the pad token id were not set. As a consequence, you may observe unexpected behavior. Please pass your input's `attention_mask` to obtain reliable results.\n",
                        "Setting `pad_token_id` to `eos_token_id`:50256 for open-end generation.\n"
                    ]
                },
                {
                    "name": "stdout",
                    "output_type": "stream",
                    "text": [
                        "Names      : ['NLP_CHEST_057']\n",
                        "Predictions: [' a girl little girl\\n\\nPosted year ago\\n']\n",
                        "Labels     : ['Chest plain film shows:\\r\\nImpression:\\r\\n-Increased infiltrations in both lungs.\\r\\n-Tortuous atherosclerotic dilated aorta.\\r\\n-Normal heart size. \\r\\n-DJD of spine. \\r\\n Old fracture of right ribs.\\r\\n-Increased both lung markings. \\r\\n S/P Lt jugular CVC insertion. \\r\\n S/P NG and endotracheal tube.\\r\\n-Susp. Lt pneumothorax. \\r\\n Suspect pneumomediastinum. \\r\\n Subcutaneous emphysema in bilateral neck.  \\r\\n-S/P bilateral chest tube insertion. ']\n",
                        "\n"
                    ]
                },
                {
                    "name": "stderr",
                    "output_type": "stream",
                    "text": [
                        "Evaluting Epoch: 6:  60%|██████    | 6/10 [00:01<00:00,  4.56it/s]The attention mask and the pad token id were not set. As a consequence, you may observe unexpected behavior. Please pass your input's `attention_mask` to obtain reliable results.\n",
                        "Setting `pad_token_id` to `eos_token_id`:50256 for open-end generation.\n"
                    ]
                },
                {
                    "name": "stdout",
                    "output_type": "stream",
                    "text": [
                        "Names      : ['NLP_CHEST_059']\n",
                        "Predictions: ['\\nPosted\\n\\nPosted\\n\\nPosted by: on']\n",
                        "Labels     : ['Supine chest AP view shows: \\r\\n\\r\\nPigtail catheter at right lower chest.\\r\\nDecreased amount of right pleural effusion.\\r\\nAir in the right lower pleural space. Poor lung expansion.\\r\\nMild subcutaneous emphysema at right chest wall.\\r\\n\\r\\nRight pleural thickening.\\r\\nIll-defined masses at right perihilar region.\\r\\n\\r\\nNormal heart size. \\r\\n']\n",
                        "\n"
                    ]
                },
                {
                    "name": "stderr",
                    "output_type": "stream",
                    "text": [
                        "Evaluting Epoch: 6:  70%|███████   | 7/10 [00:01<00:00,  4.54it/s]The attention mask and the pad token id were not set. As a consequence, you may observe unexpected behavior. Please pass your input's `attention_mask` to obtain reliable results.\n",
                        "Setting `pad_token_id` to `eos_token_id`:50256 for open-end generation.\n"
                    ]
                },
                {
                    "name": "stdout",
                    "output_type": "stream",
                    "text": [
                        "Names      : ['NLP_CHEST_027']\n",
                        "Predictions: [' a girl little girl\\n\\nPosted year ago\\n']\n",
                        "Labels     : ['Chest PA View:\\r\\nImpression: \\r\\n> Cardiomegaly with bilateral pulmonary congestion.\\r\\n> Postinflammatory fibrosis in both upper lungs.\\r\\n> Atherosclerosis of aorta.\\r\\n> Old fractures of left 5th and 6th ribs.\\r\\n> R/O osteoporosis.\\r\\n> Spondylosis of thoracolumbar spine.\\r\\n> S/P abdominal operation in RUQ.']\n",
                        "\n"
                    ]
                },
                {
                    "name": "stderr",
                    "output_type": "stream",
                    "text": [
                        "Evaluting Epoch: 6:  80%|████████  | 8/10 [00:01<00:00,  4.56it/s]The attention mask and the pad token id were not set. As a consequence, you may observe unexpected behavior. Please pass your input's `attention_mask` to obtain reliable results.\n",
                        "Setting `pad_token_id` to `eos_token_id`:50256 for open-end generation.\n"
                    ]
                },
                {
                    "name": "stdout",
                    "output_type": "stream",
                    "text": [
                        "Names      : ['NLP_CHEST_085']\n",
                        "Predictions: [' a girl little girl\\n\\nPosted year ago\\n']\n",
                        "Labels     : ['Chest X ray: \\r\\n\\r\\n- Right pneumothorax with pleural effusion, status post drainge \\r\\n  tube placement.\\r\\n- Extensive subcutaneous emphysema from neck to right side \\r\\n  thoracic cage.\\r\\n- Increased right hilar opacity.\\r\\n- Atherosclerosis and tortuous aorta. \\r\\n- Obscured bilateral costophrenic angles. \\r\\n- Spondylosis and mild scoliosis of thoracolumbar spine. \\r\\n- OA of right glenohumeral joint.\\r\\n- Generalized osteopenia. \\r\\n']\n",
                        "\n"
                    ]
                },
                {
                    "name": "stderr",
                    "output_type": "stream",
                    "text": [
                        "Evaluting Epoch: 6:  90%|█████████ | 9/10 [00:01<00:00,  4.46it/s]The attention mask and the pad token id were not set. As a consequence, you may observe unexpected behavior. Please pass your input's `attention_mask` to obtain reliable results.\n",
                        "Setting `pad_token_id` to `eos_token_id`:50256 for open-end generation.\n"
                    ]
                },
                {
                    "name": "stdout",
                    "output_type": "stream",
                    "text": [
                        "Names      : ['NLP_CHEST_011']\n",
                        "Predictions: [' a a little bit of a bust\\n\\na little bit of a bust b']\n",
                        "Labels     : [\"Chest AP view showed:\\r\\n1.s/p sternotomy and CABG.\\r\\n  Enlarged heart size with tortuous aorta.\\r\\n2.R't middle and lower lung faint patches.\\r\\n  L't lower lung consolidation.\\r\\n  L't pleural effusion.\\r\\n3.No mediastinum widening.\\r\\n4.s/p endotracheal tube and NG intubation.\\r\\n\"]\n",
                        "\n"
                    ]
                },
                {
                    "name": "stderr",
                    "output_type": "stream",
                    "text": [
                        "Evaluting Epoch: 6: 100%|██████████| 10/10 [00:02<00:00,  4.51it/s]\n"
                    ]
                },
                {
                    "name": "stdout",
                    "output_type": "stream",
                    "text": [
                        "Names      : ['NLP_CHEST_015']\n",
                        "Predictions: [' a girl little girl\\n\\nPosted year ago\\n little girl\\n']\n",
                        "Labels     : ['Chest X ray: \\r\\n\\r\\n- No obvious lung mass nor consolidation patch.\\r\\n- Normal heart size.\\r\\n- No pleural effusion. ']\n",
                        "\n",
                        "Rouge-2 score on epoch 5: {'Rouge-L-P': 0.02668650793650794, 'Rouge-L-R': 0.004248891894750728, 'Rouge-L-F': 0.004248891894750728, 'Rouge-2-P': 0.0, 'Rouge-2-R': 0.0, 'Rouge-2-F': 0.0}\n"
                    ]
                },
                {
                    "name": "stderr",
                    "output_type": "stream",
                    "text": [
                        "Training Epoch [7 / 30]: 100%|██████████| 89/89 [00:09<00:00,  9.58it/s, loss=0.997]\n",
                        "Evaluting Epoch: 7:   0%|          | 0/10 [00:00<?, ?it/s]The attention mask and the pad token id were not set. As a consequence, you may observe unexpected behavior. Please pass your input's `attention_mask` to obtain reliable results.\n",
                        "Setting `pad_token_id` to `eos_token_id`:50256 for open-end generation.\n",
                        "Evaluting Epoch: 7:  10%|█         | 1/10 [00:00<00:02,  4.45it/s]The attention mask and the pad token id were not set. As a consequence, you may observe unexpected behavior. Please pass your input's `attention_mask` to obtain reliable results.\n",
                        "Setting `pad_token_id` to `eos_token_id`:50256 for open-end generation.\n"
                    ]
                },
                {
                    "name": "stdout",
                    "output_type": "stream",
                    "text": [
                        "Names      : ['NLP_CHEST_071']\n",
                        "Predictions: ['Chest: plain, pleural effusion, pleural eff\\nS/P']\n",
                        "Labels     : ['Chest film shows:\\r\\nImpression:\\r\\n-Bilateral lung infiltrations.\\r\\n-Suspect right lower lung patch. \\r\\n Blunting right CP angle. \\r\\n-Tortuous atherosclerotic aorta. \\r\\n-Scoliosis, DJD and osteoporosis of spine. \\r\\n Compression fracture of T12.\\r\\n Old fracture of left ribs.\\r\\n-S/P fixation in L-spine.  \\r\\n-S/P tracheostomy and NG tube.   \\r\\n']\n",
                        "\n"
                    ]
                },
                {
                    "name": "stderr",
                    "output_type": "stream",
                    "text": [
                        "Evaluting Epoch: 7:  20%|██        | 2/10 [00:00<00:01,  4.67it/s]The attention mask and the pad token id were not set. As a consequence, you may observe unexpected behavior. Please pass your input's `attention_mask` to obtain reliable results.\n",
                        "Setting `pad_token_id` to `eos_token_id`:50256 for open-end generation.\n"
                    ]
                },
                {
                    "name": "stdout",
                    "output_type": "stream",
                    "text": [
                        "Names      : ['NLP_CHEST_002']\n",
                        "Predictions: ['Chest view angle angle of view of upper chest\\n\\nChest view angle of view of']\n",
                        "Labels     : ['Chest PA view shows: \\r\\n\\r\\nPartial atelectasis at left lower lung field. \\r\\nLeft pleural effusion.\\r\\n\\r\\nBorderline heart size. \\r\\nAtherosclerotic change of aortic knob. \\r\\n\\r\\nS/P port-A implantation via left subclavian vein. \\r\\nIntraperitoneal port catheter.\\r\\nSurgical clips at RUQ of abdomen.\\r\\n']\n",
                        "\n"
                    ]
                },
                {
                    "name": "stderr",
                    "output_type": "stream",
                    "text": [
                        "Evaluting Epoch: 7:  30%|███       | 3/10 [00:00<00:01,  4.49it/s]The attention mask and the pad token id were not set. As a consequence, you may observe unexpected behavior. Please pass your input's `attention_mask` to obtain reliable results.\n",
                        "Setting `pad_token_id` to `eos_token_id`:50256 for open-end generation.\n"
                    ]
                },
                {
                    "name": "stdout",
                    "output_type": "stream",
                    "text": [
                        "Names      : ['NLP_CHEST_004']\n",
                        "Predictions: ['Chest view angle angle: Normal\\nChest view angle: Normal\\nChest view view']\n",
                        "Labels     : ['Chest PA view show: \\r\\nImpression:\\r\\n-S/P RLL wedge resection.\\u3000 \\r\\n-Bilateral lungs metastasis.\\r\\n-Left lower lung subsegmental atelectasis. \\r\\n-Increased infiltrations in both lungs.\\r\\n-Blunting right CP angle. \\r\\n-Tortuous atherosclerotic aorta.\\r\\n-Scoliosis, DJD and osteoporosis of spine. \\r\\n-Compression fracture of L1.']\n",
                        "\n"
                    ]
                },
                {
                    "name": "stderr",
                    "output_type": "stream",
                    "text": [
                        "Evaluting Epoch: 7:  40%|████      | 4/10 [00:00<00:01,  4.50it/s]The attention mask and the pad token id were not set. As a consequence, you may observe unexpected behavior. Please pass your input's `attention_mask` to obtain reliable results.\n",
                        "Setting `pad_token_id` to `eos_token_id`:50256 for open-end generation.\n"
                    ]
                },
                {
                    "name": "stdout",
                    "output_type": "stream",
                    "text": [
                        "Names      : ['NLP_CHEST_031']\n",
                        "Predictions: ['Chest view angle angle: Normal\\nChest view angle: Normal\\nChest view view']\n",
                        "Labels     : ['Chest PA view:\\r\\nImpression:\\r\\n-Increased both lung markings. \\r\\n-Compatible with right lung nodules.\\r\\n-Fibrotic lesion in left upper lung.\\r\\n-Normal heart size. Atherosclerotic aorta. \\r\\n-Suspect right pleural effusion.\\r\\n-Spondylosis. R/O osteoporosis. \\r\\n-Compatible with multiple bony metastases.\\r\\n-S/P NG and endotracheal tube.\\r\\n-S/P Lt subclavian Port-A-cath. ']\n",
                        "\n"
                    ]
                },
                {
                    "name": "stderr",
                    "output_type": "stream",
                    "text": [
                        "Evaluting Epoch: 7:  50%|█████     | 5/10 [00:01<00:01,  4.52it/s]The attention mask and the pad token id were not set. As a consequence, you may observe unexpected behavior. Please pass your input's `attention_mask` to obtain reliable results.\n",
                        "Setting `pad_token_id` to `eos_token_id`:50256 for open-end generation.\n"
                    ]
                },
                {
                    "name": "stdout",
                    "output_type": "stream",
                    "text": [
                        "Names      : ['NLP_CHEST_057']\n",
                        "Predictions: ['Chest view angle angle: Normal\\nChest view angle: Normal\\nChest view view']\n",
                        "Labels     : ['Chest plain film shows:\\r\\nImpression:\\r\\n-Increased infiltrations in both lungs.\\r\\n-Tortuous atherosclerotic dilated aorta.\\r\\n-Normal heart size. \\r\\n-DJD of spine. \\r\\n Old fracture of right ribs.\\r\\n-Increased both lung markings. \\r\\n S/P Lt jugular CVC insertion. \\r\\n S/P NG and endotracheal tube.\\r\\n-Susp. Lt pneumothorax. \\r\\n Suspect pneumomediastinum. \\r\\n Subcutaneous emphysema in bilateral neck.  \\r\\n-S/P bilateral chest tube insertion. ']\n",
                        "\n"
                    ]
                },
                {
                    "name": "stderr",
                    "output_type": "stream",
                    "text": [
                        "Evaluting Epoch: 7:  60%|██████    | 6/10 [00:01<00:00,  4.58it/s]The attention mask and the pad token id were not set. As a consequence, you may observe unexpected behavior. Please pass your input's `attention_mask` to obtain reliable results.\n",
                        "Setting `pad_token_id` to `eos_token_id`:50256 for open-end generation.\n"
                    ]
                },
                {
                    "name": "stdout",
                    "output_type": "stream",
                    "text": [
                        "Names      : ['NLP_CHEST_059']\n",
                        "Predictions: ['Chest view angle angle of view of upper chest\\n\\nChest view angle of view of']\n",
                        "Labels     : ['Supine chest AP view shows: \\r\\n\\r\\nPigtail catheter at right lower chest.\\r\\nDecreased amount of right pleural effusion.\\r\\nAir in the right lower pleural space. Poor lung expansion.\\r\\nMild subcutaneous emphysema at right chest wall.\\r\\n\\r\\nRight pleural thickening.\\r\\nIll-defined masses at right perihilar region.\\r\\n\\r\\nNormal heart size. \\r\\n']\n",
                        "\n"
                    ]
                },
                {
                    "name": "stderr",
                    "output_type": "stream",
                    "text": [
                        "Evaluting Epoch: 7:  70%|███████   | 7/10 [00:01<00:00,  4.57it/s]The attention mask and the pad token id were not set. As a consequence, you may observe unexpected behavior. Please pass your input's `attention_mask` to obtain reliable results.\n",
                        "Setting `pad_token_id` to `eos_token_id`:50256 for open-end generation.\n"
                    ]
                },
                {
                    "name": "stdout",
                    "output_type": "stream",
                    "text": [
                        "Names      : ['NLP_CHEST_027']\n",
                        "Predictions: ['Chest view angle angle: Normal\\nChest view angle: Normal\\nChest view view']\n",
                        "Labels     : ['Chest PA View:\\r\\nImpression: \\r\\n> Cardiomegaly with bilateral pulmonary congestion.\\r\\n> Postinflammatory fibrosis in both upper lungs.\\r\\n> Atherosclerosis of aorta.\\r\\n> Old fractures of left 5th and 6th ribs.\\r\\n> R/O osteoporosis.\\r\\n> Spondylosis of thoracolumbar spine.\\r\\n> S/P abdominal operation in RUQ.']\n",
                        "\n"
                    ]
                },
                {
                    "name": "stderr",
                    "output_type": "stream",
                    "text": [
                        "Evaluting Epoch: 7:  80%|████████  | 8/10 [00:01<00:00,  4.58it/s]The attention mask and the pad token id were not set. As a consequence, you may observe unexpected behavior. Please pass your input's `attention_mask` to obtain reliable results.\n",
                        "Setting `pad_token_id` to `eos_token_id`:50256 for open-end generation.\n"
                    ]
                },
                {
                    "name": "stdout",
                    "output_type": "stream",
                    "text": [
                        "Names      : ['NLP_CHEST_085']\n",
                        "Predictions: ['Chest view angle angle: Normal\\nChest view angle: Normal\\nChest view view']\n",
                        "Labels     : ['Chest X ray: \\r\\n\\r\\n- Right pneumothorax with pleural effusion, status post drainge \\r\\n  tube placement.\\r\\n- Extensive subcutaneous emphysema from neck to right side \\r\\n  thoracic cage.\\r\\n- Increased right hilar opacity.\\r\\n- Atherosclerosis and tortuous aorta. \\r\\n- Obscured bilateral costophrenic angles. \\r\\n- Spondylosis and mild scoliosis of thoracolumbar spine. \\r\\n- OA of right glenohumeral joint.\\r\\n- Generalized osteopenia. \\r\\n']\n",
                        "\n"
                    ]
                },
                {
                    "name": "stderr",
                    "output_type": "stream",
                    "text": [
                        "Evaluting Epoch: 7:  90%|█████████ | 9/10 [00:01<00:00,  4.52it/s]The attention mask and the pad token id were not set. As a consequence, you may observe unexpected behavior. Please pass your input's `attention_mask` to obtain reliable results.\n",
                        "Setting `pad_token_id` to `eos_token_id`:50256 for open-end generation.\n"
                    ]
                },
                {
                    "name": "stdout",
                    "output_type": "stream",
                    "text": [
                        "Names      : ['NLP_CHEST_011']\n",
                        "Predictions: ['Chest: plain and pleural effusion\\n\\nS/P: not sure\\n']\n",
                        "Labels     : [\"Chest AP view showed:\\r\\n1.s/p sternotomy and CABG.\\r\\n  Enlarged heart size with tortuous aorta.\\r\\n2.R't middle and lower lung faint patches.\\r\\n  L't lower lung consolidation.\\r\\n  L't pleural effusion.\\r\\n3.No mediastinum widening.\\r\\n4.s/p endotracheal tube and NG intubation.\\r\\n\"]\n",
                        "\n"
                    ]
                },
                {
                    "name": "stderr",
                    "output_type": "stream",
                    "text": [
                        "Evaluting Epoch: 7: 100%|██████████| 10/10 [00:02<00:00,  4.54it/s]\n"
                    ]
                },
                {
                    "name": "stdout",
                    "output_type": "stream",
                    "text": [
                        "Names      : ['NLP_CHEST_015']\n",
                        "Predictions: ['Chest view angle angle of view of upper chest\\n\\nChest view angle of view of']\n",
                        "Labels     : ['Chest X ray: \\r\\n\\r\\n- No obvious lung mass nor consolidation patch.\\r\\n- Normal heart size.\\r\\n- No pleural effusion. ']\n",
                        "\n",
                        "Rouge-2 score on epoch 6: {'Rouge-L-P': 0.04120748299319729, 'Rouge-L-R': 0.009491337432639118, 'Rouge-L-F': 0.009491337432639118, 'Rouge-2-P': 0.0, 'Rouge-2-R': 0.0, 'Rouge-2-F': 0.0}\n"
                    ]
                },
                {
                    "name": "stderr",
                    "output_type": "stream",
                    "text": [
                        "Training Epoch [8 / 30]: 100%|██████████| 89/89 [00:09<00:00,  9.57it/s, loss=0.876]\n",
                        "Evaluting Epoch: 8:   0%|          | 0/10 [00:00<?, ?it/s]The attention mask and the pad token id were not set. As a consequence, you may observe unexpected behavior. Please pass your input's `attention_mask` to obtain reliable results.\n",
                        "Setting `pad_token_id` to `eos_token_id`:50256 for open-end generation.\n",
                        "Evaluting Epoch: 8:  10%|█         | 1/10 [00:00<00:01,  4.55it/s]The attention mask and the pad token id were not set. As a consequence, you may observe unexpected behavior. Please pass your input's `attention_mask` to obtain reliable results.\n",
                        "Setting `pad_token_id` to `eos_token_id`:50256 for open-end generation.\n"
                    ]
                },
                {
                    "name": "stdout",
                    "output_type": "stream",
                    "text": [
                        "Names      : ['NLP_CHEST_071']\n",
                        "Predictions: ['Chest view shows:\\r\\n-\\r\\n-\\r\\n-\\r\\n-\\r']\n",
                        "Labels     : ['Chest film shows:\\r\\nImpression:\\r\\n-Bilateral lung infiltrations.\\r\\n-Suspect right lower lung patch. \\r\\n Blunting right CP angle. \\r\\n-Tortuous atherosclerotic aorta. \\r\\n-Scoliosis, DJD and osteoporosis of spine. \\r\\n Compression fracture of T12.\\r\\n Old fracture of left ribs.\\r\\n-S/P fixation in L-spine.  \\r\\n-S/P tracheostomy and NG tube.   \\r\\n']\n",
                        "\n"
                    ]
                },
                {
                    "name": "stderr",
                    "output_type": "stream",
                    "text": [
                        "Evaluting Epoch: 8:  20%|██        | 2/10 [00:00<00:01,  4.70it/s]The attention mask and the pad token id were not set. As a consequence, you may observe unexpected behavior. Please pass your input's `attention_mask` to obtain reliable results.\n",
                        "Setting `pad_token_id` to `eos_token_id`:50256 for open-end generation.\n"
                    ]
                },
                {
                    "name": "stdout",
                    "output_type": "stream",
                    "text": [
                        "Names      : ['NLP_CHEST_002']\n",
                        "Predictions: ['Chest view shows:\\r\\n-\\r\\n-\\r\\n-\\r\\n-\\r']\n",
                        "Labels     : ['Chest PA view shows: \\r\\n\\r\\nPartial atelectasis at left lower lung field. \\r\\nLeft pleural effusion.\\r\\n\\r\\nBorderline heart size. \\r\\nAtherosclerotic change of aortic knob. \\r\\n\\r\\nS/P port-A implantation via left subclavian vein. \\r\\nIntraperitoneal port catheter.\\r\\nSurgical clips at RUQ of abdomen.\\r\\n']\n",
                        "\n"
                    ]
                },
                {
                    "name": "stderr",
                    "output_type": "stream",
                    "text": [
                        "Evaluting Epoch: 8:  30%|███       | 3/10 [00:00<00:01,  4.53it/s]The attention mask and the pad token id were not set. As a consequence, you may observe unexpected behavior. Please pass your input's `attention_mask` to obtain reliable results.\n",
                        "Setting `pad_token_id` to `eos_token_id`:50256 for open-end generation.\n"
                    ]
                },
                {
                    "name": "stdout",
                    "output_type": "stream",
                    "text": [
                        "Names      : ['NLP_CHEST_004']\n",
                        "Predictions: ['Chest view shows:\\r\\n-\\r\\n-\\r\\n-\\r\\n-\\r']\n",
                        "Labels     : ['Chest PA view show: \\r\\nImpression:\\r\\n-S/P RLL wedge resection.\\u3000 \\r\\n-Bilateral lungs metastasis.\\r\\n-Left lower lung subsegmental atelectasis. \\r\\n-Increased infiltrations in both lungs.\\r\\n-Blunting right CP angle. \\r\\n-Tortuous atherosclerotic aorta.\\r\\n-Scoliosis, DJD and osteoporosis of spine. \\r\\n-Compression fracture of L1.']\n",
                        "\n"
                    ]
                },
                {
                    "name": "stderr",
                    "output_type": "stream",
                    "text": [
                        "Evaluting Epoch: 8:  40%|████      | 4/10 [00:00<00:01,  4.50it/s]The attention mask and the pad token id were not set. As a consequence, you may observe unexpected behavior. Please pass your input's `attention_mask` to obtain reliable results.\n",
                        "Setting `pad_token_id` to `eos_token_id`:50256 for open-end generation.\n"
                    ]
                },
                {
                    "name": "stdout",
                    "output_type": "stream",
                    "text": [
                        "Names      : ['NLP_CHEST_031']\n",
                        "Predictions: ['Chest view shows:\\r\\n-\\r\\n-\\r\\n-\\r\\n-\\r']\n",
                        "Labels     : ['Chest PA view:\\r\\nImpression:\\r\\n-Increased both lung markings. \\r\\n-Compatible with right lung nodules.\\r\\n-Fibrotic lesion in left upper lung.\\r\\n-Normal heart size. Atherosclerotic aorta. \\r\\n-Suspect right pleural effusion.\\r\\n-Spondylosis. R/O osteoporosis. \\r\\n-Compatible with multiple bony metastases.\\r\\n-S/P NG and endotracheal tube.\\r\\n-S/P Lt subclavian Port-A-cath. ']\n",
                        "\n"
                    ]
                },
                {
                    "name": "stderr",
                    "output_type": "stream",
                    "text": [
                        "Evaluting Epoch: 8:  50%|█████     | 5/10 [00:01<00:01,  4.51it/s]The attention mask and the pad token id were not set. As a consequence, you may observe unexpected behavior. Please pass your input's `attention_mask` to obtain reliable results.\n",
                        "Setting `pad_token_id` to `eos_token_id`:50256 for open-end generation.\n"
                    ]
                },
                {
                    "name": "stdout",
                    "output_type": "stream",
                    "text": [
                        "Names      : ['NLP_CHEST_057']\n",
                        "Predictions: ['Chest view shows:\\r\\n-\\r\\n-\\r\\n-\\r\\n-\\r']\n",
                        "Labels     : ['Chest plain film shows:\\r\\nImpression:\\r\\n-Increased infiltrations in both lungs.\\r\\n-Tortuous atherosclerotic dilated aorta.\\r\\n-Normal heart size. \\r\\n-DJD of spine. \\r\\n Old fracture of right ribs.\\r\\n-Increased both lung markings. \\r\\n S/P Lt jugular CVC insertion. \\r\\n S/P NG and endotracheal tube.\\r\\n-Susp. Lt pneumothorax. \\r\\n Suspect pneumomediastinum. \\r\\n Subcutaneous emphysema in bilateral neck.  \\r\\n-S/P bilateral chest tube insertion. ']\n",
                        "\n"
                    ]
                },
                {
                    "name": "stderr",
                    "output_type": "stream",
                    "text": [
                        "Evaluting Epoch: 8:  60%|██████    | 6/10 [00:01<00:00,  4.56it/s]The attention mask and the pad token id were not set. As a consequence, you may observe unexpected behavior. Please pass your input's `attention_mask` to obtain reliable results.\n",
                        "Setting `pad_token_id` to `eos_token_id`:50256 for open-end generation.\n"
                    ]
                },
                {
                    "name": "stdout",
                    "output_type": "stream",
                    "text": [
                        "Names      : ['NLP_CHEST_059']\n",
                        "Predictions: ['Chest view shows:\\r\\n-\\r\\n-\\r\\n-\\r\\n-\\r']\n",
                        "Labels     : ['Supine chest AP view shows: \\r\\n\\r\\nPigtail catheter at right lower chest.\\r\\nDecreased amount of right pleural effusion.\\r\\nAir in the right lower pleural space. Poor lung expansion.\\r\\nMild subcutaneous emphysema at right chest wall.\\r\\n\\r\\nRight pleural thickening.\\r\\nIll-defined masses at right perihilar region.\\r\\n\\r\\nNormal heart size. \\r\\n']\n",
                        "\n"
                    ]
                },
                {
                    "name": "stderr",
                    "output_type": "stream",
                    "text": [
                        "Evaluting Epoch: 8:  70%|███████   | 7/10 [00:01<00:00,  4.54it/s]The attention mask and the pad token id were not set. As a consequence, you may observe unexpected behavior. Please pass your input's `attention_mask` to obtain reliable results.\n",
                        "Setting `pad_token_id` to `eos_token_id`:50256 for open-end generation.\n"
                    ]
                },
                {
                    "name": "stdout",
                    "output_type": "stream",
                    "text": [
                        "Names      : ['NLP_CHEST_027']\n",
                        "Predictions: ['Chest view shows:\\r\\n-\\r\\n-\\r\\n-\\r\\n-\\r']\n",
                        "Labels     : ['Chest PA View:\\r\\nImpression: \\r\\n> Cardiomegaly with bilateral pulmonary congestion.\\r\\n> Postinflammatory fibrosis in both upper lungs.\\r\\n> Atherosclerosis of aorta.\\r\\n> Old fractures of left 5th and 6th ribs.\\r\\n> R/O osteoporosis.\\r\\n> Spondylosis of thoracolumbar spine.\\r\\n> S/P abdominal operation in RUQ.']\n",
                        "\n"
                    ]
                },
                {
                    "name": "stderr",
                    "output_type": "stream",
                    "text": [
                        "Evaluting Epoch: 8:  80%|████████  | 8/10 [00:01<00:00,  4.56it/s]The attention mask and the pad token id were not set. As a consequence, you may observe unexpected behavior. Please pass your input's `attention_mask` to obtain reliable results.\n",
                        "Setting `pad_token_id` to `eos_token_id`:50256 for open-end generation.\n"
                    ]
                },
                {
                    "name": "stdout",
                    "output_type": "stream",
                    "text": [
                        "Names      : ['NLP_CHEST_085']\n",
                        "Predictions: ['Chest view shows:\\r\\n-\\r\\n-\\r\\n-\\r\\n-\\r']\n",
                        "Labels     : ['Chest X ray: \\r\\n\\r\\n- Right pneumothorax with pleural effusion, status post drainge \\r\\n  tube placement.\\r\\n- Extensive subcutaneous emphysema from neck to right side \\r\\n  thoracic cage.\\r\\n- Increased right hilar opacity.\\r\\n- Atherosclerosis and tortuous aorta. \\r\\n- Obscured bilateral costophrenic angles. \\r\\n- Spondylosis and mild scoliosis of thoracolumbar spine. \\r\\n- OA of right glenohumeral joint.\\r\\n- Generalized osteopenia. \\r\\n']\n",
                        "\n"
                    ]
                },
                {
                    "name": "stderr",
                    "output_type": "stream",
                    "text": [
                        "Evaluting Epoch: 8:  90%|█████████ | 9/10 [00:01<00:00,  4.48it/s]The attention mask and the pad token id were not set. As a consequence, you may observe unexpected behavior. Please pass your input's `attention_mask` to obtain reliable results.\n",
                        "Setting `pad_token_id` to `eos_token_id`:50256 for open-end generation.\n"
                    ]
                },
                {
                    "name": "stdout",
                    "output_type": "stream",
                    "text": [
                        "Names      : ['NLP_CHEST_011']\n",
                        "Predictions: ['Chest view shows:\\r\\n-\\r\\n-\\r\\n-\\r\\n-\\r']\n",
                        "Labels     : [\"Chest AP view showed:\\r\\n1.s/p sternotomy and CABG.\\r\\n  Enlarged heart size with tortuous aorta.\\r\\n2.R't middle and lower lung faint patches.\\r\\n  L't lower lung consolidation.\\r\\n  L't pleural effusion.\\r\\n3.No mediastinum widening.\\r\\n4.s/p endotracheal tube and NG intubation.\\r\\n\"]\n",
                        "\n"
                    ]
                },
                {
                    "name": "stderr",
                    "output_type": "stream",
                    "text": [
                        "Evaluting Epoch: 8: 100%|██████████| 10/10 [00:02<00:00,  4.52it/s]\n"
                    ]
                },
                {
                    "name": "stdout",
                    "output_type": "stream",
                    "text": [
                        "Names      : ['NLP_CHEST_015']\n",
                        "Predictions: ['Chest view shows:\\r\\n-\\r\\n-\\r\\n-\\r\\n-\\r']\n",
                        "Labels     : ['Chest X ray: \\r\\n\\r\\n- No obvious lung mass nor consolidation patch.\\r\\n- Normal heart size.\\r\\n- No pleural effusion. ']\n",
                        "\n",
                        "Rouge-2 score on epoch 7: {'Rouge-L-P': 0.07891369047619048, 'Rouge-L-R': 0.016486239110500726, 'Rouge-L-F': 0.016486239110500726, 'Rouge-2-P': 0.004166666666666667, 'Rouge-2-R': 0.0006156156156156157, 'Rouge-2-F': 0.0006156156156156157}\n"
                    ]
                },
                {
                    "name": "stderr",
                    "output_type": "stream",
                    "text": [
                        "Training Epoch [9 / 30]: 100%|██████████| 89/89 [00:09<00:00,  9.57it/s, loss=0.815]\n",
                        "Evaluting Epoch: 9:   0%|          | 0/10 [00:00<?, ?it/s]The attention mask and the pad token id were not set. As a consequence, you may observe unexpected behavior. Please pass your input's `attention_mask` to obtain reliable results.\n",
                        "Setting `pad_token_id` to `eos_token_id`:50256 for open-end generation.\n",
                        "Evaluting Epoch: 9:  10%|█         | 1/10 [00:00<00:02,  4.40it/s]The attention mask and the pad token id were not set. As a consequence, you may observe unexpected behavior. Please pass your input's `attention_mask` to obtain reliable results.\n",
                        "Setting `pad_token_id` to `eos_token_id`:50256 for open-end generation.\n"
                    ]
                },
                {
                    "name": "stdout",
                    "output_type": "stream",
                    "text": [
                        "Names      : ['NLP_CHEST_071']\n",
                        "Predictions: ['']\n",
                        "Labels     : ['Chest film shows:\\r\\nImpression:\\r\\n-Bilateral lung infiltrations.\\r\\n-Suspect right lower lung patch. \\r\\n Blunting right CP angle. \\r\\n-Tortuous atherosclerotic aorta. \\r\\n-Scoliosis, DJD and osteoporosis of spine. \\r\\n Compression fracture of T12.\\r\\n Old fracture of left ribs.\\r\\n-S/P fixation in L-spine.  \\r\\n-S/P tracheostomy and NG tube.   \\r\\n']\n",
                        "\n"
                    ]
                },
                {
                    "name": "stderr",
                    "output_type": "stream",
                    "text": [
                        "Evaluting Epoch: 9:  20%|██        | 2/10 [00:00<00:01,  4.62it/s]The attention mask and the pad token id were not set. As a consequence, you may observe unexpected behavior. Please pass your input's `attention_mask` to obtain reliable results.\n",
                        "Setting `pad_token_id` to `eos_token_id`:50256 for open-end generation.\n"
                    ]
                },
                {
                    "name": "stdout",
                    "output_type": "stream",
                    "text": [
                        "Names      : ['NLP_CHEST_002']\n",
                        "Predictions: ['']\n",
                        "Labels     : ['Chest PA view shows: \\r\\n\\r\\nPartial atelectasis at left lower lung field. \\r\\nLeft pleural effusion.\\r\\n\\r\\nBorderline heart size. \\r\\nAtherosclerotic change of aortic knob. \\r\\n\\r\\nS/P port-A implantation via left subclavian vein. \\r\\nIntraperitoneal port catheter.\\r\\nSurgical clips at RUQ of abdomen.\\r\\n']\n",
                        "\n"
                    ]
                },
                {
                    "name": "stderr",
                    "output_type": "stream",
                    "text": [
                        "Evaluting Epoch: 9:  30%|███       | 3/10 [00:00<00:01,  4.51it/s]The attention mask and the pad token id were not set. As a consequence, you may observe unexpected behavior. Please pass your input's `attention_mask` to obtain reliable results.\n",
                        "Setting `pad_token_id` to `eos_token_id`:50256 for open-end generation.\n"
                    ]
                },
                {
                    "name": "stdout",
                    "output_type": "stream",
                    "text": [
                        "Names      : ['NLP_CHEST_004']\n",
                        "Predictions: ['']\n",
                        "Labels     : ['Chest PA view show: \\r\\nImpression:\\r\\n-S/P RLL wedge resection.\\u3000 \\r\\n-Bilateral lungs metastasis.\\r\\n-Left lower lung subsegmental atelectasis. \\r\\n-Increased infiltrations in both lungs.\\r\\n-Blunting right CP angle. \\r\\n-Tortuous atherosclerotic aorta.\\r\\n-Scoliosis, DJD and osteoporosis of spine. \\r\\n-Compression fracture of L1.']\n",
                        "\n"
                    ]
                },
                {
                    "name": "stderr",
                    "output_type": "stream",
                    "text": [
                        "Evaluting Epoch: 9:  40%|████      | 4/10 [00:00<00:01,  4.53it/s]The attention mask and the pad token id were not set. As a consequence, you may observe unexpected behavior. Please pass your input's `attention_mask` to obtain reliable results.\n",
                        "Setting `pad_token_id` to `eos_token_id`:50256 for open-end generation.\n"
                    ]
                },
                {
                    "name": "stdout",
                    "output_type": "stream",
                    "text": [
                        "Names      : ['NLP_CHEST_031']\n",
                        "Predictions: ['']\n",
                        "Labels     : ['Chest PA view:\\r\\nImpression:\\r\\n-Increased both lung markings. \\r\\n-Compatible with right lung nodules.\\r\\n-Fibrotic lesion in left upper lung.\\r\\n-Normal heart size. Atherosclerotic aorta. \\r\\n-Suspect right pleural effusion.\\r\\n-Spondylosis. R/O osteoporosis. \\r\\n-Compatible with multiple bony metastases.\\r\\n-S/P NG and endotracheal tube.\\r\\n-S/P Lt subclavian Port-A-cath. ']\n",
                        "\n"
                    ]
                },
                {
                    "name": "stderr",
                    "output_type": "stream",
                    "text": [
                        "Evaluting Epoch: 9:  50%|█████     | 5/10 [00:01<00:01,  4.53it/s]The attention mask and the pad token id were not set. As a consequence, you may observe unexpected behavior. Please pass your input's `attention_mask` to obtain reliable results.\n",
                        "Setting `pad_token_id` to `eos_token_id`:50256 for open-end generation.\n"
                    ]
                },
                {
                    "name": "stdout",
                    "output_type": "stream",
                    "text": [
                        "Names      : ['NLP_CHEST_057']\n",
                        "Predictions: ['']\n",
                        "Labels     : ['Chest plain film shows:\\r\\nImpression:\\r\\n-Increased infiltrations in both lungs.\\r\\n-Tortuous atherosclerotic dilated aorta.\\r\\n-Normal heart size. \\r\\n-DJD of spine. \\r\\n Old fracture of right ribs.\\r\\n-Increased both lung markings. \\r\\n S/P Lt jugular CVC insertion. \\r\\n S/P NG and endotracheal tube.\\r\\n-Susp. Lt pneumothorax. \\r\\n Suspect pneumomediastinum. \\r\\n Subcutaneous emphysema in bilateral neck.  \\r\\n-S/P bilateral chest tube insertion. ']\n",
                        "\n"
                    ]
                },
                {
                    "name": "stderr",
                    "output_type": "stream",
                    "text": [
                        "Evaluting Epoch: 9:  60%|██████    | 6/10 [00:01<00:00,  4.58it/s]The attention mask and the pad token id were not set. As a consequence, you may observe unexpected behavior. Please pass your input's `attention_mask` to obtain reliable results.\n",
                        "Setting `pad_token_id` to `eos_token_id`:50256 for open-end generation.\n"
                    ]
                },
                {
                    "name": "stdout",
                    "output_type": "stream",
                    "text": [
                        "Names      : ['NLP_CHEST_059']\n",
                        "Predictions: ['']\n",
                        "Labels     : ['Supine chest AP view shows: \\r\\n\\r\\nPigtail catheter at right lower chest.\\r\\nDecreased amount of right pleural effusion.\\r\\nAir in the right lower pleural space. Poor lung expansion.\\r\\nMild subcutaneous emphysema at right chest wall.\\r\\n\\r\\nRight pleural thickening.\\r\\nIll-defined masses at right perihilar region.\\r\\n\\r\\nNormal heart size. \\r\\n']\n",
                        "\n"
                    ]
                },
                {
                    "name": "stderr",
                    "output_type": "stream",
                    "text": [
                        "Evaluting Epoch: 9:  70%|███████   | 7/10 [00:01<00:00,  4.57it/s]The attention mask and the pad token id were not set. As a consequence, you may observe unexpected behavior. Please pass your input's `attention_mask` to obtain reliable results.\n",
                        "Setting `pad_token_id` to `eos_token_id`:50256 for open-end generation.\n"
                    ]
                },
                {
                    "name": "stdout",
                    "output_type": "stream",
                    "text": [
                        "Names      : ['NLP_CHEST_027']\n",
                        "Predictions: ['']\n",
                        "Labels     : ['Chest PA View:\\r\\nImpression: \\r\\n> Cardiomegaly with bilateral pulmonary congestion.\\r\\n> Postinflammatory fibrosis in both upper lungs.\\r\\n> Atherosclerosis of aorta.\\r\\n> Old fractures of left 5th and 6th ribs.\\r\\n> R/O osteoporosis.\\r\\n> Spondylosis of thoracolumbar spine.\\r\\n> S/P abdominal operation in RUQ.']\n",
                        "\n"
                    ]
                },
                {
                    "name": "stderr",
                    "output_type": "stream",
                    "text": [
                        "Evaluting Epoch: 9:  80%|████████  | 8/10 [00:01<00:00,  4.58it/s]The attention mask and the pad token id were not set. As a consequence, you may observe unexpected behavior. Please pass your input's `attention_mask` to obtain reliable results.\n",
                        "Setting `pad_token_id` to `eos_token_id`:50256 for open-end generation.\n"
                    ]
                },
                {
                    "name": "stdout",
                    "output_type": "stream",
                    "text": [
                        "Names      : ['NLP_CHEST_085']\n",
                        "Predictions: ['']\n",
                        "Labels     : ['Chest X ray: \\r\\n\\r\\n- Right pneumothorax with pleural effusion, status post drainge \\r\\n  tube placement.\\r\\n- Extensive subcutaneous emphysema from neck to right side \\r\\n  thoracic cage.\\r\\n- Increased right hilar opacity.\\r\\n- Atherosclerosis and tortuous aorta. \\r\\n- Obscured bilateral costophrenic angles. \\r\\n- Spondylosis and mild scoliosis of thoracolumbar spine. \\r\\n- OA of right glenohumeral joint.\\r\\n- Generalized osteopenia. \\r\\n']\n",
                        "\n"
                    ]
                },
                {
                    "name": "stderr",
                    "output_type": "stream",
                    "text": [
                        "Evaluting Epoch: 9:  90%|█████████ | 9/10 [00:01<00:00,  4.49it/s]The attention mask and the pad token id were not set. As a consequence, you may observe unexpected behavior. Please pass your input's `attention_mask` to obtain reliable results.\n",
                        "Setting `pad_token_id` to `eos_token_id`:50256 for open-end generation.\n"
                    ]
                },
                {
                    "name": "stdout",
                    "output_type": "stream",
                    "text": [
                        "Names      : ['NLP_CHEST_011']\n",
                        "Predictions: ['']\n",
                        "Labels     : [\"Chest AP view showed:\\r\\n1.s/p sternotomy and CABG.\\r\\n  Enlarged heart size with tortuous aorta.\\r\\n2.R't middle and lower lung faint patches.\\r\\n  L't lower lung consolidation.\\r\\n  L't pleural effusion.\\r\\n3.No mediastinum widening.\\r\\n4.s/p endotracheal tube and NG intubation.\\r\\n\"]\n",
                        "\n"
                    ]
                },
                {
                    "name": "stderr",
                    "output_type": "stream",
                    "text": [
                        "Evaluting Epoch: 9: 100%|██████████| 10/10 [00:02<00:00,  4.52it/s]\n"
                    ]
                },
                {
                    "name": "stdout",
                    "output_type": "stream",
                    "text": [
                        "Names      : ['NLP_CHEST_015']\n",
                        "Predictions: ['']\n",
                        "Labels     : ['Chest X ray: \\r\\n\\r\\n- No obvious lung mass nor consolidation patch.\\r\\n- Normal heart size.\\r\\n- No pleural effusion. ']\n",
                        "\n",
                        "Rouge-2 score on epoch 8: {'Rouge-L-P': 0.07014550264550265, 'Rouge-L-R': 0.014654434764889533, 'Rouge-L-F': 0.014654434764889533, 'Rouge-2-P': 0.0037037037037037034, 'Rouge-2-R': 0.000547213880547214, 'Rouge-2-F': 0.000547213880547214}\n"
                    ]
                },
                {
                    "name": "stderr",
                    "output_type": "stream",
                    "text": [
                        "Training Epoch [10 / 30]: 100%|██████████| 89/89 [00:09<00:00,  9.62it/s, loss=0.764]\n",
                        "Evaluting Epoch: 10:   0%|          | 0/10 [00:00<?, ?it/s]The attention mask and the pad token id were not set. As a consequence, you may observe unexpected behavior. Please pass your input's `attention_mask` to obtain reliable results.\n",
                        "Setting `pad_token_id` to `eos_token_id`:50256 for open-end generation.\n",
                        "Evaluting Epoch: 10:  10%|█         | 1/10 [00:00<00:02,  4.41it/s]The attention mask and the pad token id were not set. As a consequence, you may observe unexpected behavior. Please pass your input's `attention_mask` to obtain reliable results.\n",
                        "Setting `pad_token_id` to `eos_token_id`:50256 for open-end generation.\n"
                    ]
                },
                {
                    "name": "stdout",
                    "output_type": "stream",
                    "text": [
                        "Names      : ['NLP_CHEST_071']\n",
                        "Predictions: ['Chest plain film shows:\\r\\n-\\r\\n-\\r\\n-\\r\\n-']\n",
                        "Labels     : ['Chest film shows:\\r\\nImpression:\\r\\n-Bilateral lung infiltrations.\\r\\n-Suspect right lower lung patch. \\r\\n Blunting right CP angle. \\r\\n-Tortuous atherosclerotic aorta. \\r\\n-Scoliosis, DJD and osteoporosis of spine. \\r\\n Compression fracture of T12.\\r\\n Old fracture of left ribs.\\r\\n-S/P fixation in L-spine.  \\r\\n-S/P tracheostomy and NG tube.   \\r\\n']\n",
                        "\n"
                    ]
                },
                {
                    "name": "stderr",
                    "output_type": "stream",
                    "text": [
                        "Evaluting Epoch: 10:  20%|██        | 2/10 [00:00<00:01,  4.61it/s]The attention mask and the pad token id were not set. As a consequence, you may observe unexpected behavior. Please pass your input's `attention_mask` to obtain reliable results.\n",
                        "Setting `pad_token_id` to `eos_token_id`:50256 for open-end generation.\n"
                    ]
                },
                {
                    "name": "stdout",
                    "output_type": "stream",
                    "text": [
                        "Names      : ['NLP_CHEST_002']\n",
                        "Predictions: ['Chest plain film shows:\\r\\n-\\r\\n-\\r\\n-\\r\\n-']\n",
                        "Labels     : ['Chest PA view shows: \\r\\n\\r\\nPartial atelectasis at left lower lung field. \\r\\nLeft pleural effusion.\\r\\n\\r\\nBorderline heart size. \\r\\nAtherosclerotic change of aortic knob. \\r\\n\\r\\nS/P port-A implantation via left subclavian vein. \\r\\nIntraperitoneal port catheter.\\r\\nSurgical clips at RUQ of abdomen.\\r\\n']\n",
                        "\n"
                    ]
                },
                {
                    "name": "stderr",
                    "output_type": "stream",
                    "text": [
                        "Evaluting Epoch: 10:  30%|███       | 3/10 [00:00<00:01,  4.50it/s]The attention mask and the pad token id were not set. As a consequence, you may observe unexpected behavior. Please pass your input's `attention_mask` to obtain reliable results.\n",
                        "Setting `pad_token_id` to `eos_token_id`:50256 for open-end generation.\n"
                    ]
                },
                {
                    "name": "stdout",
                    "output_type": "stream",
                    "text": [
                        "Names      : ['NLP_CHEST_004']\n",
                        "Predictions: ['Chest plain film shows:\\r\\n-\\r\\n-\\r\\n-\\r\\n-']\n",
                        "Labels     : ['Chest PA view show: \\r\\nImpression:\\r\\n-S/P RLL wedge resection.\\u3000 \\r\\n-Bilateral lungs metastasis.\\r\\n-Left lower lung subsegmental atelectasis. \\r\\n-Increased infiltrations in both lungs.\\r\\n-Blunting right CP angle. \\r\\n-Tortuous atherosclerotic aorta.\\r\\n-Scoliosis, DJD and osteoporosis of spine. \\r\\n-Compression fracture of L1.']\n",
                        "\n"
                    ]
                },
                {
                    "name": "stderr",
                    "output_type": "stream",
                    "text": [
                        "Evaluting Epoch: 10:  40%|████      | 4/10 [00:00<00:01,  4.52it/s]The attention mask and the pad token id were not set. As a consequence, you may observe unexpected behavior. Please pass your input's `attention_mask` to obtain reliable results.\n",
                        "Setting `pad_token_id` to `eos_token_id`:50256 for open-end generation.\n"
                    ]
                },
                {
                    "name": "stdout",
                    "output_type": "stream",
                    "text": [
                        "Names      : ['NLP_CHEST_031']\n",
                        "Predictions: ['Chest plain film shows:\\r\\n-\\r\\n-\\r\\n-\\r\\n-']\n",
                        "Labels     : ['Chest PA view:\\r\\nImpression:\\r\\n-Increased both lung markings. \\r\\n-Compatible with right lung nodules.\\r\\n-Fibrotic lesion in left upper lung.\\r\\n-Normal heart size. Atherosclerotic aorta. \\r\\n-Suspect right pleural effusion.\\r\\n-Spondylosis. R/O osteoporosis. \\r\\n-Compatible with multiple bony metastases.\\r\\n-S/P NG and endotracheal tube.\\r\\n-S/P Lt subclavian Port-A-cath. ']\n",
                        "\n"
                    ]
                },
                {
                    "name": "stderr",
                    "output_type": "stream",
                    "text": [
                        "Evaluting Epoch: 10:  50%|█████     | 5/10 [00:01<00:01,  4.52it/s]The attention mask and the pad token id were not set. As a consequence, you may observe unexpected behavior. Please pass your input's `attention_mask` to obtain reliable results.\n",
                        "Setting `pad_token_id` to `eos_token_id`:50256 for open-end generation.\n"
                    ]
                },
                {
                    "name": "stdout",
                    "output_type": "stream",
                    "text": [
                        "Names      : ['NLP_CHEST_057']\n",
                        "Predictions: ['Chest plain film shows:\\r\\n-\\r\\n-\\r\\n-\\r\\n-']\n",
                        "Labels     : ['Chest plain film shows:\\r\\nImpression:\\r\\n-Increased infiltrations in both lungs.\\r\\n-Tortuous atherosclerotic dilated aorta.\\r\\n-Normal heart size. \\r\\n-DJD of spine. \\r\\n Old fracture of right ribs.\\r\\n-Increased both lung markings. \\r\\n S/P Lt jugular CVC insertion. \\r\\n S/P NG and endotracheal tube.\\r\\n-Susp. Lt pneumothorax. \\r\\n Suspect pneumomediastinum. \\r\\n Subcutaneous emphysema in bilateral neck.  \\r\\n-S/P bilateral chest tube insertion. ']\n",
                        "\n"
                    ]
                },
                {
                    "name": "stderr",
                    "output_type": "stream",
                    "text": [
                        "Evaluting Epoch: 10:  60%|██████    | 6/10 [00:01<00:00,  4.57it/s]The attention mask and the pad token id were not set. As a consequence, you may observe unexpected behavior. Please pass your input's `attention_mask` to obtain reliable results.\n",
                        "Setting `pad_token_id` to `eos_token_id`:50256 for open-end generation.\n"
                    ]
                },
                {
                    "name": "stdout",
                    "output_type": "stream",
                    "text": [
                        "Names      : ['NLP_CHEST_059']\n",
                        "Predictions: ['Chest plain film shows:\\r\\n-\\r\\n-\\r\\n-\\r\\n-']\n",
                        "Labels     : ['Supine chest AP view shows: \\r\\n\\r\\nPigtail catheter at right lower chest.\\r\\nDecreased amount of right pleural effusion.\\r\\nAir in the right lower pleural space. Poor lung expansion.\\r\\nMild subcutaneous emphysema at right chest wall.\\r\\n\\r\\nRight pleural thickening.\\r\\nIll-defined masses at right perihilar region.\\r\\n\\r\\nNormal heart size. \\r\\n']\n",
                        "\n"
                    ]
                },
                {
                    "name": "stderr",
                    "output_type": "stream",
                    "text": [
                        "Evaluting Epoch: 10:  70%|███████   | 7/10 [00:01<00:00,  4.55it/s]The attention mask and the pad token id were not set. As a consequence, you may observe unexpected behavior. Please pass your input's `attention_mask` to obtain reliable results.\n",
                        "Setting `pad_token_id` to `eos_token_id`:50256 for open-end generation.\n"
                    ]
                },
                {
                    "name": "stdout",
                    "output_type": "stream",
                    "text": [
                        "Names      : ['NLP_CHEST_027']\n",
                        "Predictions: ['Chest plain film shows:\\r\\n-\\r\\n-\\r\\n-\\r\\n-']\n",
                        "Labels     : ['Chest PA View:\\r\\nImpression: \\r\\n> Cardiomegaly with bilateral pulmonary congestion.\\r\\n> Postinflammatory fibrosis in both upper lungs.\\r\\n> Atherosclerosis of aorta.\\r\\n> Old fractures of left 5th and 6th ribs.\\r\\n> R/O osteoporosis.\\r\\n> Spondylosis of thoracolumbar spine.\\r\\n> S/P abdominal operation in RUQ.']\n",
                        "\n"
                    ]
                },
                {
                    "name": "stderr",
                    "output_type": "stream",
                    "text": [
                        "Evaluting Epoch: 10:  80%|████████  | 8/10 [00:01<00:00,  4.56it/s]The attention mask and the pad token id were not set. As a consequence, you may observe unexpected behavior. Please pass your input's `attention_mask` to obtain reliable results.\n",
                        "Setting `pad_token_id` to `eos_token_id`:50256 for open-end generation.\n"
                    ]
                },
                {
                    "name": "stdout",
                    "output_type": "stream",
                    "text": [
                        "Names      : ['NLP_CHEST_085']\n",
                        "Predictions: ['Chest plain film shows:\\r\\n-\\r\\n-\\r\\n-\\r\\n-']\n",
                        "Labels     : ['Chest X ray: \\r\\n\\r\\n- Right pneumothorax with pleural effusion, status post drainge \\r\\n  tube placement.\\r\\n- Extensive subcutaneous emphysema from neck to right side \\r\\n  thoracic cage.\\r\\n- Increased right hilar opacity.\\r\\n- Atherosclerosis and tortuous aorta. \\r\\n- Obscured bilateral costophrenic angles. \\r\\n- Spondylosis and mild scoliosis of thoracolumbar spine. \\r\\n- OA of right glenohumeral joint.\\r\\n- Generalized osteopenia. \\r\\n']\n",
                        "\n"
                    ]
                },
                {
                    "name": "stderr",
                    "output_type": "stream",
                    "text": [
                        "Evaluting Epoch: 10:  90%|█████████ | 9/10 [00:01<00:00,  4.50it/s]The attention mask and the pad token id were not set. As a consequence, you may observe unexpected behavior. Please pass your input's `attention_mask` to obtain reliable results.\n",
                        "Setting `pad_token_id` to `eos_token_id`:50256 for open-end generation.\n"
                    ]
                },
                {
                    "name": "stdout",
                    "output_type": "stream",
                    "text": [
                        "Names      : ['NLP_CHEST_011']\n",
                        "Predictions: ['Chest plain film shows:\\r\\n-\\r\\n-\\r\\n-\\r\\n-']\n",
                        "Labels     : [\"Chest AP view showed:\\r\\n1.s/p sternotomy and CABG.\\r\\n  Enlarged heart size with tortuous aorta.\\r\\n2.R't middle and lower lung faint patches.\\r\\n  L't lower lung consolidation.\\r\\n  L't pleural effusion.\\r\\n3.No mediastinum widening.\\r\\n4.s/p endotracheal tube and NG intubation.\\r\\n\"]\n",
                        "\n"
                    ]
                },
                {
                    "name": "stderr",
                    "output_type": "stream",
                    "text": [
                        "Evaluting Epoch: 10: 100%|██████████| 10/10 [00:02<00:00,  4.53it/s]\n"
                    ]
                },
                {
                    "name": "stdout",
                    "output_type": "stream",
                    "text": [
                        "Names      : ['NLP_CHEST_015']\n",
                        "Predictions: ['Chest plain film shows:\\r\\n-\\r\\n-\\r\\n-\\r\\n-']\n",
                        "Labels     : ['Chest X ray: \\r\\n\\r\\n- No obvious lung mass nor consolidation patch.\\r\\n- Normal heart size.\\r\\n- No pleural effusion. ']\n",
                        "\n",
                        "Rouge-2 score on epoch 9: {'Rouge-L-P': 0.09188095238095238, 'Rouge-L-R': 0.019329745158093836, 'Rouge-L-F': 0.019329745158093836, 'Rouge-2-P': 0.009047619047619047, 'Rouge-2-R': 0.001296625466436787, 'Rouge-2-F': 0.001296625466436787}\n"
                    ]
                },
                {
                    "name": "stderr",
                    "output_type": "stream",
                    "text": [
                        "Training Epoch [11 / 30]: 100%|██████████| 89/89 [00:09<00:00,  9.42it/s, loss=0.7]  \n",
                        "Evaluting Epoch: 11:   0%|          | 0/10 [00:00<?, ?it/s]The attention mask and the pad token id were not set. As a consequence, you may observe unexpected behavior. Please pass your input's `attention_mask` to obtain reliable results.\n",
                        "Setting `pad_token_id` to `eos_token_id`:50256 for open-end generation.\n",
                        "Evaluting Epoch: 11:  10%|█         | 1/10 [00:00<00:02,  4.42it/s]The attention mask and the pad token id were not set. As a consequence, you may observe unexpected behavior. Please pass your input's `attention_mask` to obtain reliable results.\n",
                        "Setting `pad_token_id` to `eos_token_id`:50256 for open-end generation.\n"
                    ]
                },
                {
                    "name": "stdout",
                    "output_type": "stream",
                    "text": [
                        "Names      : ['NLP_CHEST_071']\n",
                        "Predictions: ['Chest plain film shows:\\r\\n-\\r\\n-\\r\\n-\\r\\n-']\n",
                        "Labels     : ['Chest film shows:\\r\\nImpression:\\r\\n-Bilateral lung infiltrations.\\r\\n-Suspect right lower lung patch. \\r\\n Blunting right CP angle. \\r\\n-Tortuous atherosclerotic aorta. \\r\\n-Scoliosis, DJD and osteoporosis of spine. \\r\\n Compression fracture of T12.\\r\\n Old fracture of left ribs.\\r\\n-S/P fixation in L-spine.  \\r\\n-S/P tracheostomy and NG tube.   \\r\\n']\n",
                        "\n"
                    ]
                },
                {
                    "name": "stderr",
                    "output_type": "stream",
                    "text": [
                        "Evaluting Epoch: 11:  20%|██        | 2/10 [00:00<00:01,  4.64it/s]The attention mask and the pad token id were not set. As a consequence, you may observe unexpected behavior. Please pass your input's `attention_mask` to obtain reliable results.\n",
                        "Setting `pad_token_id` to `eos_token_id`:50256 for open-end generation.\n"
                    ]
                },
                {
                    "name": "stdout",
                    "output_type": "stream",
                    "text": [
                        "Names      : ['NLP_CHEST_002']\n",
                        "Predictions: ['Chest plain film shows:\\r\\n-\\r\\n-\\r\\n-\\r\\n-']\n",
                        "Labels     : ['Chest PA view shows: \\r\\n\\r\\nPartial atelectasis at left lower lung field. \\r\\nLeft pleural effusion.\\r\\n\\r\\nBorderline heart size. \\r\\nAtherosclerotic change of aortic knob. \\r\\n\\r\\nS/P port-A implantation via left subclavian vein. \\r\\nIntraperitoneal port catheter.\\r\\nSurgical clips at RUQ of abdomen.\\r\\n']\n",
                        "\n"
                    ]
                },
                {
                    "name": "stderr",
                    "output_type": "stream",
                    "text": [
                        "Evaluting Epoch: 11:  30%|███       | 3/10 [00:00<00:01,  4.50it/s]The attention mask and the pad token id were not set. As a consequence, you may observe unexpected behavior. Please pass your input's `attention_mask` to obtain reliable results.\n",
                        "Setting `pad_token_id` to `eos_token_id`:50256 for open-end generation.\n"
                    ]
                },
                {
                    "name": "stdout",
                    "output_type": "stream",
                    "text": [
                        "Names      : ['NLP_CHEST_004']\n",
                        "Predictions: ['Chest plain film shows:\\r\\n-\\r\\n-\\r\\n-\\r\\n-']\n",
                        "Labels     : ['Chest PA view show: \\r\\nImpression:\\r\\n-S/P RLL wedge resection.\\u3000 \\r\\n-Bilateral lungs metastasis.\\r\\n-Left lower lung subsegmental atelectasis. \\r\\n-Increased infiltrations in both lungs.\\r\\n-Blunting right CP angle. \\r\\n-Tortuous atherosclerotic aorta.\\r\\n-Scoliosis, DJD and osteoporosis of spine. \\r\\n-Compression fracture of L1.']\n",
                        "\n"
                    ]
                },
                {
                    "name": "stderr",
                    "output_type": "stream",
                    "text": [
                        "Evaluting Epoch: 11:  40%|████      | 4/10 [00:00<00:01,  4.50it/s]The attention mask and the pad token id were not set. As a consequence, you may observe unexpected behavior. Please pass your input's `attention_mask` to obtain reliable results.\n",
                        "Setting `pad_token_id` to `eos_token_id`:50256 for open-end generation.\n"
                    ]
                },
                {
                    "name": "stdout",
                    "output_type": "stream",
                    "text": [
                        "Names      : ['NLP_CHEST_031']\n",
                        "Predictions: ['Chest plain film shows:\\r\\n-\\r\\n-\\r\\n-\\r\\n-']\n",
                        "Labels     : ['Chest PA view:\\r\\nImpression:\\r\\n-Increased both lung markings. \\r\\n-Compatible with right lung nodules.\\r\\n-Fibrotic lesion in left upper lung.\\r\\n-Normal heart size. Atherosclerotic aorta. \\r\\n-Suspect right pleural effusion.\\r\\n-Spondylosis. R/O osteoporosis. \\r\\n-Compatible with multiple bony metastases.\\r\\n-S/P NG and endotracheal tube.\\r\\n-S/P Lt subclavian Port-A-cath. ']\n",
                        "\n"
                    ]
                },
                {
                    "name": "stderr",
                    "output_type": "stream",
                    "text": [
                        "Evaluting Epoch: 11:  50%|█████     | 5/10 [00:01<00:01,  4.49it/s]The attention mask and the pad token id were not set. As a consequence, you may observe unexpected behavior. Please pass your input's `attention_mask` to obtain reliable results.\n",
                        "Setting `pad_token_id` to `eos_token_id`:50256 for open-end generation.\n"
                    ]
                },
                {
                    "name": "stdout",
                    "output_type": "stream",
                    "text": [
                        "Names      : ['NLP_CHEST_057']\n",
                        "Predictions: ['Chest plain film shows:\\r\\n-\\r\\n-\\r\\n-\\r\\n-']\n",
                        "Labels     : ['Chest plain film shows:\\r\\nImpression:\\r\\n-Increased infiltrations in both lungs.\\r\\n-Tortuous atherosclerotic dilated aorta.\\r\\n-Normal heart size. \\r\\n-DJD of spine. \\r\\n Old fracture of right ribs.\\r\\n-Increased both lung markings. \\r\\n S/P Lt jugular CVC insertion. \\r\\n S/P NG and endotracheal tube.\\r\\n-Susp. Lt pneumothorax. \\r\\n Suspect pneumomediastinum. \\r\\n Subcutaneous emphysema in bilateral neck.  \\r\\n-S/P bilateral chest tube insertion. ']\n",
                        "\n"
                    ]
                },
                {
                    "name": "stderr",
                    "output_type": "stream",
                    "text": [
                        "Evaluting Epoch: 11:  60%|██████    | 6/10 [00:01<00:00,  4.53it/s]The attention mask and the pad token id were not set. As a consequence, you may observe unexpected behavior. Please pass your input's `attention_mask` to obtain reliable results.\n",
                        "Setting `pad_token_id` to `eos_token_id`:50256 for open-end generation.\n"
                    ]
                },
                {
                    "name": "stdout",
                    "output_type": "stream",
                    "text": [
                        "Names      : ['NLP_CHEST_059']\n",
                        "Predictions: ['Chest plain film shows:\\r\\n-\\r\\n-\\r\\n-\\r\\n-']\n",
                        "Labels     : ['Supine chest AP view shows: \\r\\n\\r\\nPigtail catheter at right lower chest.\\r\\nDecreased amount of right pleural effusion.\\r\\nAir in the right lower pleural space. Poor lung expansion.\\r\\nMild subcutaneous emphysema at right chest wall.\\r\\n\\r\\nRight pleural thickening.\\r\\nIll-defined masses at right perihilar region.\\r\\n\\r\\nNormal heart size. \\r\\n']\n",
                        "\n"
                    ]
                },
                {
                    "name": "stderr",
                    "output_type": "stream",
                    "text": [
                        "Evaluting Epoch: 11:  70%|███████   | 7/10 [00:01<00:00,  4.52it/s]The attention mask and the pad token id were not set. As a consequence, you may observe unexpected behavior. Please pass your input's `attention_mask` to obtain reliable results.\n",
                        "Setting `pad_token_id` to `eos_token_id`:50256 for open-end generation.\n"
                    ]
                },
                {
                    "name": "stdout",
                    "output_type": "stream",
                    "text": [
                        "Names      : ['NLP_CHEST_027']\n",
                        "Predictions: ['Chest plain film shows:\\r\\n-\\r\\n-\\r\\n-\\r\\n-']\n",
                        "Labels     : ['Chest PA View:\\r\\nImpression: \\r\\n> Cardiomegaly with bilateral pulmonary congestion.\\r\\n> Postinflammatory fibrosis in both upper lungs.\\r\\n> Atherosclerosis of aorta.\\r\\n> Old fractures of left 5th and 6th ribs.\\r\\n> R/O osteoporosis.\\r\\n> Spondylosis of thoracolumbar spine.\\r\\n> S/P abdominal operation in RUQ.']\n",
                        "\n"
                    ]
                },
                {
                    "name": "stderr",
                    "output_type": "stream",
                    "text": [
                        "Evaluting Epoch: 11:  80%|████████  | 8/10 [00:01<00:00,  4.52it/s]The attention mask and the pad token id were not set. As a consequence, you may observe unexpected behavior. Please pass your input's `attention_mask` to obtain reliable results.\n",
                        "Setting `pad_token_id` to `eos_token_id`:50256 for open-end generation.\n"
                    ]
                },
                {
                    "name": "stdout",
                    "output_type": "stream",
                    "text": [
                        "Names      : ['NLP_CHEST_085']\n",
                        "Predictions: ['Chest plain film shows:\\r\\n-\\r\\n-\\r\\n-\\r\\n-']\n",
                        "Labels     : ['Chest X ray: \\r\\n\\r\\n- Right pneumothorax with pleural effusion, status post drainge \\r\\n  tube placement.\\r\\n- Extensive subcutaneous emphysema from neck to right side \\r\\n  thoracic cage.\\r\\n- Increased right hilar opacity.\\r\\n- Atherosclerosis and tortuous aorta. \\r\\n- Obscured bilateral costophrenic angles. \\r\\n- Spondylosis and mild scoliosis of thoracolumbar spine. \\r\\n- OA of right glenohumeral joint.\\r\\n- Generalized osteopenia. \\r\\n']\n",
                        "\n"
                    ]
                },
                {
                    "name": "stderr",
                    "output_type": "stream",
                    "text": [
                        "Evaluting Epoch: 11:  90%|█████████ | 9/10 [00:02<00:00,  4.46it/s]The attention mask and the pad token id were not set. As a consequence, you may observe unexpected behavior. Please pass your input's `attention_mask` to obtain reliable results.\n",
                        "Setting `pad_token_id` to `eos_token_id`:50256 for open-end generation.\n"
                    ]
                },
                {
                    "name": "stdout",
                    "output_type": "stream",
                    "text": [
                        "Names      : ['NLP_CHEST_011']\n",
                        "Predictions: ['Chest plain film shows:\\r\\n-\\r\\n-\\r\\n-\\r\\n-']\n",
                        "Labels     : [\"Chest AP view showed:\\r\\n1.s/p sternotomy and CABG.\\r\\n  Enlarged heart size with tortuous aorta.\\r\\n2.R't middle and lower lung faint patches.\\r\\n  L't lower lung consolidation.\\r\\n  L't pleural effusion.\\r\\n3.No mediastinum widening.\\r\\n4.s/p endotracheal tube and NG intubation.\\r\\n\"]\n",
                        "\n"
                    ]
                },
                {
                    "name": "stderr",
                    "output_type": "stream",
                    "text": [
                        "Evaluting Epoch: 11: 100%|██████████| 10/10 [00:02<00:00,  4.50it/s]\n"
                    ]
                },
                {
                    "name": "stdout",
                    "output_type": "stream",
                    "text": [
                        "Names      : ['NLP_CHEST_015']\n",
                        "Predictions: ['Chest plain film shows:\\r\\n-\\r\\n-\\r\\n-\\r\\n-']\n",
                        "Labels     : ['Chest X ray: \\r\\n\\r\\n- No obvious lung mass nor consolidation patch.\\r\\n- Normal heart size.\\r\\n- No pleural effusion. ']\n",
                        "\n",
                        "Rouge-2 score on epoch 10: {'Rouge-L-P': 0.10966450216450217, 'Rouge-L-R': 0.023154999116170083, 'Rouge-L-F': 0.023154999116170083, 'Rouge-2-P': 0.013419913419913419, 'Rouge-2-R': 0.001909780400346438, 'Rouge-2-F': 0.001909780400346438}\n"
                    ]
                },
                {
                    "name": "stderr",
                    "output_type": "stream",
                    "text": [
                        "Training Epoch [12 / 30]: 100%|██████████| 89/89 [00:09<00:00,  9.51it/s, loss=0.659]\n",
                        "Evaluting Epoch: 12:   0%|          | 0/10 [00:00<?, ?it/s]The attention mask and the pad token id were not set. As a consequence, you may observe unexpected behavior. Please pass your input's `attention_mask` to obtain reliable results.\n",
                        "Setting `pad_token_id` to `eos_token_id`:50256 for open-end generation.\n",
                        "Evaluting Epoch: 12:  10%|█         | 1/10 [00:00<00:02,  4.35it/s]The attention mask and the pad token id were not set. As a consequence, you may observe unexpected behavior. Please pass your input's `attention_mask` to obtain reliable results.\n",
                        "Setting `pad_token_id` to `eos_token_id`:50256 for open-end generation.\n"
                    ]
                },
                {
                    "name": "stdout",
                    "output_type": "stream",
                    "text": [
                        "Names      : ['NLP_CHEST_071']\n",
                        "Predictions: ['Chest plain film shows:\\r\\n-\\r\\n-\\r\\n-\\r\\n-']\n",
                        "Labels     : ['Chest film shows:\\r\\nImpression:\\r\\n-Bilateral lung infiltrations.\\r\\n-Suspect right lower lung patch. \\r\\n Blunting right CP angle. \\r\\n-Tortuous atherosclerotic aorta. \\r\\n-Scoliosis, DJD and osteoporosis of spine. \\r\\n Compression fracture of T12.\\r\\n Old fracture of left ribs.\\r\\n-S/P fixation in L-spine.  \\r\\n-S/P tracheostomy and NG tube.   \\r\\n']\n",
                        "\n"
                    ]
                },
                {
                    "name": "stderr",
                    "output_type": "stream",
                    "text": [
                        "Evaluting Epoch: 12:  20%|██        | 2/10 [00:00<00:01,  4.61it/s]The attention mask and the pad token id were not set. As a consequence, you may observe unexpected behavior. Please pass your input's `attention_mask` to obtain reliable results.\n",
                        "Setting `pad_token_id` to `eos_token_id`:50256 for open-end generation.\n"
                    ]
                },
                {
                    "name": "stdout",
                    "output_type": "stream",
                    "text": [
                        "Names      : ['NLP_CHEST_002']\n",
                        "Predictions: ['Chest plain film shows:\\r\\n-\\r\\n-\\r\\n-\\r\\n-']\n",
                        "Labels     : ['Chest PA view shows: \\r\\n\\r\\nPartial atelectasis at left lower lung field. \\r\\nLeft pleural effusion.\\r\\n\\r\\nBorderline heart size. \\r\\nAtherosclerotic change of aortic knob. \\r\\n\\r\\nS/P port-A implantation via left subclavian vein. \\r\\nIntraperitoneal port catheter.\\r\\nSurgical clips at RUQ of abdomen.\\r\\n']\n",
                        "\n"
                    ]
                },
                {
                    "name": "stderr",
                    "output_type": "stream",
                    "text": [
                        "Evaluting Epoch: 12:  30%|███       | 3/10 [00:00<00:01,  4.50it/s]The attention mask and the pad token id were not set. As a consequence, you may observe unexpected behavior. Please pass your input's `attention_mask` to obtain reliable results.\n",
                        "Setting `pad_token_id` to `eos_token_id`:50256 for open-end generation.\n"
                    ]
                },
                {
                    "name": "stdout",
                    "output_type": "stream",
                    "text": [
                        "Names      : ['NLP_CHEST_004']\n",
                        "Predictions: ['Chest plain film shows:\\r\\n-\\r\\n-\\r\\n-\\r\\n-']\n",
                        "Labels     : ['Chest PA view show: \\r\\nImpression:\\r\\n-S/P RLL wedge resection.\\u3000 \\r\\n-Bilateral lungs metastasis.\\r\\n-Left lower lung subsegmental atelectasis. \\r\\n-Increased infiltrations in both lungs.\\r\\n-Blunting right CP angle. \\r\\n-Tortuous atherosclerotic aorta.\\r\\n-Scoliosis, DJD and osteoporosis of spine. \\r\\n-Compression fracture of L1.']\n",
                        "\n"
                    ]
                },
                {
                    "name": "stderr",
                    "output_type": "stream",
                    "text": [
                        "Evaluting Epoch: 12:  40%|████      | 4/10 [00:00<00:01,  4.51it/s]The attention mask and the pad token id were not set. As a consequence, you may observe unexpected behavior. Please pass your input's `attention_mask` to obtain reliable results.\n",
                        "Setting `pad_token_id` to `eos_token_id`:50256 for open-end generation.\n"
                    ]
                },
                {
                    "name": "stdout",
                    "output_type": "stream",
                    "text": [
                        "Names      : ['NLP_CHEST_031']\n",
                        "Predictions: ['Chest plain film shows:\\r\\n-\\r\\n-\\r\\n-\\r\\n-']\n",
                        "Labels     : ['Chest PA view:\\r\\nImpression:\\r\\n-Increased both lung markings. \\r\\n-Compatible with right lung nodules.\\r\\n-Fibrotic lesion in left upper lung.\\r\\n-Normal heart size. Atherosclerotic aorta. \\r\\n-Suspect right pleural effusion.\\r\\n-Spondylosis. R/O osteoporosis. \\r\\n-Compatible with multiple bony metastases.\\r\\n-S/P NG and endotracheal tube.\\r\\n-S/P Lt subclavian Port-A-cath. ']\n",
                        "\n"
                    ]
                },
                {
                    "name": "stderr",
                    "output_type": "stream",
                    "text": [
                        "Evaluting Epoch: 12:  50%|█████     | 5/10 [00:01<00:01,  4.52it/s]The attention mask and the pad token id were not set. As a consequence, you may observe unexpected behavior. Please pass your input's `attention_mask` to obtain reliable results.\n",
                        "Setting `pad_token_id` to `eos_token_id`:50256 for open-end generation.\n"
                    ]
                },
                {
                    "name": "stdout",
                    "output_type": "stream",
                    "text": [
                        "Names      : ['NLP_CHEST_057']\n",
                        "Predictions: ['Chest plain film shows:\\r\\n-\\r\\n-\\r\\n-\\r\\n-']\n",
                        "Labels     : ['Chest plain film shows:\\r\\nImpression:\\r\\n-Increased infiltrations in both lungs.\\r\\n-Tortuous atherosclerotic dilated aorta.\\r\\n-Normal heart size. \\r\\n-DJD of spine. \\r\\n Old fracture of right ribs.\\r\\n-Increased both lung markings. \\r\\n S/P Lt jugular CVC insertion. \\r\\n S/P NG and endotracheal tube.\\r\\n-Susp. Lt pneumothorax. \\r\\n Suspect pneumomediastinum. \\r\\n Subcutaneous emphysema in bilateral neck.  \\r\\n-S/P bilateral chest tube insertion. ']\n",
                        "\n"
                    ]
                },
                {
                    "name": "stderr",
                    "output_type": "stream",
                    "text": [
                        "Evaluting Epoch: 12:  60%|██████    | 6/10 [00:01<00:00,  4.57it/s]The attention mask and the pad token id were not set. As a consequence, you may observe unexpected behavior. Please pass your input's `attention_mask` to obtain reliable results.\n",
                        "Setting `pad_token_id` to `eos_token_id`:50256 for open-end generation.\n"
                    ]
                },
                {
                    "name": "stdout",
                    "output_type": "stream",
                    "text": [
                        "Names      : ['NLP_CHEST_059']\n",
                        "Predictions: ['Chest plain film shows:\\r\\n-\\r\\n-\\r\\n-\\r\\n-']\n",
                        "Labels     : ['Supine chest AP view shows: \\r\\n\\r\\nPigtail catheter at right lower chest.\\r\\nDecreased amount of right pleural effusion.\\r\\nAir in the right lower pleural space. Poor lung expansion.\\r\\nMild subcutaneous emphysema at right chest wall.\\r\\n\\r\\nRight pleural thickening.\\r\\nIll-defined masses at right perihilar region.\\r\\n\\r\\nNormal heart size. \\r\\n']\n",
                        "\n"
                    ]
                },
                {
                    "name": "stderr",
                    "output_type": "stream",
                    "text": [
                        "Evaluting Epoch: 12:  70%|███████   | 7/10 [00:01<00:00,  4.55it/s]The attention mask and the pad token id were not set. As a consequence, you may observe unexpected behavior. Please pass your input's `attention_mask` to obtain reliable results.\n",
                        "Setting `pad_token_id` to `eos_token_id`:50256 for open-end generation.\n"
                    ]
                },
                {
                    "name": "stdout",
                    "output_type": "stream",
                    "text": [
                        "Names      : ['NLP_CHEST_027']\n",
                        "Predictions: ['Chest plain film shows:\\r\\n-\\r\\n-\\r\\n-\\r\\n-']\n",
                        "Labels     : ['Chest PA View:\\r\\nImpression: \\r\\n> Cardiomegaly with bilateral pulmonary congestion.\\r\\n> Postinflammatory fibrosis in both upper lungs.\\r\\n> Atherosclerosis of aorta.\\r\\n> Old fractures of left 5th and 6th ribs.\\r\\n> R/O osteoporosis.\\r\\n> Spondylosis of thoracolumbar spine.\\r\\n> S/P abdominal operation in RUQ.']\n",
                        "\n"
                    ]
                },
                {
                    "name": "stderr",
                    "output_type": "stream",
                    "text": [
                        "Evaluting Epoch: 12:  80%|████████  | 8/10 [00:01<00:00,  4.57it/s]The attention mask and the pad token id were not set. As a consequence, you may observe unexpected behavior. Please pass your input's `attention_mask` to obtain reliable results.\n",
                        "Setting `pad_token_id` to `eos_token_id`:50256 for open-end generation.\n"
                    ]
                },
                {
                    "name": "stdout",
                    "output_type": "stream",
                    "text": [
                        "Names      : ['NLP_CHEST_085']\n",
                        "Predictions: ['Chest plain film shows:\\r\\n-\\r\\n-\\r\\n-\\r\\n-']\n",
                        "Labels     : ['Chest X ray: \\r\\n\\r\\n- Right pneumothorax with pleural effusion, status post drainge \\r\\n  tube placement.\\r\\n- Extensive subcutaneous emphysema from neck to right side \\r\\n  thoracic cage.\\r\\n- Increased right hilar opacity.\\r\\n- Atherosclerosis and tortuous aorta. \\r\\n- Obscured bilateral costophrenic angles. \\r\\n- Spondylosis and mild scoliosis of thoracolumbar spine. \\r\\n- OA of right glenohumeral joint.\\r\\n- Generalized osteopenia. \\r\\n']\n",
                        "\n"
                    ]
                },
                {
                    "name": "stderr",
                    "output_type": "stream",
                    "text": [
                        "Evaluting Epoch: 12:  90%|█████████ | 9/10 [00:01<00:00,  4.50it/s]The attention mask and the pad token id were not set. As a consequence, you may observe unexpected behavior. Please pass your input's `attention_mask` to obtain reliable results.\n",
                        "Setting `pad_token_id` to `eos_token_id`:50256 for open-end generation.\n"
                    ]
                },
                {
                    "name": "stdout",
                    "output_type": "stream",
                    "text": [
                        "Names      : ['NLP_CHEST_011']\n",
                        "Predictions: ['Chest plain film shows:\\r\\n-\\r\\n-\\r\\n-\\r\\n-']\n",
                        "Labels     : [\"Chest AP view showed:\\r\\n1.s/p sternotomy and CABG.\\r\\n  Enlarged heart size with tortuous aorta.\\r\\n2.R't middle and lower lung faint patches.\\r\\n  L't lower lung consolidation.\\r\\n  L't pleural effusion.\\r\\n3.No mediastinum widening.\\r\\n4.s/p endotracheal tube and NG intubation.\\r\\n\"]\n",
                        "\n"
                    ]
                },
                {
                    "name": "stderr",
                    "output_type": "stream",
                    "text": [
                        "Evaluting Epoch: 12: 100%|██████████| 10/10 [00:02<00:00,  4.53it/s]\n"
                    ]
                },
                {
                    "name": "stdout",
                    "output_type": "stream",
                    "text": [
                        "Names      : ['NLP_CHEST_015']\n",
                        "Predictions: ['Chest plain film shows:\\r\\n-\\r\\n-\\r\\n-\\r\\n-']\n",
                        "Labels     : ['Chest X ray: \\r\\n\\r\\n- No obvious lung mass nor consolidation patch.\\r\\n- Normal heart size.\\r\\n- No pleural effusion. ']\n",
                        "\n",
                        "Rouge-2 score on epoch 11: {'Rouge-L-P': 0.12448412698412699, 'Rouge-L-R': 0.02634271074790029, 'Rouge-L-F': 0.02634271074790029, 'Rouge-2-P': 0.017063492063492062, 'Rouge-2-R': 0.0024207428452711474, 'Rouge-2-F': 0.0024207428452711474}\n"
                    ]
                },
                {
                    "name": "stderr",
                    "output_type": "stream",
                    "text": [
                        "Training Epoch [13 / 30]: 100%|██████████| 89/89 [00:09<00:00,  9.59it/s, loss=0.622]\n",
                        "Evaluting Epoch: 13:   0%|          | 0/10 [00:00<?, ?it/s]The attention mask and the pad token id were not set. As a consequence, you may observe unexpected behavior. Please pass your input's `attention_mask` to obtain reliable results.\n",
                        "Setting `pad_token_id` to `eos_token_id`:50256 for open-end generation.\n",
                        "Evaluting Epoch: 13:  10%|█         | 1/10 [00:00<00:02,  4.42it/s]The attention mask and the pad token id were not set. As a consequence, you may observe unexpected behavior. Please pass your input's `attention_mask` to obtain reliable results.\n",
                        "Setting `pad_token_id` to `eos_token_id`:50256 for open-end generation.\n"
                    ]
                },
                {
                    "name": "stdout",
                    "output_type": "stream",
                    "text": [
                        "Names      : ['NLP_CHEST_071']\n",
                        "Predictions: ['Chest plain film shows:\\r\\n-\\r\\n-\\r\\n-\\r\\n-']\n",
                        "Labels     : ['Chest film shows:\\r\\nImpression:\\r\\n-Bilateral lung infiltrations.\\r\\n-Suspect right lower lung patch. \\r\\n Blunting right CP angle. \\r\\n-Tortuous atherosclerotic aorta. \\r\\n-Scoliosis, DJD and osteoporosis of spine. \\r\\n Compression fracture of T12.\\r\\n Old fracture of left ribs.\\r\\n-S/P fixation in L-spine.  \\r\\n-S/P tracheostomy and NG tube.   \\r\\n']\n",
                        "\n"
                    ]
                },
                {
                    "name": "stderr",
                    "output_type": "stream",
                    "text": [
                        "Evaluting Epoch: 13:  20%|██        | 2/10 [00:00<00:01,  4.63it/s]The attention mask and the pad token id were not set. As a consequence, you may observe unexpected behavior. Please pass your input's `attention_mask` to obtain reliable results.\n",
                        "Setting `pad_token_id` to `eos_token_id`:50256 for open-end generation.\n"
                    ]
                },
                {
                    "name": "stdout",
                    "output_type": "stream",
                    "text": [
                        "Names      : ['NLP_CHEST_002']\n",
                        "Predictions: ['Chest plain film shows:\\r\\n-\\r\\n-\\r\\n-\\r\\n-']\n",
                        "Labels     : ['Chest PA view shows: \\r\\n\\r\\nPartial atelectasis at left lower lung field. \\r\\nLeft pleural effusion.\\r\\n\\r\\nBorderline heart size. \\r\\nAtherosclerotic change of aortic knob. \\r\\n\\r\\nS/P port-A implantation via left subclavian vein. \\r\\nIntraperitoneal port catheter.\\r\\nSurgical clips at RUQ of abdomen.\\r\\n']\n",
                        "\n"
                    ]
                },
                {
                    "name": "stderr",
                    "output_type": "stream",
                    "text": [
                        "Evaluting Epoch: 13:  30%|███       | 3/10 [00:00<00:01,  4.53it/s]The attention mask and the pad token id were not set. As a consequence, you may observe unexpected behavior. Please pass your input's `attention_mask` to obtain reliable results.\n",
                        "Setting `pad_token_id` to `eos_token_id`:50256 for open-end generation.\n"
                    ]
                },
                {
                    "name": "stdout",
                    "output_type": "stream",
                    "text": [
                        "Names      : ['NLP_CHEST_004']\n",
                        "Predictions: ['Chest plain film shows:\\r\\n-\\r\\n-\\r\\n-\\r\\n-']\n",
                        "Labels     : ['Chest PA view show: \\r\\nImpression:\\r\\n-S/P RLL wedge resection.\\u3000 \\r\\n-Bilateral lungs metastasis.\\r\\n-Left lower lung subsegmental atelectasis. \\r\\n-Increased infiltrations in both lungs.\\r\\n-Blunting right CP angle. \\r\\n-Tortuous atherosclerotic aorta.\\r\\n-Scoliosis, DJD and osteoporosis of spine. \\r\\n-Compression fracture of L1.']\n",
                        "\n"
                    ]
                },
                {
                    "name": "stderr",
                    "output_type": "stream",
                    "text": [
                        "Evaluting Epoch: 13:  40%|████      | 4/10 [00:00<00:01,  4.54it/s]The attention mask and the pad token id were not set. As a consequence, you may observe unexpected behavior. Please pass your input's `attention_mask` to obtain reliable results.\n",
                        "Setting `pad_token_id` to `eos_token_id`:50256 for open-end generation.\n"
                    ]
                },
                {
                    "name": "stdout",
                    "output_type": "stream",
                    "text": [
                        "Names      : ['NLP_CHEST_031']\n",
                        "Predictions: ['Chest plain film shows:\\r\\n-\\r\\n-\\r\\n-\\r\\n-']\n",
                        "Labels     : ['Chest PA view:\\r\\nImpression:\\r\\n-Increased both lung markings. \\r\\n-Compatible with right lung nodules.\\r\\n-Fibrotic lesion in left upper lung.\\r\\n-Normal heart size. Atherosclerotic aorta. \\r\\n-Suspect right pleural effusion.\\r\\n-Spondylosis. R/O osteoporosis. \\r\\n-Compatible with multiple bony metastases.\\r\\n-S/P NG and endotracheal tube.\\r\\n-S/P Lt subclavian Port-A-cath. ']\n",
                        "\n"
                    ]
                },
                {
                    "name": "stderr",
                    "output_type": "stream",
                    "text": [
                        "Evaluting Epoch: 13:  50%|█████     | 5/10 [00:01<00:01,  4.54it/s]The attention mask and the pad token id were not set. As a consequence, you may observe unexpected behavior. Please pass your input's `attention_mask` to obtain reliable results.\n",
                        "Setting `pad_token_id` to `eos_token_id`:50256 for open-end generation.\n"
                    ]
                },
                {
                    "name": "stdout",
                    "output_type": "stream",
                    "text": [
                        "Names      : ['NLP_CHEST_057']\n",
                        "Predictions: ['Chest plain film shows:\\r\\n-\\r\\n-\\r\\n-\\r\\n-']\n",
                        "Labels     : ['Chest plain film shows:\\r\\nImpression:\\r\\n-Increased infiltrations in both lungs.\\r\\n-Tortuous atherosclerotic dilated aorta.\\r\\n-Normal heart size. \\r\\n-DJD of spine. \\r\\n Old fracture of right ribs.\\r\\n-Increased both lung markings. \\r\\n S/P Lt jugular CVC insertion. \\r\\n S/P NG and endotracheal tube.\\r\\n-Susp. Lt pneumothorax. \\r\\n Suspect pneumomediastinum. \\r\\n Subcutaneous emphysema in bilateral neck.  \\r\\n-S/P bilateral chest tube insertion. ']\n",
                        "\n"
                    ]
                },
                {
                    "name": "stderr",
                    "output_type": "stream",
                    "text": [
                        "Evaluting Epoch: 13:  60%|██████    | 6/10 [00:01<00:00,  4.58it/s]The attention mask and the pad token id were not set. As a consequence, you may observe unexpected behavior. Please pass your input's `attention_mask` to obtain reliable results.\n",
                        "Setting `pad_token_id` to `eos_token_id`:50256 for open-end generation.\n"
                    ]
                },
                {
                    "name": "stdout",
                    "output_type": "stream",
                    "text": [
                        "Names      : ['NLP_CHEST_059']\n",
                        "Predictions: ['Chest plain film shows:\\r\\n-\\r\\n-\\r\\n-\\r\\n-']\n",
                        "Labels     : ['Supine chest AP view shows: \\r\\n\\r\\nPigtail catheter at right lower chest.\\r\\nDecreased amount of right pleural effusion.\\r\\nAir in the right lower pleural space. Poor lung expansion.\\r\\nMild subcutaneous emphysema at right chest wall.\\r\\n\\r\\nRight pleural thickening.\\r\\nIll-defined masses at right perihilar region.\\r\\n\\r\\nNormal heart size. \\r\\n']\n",
                        "\n"
                    ]
                },
                {
                    "name": "stderr",
                    "output_type": "stream",
                    "text": [
                        "Evaluting Epoch: 13:  70%|███████   | 7/10 [00:01<00:00,  4.56it/s]The attention mask and the pad token id were not set. As a consequence, you may observe unexpected behavior. Please pass your input's `attention_mask` to obtain reliable results.\n",
                        "Setting `pad_token_id` to `eos_token_id`:50256 for open-end generation.\n"
                    ]
                },
                {
                    "name": "stdout",
                    "output_type": "stream",
                    "text": [
                        "Names      : ['NLP_CHEST_027']\n",
                        "Predictions: ['Chest plain film shows:\\r\\n-\\r\\n-\\r\\n-\\r\\n-']\n",
                        "Labels     : ['Chest PA View:\\r\\nImpression: \\r\\n> Cardiomegaly with bilateral pulmonary congestion.\\r\\n> Postinflammatory fibrosis in both upper lungs.\\r\\n> Atherosclerosis of aorta.\\r\\n> Old fractures of left 5th and 6th ribs.\\r\\n> R/O osteoporosis.\\r\\n> Spondylosis of thoracolumbar spine.\\r\\n> S/P abdominal operation in RUQ.']\n",
                        "\n"
                    ]
                },
                {
                    "name": "stderr",
                    "output_type": "stream",
                    "text": [
                        "Evaluting Epoch: 13:  80%|████████  | 8/10 [00:01<00:00,  4.58it/s]The attention mask and the pad token id were not set. As a consequence, you may observe unexpected behavior. Please pass your input's `attention_mask` to obtain reliable results.\n",
                        "Setting `pad_token_id` to `eos_token_id`:50256 for open-end generation.\n"
                    ]
                },
                {
                    "name": "stdout",
                    "output_type": "stream",
                    "text": [
                        "Names      : ['NLP_CHEST_085']\n",
                        "Predictions: ['Chest plain film shows:\\r\\n-\\r\\n-\\r\\n-\\r\\n-']\n",
                        "Labels     : ['Chest X ray: \\r\\n\\r\\n- Right pneumothorax with pleural effusion, status post drainge \\r\\n  tube placement.\\r\\n- Extensive subcutaneous emphysema from neck to right side \\r\\n  thoracic cage.\\r\\n- Increased right hilar opacity.\\r\\n- Atherosclerosis and tortuous aorta. \\r\\n- Obscured bilateral costophrenic angles. \\r\\n- Spondylosis and mild scoliosis of thoracolumbar spine. \\r\\n- OA of right glenohumeral joint.\\r\\n- Generalized osteopenia. \\r\\n']\n",
                        "\n"
                    ]
                },
                {
                    "name": "stderr",
                    "output_type": "stream",
                    "text": [
                        "Evaluting Epoch: 13:  90%|█████████ | 9/10 [00:01<00:00,  4.52it/s]The attention mask and the pad token id were not set. As a consequence, you may observe unexpected behavior. Please pass your input's `attention_mask` to obtain reliable results.\n",
                        "Setting `pad_token_id` to `eos_token_id`:50256 for open-end generation.\n"
                    ]
                },
                {
                    "name": "stdout",
                    "output_type": "stream",
                    "text": [
                        "Names      : ['NLP_CHEST_011']\n",
                        "Predictions: ['Chest plain film shows:\\r\\n-\\r\\n-\\r\\n-\\r\\n-']\n",
                        "Labels     : [\"Chest AP view showed:\\r\\n1.s/p sternotomy and CABG.\\r\\n  Enlarged heart size with tortuous aorta.\\r\\n2.R't middle and lower lung faint patches.\\r\\n  L't lower lung consolidation.\\r\\n  L't pleural effusion.\\r\\n3.No mediastinum widening.\\r\\n4.s/p endotracheal tube and NG intubation.\\r\\n\"]\n",
                        "\n"
                    ]
                },
                {
                    "name": "stderr",
                    "output_type": "stream",
                    "text": [
                        "Evaluting Epoch: 13: 100%|██████████| 10/10 [00:02<00:00,  4.54it/s]\n"
                    ]
                },
                {
                    "name": "stdout",
                    "output_type": "stream",
                    "text": [
                        "Names      : ['NLP_CHEST_015']\n",
                        "Predictions: ['Chest plain film shows:\\r\\n-\\r\\n-\\r\\n-\\r\\n-']\n",
                        "Labels     : ['Chest X ray: \\r\\n\\r\\n- No obvious lung mass nor consolidation patch.\\r\\n- Normal heart size.\\r\\n- No pleural effusion. ']\n",
                        "\n",
                        "Rouge-2 score on epoch 12: {'Rouge-L-P': 0.13702380952380952, 'Rouge-L-R': 0.029040005205518155, 'Rouge-L-F': 0.029040005205518155, 'Rouge-2-P': 0.020146520146520144, 'Rouge-2-R': 0.0028530956832843626, 'Rouge-2-F': 0.0028530956832843626}\n"
                    ]
                },
                {
                    "name": "stderr",
                    "output_type": "stream",
                    "text": [
                        "Training Epoch [14 / 30]: 100%|██████████| 89/89 [00:09<00:00,  9.63it/s, loss=0.596]\n",
                        "Evaluting Epoch: 14:   0%|          | 0/10 [00:00<?, ?it/s]The attention mask and the pad token id were not set. As a consequence, you may observe unexpected behavior. Please pass your input's `attention_mask` to obtain reliable results.\n",
                        "Setting `pad_token_id` to `eos_token_id`:50256 for open-end generation.\n",
                        "Evaluting Epoch: 14:  10%|█         | 1/10 [00:00<00:02,  4.40it/s]The attention mask and the pad token id were not set. As a consequence, you may observe unexpected behavior. Please pass your input's `attention_mask` to obtain reliable results.\n",
                        "Setting `pad_token_id` to `eos_token_id`:50256 for open-end generation.\n"
                    ]
                },
                {
                    "name": "stdout",
                    "output_type": "stream",
                    "text": [
                        "Names      : ['NLP_CHEST_071']\n",
                        "Predictions: ['Chest plain film shows:\\r\\n-Increased infiltrations in both lungs.\\r\\n']\n",
                        "Labels     : ['Chest film shows:\\r\\nImpression:\\r\\n-Bilateral lung infiltrations.\\r\\n-Suspect right lower lung patch. \\r\\n Blunting right CP angle. \\r\\n-Tortuous atherosclerotic aorta. \\r\\n-Scoliosis, DJD and osteoporosis of spine. \\r\\n Compression fracture of T12.\\r\\n Old fracture of left ribs.\\r\\n-S/P fixation in L-spine.  \\r\\n-S/P tracheostomy and NG tube.   \\r\\n']\n",
                        "\n"
                    ]
                },
                {
                    "name": "stderr",
                    "output_type": "stream",
                    "text": [
                        "Evaluting Epoch: 14:  20%|██        | 2/10 [00:00<00:01,  4.65it/s]The attention mask and the pad token id were not set. As a consequence, you may observe unexpected behavior. Please pass your input's `attention_mask` to obtain reliable results.\n",
                        "Setting `pad_token_id` to `eos_token_id`:50256 for open-end generation.\n"
                    ]
                },
                {
                    "name": "stdout",
                    "output_type": "stream",
                    "text": [
                        "Names      : ['NLP_CHEST_002']\n",
                        "Predictions: ['Chest plain film shows:\\r\\n-Increased infiltrations in both lungs.\\r\\n']\n",
                        "Labels     : ['Chest PA view shows: \\r\\n\\r\\nPartial atelectasis at left lower lung field. \\r\\nLeft pleural effusion.\\r\\n\\r\\nBorderline heart size. \\r\\nAtherosclerotic change of aortic knob. \\r\\n\\r\\nS/P port-A implantation via left subclavian vein. \\r\\nIntraperitoneal port catheter.\\r\\nSurgical clips at RUQ of abdomen.\\r\\n']\n",
                        "\n"
                    ]
                },
                {
                    "name": "stderr",
                    "output_type": "stream",
                    "text": [
                        "Evaluting Epoch: 14:  30%|███       | 3/10 [00:00<00:01,  4.52it/s]The attention mask and the pad token id were not set. As a consequence, you may observe unexpected behavior. Please pass your input's `attention_mask` to obtain reliable results.\n",
                        "Setting `pad_token_id` to `eos_token_id`:50256 for open-end generation.\n"
                    ]
                },
                {
                    "name": "stdout",
                    "output_type": "stream",
                    "text": [
                        "Names      : ['NLP_CHEST_004']\n",
                        "Predictions: ['Chest plain film shows:\\r\\n-Increased infiltrations in both lungs.\\r\\n']\n",
                        "Labels     : ['Chest PA view show: \\r\\nImpression:\\r\\n-S/P RLL wedge resection.\\u3000 \\r\\n-Bilateral lungs metastasis.\\r\\n-Left lower lung subsegmental atelectasis. \\r\\n-Increased infiltrations in both lungs.\\r\\n-Blunting right CP angle. \\r\\n-Tortuous atherosclerotic aorta.\\r\\n-Scoliosis, DJD and osteoporosis of spine. \\r\\n-Compression fracture of L1.']\n",
                        "\n"
                    ]
                },
                {
                    "name": "stderr",
                    "output_type": "stream",
                    "text": [
                        "Evaluting Epoch: 14:  40%|████      | 4/10 [00:00<00:01,  4.53it/s]The attention mask and the pad token id were not set. As a consequence, you may observe unexpected behavior. Please pass your input's `attention_mask` to obtain reliable results.\n",
                        "Setting `pad_token_id` to `eos_token_id`:50256 for open-end generation.\n"
                    ]
                },
                {
                    "name": "stdout",
                    "output_type": "stream",
                    "text": [
                        "Names      : ['NLP_CHEST_031']\n",
                        "Predictions: ['Chest plain film shows:\\r\\n-Increased infiltrations in both lungs.\\r\\n']\n",
                        "Labels     : ['Chest PA view:\\r\\nImpression:\\r\\n-Increased both lung markings. \\r\\n-Compatible with right lung nodules.\\r\\n-Fibrotic lesion in left upper lung.\\r\\n-Normal heart size. Atherosclerotic aorta. \\r\\n-Suspect right pleural effusion.\\r\\n-Spondylosis. R/O osteoporosis. \\r\\n-Compatible with multiple bony metastases.\\r\\n-S/P NG and endotracheal tube.\\r\\n-S/P Lt subclavian Port-A-cath. ']\n",
                        "\n"
                    ]
                },
                {
                    "name": "stderr",
                    "output_type": "stream",
                    "text": [
                        "Evaluting Epoch: 14:  50%|█████     | 5/10 [00:01<00:01,  4.53it/s]The attention mask and the pad token id were not set. As a consequence, you may observe unexpected behavior. Please pass your input's `attention_mask` to obtain reliable results.\n",
                        "Setting `pad_token_id` to `eos_token_id`:50256 for open-end generation.\n"
                    ]
                },
                {
                    "name": "stdout",
                    "output_type": "stream",
                    "text": [
                        "Names      : ['NLP_CHEST_057']\n",
                        "Predictions: ['Chest plain film shows:\\r\\n-Increased infiltrations in both lungs.\\r\\n']\n",
                        "Labels     : ['Chest plain film shows:\\r\\nImpression:\\r\\n-Increased infiltrations in both lungs.\\r\\n-Tortuous atherosclerotic dilated aorta.\\r\\n-Normal heart size. \\r\\n-DJD of spine. \\r\\n Old fracture of right ribs.\\r\\n-Increased both lung markings. \\r\\n S/P Lt jugular CVC insertion. \\r\\n S/P NG and endotracheal tube.\\r\\n-Susp. Lt pneumothorax. \\r\\n Suspect pneumomediastinum. \\r\\n Subcutaneous emphysema in bilateral neck.  \\r\\n-S/P bilateral chest tube insertion. ']\n",
                        "\n"
                    ]
                },
                {
                    "name": "stderr",
                    "output_type": "stream",
                    "text": [
                        "Evaluting Epoch: 14:  60%|██████    | 6/10 [00:01<00:00,  4.58it/s]The attention mask and the pad token id were not set. As a consequence, you may observe unexpected behavior. Please pass your input's `attention_mask` to obtain reliable results.\n",
                        "Setting `pad_token_id` to `eos_token_id`:50256 for open-end generation.\n"
                    ]
                },
                {
                    "name": "stdout",
                    "output_type": "stream",
                    "text": [
                        "Names      : ['NLP_CHEST_059']\n",
                        "Predictions: ['Chest plain film shows:\\r\\n-Increased infiltrations in both lungs.\\r\\n']\n",
                        "Labels     : ['Supine chest AP view shows: \\r\\n\\r\\nPigtail catheter at right lower chest.\\r\\nDecreased amount of right pleural effusion.\\r\\nAir in the right lower pleural space. Poor lung expansion.\\r\\nMild subcutaneous emphysema at right chest wall.\\r\\n\\r\\nRight pleural thickening.\\r\\nIll-defined masses at right perihilar region.\\r\\n\\r\\nNormal heart size. \\r\\n']\n",
                        "\n"
                    ]
                },
                {
                    "name": "stderr",
                    "output_type": "stream",
                    "text": [
                        "Evaluting Epoch: 14:  70%|███████   | 7/10 [00:01<00:00,  4.55it/s]The attention mask and the pad token id were not set. As a consequence, you may observe unexpected behavior. Please pass your input's `attention_mask` to obtain reliable results.\n",
                        "Setting `pad_token_id` to `eos_token_id`:50256 for open-end generation.\n"
                    ]
                },
                {
                    "name": "stdout",
                    "output_type": "stream",
                    "text": [
                        "Names      : ['NLP_CHEST_027']\n",
                        "Predictions: ['Chest plain film shows:\\r\\n-Increased infiltrations in both lungs.\\r\\n']\n",
                        "Labels     : ['Chest PA View:\\r\\nImpression: \\r\\n> Cardiomegaly with bilateral pulmonary congestion.\\r\\n> Postinflammatory fibrosis in both upper lungs.\\r\\n> Atherosclerosis of aorta.\\r\\n> Old fractures of left 5th and 6th ribs.\\r\\n> R/O osteoporosis.\\r\\n> Spondylosis of thoracolumbar spine.\\r\\n> S/P abdominal operation in RUQ.']\n",
                        "\n"
                    ]
                },
                {
                    "name": "stderr",
                    "output_type": "stream",
                    "text": [
                        "Evaluting Epoch: 14:  80%|████████  | 8/10 [00:01<00:00,  4.57it/s]The attention mask and the pad token id were not set. As a consequence, you may observe unexpected behavior. Please pass your input's `attention_mask` to obtain reliable results.\n",
                        "Setting `pad_token_id` to `eos_token_id`:50256 for open-end generation.\n"
                    ]
                },
                {
                    "name": "stdout",
                    "output_type": "stream",
                    "text": [
                        "Names      : ['NLP_CHEST_085']\n",
                        "Predictions: ['Chest plain film shows:\\r\\n-Increased infiltrations in both lungs.\\r\\n']\n",
                        "Labels     : ['Chest X ray: \\r\\n\\r\\n- Right pneumothorax with pleural effusion, status post drainge \\r\\n  tube placement.\\r\\n- Extensive subcutaneous emphysema from neck to right side \\r\\n  thoracic cage.\\r\\n- Increased right hilar opacity.\\r\\n- Atherosclerosis and tortuous aorta. \\r\\n- Obscured bilateral costophrenic angles. \\r\\n- Spondylosis and mild scoliosis of thoracolumbar spine. \\r\\n- OA of right glenohumeral joint.\\r\\n- Generalized osteopenia. \\r\\n']\n",
                        "\n"
                    ]
                },
                {
                    "name": "stderr",
                    "output_type": "stream",
                    "text": [
                        "Evaluting Epoch: 14:  90%|█████████ | 9/10 [00:01<00:00,  4.51it/s]The attention mask and the pad token id were not set. As a consequence, you may observe unexpected behavior. Please pass your input's `attention_mask` to obtain reliable results.\n",
                        "Setting `pad_token_id` to `eos_token_id`:50256 for open-end generation.\n"
                    ]
                },
                {
                    "name": "stdout",
                    "output_type": "stream",
                    "text": [
                        "Names      : ['NLP_CHEST_011']\n",
                        "Predictions: ['Chest plain film shows:\\r\\n-Increased infiltrations in both lungs.\\r\\n']\n",
                        "Labels     : [\"Chest AP view showed:\\r\\n1.s/p sternotomy and CABG.\\r\\n  Enlarged heart size with tortuous aorta.\\r\\n2.R't middle and lower lung faint patches.\\r\\n  L't lower lung consolidation.\\r\\n  L't pleural effusion.\\r\\n3.No mediastinum widening.\\r\\n4.s/p endotracheal tube and NG intubation.\\r\\n\"]\n",
                        "\n"
                    ]
                },
                {
                    "name": "stderr",
                    "output_type": "stream",
                    "text": [
                        "Evaluting Epoch: 14: 100%|██████████| 10/10 [00:02<00:00,  4.54it/s]\n"
                    ]
                },
                {
                    "name": "stdout",
                    "output_type": "stream",
                    "text": [
                        "Names      : ['NLP_CHEST_015']\n",
                        "Predictions: ['Chest plain film shows:\\r\\n-Increased infiltration of the lung wall.\\r\\n']\n",
                        "Labels     : ['Chest X ray: \\r\\n\\r\\n- No obvious lung mass nor consolidation patch.\\r\\n- Normal heart size.\\r\\n- No pleural effusion. ']\n",
                        "\n",
                        "Rouge-2 score on epoch 13: {'Rouge-L-P': 0.1540617913832199, 'Rouge-L-R': 0.032801831392912234, 'Rouge-L-F': 0.032801831392912234, 'Rouge-2-P': 0.030314625850340133, 'Rouge-2-R': 0.004680760044163067, 'Rouge-2-F': 0.004680760044163067}\n"
                    ]
                },
                {
                    "name": "stderr",
                    "output_type": "stream",
                    "text": [
                        "Training Epoch [15 / 30]: 100%|██████████| 89/89 [00:09<00:00,  9.63it/s, loss=0.58] \n",
                        "Evaluting Epoch: 15:   0%|          | 0/10 [00:00<?, ?it/s]The attention mask and the pad token id were not set. As a consequence, you may observe unexpected behavior. Please pass your input's `attention_mask` to obtain reliable results.\n",
                        "Setting `pad_token_id` to `eos_token_id`:50256 for open-end generation.\n",
                        "Evaluting Epoch: 15:  10%|█         | 1/10 [00:00<00:02,  4.40it/s]The attention mask and the pad token id were not set. As a consequence, you may observe unexpected behavior. Please pass your input's `attention_mask` to obtain reliable results.\n",
                        "Setting `pad_token_id` to `eos_token_id`:50256 for open-end generation.\n"
                    ]
                },
                {
                    "name": "stdout",
                    "output_type": "stream",
                    "text": [
                        "Names      : ['NLP_CHEST_071']\n",
                        "Predictions: ['Chest plain film shows:\\r\\n-Increased infiltrations in both lungs.\\r\\n']\n",
                        "Labels     : ['Chest film shows:\\r\\nImpression:\\r\\n-Bilateral lung infiltrations.\\r\\n-Suspect right lower lung patch. \\r\\n Blunting right CP angle. \\r\\n-Tortuous atherosclerotic aorta. \\r\\n-Scoliosis, DJD and osteoporosis of spine. \\r\\n Compression fracture of T12.\\r\\n Old fracture of left ribs.\\r\\n-S/P fixation in L-spine.  \\r\\n-S/P tracheostomy and NG tube.   \\r\\n']\n",
                        "\n"
                    ]
                },
                {
                    "name": "stderr",
                    "output_type": "stream",
                    "text": [
                        "Evaluting Epoch: 15:  20%|██        | 2/10 [00:00<00:01,  4.65it/s]The attention mask and the pad token id were not set. As a consequence, you may observe unexpected behavior. Please pass your input's `attention_mask` to obtain reliable results.\n",
                        "Setting `pad_token_id` to `eos_token_id`:50256 for open-end generation.\n"
                    ]
                },
                {
                    "name": "stdout",
                    "output_type": "stream",
                    "text": [
                        "Names      : ['NLP_CHEST_002']\n",
                        "Predictions: ['Chest plain film shows:\\r\\n-Increased infiltrations in both lungs.\\r\\n']\n",
                        "Labels     : ['Chest PA view shows: \\r\\n\\r\\nPartial atelectasis at left lower lung field. \\r\\nLeft pleural effusion.\\r\\n\\r\\nBorderline heart size. \\r\\nAtherosclerotic change of aortic knob. \\r\\n\\r\\nS/P port-A implantation via left subclavian vein. \\r\\nIntraperitoneal port catheter.\\r\\nSurgical clips at RUQ of abdomen.\\r\\n']\n",
                        "\n"
                    ]
                },
                {
                    "name": "stderr",
                    "output_type": "stream",
                    "text": [
                        "Evaluting Epoch: 15:  30%|███       | 3/10 [00:00<00:01,  4.53it/s]The attention mask and the pad token id were not set. As a consequence, you may observe unexpected behavior. Please pass your input's `attention_mask` to obtain reliable results.\n",
                        "Setting `pad_token_id` to `eos_token_id`:50256 for open-end generation.\n"
                    ]
                },
                {
                    "name": "stdout",
                    "output_type": "stream",
                    "text": [
                        "Names      : ['NLP_CHEST_004']\n",
                        "Predictions: ['Chest plain film shows:\\r\\n-Increased infiltrations in both lungs.\\r\\n']\n",
                        "Labels     : ['Chest PA view show: \\r\\nImpression:\\r\\n-S/P RLL wedge resection.\\u3000 \\r\\n-Bilateral lungs metastasis.\\r\\n-Left lower lung subsegmental atelectasis. \\r\\n-Increased infiltrations in both lungs.\\r\\n-Blunting right CP angle. \\r\\n-Tortuous atherosclerotic aorta.\\r\\n-Scoliosis, DJD and osteoporosis of spine. \\r\\n-Compression fracture of L1.']\n",
                        "\n"
                    ]
                },
                {
                    "name": "stderr",
                    "output_type": "stream",
                    "text": [
                        "Evaluting Epoch: 15:  40%|████      | 4/10 [00:00<00:01,  4.54it/s]The attention mask and the pad token id were not set. As a consequence, you may observe unexpected behavior. Please pass your input's `attention_mask` to obtain reliable results.\n",
                        "Setting `pad_token_id` to `eos_token_id`:50256 for open-end generation.\n"
                    ]
                },
                {
                    "name": "stdout",
                    "output_type": "stream",
                    "text": [
                        "Names      : ['NLP_CHEST_031']\n",
                        "Predictions: ['Chest plain film shows:\\r\\n-Increased infiltrations in both lungs.\\r\\n']\n",
                        "Labels     : ['Chest PA view:\\r\\nImpression:\\r\\n-Increased both lung markings. \\r\\n-Compatible with right lung nodules.\\r\\n-Fibrotic lesion in left upper lung.\\r\\n-Normal heart size. Atherosclerotic aorta. \\r\\n-Suspect right pleural effusion.\\r\\n-Spondylosis. R/O osteoporosis. \\r\\n-Compatible with multiple bony metastases.\\r\\n-S/P NG and endotracheal tube.\\r\\n-S/P Lt subclavian Port-A-cath. ']\n",
                        "\n"
                    ]
                },
                {
                    "name": "stderr",
                    "output_type": "stream",
                    "text": [
                        "Evaluting Epoch: 15:  50%|█████     | 5/10 [00:01<00:01,  4.54it/s]The attention mask and the pad token id were not set. As a consequence, you may observe unexpected behavior. Please pass your input's `attention_mask` to obtain reliable results.\n",
                        "Setting `pad_token_id` to `eos_token_id`:50256 for open-end generation.\n"
                    ]
                },
                {
                    "name": "stdout",
                    "output_type": "stream",
                    "text": [
                        "Names      : ['NLP_CHEST_057']\n",
                        "Predictions: ['Chest plain film shows:\\r\\n-Increased infiltrations in both lungs.\\r\\n']\n",
                        "Labels     : ['Chest plain film shows:\\r\\nImpression:\\r\\n-Increased infiltrations in both lungs.\\r\\n-Tortuous atherosclerotic dilated aorta.\\r\\n-Normal heart size. \\r\\n-DJD of spine. \\r\\n Old fracture of right ribs.\\r\\n-Increased both lung markings. \\r\\n S/P Lt jugular CVC insertion. \\r\\n S/P NG and endotracheal tube.\\r\\n-Susp. Lt pneumothorax. \\r\\n Suspect pneumomediastinum. \\r\\n Subcutaneous emphysema in bilateral neck.  \\r\\n-S/P bilateral chest tube insertion. ']\n",
                        "\n"
                    ]
                },
                {
                    "name": "stderr",
                    "output_type": "stream",
                    "text": [
                        "Evaluting Epoch: 15:  60%|██████    | 6/10 [00:01<00:00,  4.59it/s]The attention mask and the pad token id were not set. As a consequence, you may observe unexpected behavior. Please pass your input's `attention_mask` to obtain reliable results.\n",
                        "Setting `pad_token_id` to `eos_token_id`:50256 for open-end generation.\n"
                    ]
                },
                {
                    "name": "stdout",
                    "output_type": "stream",
                    "text": [
                        "Names      : ['NLP_CHEST_059']\n",
                        "Predictions: ['Chest plain film shows:\\r\\n-Increased infiltrations in both lungs.\\r\\n']\n",
                        "Labels     : ['Supine chest AP view shows: \\r\\n\\r\\nPigtail catheter at right lower chest.\\r\\nDecreased amount of right pleural effusion.\\r\\nAir in the right lower pleural space. Poor lung expansion.\\r\\nMild subcutaneous emphysema at right chest wall.\\r\\n\\r\\nRight pleural thickening.\\r\\nIll-defined masses at right perihilar region.\\r\\n\\r\\nNormal heart size. \\r\\n']\n",
                        "\n"
                    ]
                },
                {
                    "name": "stderr",
                    "output_type": "stream",
                    "text": [
                        "Evaluting Epoch: 15:  70%|███████   | 7/10 [00:01<00:00,  4.57it/s]The attention mask and the pad token id were not set. As a consequence, you may observe unexpected behavior. Please pass your input's `attention_mask` to obtain reliable results.\n",
                        "Setting `pad_token_id` to `eos_token_id`:50256 for open-end generation.\n"
                    ]
                },
                {
                    "name": "stdout",
                    "output_type": "stream",
                    "text": [
                        "Names      : ['NLP_CHEST_027']\n",
                        "Predictions: ['Chest plain film shows:\\r\\n-Increased infiltrations in both lungs.\\r\\n']\n",
                        "Labels     : ['Chest PA View:\\r\\nImpression: \\r\\n> Cardiomegaly with bilateral pulmonary congestion.\\r\\n> Postinflammatory fibrosis in both upper lungs.\\r\\n> Atherosclerosis of aorta.\\r\\n> Old fractures of left 5th and 6th ribs.\\r\\n> R/O osteoporosis.\\r\\n> Spondylosis of thoracolumbar spine.\\r\\n> S/P abdominal operation in RUQ.']\n",
                        "\n"
                    ]
                },
                {
                    "name": "stderr",
                    "output_type": "stream",
                    "text": [
                        "Evaluting Epoch: 15:  80%|████████  | 8/10 [00:01<00:00,  4.54it/s]The attention mask and the pad token id were not set. As a consequence, you may observe unexpected behavior. Please pass your input's `attention_mask` to obtain reliable results.\n",
                        "Setting `pad_token_id` to `eos_token_id`:50256 for open-end generation.\n"
                    ]
                },
                {
                    "name": "stdout",
                    "output_type": "stream",
                    "text": [
                        "Names      : ['NLP_CHEST_085']\n",
                        "Predictions: ['Chest plain film shows:\\r\\n-Increased infiltrations in both lungs.\\r\\n']\n",
                        "Labels     : ['Chest X ray: \\r\\n\\r\\n- Right pneumothorax with pleural effusion, status post drainge \\r\\n  tube placement.\\r\\n- Extensive subcutaneous emphysema from neck to right side \\r\\n  thoracic cage.\\r\\n- Increased right hilar opacity.\\r\\n- Atherosclerosis and tortuous aorta. \\r\\n- Obscured bilateral costophrenic angles. \\r\\n- Spondylosis and mild scoliosis of thoracolumbar spine. \\r\\n- OA of right glenohumeral joint.\\r\\n- Generalized osteopenia. \\r\\n']\n",
                        "\n"
                    ]
                },
                {
                    "name": "stderr",
                    "output_type": "stream",
                    "text": [
                        "Evaluting Epoch: 15:  90%|█████████ | 9/10 [00:01<00:00,  4.50it/s]The attention mask and the pad token id were not set. As a consequence, you may observe unexpected behavior. Please pass your input's `attention_mask` to obtain reliable results.\n",
                        "Setting `pad_token_id` to `eos_token_id`:50256 for open-end generation.\n"
                    ]
                },
                {
                    "name": "stdout",
                    "output_type": "stream",
                    "text": [
                        "Names      : ['NLP_CHEST_011']\n",
                        "Predictions: ['Chest plain film shows:\\r\\n-Increased infiltrations in both lungs.\\r\\n']\n",
                        "Labels     : [\"Chest AP view showed:\\r\\n1.s/p sternotomy and CABG.\\r\\n  Enlarged heart size with tortuous aorta.\\r\\n2.R't middle and lower lung faint patches.\\r\\n  L't lower lung consolidation.\\r\\n  L't pleural effusion.\\r\\n3.No mediastinum widening.\\r\\n4.s/p endotracheal tube and NG intubation.\\r\\n\"]\n",
                        "\n"
                    ]
                },
                {
                    "name": "stderr",
                    "output_type": "stream",
                    "text": [
                        "Evaluting Epoch: 15: 100%|██████████| 10/10 [00:02<00:00,  4.54it/s]\n"
                    ]
                },
                {
                    "name": "stdout",
                    "output_type": "stream",
                    "text": [
                        "Names      : ['NLP_CHEST_015']\n",
                        "Predictions: ['Chest plain film shows:\\r\\n-Increased infiltrations in both lungs.\\r\\n']\n",
                        "Labels     : ['Chest X ray: \\r\\n\\r\\n- No obvious lung mass nor consolidation patch.\\r\\n- Normal heart size.\\r\\n- No pleural effusion. ']\n",
                        "\n",
                        "Rouge-2 score on epoch 14: {'Rouge-L-P': 0.16823544973544965, 'Rouge-L-R': 0.03571120356233797, 'Rouge-L-F': 0.03571120356233797, 'Rouge-2-P': 0.03912698412698412, 'Rouge-2-R': 0.006264735823591278, 'Rouge-2-F': 0.006264735823591278}\n"
                    ]
                },
                {
                    "name": "stderr",
                    "output_type": "stream",
                    "text": [
                        "Training Epoch [16 / 30]: 100%|██████████| 89/89 [00:09<00:00,  9.64it/s, loss=0.548]\n",
                        "Evaluting Epoch: 16:   0%|          | 0/10 [00:00<?, ?it/s]The attention mask and the pad token id were not set. As a consequence, you may observe unexpected behavior. Please pass your input's `attention_mask` to obtain reliable results.\n",
                        "Setting `pad_token_id` to `eos_token_id`:50256 for open-end generation.\n",
                        "Evaluting Epoch: 16:  10%|█         | 1/10 [00:00<00:02,  4.46it/s]The attention mask and the pad token id were not set. As a consequence, you may observe unexpected behavior. Please pass your input's `attention_mask` to obtain reliable results.\n",
                        "Setting `pad_token_id` to `eos_token_id`:50256 for open-end generation.\n"
                    ]
                },
                {
                    "name": "stdout",
                    "output_type": "stream",
                    "text": [
                        "Names      : ['NLP_CHEST_071']\n",
                        "Predictions: ['Chest plain film shows:\\r\\n-Increased infiltrations in both lungs.\\r\\n']\n",
                        "Labels     : ['Chest film shows:\\r\\nImpression:\\r\\n-Bilateral lung infiltrations.\\r\\n-Suspect right lower lung patch. \\r\\n Blunting right CP angle. \\r\\n-Tortuous atherosclerotic aorta. \\r\\n-Scoliosis, DJD and osteoporosis of spine. \\r\\n Compression fracture of T12.\\r\\n Old fracture of left ribs.\\r\\n-S/P fixation in L-spine.  \\r\\n-S/P tracheostomy and NG tube.   \\r\\n']\n",
                        "\n"
                    ]
                },
                {
                    "name": "stderr",
                    "output_type": "stream",
                    "text": [
                        "Evaluting Epoch: 16:  20%|██        | 2/10 [00:00<00:01,  4.69it/s]The attention mask and the pad token id were not set. As a consequence, you may observe unexpected behavior. Please pass your input's `attention_mask` to obtain reliable results.\n",
                        "Setting `pad_token_id` to `eos_token_id`:50256 for open-end generation.\n"
                    ]
                },
                {
                    "name": "stdout",
                    "output_type": "stream",
                    "text": [
                        "Names      : ['NLP_CHEST_002']\n",
                        "Predictions: ['Chest plain film shows:\\r\\n-Increased infiltrations in both lungs.\\r\\n']\n",
                        "Labels     : ['Chest PA view shows: \\r\\n\\r\\nPartial atelectasis at left lower lung field. \\r\\nLeft pleural effusion.\\r\\n\\r\\nBorderline heart size. \\r\\nAtherosclerotic change of aortic knob. \\r\\n\\r\\nS/P port-A implantation via left subclavian vein. \\r\\nIntraperitoneal port catheter.\\r\\nSurgical clips at RUQ of abdomen.\\r\\n']\n",
                        "\n"
                    ]
                },
                {
                    "name": "stderr",
                    "output_type": "stream",
                    "text": [
                        "Evaluting Epoch: 16:  30%|███       | 3/10 [00:00<00:01,  4.54it/s]The attention mask and the pad token id were not set. As a consequence, you may observe unexpected behavior. Please pass your input's `attention_mask` to obtain reliable results.\n",
                        "Setting `pad_token_id` to `eos_token_id`:50256 for open-end generation.\n"
                    ]
                },
                {
                    "name": "stdout",
                    "output_type": "stream",
                    "text": [
                        "Names      : ['NLP_CHEST_004']\n",
                        "Predictions: ['Chest plain film shows:\\r\\n-Increased infiltrations in both lungs.\\r\\n']\n",
                        "Labels     : ['Chest PA view show: \\r\\nImpression:\\r\\n-S/P RLL wedge resection.\\u3000 \\r\\n-Bilateral lungs metastasis.\\r\\n-Left lower lung subsegmental atelectasis. \\r\\n-Increased infiltrations in both lungs.\\r\\n-Blunting right CP angle. \\r\\n-Tortuous atherosclerotic aorta.\\r\\n-Scoliosis, DJD and osteoporosis of spine. \\r\\n-Compression fracture of L1.']\n",
                        "\n"
                    ]
                },
                {
                    "name": "stderr",
                    "output_type": "stream",
                    "text": [
                        "Evaluting Epoch: 16:  40%|████      | 4/10 [00:00<00:01,  4.54it/s]The attention mask and the pad token id were not set. As a consequence, you may observe unexpected behavior. Please pass your input's `attention_mask` to obtain reliable results.\n",
                        "Setting `pad_token_id` to `eos_token_id`:50256 for open-end generation.\n"
                    ]
                },
                {
                    "name": "stdout",
                    "output_type": "stream",
                    "text": [
                        "Names      : ['NLP_CHEST_031']\n",
                        "Predictions: ['Chest plain film shows:\\r\\n-Increased infiltrations in both lungs.\\r\\n']\n",
                        "Labels     : ['Chest PA view:\\r\\nImpression:\\r\\n-Increased both lung markings. \\r\\n-Compatible with right lung nodules.\\r\\n-Fibrotic lesion in left upper lung.\\r\\n-Normal heart size. Atherosclerotic aorta. \\r\\n-Suspect right pleural effusion.\\r\\n-Spondylosis. R/O osteoporosis. \\r\\n-Compatible with multiple bony metastases.\\r\\n-S/P NG and endotracheal tube.\\r\\n-S/P Lt subclavian Port-A-cath. ']\n",
                        "\n"
                    ]
                },
                {
                    "name": "stderr",
                    "output_type": "stream",
                    "text": [
                        "Evaluting Epoch: 16:  50%|█████     | 5/10 [00:01<00:01,  4.54it/s]The attention mask and the pad token id were not set. As a consequence, you may observe unexpected behavior. Please pass your input's `attention_mask` to obtain reliable results.\n",
                        "Setting `pad_token_id` to `eos_token_id`:50256 for open-end generation.\n"
                    ]
                },
                {
                    "name": "stdout",
                    "output_type": "stream",
                    "text": [
                        "Names      : ['NLP_CHEST_057']\n",
                        "Predictions: ['Chest plain film shows:\\r\\n-Increased infiltrations in both lungs.\\r\\n']\n",
                        "Labels     : ['Chest plain film shows:\\r\\nImpression:\\r\\n-Increased infiltrations in both lungs.\\r\\n-Tortuous atherosclerotic dilated aorta.\\r\\n-Normal heart size. \\r\\n-DJD of spine. \\r\\n Old fracture of right ribs.\\r\\n-Increased both lung markings. \\r\\n S/P Lt jugular CVC insertion. \\r\\n S/P NG and endotracheal tube.\\r\\n-Susp. Lt pneumothorax. \\r\\n Suspect pneumomediastinum. \\r\\n Subcutaneous emphysema in bilateral neck.  \\r\\n-S/P bilateral chest tube insertion. ']\n",
                        "\n"
                    ]
                },
                {
                    "name": "stderr",
                    "output_type": "stream",
                    "text": [
                        "Evaluting Epoch: 16:  60%|██████    | 6/10 [00:01<00:00,  4.57it/s]The attention mask and the pad token id were not set. As a consequence, you may observe unexpected behavior. Please pass your input's `attention_mask` to obtain reliable results.\n",
                        "Setting `pad_token_id` to `eos_token_id`:50256 for open-end generation.\n"
                    ]
                },
                {
                    "name": "stdout",
                    "output_type": "stream",
                    "text": [
                        "Names      : ['NLP_CHEST_059']\n",
                        "Predictions: ['Chest plain film shows:\\r\\n-Increased infiltrations in both lungs.\\r\\n']\n",
                        "Labels     : ['Supine chest AP view shows: \\r\\n\\r\\nPigtail catheter at right lower chest.\\r\\nDecreased amount of right pleural effusion.\\r\\nAir in the right lower pleural space. Poor lung expansion.\\r\\nMild subcutaneous emphysema at right chest wall.\\r\\n\\r\\nRight pleural thickening.\\r\\nIll-defined masses at right perihilar region.\\r\\n\\r\\nNormal heart size. \\r\\n']\n",
                        "\n"
                    ]
                },
                {
                    "name": "stderr",
                    "output_type": "stream",
                    "text": [
                        "Evaluting Epoch: 16:  70%|███████   | 7/10 [00:01<00:00,  4.55it/s]The attention mask and the pad token id were not set. As a consequence, you may observe unexpected behavior. Please pass your input's `attention_mask` to obtain reliable results.\n",
                        "Setting `pad_token_id` to `eos_token_id`:50256 for open-end generation.\n"
                    ]
                },
                {
                    "name": "stdout",
                    "output_type": "stream",
                    "text": [
                        "Names      : ['NLP_CHEST_027']\n",
                        "Predictions: ['Chest plain film shows:\\r\\n-Increased infiltrations in both lungs.\\r\\n']\n",
                        "Labels     : ['Chest PA View:\\r\\nImpression: \\r\\n> Cardiomegaly with bilateral pulmonary congestion.\\r\\n> Postinflammatory fibrosis in both upper lungs.\\r\\n> Atherosclerosis of aorta.\\r\\n> Old fractures of left 5th and 6th ribs.\\r\\n> R/O osteoporosis.\\r\\n> Spondylosis of thoracolumbar spine.\\r\\n> S/P abdominal operation in RUQ.']\n",
                        "\n"
                    ]
                },
                {
                    "name": "stderr",
                    "output_type": "stream",
                    "text": [
                        "Evaluting Epoch: 16:  80%|████████  | 8/10 [00:01<00:00,  4.57it/s]The attention mask and the pad token id were not set. As a consequence, you may observe unexpected behavior. Please pass your input's `attention_mask` to obtain reliable results.\n",
                        "Setting `pad_token_id` to `eos_token_id`:50256 for open-end generation.\n"
                    ]
                },
                {
                    "name": "stdout",
                    "output_type": "stream",
                    "text": [
                        "Names      : ['NLP_CHEST_085']\n",
                        "Predictions: ['Chest plain film shows:\\r\\n-Increased infiltrations in both lungs.\\r\\n']\n",
                        "Labels     : ['Chest X ray: \\r\\n\\r\\n- Right pneumothorax with pleural effusion, status post drainge \\r\\n  tube placement.\\r\\n- Extensive subcutaneous emphysema from neck to right side \\r\\n  thoracic cage.\\r\\n- Increased right hilar opacity.\\r\\n- Atherosclerosis and tortuous aorta. \\r\\n- Obscured bilateral costophrenic angles. \\r\\n- Spondylosis and mild scoliosis of thoracolumbar spine. \\r\\n- OA of right glenohumeral joint.\\r\\n- Generalized osteopenia. \\r\\n']\n",
                        "\n"
                    ]
                },
                {
                    "name": "stderr",
                    "output_type": "stream",
                    "text": [
                        "Evaluting Epoch: 16:  90%|█████████ | 9/10 [00:01<00:00,  4.50it/s]The attention mask and the pad token id were not set. As a consequence, you may observe unexpected behavior. Please pass your input's `attention_mask` to obtain reliable results.\n",
                        "Setting `pad_token_id` to `eos_token_id`:50256 for open-end generation.\n"
                    ]
                },
                {
                    "name": "stdout",
                    "output_type": "stream",
                    "text": [
                        "Names      : ['NLP_CHEST_011']\n",
                        "Predictions: ['Chest plain film shows:\\r\\n-Increased infiltrations in both lungs.\\r\\n']\n",
                        "Labels     : [\"Chest AP view showed:\\r\\n1.s/p sternotomy and CABG.\\r\\n  Enlarged heart size with tortuous aorta.\\r\\n2.R't middle and lower lung faint patches.\\r\\n  L't lower lung consolidation.\\r\\n  L't pleural effusion.\\r\\n3.No mediastinum widening.\\r\\n4.s/p endotracheal tube and NG intubation.\\r\\n\"]\n",
                        "\n"
                    ]
                },
                {
                    "name": "stderr",
                    "output_type": "stream",
                    "text": [
                        "Evaluting Epoch: 16: 100%|██████████| 10/10 [00:02<00:00,  4.54it/s]\n"
                    ]
                },
                {
                    "name": "stdout",
                    "output_type": "stream",
                    "text": [
                        "Names      : ['NLP_CHEST_015']\n",
                        "Predictions: ['Chest plain film shows:\\r\\n-Increased infiltrations in both lungs.\\r\\n']\n",
                        "Labels     : ['Chest X ray: \\r\\n\\r\\n- No obvious lung mass nor consolidation patch.\\r\\n- Normal heart size.\\r\\n- No pleural effusion. ']\n",
                        "\n",
                        "Rouge-2 score on epoch 15: {'Rouge-L-P': 0.18063740079365068, 'Rouge-L-R': 0.038256904210585495, 'Rouge-L-F': 0.038256904210585495, 'Rouge-2-P': 0.04683779761904762, 'Rouge-2-R': 0.007650714630590962, 'Rouge-2-F': 0.007650714630590962}\n"
                    ]
                },
                {
                    "name": "stderr",
                    "output_type": "stream",
                    "text": [
                        "Training Epoch [17 / 30]: 100%|██████████| 89/89 [00:09<00:00,  9.62it/s, loss=0.531]\n",
                        "Evaluting Epoch: 17:   0%|          | 0/10 [00:00<?, ?it/s]The attention mask and the pad token id were not set. As a consequence, you may observe unexpected behavior. Please pass your input's `attention_mask` to obtain reliable results.\n",
                        "Setting `pad_token_id` to `eos_token_id`:50256 for open-end generation.\n",
                        "Evaluting Epoch: 17:  10%|█         | 1/10 [00:00<00:02,  4.39it/s]The attention mask and the pad token id were not set. As a consequence, you may observe unexpected behavior. Please pass your input's `attention_mask` to obtain reliable results.\n",
                        "Setting `pad_token_id` to `eos_token_id`:50256 for open-end generation.\n"
                    ]
                },
                {
                    "name": "stdout",
                    "output_type": "stream",
                    "text": [
                        "Names      : ['NLP_CHEST_071']\n",
                        "Predictions: ['Chest plain film shows:\\r\\n-Increased infiltrations in both lungs.\\r\\n']\n",
                        "Labels     : ['Chest film shows:\\r\\nImpression:\\r\\n-Bilateral lung infiltrations.\\r\\n-Suspect right lower lung patch. \\r\\n Blunting right CP angle. \\r\\n-Tortuous atherosclerotic aorta. \\r\\n-Scoliosis, DJD and osteoporosis of spine. \\r\\n Compression fracture of T12.\\r\\n Old fracture of left ribs.\\r\\n-S/P fixation in L-spine.  \\r\\n-S/P tracheostomy and NG tube.   \\r\\n']\n",
                        "\n"
                    ]
                },
                {
                    "name": "stderr",
                    "output_type": "stream",
                    "text": [
                        "Evaluting Epoch: 17:  20%|██        | 2/10 [00:00<00:01,  4.63it/s]The attention mask and the pad token id were not set. As a consequence, you may observe unexpected behavior. Please pass your input's `attention_mask` to obtain reliable results.\n",
                        "Setting `pad_token_id` to `eos_token_id`:50256 for open-end generation.\n"
                    ]
                },
                {
                    "name": "stdout",
                    "output_type": "stream",
                    "text": [
                        "Names      : ['NLP_CHEST_002']\n",
                        "Predictions: ['Chest plain film shows:\\r\\n-Increased infiltrations in both lungs.\\r\\n']\n",
                        "Labels     : ['Chest PA view shows: \\r\\n\\r\\nPartial atelectasis at left lower lung field. \\r\\nLeft pleural effusion.\\r\\n\\r\\nBorderline heart size. \\r\\nAtherosclerotic change of aortic knob. \\r\\n\\r\\nS/P port-A implantation via left subclavian vein. \\r\\nIntraperitoneal port catheter.\\r\\nSurgical clips at RUQ of abdomen.\\r\\n']\n",
                        "\n"
                    ]
                },
                {
                    "name": "stderr",
                    "output_type": "stream",
                    "text": [
                        "Evaluting Epoch: 17:  30%|███       | 3/10 [00:00<00:01,  4.51it/s]The attention mask and the pad token id were not set. As a consequence, you may observe unexpected behavior. Please pass your input's `attention_mask` to obtain reliable results.\n",
                        "Setting `pad_token_id` to `eos_token_id`:50256 for open-end generation.\n"
                    ]
                },
                {
                    "name": "stdout",
                    "output_type": "stream",
                    "text": [
                        "Names      : ['NLP_CHEST_004']\n",
                        "Predictions: ['Chest plain film shows:\\r\\n-Increased infiltrations in both lungs.\\r\\n']\n",
                        "Labels     : ['Chest PA view show: \\r\\nImpression:\\r\\n-S/P RLL wedge resection.\\u3000 \\r\\n-Bilateral lungs metastasis.\\r\\n-Left lower lung subsegmental atelectasis. \\r\\n-Increased infiltrations in both lungs.\\r\\n-Blunting right CP angle. \\r\\n-Tortuous atherosclerotic aorta.\\r\\n-Scoliosis, DJD and osteoporosis of spine. \\r\\n-Compression fracture of L1.']\n",
                        "\n"
                    ]
                },
                {
                    "name": "stderr",
                    "output_type": "stream",
                    "text": [
                        "Evaluting Epoch: 17:  40%|████      | 4/10 [00:00<00:01,  4.53it/s]The attention mask and the pad token id were not set. As a consequence, you may observe unexpected behavior. Please pass your input's `attention_mask` to obtain reliable results.\n",
                        "Setting `pad_token_id` to `eos_token_id`:50256 for open-end generation.\n"
                    ]
                },
                {
                    "name": "stdout",
                    "output_type": "stream",
                    "text": [
                        "Names      : ['NLP_CHEST_031']\n",
                        "Predictions: ['Chest plain film shows:\\r\\n-Increased infiltrations in both lungs.\\r\\n']\n",
                        "Labels     : ['Chest PA view:\\r\\nImpression:\\r\\n-Increased both lung markings. \\r\\n-Compatible with right lung nodules.\\r\\n-Fibrotic lesion in left upper lung.\\r\\n-Normal heart size. Atherosclerotic aorta. \\r\\n-Suspect right pleural effusion.\\r\\n-Spondylosis. R/O osteoporosis. \\r\\n-Compatible with multiple bony metastases.\\r\\n-S/P NG and endotracheal tube.\\r\\n-S/P Lt subclavian Port-A-cath. ']\n",
                        "\n"
                    ]
                },
                {
                    "name": "stderr",
                    "output_type": "stream",
                    "text": [
                        "Evaluting Epoch: 17:  50%|█████     | 5/10 [00:01<00:01,  4.53it/s]The attention mask and the pad token id were not set. As a consequence, you may observe unexpected behavior. Please pass your input's `attention_mask` to obtain reliable results.\n",
                        "Setting `pad_token_id` to `eos_token_id`:50256 for open-end generation.\n"
                    ]
                },
                {
                    "name": "stdout",
                    "output_type": "stream",
                    "text": [
                        "Names      : ['NLP_CHEST_057']\n",
                        "Predictions: ['Chest plain film shows:\\r\\n-Increased infiltrations in both lungs.\\r\\n']\n",
                        "Labels     : ['Chest plain film shows:\\r\\nImpression:\\r\\n-Increased infiltrations in both lungs.\\r\\n-Tortuous atherosclerotic dilated aorta.\\r\\n-Normal heart size. \\r\\n-DJD of spine. \\r\\n Old fracture of right ribs.\\r\\n-Increased both lung markings. \\r\\n S/P Lt jugular CVC insertion. \\r\\n S/P NG and endotracheal tube.\\r\\n-Susp. Lt pneumothorax. \\r\\n Suspect pneumomediastinum. \\r\\n Subcutaneous emphysema in bilateral neck.  \\r\\n-S/P bilateral chest tube insertion. ']\n",
                        "\n"
                    ]
                },
                {
                    "name": "stderr",
                    "output_type": "stream",
                    "text": [
                        "Evaluting Epoch: 17:  60%|██████    | 6/10 [00:01<00:00,  4.57it/s]The attention mask and the pad token id were not set. As a consequence, you may observe unexpected behavior. Please pass your input's `attention_mask` to obtain reliable results.\n",
                        "Setting `pad_token_id` to `eos_token_id`:50256 for open-end generation.\n"
                    ]
                },
                {
                    "name": "stdout",
                    "output_type": "stream",
                    "text": [
                        "Names      : ['NLP_CHEST_059']\n",
                        "Predictions: ['Chest plain film shows:\\r\\n-Increased infiltrations in both lungs.\\r\\n']\n",
                        "Labels     : ['Supine chest AP view shows: \\r\\n\\r\\nPigtail catheter at right lower chest.\\r\\nDecreased amount of right pleural effusion.\\r\\nAir in the right lower pleural space. Poor lung expansion.\\r\\nMild subcutaneous emphysema at right chest wall.\\r\\n\\r\\nRight pleural thickening.\\r\\nIll-defined masses at right perihilar region.\\r\\n\\r\\nNormal heart size. \\r\\n']\n",
                        "\n"
                    ]
                },
                {
                    "name": "stderr",
                    "output_type": "stream",
                    "text": [
                        "Evaluting Epoch: 17:  70%|███████   | 7/10 [00:01<00:00,  4.55it/s]The attention mask and the pad token id were not set. As a consequence, you may observe unexpected behavior. Please pass your input's `attention_mask` to obtain reliable results.\n",
                        "Setting `pad_token_id` to `eos_token_id`:50256 for open-end generation.\n"
                    ]
                },
                {
                    "name": "stdout",
                    "output_type": "stream",
                    "text": [
                        "Names      : ['NLP_CHEST_027']\n",
                        "Predictions: ['Chest plain film shows:\\r\\n-Increased infiltrations in both lungs.\\r\\n']\n",
                        "Labels     : ['Chest PA View:\\r\\nImpression: \\r\\n> Cardiomegaly with bilateral pulmonary congestion.\\r\\n> Postinflammatory fibrosis in both upper lungs.\\r\\n> Atherosclerosis of aorta.\\r\\n> Old fractures of left 5th and 6th ribs.\\r\\n> R/O osteoporosis.\\r\\n> Spondylosis of thoracolumbar spine.\\r\\n> S/P abdominal operation in RUQ.']\n",
                        "\n"
                    ]
                },
                {
                    "name": "stderr",
                    "output_type": "stream",
                    "text": [
                        "Evaluting Epoch: 17:  80%|████████  | 8/10 [00:01<00:00,  4.58it/s]The attention mask and the pad token id were not set. As a consequence, you may observe unexpected behavior. Please pass your input's `attention_mask` to obtain reliable results.\n",
                        "Setting `pad_token_id` to `eos_token_id`:50256 for open-end generation.\n"
                    ]
                },
                {
                    "name": "stdout",
                    "output_type": "stream",
                    "text": [
                        "Names      : ['NLP_CHEST_085']\n",
                        "Predictions: ['Chest plain film shows:\\r\\n-Increased infiltrations in both lungs.\\r\\n']\n",
                        "Labels     : ['Chest X ray: \\r\\n\\r\\n- Right pneumothorax with pleural effusion, status post drainge \\r\\n  tube placement.\\r\\n- Extensive subcutaneous emphysema from neck to right side \\r\\n  thoracic cage.\\r\\n- Increased right hilar opacity.\\r\\n- Atherosclerosis and tortuous aorta. \\r\\n- Obscured bilateral costophrenic angles. \\r\\n- Spondylosis and mild scoliosis of thoracolumbar spine. \\r\\n- OA of right glenohumeral joint.\\r\\n- Generalized osteopenia. \\r\\n']\n",
                        "\n"
                    ]
                },
                {
                    "name": "stderr",
                    "output_type": "stream",
                    "text": [
                        "Evaluting Epoch: 17:  90%|█████████ | 9/10 [00:01<00:00,  4.52it/s]The attention mask and the pad token id were not set. As a consequence, you may observe unexpected behavior. Please pass your input's `attention_mask` to obtain reliable results.\n",
                        "Setting `pad_token_id` to `eos_token_id`:50256 for open-end generation.\n"
                    ]
                },
                {
                    "name": "stdout",
                    "output_type": "stream",
                    "text": [
                        "Names      : ['NLP_CHEST_011']\n",
                        "Predictions: ['Chest plain film shows:\\r\\n-Increased infiltrations in both lungs.\\r\\n']\n",
                        "Labels     : [\"Chest AP view showed:\\r\\n1.s/p sternotomy and CABG.\\r\\n  Enlarged heart size with tortuous aorta.\\r\\n2.R't middle and lower lung faint patches.\\r\\n  L't lower lung consolidation.\\r\\n  L't pleural effusion.\\r\\n3.No mediastinum widening.\\r\\n4.s/p endotracheal tube and NG intubation.\\r\\n\"]\n",
                        "\n"
                    ]
                },
                {
                    "name": "stderr",
                    "output_type": "stream",
                    "text": [
                        "Evaluting Epoch: 17: 100%|██████████| 10/10 [00:02<00:00,  4.54it/s]\n"
                    ]
                },
                {
                    "name": "stdout",
                    "output_type": "stream",
                    "text": [
                        "Names      : ['NLP_CHEST_015']\n",
                        "Predictions: ['Chest plain film shows:\\r\\n-Increased infiltrations in both lungs.\\r\\n']\n",
                        "Labels     : ['Chest X ray: \\r\\n\\r\\n- No obvious lung mass nor consolidation patch.\\r\\n- Normal heart size.\\r\\n- No pleural effusion. ']\n",
                        "\n",
                        "Rouge-2 score on epoch 16: {'Rouge-L-P': 0.19158029878618107, 'Rouge-L-R': 0.04050311066492154, 'Rouge-L-F': 0.04050311066492154, 'Rouge-2-P': 0.05364145658263305, 'Rouge-2-R': 0.008873637107355389, 'Rouge-2-F': 0.008873637107355389}\n"
                    ]
                },
                {
                    "name": "stderr",
                    "output_type": "stream",
                    "text": [
                        "Training Epoch [18 / 30]: 100%|██████████| 89/89 [00:09<00:00,  9.61it/s, loss=0.513]\n",
                        "Evaluting Epoch: 18:   0%|          | 0/10 [00:00<?, ?it/s]The attention mask and the pad token id were not set. As a consequence, you may observe unexpected behavior. Please pass your input's `attention_mask` to obtain reliable results.\n",
                        "Setting `pad_token_id` to `eos_token_id`:50256 for open-end generation.\n",
                        "Evaluting Epoch: 18:  10%|█         | 1/10 [00:00<00:01,  4.64it/s]The attention mask and the pad token id were not set. As a consequence, you may observe unexpected behavior. Please pass your input's `attention_mask` to obtain reliable results.\n",
                        "Setting `pad_token_id` to `eos_token_id`:50256 for open-end generation.\n"
                    ]
                },
                {
                    "name": "stdout",
                    "output_type": "stream",
                    "text": [
                        "Names      : ['NLP_CHEST_071']\n",
                        "Predictions: ['Chest plain film shows:\\r\\n-Increased infiltrations in both lungs.\\r\\n']\n",
                        "Labels     : ['Chest film shows:\\r\\nImpression:\\r\\n-Bilateral lung infiltrations.\\r\\n-Suspect right lower lung patch. \\r\\n Blunting right CP angle. \\r\\n-Tortuous atherosclerotic aorta. \\r\\n-Scoliosis, DJD and osteoporosis of spine. \\r\\n Compression fracture of T12.\\r\\n Old fracture of left ribs.\\r\\n-S/P fixation in L-spine.  \\r\\n-S/P tracheostomy and NG tube.   \\r\\n']\n",
                        "\n"
                    ]
                },
                {
                    "name": "stderr",
                    "output_type": "stream",
                    "text": [
                        "Evaluting Epoch: 18:  20%|██        | 2/10 [00:00<00:01,  4.68it/s]The attention mask and the pad token id were not set. As a consequence, you may observe unexpected behavior. Please pass your input's `attention_mask` to obtain reliable results.\n",
                        "Setting `pad_token_id` to `eos_token_id`:50256 for open-end generation.\n"
                    ]
                },
                {
                    "name": "stdout",
                    "output_type": "stream",
                    "text": [
                        "Names      : ['NLP_CHEST_002']\n",
                        "Predictions: ['Chest plain film shows:\\r\\n-Increased infiltrations in both lungs.\\r\\n']\n",
                        "Labels     : ['Chest PA view shows: \\r\\n\\r\\nPartial atelectasis at left lower lung field. \\r\\nLeft pleural effusion.\\r\\n\\r\\nBorderline heart size. \\r\\nAtherosclerotic change of aortic knob. \\r\\n\\r\\nS/P port-A implantation via left subclavian vein. \\r\\nIntraperitoneal port catheter.\\r\\nSurgical clips at RUQ of abdomen.\\r\\n']\n",
                        "\n"
                    ]
                },
                {
                    "name": "stderr",
                    "output_type": "stream",
                    "text": [
                        "Evaluting Epoch: 18:  30%|███       | 3/10 [00:00<00:01,  4.53it/s]The attention mask and the pad token id were not set. As a consequence, you may observe unexpected behavior. Please pass your input's `attention_mask` to obtain reliable results.\n",
                        "Setting `pad_token_id` to `eos_token_id`:50256 for open-end generation.\n"
                    ]
                },
                {
                    "name": "stdout",
                    "output_type": "stream",
                    "text": [
                        "Names      : ['NLP_CHEST_004']\n",
                        "Predictions: ['Chest plain film shows:\\r\\n-Increased infiltrations in both lungs.\\r\\n']\n",
                        "Labels     : ['Chest PA view show: \\r\\nImpression:\\r\\n-S/P RLL wedge resection.\\u3000 \\r\\n-Bilateral lungs metastasis.\\r\\n-Left lower lung subsegmental atelectasis. \\r\\n-Increased infiltrations in both lungs.\\r\\n-Blunting right CP angle. \\r\\n-Tortuous atherosclerotic aorta.\\r\\n-Scoliosis, DJD and osteoporosis of spine. \\r\\n-Compression fracture of L1.']\n",
                        "\n"
                    ]
                },
                {
                    "name": "stderr",
                    "output_type": "stream",
                    "text": [
                        "Evaluting Epoch: 18:  40%|████      | 4/10 [00:00<00:01,  4.53it/s]The attention mask and the pad token id were not set. As a consequence, you may observe unexpected behavior. Please pass your input's `attention_mask` to obtain reliable results.\n",
                        "Setting `pad_token_id` to `eos_token_id`:50256 for open-end generation.\n"
                    ]
                },
                {
                    "name": "stdout",
                    "output_type": "stream",
                    "text": [
                        "Names      : ['NLP_CHEST_031']\n",
                        "Predictions: ['Chest plain film shows:\\r\\n-Increased infiltrations in both lungs.\\r\\n']\n",
                        "Labels     : ['Chest PA view:\\r\\nImpression:\\r\\n-Increased both lung markings. \\r\\n-Compatible with right lung nodules.\\r\\n-Fibrotic lesion in left upper lung.\\r\\n-Normal heart size. Atherosclerotic aorta. \\r\\n-Suspect right pleural effusion.\\r\\n-Spondylosis. R/O osteoporosis. \\r\\n-Compatible with multiple bony metastases.\\r\\n-S/P NG and endotracheal tube.\\r\\n-S/P Lt subclavian Port-A-cath. ']\n",
                        "\n"
                    ]
                },
                {
                    "name": "stderr",
                    "output_type": "stream",
                    "text": [
                        "Evaluting Epoch: 18:  50%|█████     | 5/10 [00:01<00:01,  4.45it/s]The attention mask and the pad token id were not set. As a consequence, you may observe unexpected behavior. Please pass your input's `attention_mask` to obtain reliable results.\n",
                        "Setting `pad_token_id` to `eos_token_id`:50256 for open-end generation.\n"
                    ]
                },
                {
                    "name": "stdout",
                    "output_type": "stream",
                    "text": [
                        "Names      : ['NLP_CHEST_057']\n",
                        "Predictions: ['Chest plain film shows:\\r\\n-Increased infiltrations in both lungs.\\r\\n']\n",
                        "Labels     : ['Chest plain film shows:\\r\\nImpression:\\r\\n-Increased infiltrations in both lungs.\\r\\n-Tortuous atherosclerotic dilated aorta.\\r\\n-Normal heart size. \\r\\n-DJD of spine. \\r\\n Old fracture of right ribs.\\r\\n-Increased both lung markings. \\r\\n S/P Lt jugular CVC insertion. \\r\\n S/P NG and endotracheal tube.\\r\\n-Susp. Lt pneumothorax. \\r\\n Suspect pneumomediastinum. \\r\\n Subcutaneous emphysema in bilateral neck.  \\r\\n-S/P bilateral chest tube insertion. ']\n",
                        "\n"
                    ]
                },
                {
                    "name": "stderr",
                    "output_type": "stream",
                    "text": [
                        "Evaluting Epoch: 18:  60%|██████    | 6/10 [00:01<00:00,  4.52it/s]The attention mask and the pad token id were not set. As a consequence, you may observe unexpected behavior. Please pass your input's `attention_mask` to obtain reliable results.\n",
                        "Setting `pad_token_id` to `eos_token_id`:50256 for open-end generation.\n"
                    ]
                },
                {
                    "name": "stdout",
                    "output_type": "stream",
                    "text": [
                        "Names      : ['NLP_CHEST_059']\n",
                        "Predictions: ['Chest plain film shows:\\r\\n-Increased infiltrations in both lungs.\\r\\n']\n",
                        "Labels     : ['Supine chest AP view shows: \\r\\n\\r\\nPigtail catheter at right lower chest.\\r\\nDecreased amount of right pleural effusion.\\r\\nAir in the right lower pleural space. Poor lung expansion.\\r\\nMild subcutaneous emphysema at right chest wall.\\r\\n\\r\\nRight pleural thickening.\\r\\nIll-defined masses at right perihilar region.\\r\\n\\r\\nNormal heart size. \\r\\n']\n",
                        "\n"
                    ]
                },
                {
                    "name": "stderr",
                    "output_type": "stream",
                    "text": [
                        "Evaluting Epoch: 18:  70%|███████   | 7/10 [00:01<00:00,  4.53it/s]The attention mask and the pad token id were not set. As a consequence, you may observe unexpected behavior. Please pass your input's `attention_mask` to obtain reliable results.\n",
                        "Setting `pad_token_id` to `eos_token_id`:50256 for open-end generation.\n"
                    ]
                },
                {
                    "name": "stdout",
                    "output_type": "stream",
                    "text": [
                        "Names      : ['NLP_CHEST_027']\n",
                        "Predictions: ['Chest plain film shows:\\r\\n-Increased infiltrations in both lungs.\\r\\n']\n",
                        "Labels     : ['Chest PA View:\\r\\nImpression: \\r\\n> Cardiomegaly with bilateral pulmonary congestion.\\r\\n> Postinflammatory fibrosis in both upper lungs.\\r\\n> Atherosclerosis of aorta.\\r\\n> Old fractures of left 5th and 6th ribs.\\r\\n> R/O osteoporosis.\\r\\n> Spondylosis of thoracolumbar spine.\\r\\n> S/P abdominal operation in RUQ.']\n",
                        "\n"
                    ]
                },
                {
                    "name": "stderr",
                    "output_type": "stream",
                    "text": [
                        "Evaluting Epoch: 18:  80%|████████  | 8/10 [00:01<00:00,  4.50it/s]The attention mask and the pad token id were not set. As a consequence, you may observe unexpected behavior. Please pass your input's `attention_mask` to obtain reliable results.\n",
                        "Setting `pad_token_id` to `eos_token_id`:50256 for open-end generation.\n"
                    ]
                },
                {
                    "name": "stdout",
                    "output_type": "stream",
                    "text": [
                        "Names      : ['NLP_CHEST_085']\n",
                        "Predictions: ['Chest plain film shows:\\r\\n-Increased infiltrations in both lungs.\\r\\n']\n",
                        "Labels     : ['Chest X ray: \\r\\n\\r\\n- Right pneumothorax with pleural effusion, status post drainge \\r\\n  tube placement.\\r\\n- Extensive subcutaneous emphysema from neck to right side \\r\\n  thoracic cage.\\r\\n- Increased right hilar opacity.\\r\\n- Atherosclerosis and tortuous aorta. \\r\\n- Obscured bilateral costophrenic angles. \\r\\n- Spondylosis and mild scoliosis of thoracolumbar spine. \\r\\n- OA of right glenohumeral joint.\\r\\n- Generalized osteopenia. \\r\\n']\n",
                        "\n"
                    ]
                },
                {
                    "name": "stderr",
                    "output_type": "stream",
                    "text": [
                        "Evaluting Epoch: 18:  90%|█████████ | 9/10 [00:01<00:00,  4.46it/s]The attention mask and the pad token id were not set. As a consequence, you may observe unexpected behavior. Please pass your input's `attention_mask` to obtain reliable results.\n",
                        "Setting `pad_token_id` to `eos_token_id`:50256 for open-end generation.\n"
                    ]
                },
                {
                    "name": "stdout",
                    "output_type": "stream",
                    "text": [
                        "Names      : ['NLP_CHEST_011']\n",
                        "Predictions: ['Chest plain film shows:\\r\\n-Increased infiltrations in both lungs.\\r\\n']\n",
                        "Labels     : [\"Chest AP view showed:\\r\\n1.s/p sternotomy and CABG.\\r\\n  Enlarged heart size with tortuous aorta.\\r\\n2.R't middle and lower lung faint patches.\\r\\n  L't lower lung consolidation.\\r\\n  L't pleural effusion.\\r\\n3.No mediastinum widening.\\r\\n4.s/p endotracheal tube and NG intubation.\\r\\n\"]\n",
                        "\n"
                    ]
                },
                {
                    "name": "stderr",
                    "output_type": "stream",
                    "text": [
                        "Evaluting Epoch: 18: 100%|██████████| 10/10 [00:02<00:00,  4.51it/s]\n"
                    ]
                },
                {
                    "name": "stdout",
                    "output_type": "stream",
                    "text": [
                        "Names      : ['NLP_CHEST_015']\n",
                        "Predictions: ['Chest plain film shows:\\r\\n-Increased infiltrations in both lungs.\\r\\n']\n",
                        "Labels     : ['Chest X ray: \\r\\n\\r\\n- No obvious lung mass nor consolidation patch.\\r\\n- Normal heart size.\\r\\n- No pleural effusion. ']\n",
                        "\n",
                        "Rouge-2 score on epoch 17: {'Rouge-L-P': 0.20130731922398584, 'Rouge-L-R': 0.04249973862433137, 'Rouge-L-F': 0.04249973862433137, 'Rouge-2-P': 0.05968915343915344, 'Rouge-2-R': 0.009960679308923769, 'Rouge-2-F': 0.009960679308923769}\n"
                    ]
                },
                {
                    "name": "stderr",
                    "output_type": "stream",
                    "text": [
                        "Training Epoch [19 / 30]: 100%|██████████| 89/89 [00:09<00:00,  9.57it/s, loss=0.487]\n",
                        "Evaluting Epoch: 19:   0%|          | 0/10 [00:00<?, ?it/s]The attention mask and the pad token id were not set. As a consequence, you may observe unexpected behavior. Please pass your input's `attention_mask` to obtain reliable results.\n",
                        "Setting `pad_token_id` to `eos_token_id`:50256 for open-end generation.\n",
                        "Evaluting Epoch: 19:  10%|█         | 1/10 [00:00<00:02,  4.50it/s]The attention mask and the pad token id were not set. As a consequence, you may observe unexpected behavior. Please pass your input's `attention_mask` to obtain reliable results.\n",
                        "Setting `pad_token_id` to `eos_token_id`:50256 for open-end generation.\n"
                    ]
                },
                {
                    "name": "stdout",
                    "output_type": "stream",
                    "text": [
                        "Names      : ['NLP_CHEST_071']\n",
                        "Predictions: ['Chest PA view showed:\\r\\n-Increased infiltrations in both lungs.\\r\\n']\n",
                        "Labels     : ['Chest film shows:\\r\\nImpression:\\r\\n-Bilateral lung infiltrations.\\r\\n-Suspect right lower lung patch. \\r\\n Blunting right CP angle. \\r\\n-Tortuous atherosclerotic aorta. \\r\\n-Scoliosis, DJD and osteoporosis of spine. \\r\\n Compression fracture of T12.\\r\\n Old fracture of left ribs.\\r\\n-S/P fixation in L-spine.  \\r\\n-S/P tracheostomy and NG tube.   \\r\\n']\n",
                        "\n"
                    ]
                },
                {
                    "name": "stderr",
                    "output_type": "stream",
                    "text": [
                        "Evaluting Epoch: 19:  20%|██        | 2/10 [00:00<00:01,  4.65it/s]The attention mask and the pad token id were not set. As a consequence, you may observe unexpected behavior. Please pass your input's `attention_mask` to obtain reliable results.\n",
                        "Setting `pad_token_id` to `eos_token_id`:50256 for open-end generation.\n"
                    ]
                },
                {
                    "name": "stdout",
                    "output_type": "stream",
                    "text": [
                        "Names      : ['NLP_CHEST_002']\n",
                        "Predictions: ['Chest PA view showed:\\r\\n-Increased infiltrations in both lungs.\\r\\n']\n",
                        "Labels     : ['Chest PA view shows: \\r\\n\\r\\nPartial atelectasis at left lower lung field. \\r\\nLeft pleural effusion.\\r\\n\\r\\nBorderline heart size. \\r\\nAtherosclerotic change of aortic knob. \\r\\n\\r\\nS/P port-A implantation via left subclavian vein. \\r\\nIntraperitoneal port catheter.\\r\\nSurgical clips at RUQ of abdomen.\\r\\n']\n",
                        "\n"
                    ]
                },
                {
                    "name": "stderr",
                    "output_type": "stream",
                    "text": [
                        "Evaluting Epoch: 19:  30%|███       | 3/10 [00:00<00:01,  4.50it/s]The attention mask and the pad token id were not set. As a consequence, you may observe unexpected behavior. Please pass your input's `attention_mask` to obtain reliable results.\n",
                        "Setting `pad_token_id` to `eos_token_id`:50256 for open-end generation.\n"
                    ]
                },
                {
                    "name": "stdout",
                    "output_type": "stream",
                    "text": [
                        "Names      : ['NLP_CHEST_004']\n",
                        "Predictions: ['Chest plain film shows:\\r\\n-Increased infiltrations in both lungs.\\r\\n']\n",
                        "Labels     : ['Chest PA view show: \\r\\nImpression:\\r\\n-S/P RLL wedge resection.\\u3000 \\r\\n-Bilateral lungs metastasis.\\r\\n-Left lower lung subsegmental atelectasis. \\r\\n-Increased infiltrations in both lungs.\\r\\n-Blunting right CP angle. \\r\\n-Tortuous atherosclerotic aorta.\\r\\n-Scoliosis, DJD and osteoporosis of spine. \\r\\n-Compression fracture of L1.']\n",
                        "\n"
                    ]
                },
                {
                    "name": "stderr",
                    "output_type": "stream",
                    "text": [
                        "Evaluting Epoch: 19:  40%|████      | 4/10 [00:00<00:01,  4.50it/s]The attention mask and the pad token id were not set. As a consequence, you may observe unexpected behavior. Please pass your input's `attention_mask` to obtain reliable results.\n",
                        "Setting `pad_token_id` to `eos_token_id`:50256 for open-end generation.\n"
                    ]
                },
                {
                    "name": "stdout",
                    "output_type": "stream",
                    "text": [
                        "Names      : ['NLP_CHEST_031']\n",
                        "Predictions: ['Chest plain film shows:\\r\\n-Increased infiltrations in both lungs.\\r\\n']\n",
                        "Labels     : ['Chest PA view:\\r\\nImpression:\\r\\n-Increased both lung markings. \\r\\n-Compatible with right lung nodules.\\r\\n-Fibrotic lesion in left upper lung.\\r\\n-Normal heart size. Atherosclerotic aorta. \\r\\n-Suspect right pleural effusion.\\r\\n-Spondylosis. R/O osteoporosis. \\r\\n-Compatible with multiple bony metastases.\\r\\n-S/P NG and endotracheal tube.\\r\\n-S/P Lt subclavian Port-A-cath. ']\n",
                        "\n"
                    ]
                },
                {
                    "name": "stderr",
                    "output_type": "stream",
                    "text": [
                        "Evaluting Epoch: 19:  50%|█████     | 5/10 [00:01<00:01,  4.50it/s]The attention mask and the pad token id were not set. As a consequence, you may observe unexpected behavior. Please pass your input's `attention_mask` to obtain reliable results.\n",
                        "Setting `pad_token_id` to `eos_token_id`:50256 for open-end generation.\n"
                    ]
                },
                {
                    "name": "stdout",
                    "output_type": "stream",
                    "text": [
                        "Names      : ['NLP_CHEST_057']\n",
                        "Predictions: ['Chest plain film shows:\\r\\n-Increased infiltrations in both lungs.\\r\\n']\n",
                        "Labels     : ['Chest plain film shows:\\r\\nImpression:\\r\\n-Increased infiltrations in both lungs.\\r\\n-Tortuous atherosclerotic dilated aorta.\\r\\n-Normal heart size. \\r\\n-DJD of spine. \\r\\n Old fracture of right ribs.\\r\\n-Increased both lung markings. \\r\\n S/P Lt jugular CVC insertion. \\r\\n S/P NG and endotracheal tube.\\r\\n-Susp. Lt pneumothorax. \\r\\n Suspect pneumomediastinum. \\r\\n Subcutaneous emphysema in bilateral neck.  \\r\\n-S/P bilateral chest tube insertion. ']\n",
                        "\n"
                    ]
                },
                {
                    "name": "stderr",
                    "output_type": "stream",
                    "text": [
                        "Evaluting Epoch: 19:  60%|██████    | 6/10 [00:01<00:00,  4.54it/s]The attention mask and the pad token id were not set. As a consequence, you may observe unexpected behavior. Please pass your input's `attention_mask` to obtain reliable results.\n",
                        "Setting `pad_token_id` to `eos_token_id`:50256 for open-end generation.\n"
                    ]
                },
                {
                    "name": "stdout",
                    "output_type": "stream",
                    "text": [
                        "Names      : ['NLP_CHEST_059']\n",
                        "Predictions: ['Chest plain film shows:\\r\\n-Increased infiltrations in both lungs.\\r\\n']\n",
                        "Labels     : ['Supine chest AP view shows: \\r\\n\\r\\nPigtail catheter at right lower chest.\\r\\nDecreased amount of right pleural effusion.\\r\\nAir in the right lower pleural space. Poor lung expansion.\\r\\nMild subcutaneous emphysema at right chest wall.\\r\\n\\r\\nRight pleural thickening.\\r\\nIll-defined masses at right perihilar region.\\r\\n\\r\\nNormal heart size. \\r\\n']\n",
                        "\n"
                    ]
                },
                {
                    "name": "stderr",
                    "output_type": "stream",
                    "text": [
                        "Evaluting Epoch: 19:  70%|███████   | 7/10 [00:01<00:00,  4.51it/s]The attention mask and the pad token id were not set. As a consequence, you may observe unexpected behavior. Please pass your input's `attention_mask` to obtain reliable results.\n",
                        "Setting `pad_token_id` to `eos_token_id`:50256 for open-end generation.\n"
                    ]
                },
                {
                    "name": "stdout",
                    "output_type": "stream",
                    "text": [
                        "Names      : ['NLP_CHEST_027']\n",
                        "Predictions: ['Chest plain film shows:\\r\\n-Increased infiltrations in both lungs.\\r\\n']\n",
                        "Labels     : ['Chest PA View:\\r\\nImpression: \\r\\n> Cardiomegaly with bilateral pulmonary congestion.\\r\\n> Postinflammatory fibrosis in both upper lungs.\\r\\n> Atherosclerosis of aorta.\\r\\n> Old fractures of left 5th and 6th ribs.\\r\\n> R/O osteoporosis.\\r\\n> Spondylosis of thoracolumbar spine.\\r\\n> S/P abdominal operation in RUQ.']\n",
                        "\n"
                    ]
                },
                {
                    "name": "stderr",
                    "output_type": "stream",
                    "text": [
                        "Evaluting Epoch: 19:  80%|████████  | 8/10 [00:01<00:00,  4.53it/s]The attention mask and the pad token id were not set. As a consequence, you may observe unexpected behavior. Please pass your input's `attention_mask` to obtain reliable results.\n",
                        "Setting `pad_token_id` to `eos_token_id`:50256 for open-end generation.\n"
                    ]
                },
                {
                    "name": "stdout",
                    "output_type": "stream",
                    "text": [
                        "Names      : ['NLP_CHEST_085']\n",
                        "Predictions: ['Chest plain film shows:\\r\\n-Increased infiltrations in both lungs.\\r\\n']\n",
                        "Labels     : ['Chest X ray: \\r\\n\\r\\n- Right pneumothorax with pleural effusion, status post drainge \\r\\n  tube placement.\\r\\n- Extensive subcutaneous emphysema from neck to right side \\r\\n  thoracic cage.\\r\\n- Increased right hilar opacity.\\r\\n- Atherosclerosis and tortuous aorta. \\r\\n- Obscured bilateral costophrenic angles. \\r\\n- Spondylosis and mild scoliosis of thoracolumbar spine. \\r\\n- OA of right glenohumeral joint.\\r\\n- Generalized osteopenia. \\r\\n']\n",
                        "\n"
                    ]
                },
                {
                    "name": "stderr",
                    "output_type": "stream",
                    "text": [
                        "Evaluting Epoch: 19:  90%|█████████ | 9/10 [00:01<00:00,  4.46it/s]The attention mask and the pad token id were not set. As a consequence, you may observe unexpected behavior. Please pass your input's `attention_mask` to obtain reliable results.\n",
                        "Setting `pad_token_id` to `eos_token_id`:50256 for open-end generation.\n"
                    ]
                },
                {
                    "name": "stdout",
                    "output_type": "stream",
                    "text": [
                        "Names      : ['NLP_CHEST_011']\n",
                        "Predictions: ['Chest plain film shows:\\r\\n-Increased infiltrations in both lungs.\\r\\n']\n",
                        "Labels     : [\"Chest AP view showed:\\r\\n1.s/p sternotomy and CABG.\\r\\n  Enlarged heart size with tortuous aorta.\\r\\n2.R't middle and lower lung faint patches.\\r\\n  L't lower lung consolidation.\\r\\n  L't pleural effusion.\\r\\n3.No mediastinum widening.\\r\\n4.s/p endotracheal tube and NG intubation.\\r\\n\"]\n",
                        "\n"
                    ]
                },
                {
                    "name": "stderr",
                    "output_type": "stream",
                    "text": [
                        "Evaluting Epoch: 19: 100%|██████████| 10/10 [00:02<00:00,  4.51it/s]\n"
                    ]
                },
                {
                    "name": "stdout",
                    "output_type": "stream",
                    "text": [
                        "Names      : ['NLP_CHEST_015']\n",
                        "Predictions: ['Chest plain film shows:\\r\\n-Increased infiltrations in both lungs.\\r\\n']\n",
                        "Labels     : ['Chest X ray: \\r\\n\\r\\n- No obvious lung mass nor consolidation patch.\\r\\n- Normal heart size.\\r\\n- No pleural effusion. ']\n",
                        "\n",
                        "Rouge-2 score on epoch 18: {'Rouge-L-P': 0.20942564745196326, 'Rouge-L-R': 0.04417990133310177, 'Rouge-L-F': 0.04417990133310177, 'Rouge-2-P': 0.06575814536340852, 'Rouge-2-R': 0.011092477753719321, 'Rouge-2-F': 0.011092477753719321}\n"
                    ]
                },
                {
                    "name": "stderr",
                    "output_type": "stream",
                    "text": [
                        "Training Epoch [20 / 30]: 100%|██████████| 89/89 [00:09<00:00,  9.63it/s, loss=0.47] \n",
                        "Evaluting Epoch: 20:   0%|          | 0/10 [00:00<?, ?it/s]The attention mask and the pad token id were not set. As a consequence, you may observe unexpected behavior. Please pass your input's `attention_mask` to obtain reliable results.\n",
                        "Setting `pad_token_id` to `eos_token_id`:50256 for open-end generation.\n",
                        "Evaluting Epoch: 20:  10%|█         | 1/10 [00:00<00:01,  4.74it/s]The attention mask and the pad token id were not set. As a consequence, you may observe unexpected behavior. Please pass your input's `attention_mask` to obtain reliable results.\n",
                        "Setting `pad_token_id` to `eos_token_id`:50256 for open-end generation.\n"
                    ]
                },
                {
                    "name": "stdout",
                    "output_type": "stream",
                    "text": [
                        "Names      : ['NLP_CHEST_071']\n",
                        "Predictions: ['Chest plain film shows:\\r\\nImpression:\\r\\n-Increased infiltrations in']\n",
                        "Labels     : ['Chest film shows:\\r\\nImpression:\\r\\n-Bilateral lung infiltrations.\\r\\n-Suspect right lower lung patch. \\r\\n Blunting right CP angle. \\r\\n-Tortuous atherosclerotic aorta. \\r\\n-Scoliosis, DJD and osteoporosis of spine. \\r\\n Compression fracture of T12.\\r\\n Old fracture of left ribs.\\r\\n-S/P fixation in L-spine.  \\r\\n-S/P tracheostomy and NG tube.   \\r\\n']\n",
                        "\n"
                    ]
                },
                {
                    "name": "stderr",
                    "output_type": "stream",
                    "text": [
                        "Evaluting Epoch: 20:  20%|██        | 2/10 [00:00<00:01,  4.81it/s]The attention mask and the pad token id were not set. As a consequence, you may observe unexpected behavior. Please pass your input's `attention_mask` to obtain reliable results.\n",
                        "Setting `pad_token_id` to `eos_token_id`:50256 for open-end generation.\n"
                    ]
                },
                {
                    "name": "stdout",
                    "output_type": "stream",
                    "text": [
                        "Names      : ['NLP_CHEST_002']\n",
                        "Predictions: ['Chest plain film shows:\\r\\nImpression:\\r\\n-Increased infiltrations in']\n",
                        "Labels     : ['Chest PA view shows: \\r\\n\\r\\nPartial atelectasis at left lower lung field. \\r\\nLeft pleural effusion.\\r\\n\\r\\nBorderline heart size. \\r\\nAtherosclerotic change of aortic knob. \\r\\n\\r\\nS/P port-A implantation via left subclavian vein. \\r\\nIntraperitoneal port catheter.\\r\\nSurgical clips at RUQ of abdomen.\\r\\n']\n",
                        "\n"
                    ]
                },
                {
                    "name": "stderr",
                    "output_type": "stream",
                    "text": [
                        "Evaluting Epoch: 20:  30%|███       | 3/10 [00:00<00:01,  4.49it/s]The attention mask and the pad token id were not set. As a consequence, you may observe unexpected behavior. Please pass your input's `attention_mask` to obtain reliable results.\n",
                        "Setting `pad_token_id` to `eos_token_id`:50256 for open-end generation.\n"
                    ]
                },
                {
                    "name": "stdout",
                    "output_type": "stream",
                    "text": [
                        "Names      : ['NLP_CHEST_004']\n",
                        "Predictions: ['Chest plain film shows:\\r\\nImpression:\\r\\n-Increased infiltrations in']\n",
                        "Labels     : ['Chest PA view show: \\r\\nImpression:\\r\\n-S/P RLL wedge resection.\\u3000 \\r\\n-Bilateral lungs metastasis.\\r\\n-Left lower lung subsegmental atelectasis. \\r\\n-Increased infiltrations in both lungs.\\r\\n-Blunting right CP angle. \\r\\n-Tortuous atherosclerotic aorta.\\r\\n-Scoliosis, DJD and osteoporosis of spine. \\r\\n-Compression fracture of L1.']\n",
                        "\n"
                    ]
                },
                {
                    "name": "stderr",
                    "output_type": "stream",
                    "text": [
                        "Evaluting Epoch: 20:  40%|████      | 4/10 [00:00<00:01,  4.50it/s]The attention mask and the pad token id were not set. As a consequence, you may observe unexpected behavior. Please pass your input's `attention_mask` to obtain reliable results.\n",
                        "Setting `pad_token_id` to `eos_token_id`:50256 for open-end generation.\n"
                    ]
                },
                {
                    "name": "stdout",
                    "output_type": "stream",
                    "text": [
                        "Names      : ['NLP_CHEST_031']\n",
                        "Predictions: ['Chest plain film shows:\\r\\nImpression:\\r\\n-Increased infiltrations in']\n",
                        "Labels     : ['Chest PA view:\\r\\nImpression:\\r\\n-Increased both lung markings. \\r\\n-Compatible with right lung nodules.\\r\\n-Fibrotic lesion in left upper lung.\\r\\n-Normal heart size. Atherosclerotic aorta. \\r\\n-Suspect right pleural effusion.\\r\\n-Spondylosis. R/O osteoporosis. \\r\\n-Compatible with multiple bony metastases.\\r\\n-S/P NG and endotracheal tube.\\r\\n-S/P Lt subclavian Port-A-cath. ']\n",
                        "\n"
                    ]
                },
                {
                    "name": "stderr",
                    "output_type": "stream",
                    "text": [
                        "Evaluting Epoch: 20:  50%|█████     | 5/10 [00:01<00:01,  4.51it/s]The attention mask and the pad token id were not set. As a consequence, you may observe unexpected behavior. Please pass your input's `attention_mask` to obtain reliable results.\n",
                        "Setting `pad_token_id` to `eos_token_id`:50256 for open-end generation.\n"
                    ]
                },
                {
                    "name": "stdout",
                    "output_type": "stream",
                    "text": [
                        "Names      : ['NLP_CHEST_057']\n",
                        "Predictions: ['Chest plain film shows:\\r\\nImpression:\\r\\n-Increased infiltrations in']\n",
                        "Labels     : ['Chest plain film shows:\\r\\nImpression:\\r\\n-Increased infiltrations in both lungs.\\r\\n-Tortuous atherosclerotic dilated aorta.\\r\\n-Normal heart size. \\r\\n-DJD of spine. \\r\\n Old fracture of right ribs.\\r\\n-Increased both lung markings. \\r\\n S/P Lt jugular CVC insertion. \\r\\n S/P NG and endotracheal tube.\\r\\n-Susp. Lt pneumothorax. \\r\\n Suspect pneumomediastinum. \\r\\n Subcutaneous emphysema in bilateral neck.  \\r\\n-S/P bilateral chest tube insertion. ']\n",
                        "\n"
                    ]
                },
                {
                    "name": "stderr",
                    "output_type": "stream",
                    "text": [
                        "Evaluting Epoch: 20:  60%|██████    | 6/10 [00:01<00:00,  4.57it/s]The attention mask and the pad token id were not set. As a consequence, you may observe unexpected behavior. Please pass your input's `attention_mask` to obtain reliable results.\n",
                        "Setting `pad_token_id` to `eos_token_id`:50256 for open-end generation.\n"
                    ]
                },
                {
                    "name": "stdout",
                    "output_type": "stream",
                    "text": [
                        "Names      : ['NLP_CHEST_059']\n",
                        "Predictions: ['Chest plain film shows:\\r\\nImpression:\\r\\n-Increased infiltrations in']\n",
                        "Labels     : ['Supine chest AP view shows: \\r\\n\\r\\nPigtail catheter at right lower chest.\\r\\nDecreased amount of right pleural effusion.\\r\\nAir in the right lower pleural space. Poor lung expansion.\\r\\nMild subcutaneous emphysema at right chest wall.\\r\\n\\r\\nRight pleural thickening.\\r\\nIll-defined masses at right perihilar region.\\r\\n\\r\\nNormal heart size. \\r\\n']\n",
                        "\n"
                    ]
                },
                {
                    "name": "stderr",
                    "output_type": "stream",
                    "text": [
                        "Evaluting Epoch: 20:  70%|███████   | 7/10 [00:01<00:00,  4.51it/s]The attention mask and the pad token id were not set. As a consequence, you may observe unexpected behavior. Please pass your input's `attention_mask` to obtain reliable results.\n",
                        "Setting `pad_token_id` to `eos_token_id`:50256 for open-end generation.\n"
                    ]
                },
                {
                    "name": "stdout",
                    "output_type": "stream",
                    "text": [
                        "Names      : ['NLP_CHEST_027']\n",
                        "Predictions: ['Chest plain film shows:\\r\\nImpression:\\r\\n-Increased infiltrations in']\n",
                        "Labels     : ['Chest PA View:\\r\\nImpression: \\r\\n> Cardiomegaly with bilateral pulmonary congestion.\\r\\n> Postinflammatory fibrosis in both upper lungs.\\r\\n> Atherosclerosis of aorta.\\r\\n> Old fractures of left 5th and 6th ribs.\\r\\n> R/O osteoporosis.\\r\\n> Spondylosis of thoracolumbar spine.\\r\\n> S/P abdominal operation in RUQ.']\n",
                        "\n"
                    ]
                },
                {
                    "name": "stderr",
                    "output_type": "stream",
                    "text": [
                        "Evaluting Epoch: 20:  80%|████████  | 8/10 [00:01<00:00,  4.45it/s]The attention mask and the pad token id were not set. As a consequence, you may observe unexpected behavior. Please pass your input's `attention_mask` to obtain reliable results.\n",
                        "Setting `pad_token_id` to `eos_token_id`:50256 for open-end generation.\n"
                    ]
                },
                {
                    "name": "stdout",
                    "output_type": "stream",
                    "text": [
                        "Names      : ['NLP_CHEST_085']\n",
                        "Predictions: ['Chest plain film shows:\\r\\nImpression:\\r\\n-Increased infiltrations in']\n",
                        "Labels     : ['Chest X ray: \\r\\n\\r\\n- Right pneumothorax with pleural effusion, status post drainge \\r\\n  tube placement.\\r\\n- Extensive subcutaneous emphysema from neck to right side \\r\\n  thoracic cage.\\r\\n- Increased right hilar opacity.\\r\\n- Atherosclerosis and tortuous aorta. \\r\\n- Obscured bilateral costophrenic angles. \\r\\n- Spondylosis and mild scoliosis of thoracolumbar spine. \\r\\n- OA of right glenohumeral joint.\\r\\n- Generalized osteopenia. \\r\\n']\n",
                        "\n"
                    ]
                },
                {
                    "name": "stderr",
                    "output_type": "stream",
                    "text": [
                        "Evaluting Epoch: 20:  90%|█████████ | 9/10 [00:02<00:00,  4.41it/s]The attention mask and the pad token id were not set. As a consequence, you may observe unexpected behavior. Please pass your input's `attention_mask` to obtain reliable results.\n",
                        "Setting `pad_token_id` to `eos_token_id`:50256 for open-end generation.\n"
                    ]
                },
                {
                    "name": "stdout",
                    "output_type": "stream",
                    "text": [
                        "Names      : ['NLP_CHEST_011']\n",
                        "Predictions: ['Chest plain film shows:\\r\\nImpression:\\r\\n-Increased infiltrations in']\n",
                        "Labels     : [\"Chest AP view showed:\\r\\n1.s/p sternotomy and CABG.\\r\\n  Enlarged heart size with tortuous aorta.\\r\\n2.R't middle and lower lung faint patches.\\r\\n  L't lower lung consolidation.\\r\\n  L't pleural effusion.\\r\\n3.No mediastinum widening.\\r\\n4.s/p endotracheal tube and NG intubation.\\r\\n\"]\n",
                        "\n"
                    ]
                },
                {
                    "name": "stderr",
                    "output_type": "stream",
                    "text": [
                        "Evaluting Epoch: 20: 100%|██████████| 10/10 [00:02<00:00,  4.49it/s]\n"
                    ]
                },
                {
                    "name": "stdout",
                    "output_type": "stream",
                    "text": [
                        "Names      : ['NLP_CHEST_015']\n",
                        "Predictions: ['Chest plain film shows:\\r\\nImpression:\\r\\n-Increased infiltrations in']\n",
                        "Labels     : ['Chest X ray: \\r\\n\\r\\n- No obvious lung mass nor consolidation patch.\\r\\n- Normal heart size.\\r\\n- No pleural effusion. ']\n",
                        "\n",
                        "Rouge-2 score on epoch 19: {'Rouge-L-P': 0.21895436507936508, 'Rouge-L-R': 0.045685983059606056, 'Rouge-L-F': 0.045685983059606056, 'Rouge-2-P': 0.07104166666666667, 'Rouge-2-R': 0.011813120720992366, 'Rouge-2-F': 0.011813120720992366}\n"
                    ]
                },
                {
                    "name": "stderr",
                    "output_type": "stream",
                    "text": [
                        "Training Epoch [21 / 30]: 100%|██████████| 89/89 [00:09<00:00,  9.43it/s, loss=0.453]\n",
                        "Evaluting Epoch: 21:   0%|          | 0/10 [00:00<?, ?it/s]The attention mask and the pad token id were not set. As a consequence, you may observe unexpected behavior. Please pass your input's `attention_mask` to obtain reliable results.\n",
                        "Setting `pad_token_id` to `eos_token_id`:50256 for open-end generation.\n",
                        "Evaluting Epoch: 21:  10%|█         | 1/10 [00:00<00:02,  4.31it/s]The attention mask and the pad token id were not set. As a consequence, you may observe unexpected behavior. Please pass your input's `attention_mask` to obtain reliable results.\n",
                        "Setting `pad_token_id` to `eos_token_id`:50256 for open-end generation.\n"
                    ]
                },
                {
                    "name": "stdout",
                    "output_type": "stream",
                    "text": [
                        "Names      : ['NLP_CHEST_071']\n",
                        "Predictions: ['Chest plain film shows:\\r\\nImpression:\\r\\n-Increased both lung markings']\n",
                        "Labels     : ['Chest film shows:\\r\\nImpression:\\r\\n-Bilateral lung infiltrations.\\r\\n-Suspect right lower lung patch. \\r\\n Blunting right CP angle. \\r\\n-Tortuous atherosclerotic aorta. \\r\\n-Scoliosis, DJD and osteoporosis of spine. \\r\\n Compression fracture of T12.\\r\\n Old fracture of left ribs.\\r\\n-S/P fixation in L-spine.  \\r\\n-S/P tracheostomy and NG tube.   \\r\\n']\n",
                        "\n"
                    ]
                },
                {
                    "name": "stderr",
                    "output_type": "stream",
                    "text": [
                        "Evaluting Epoch: 21:  20%|██        | 2/10 [00:00<00:01,  4.54it/s]The attention mask and the pad token id were not set. As a consequence, you may observe unexpected behavior. Please pass your input's `attention_mask` to obtain reliable results.\n",
                        "Setting `pad_token_id` to `eos_token_id`:50256 for open-end generation.\n"
                    ]
                },
                {
                    "name": "stdout",
                    "output_type": "stream",
                    "text": [
                        "Names      : ['NLP_CHEST_002']\n",
                        "Predictions: ['Chest plain film shows:\\r\\nImpression:\\r\\n-Increased both lung markings']\n",
                        "Labels     : ['Chest PA view shows: \\r\\n\\r\\nPartial atelectasis at left lower lung field. \\r\\nLeft pleural effusion.\\r\\n\\r\\nBorderline heart size. \\r\\nAtherosclerotic change of aortic knob. \\r\\n\\r\\nS/P port-A implantation via left subclavian vein. \\r\\nIntraperitoneal port catheter.\\r\\nSurgical clips at RUQ of abdomen.\\r\\n']\n",
                        "\n"
                    ]
                },
                {
                    "name": "stderr",
                    "output_type": "stream",
                    "text": [
                        "Evaluting Epoch: 21:  30%|███       | 3/10 [00:00<00:01,  4.44it/s]The attention mask and the pad token id were not set. As a consequence, you may observe unexpected behavior. Please pass your input's `attention_mask` to obtain reliable results.\n",
                        "Setting `pad_token_id` to `eos_token_id`:50256 for open-end generation.\n"
                    ]
                },
                {
                    "name": "stdout",
                    "output_type": "stream",
                    "text": [
                        "Names      : ['NLP_CHEST_004']\n",
                        "Predictions: ['Chest plain film shows:\\r\\nImpression:\\r\\n-Increased both lung markings']\n",
                        "Labels     : ['Chest PA view show: \\r\\nImpression:\\r\\n-S/P RLL wedge resection.\\u3000 \\r\\n-Bilateral lungs metastasis.\\r\\n-Left lower lung subsegmental atelectasis. \\r\\n-Increased infiltrations in both lungs.\\r\\n-Blunting right CP angle. \\r\\n-Tortuous atherosclerotic aorta.\\r\\n-Scoliosis, DJD and osteoporosis of spine. \\r\\n-Compression fracture of L1.']\n",
                        "\n"
                    ]
                },
                {
                    "name": "stderr",
                    "output_type": "stream",
                    "text": [
                        "Evaluting Epoch: 21:  40%|████      | 4/10 [00:00<00:01,  4.45it/s]The attention mask and the pad token id were not set. As a consequence, you may observe unexpected behavior. Please pass your input's `attention_mask` to obtain reliable results.\n",
                        "Setting `pad_token_id` to `eos_token_id`:50256 for open-end generation.\n"
                    ]
                },
                {
                    "name": "stdout",
                    "output_type": "stream",
                    "text": [
                        "Names      : ['NLP_CHEST_031']\n",
                        "Predictions: ['Chest plain film shows:\\r\\nImpression:\\r\\n-Increased both lung markings']\n",
                        "Labels     : ['Chest PA view:\\r\\nImpression:\\r\\n-Increased both lung markings. \\r\\n-Compatible with right lung nodules.\\r\\n-Fibrotic lesion in left upper lung.\\r\\n-Normal heart size. Atherosclerotic aorta. \\r\\n-Suspect right pleural effusion.\\r\\n-Spondylosis. R/O osteoporosis. \\r\\n-Compatible with multiple bony metastases.\\r\\n-S/P NG and endotracheal tube.\\r\\n-S/P Lt subclavian Port-A-cath. ']\n",
                        "\n"
                    ]
                },
                {
                    "name": "stderr",
                    "output_type": "stream",
                    "text": [
                        "Evaluting Epoch: 21:  50%|█████     | 5/10 [00:01<00:01,  4.46it/s]The attention mask and the pad token id were not set. As a consequence, you may observe unexpected behavior. Please pass your input's `attention_mask` to obtain reliable results.\n",
                        "Setting `pad_token_id` to `eos_token_id`:50256 for open-end generation.\n"
                    ]
                },
                {
                    "name": "stdout",
                    "output_type": "stream",
                    "text": [
                        "Names      : ['NLP_CHEST_057']\n",
                        "Predictions: ['Chest plain film shows:\\r\\nImpression:\\r\\n-Increased both lung markings']\n",
                        "Labels     : ['Chest plain film shows:\\r\\nImpression:\\r\\n-Increased infiltrations in both lungs.\\r\\n-Tortuous atherosclerotic dilated aorta.\\r\\n-Normal heart size. \\r\\n-DJD of spine. \\r\\n Old fracture of right ribs.\\r\\n-Increased both lung markings. \\r\\n S/P Lt jugular CVC insertion. \\r\\n S/P NG and endotracheal tube.\\r\\n-Susp. Lt pneumothorax. \\r\\n Suspect pneumomediastinum. \\r\\n Subcutaneous emphysema in bilateral neck.  \\r\\n-S/P bilateral chest tube insertion. ']\n",
                        "\n"
                    ]
                },
                {
                    "name": "stderr",
                    "output_type": "stream",
                    "text": [
                        "Evaluting Epoch: 21:  60%|██████    | 6/10 [00:01<00:00,  4.50it/s]The attention mask and the pad token id were not set. As a consequence, you may observe unexpected behavior. Please pass your input's `attention_mask` to obtain reliable results.\n",
                        "Setting `pad_token_id` to `eos_token_id`:50256 for open-end generation.\n"
                    ]
                },
                {
                    "name": "stdout",
                    "output_type": "stream",
                    "text": [
                        "Names      : ['NLP_CHEST_059']\n",
                        "Predictions: ['Chest plain film shows:\\r\\nImpression:\\r\\n-Increased both lung markings']\n",
                        "Labels     : ['Supine chest AP view shows: \\r\\n\\r\\nPigtail catheter at right lower chest.\\r\\nDecreased amount of right pleural effusion.\\r\\nAir in the right lower pleural space. Poor lung expansion.\\r\\nMild subcutaneous emphysema at right chest wall.\\r\\n\\r\\nRight pleural thickening.\\r\\nIll-defined masses at right perihilar region.\\r\\n\\r\\nNormal heart size. \\r\\n']\n",
                        "\n"
                    ]
                },
                {
                    "name": "stderr",
                    "output_type": "stream",
                    "text": [
                        "Evaluting Epoch: 21:  70%|███████   | 7/10 [00:01<00:00,  4.41it/s]The attention mask and the pad token id were not set. As a consequence, you may observe unexpected behavior. Please pass your input's `attention_mask` to obtain reliable results.\n",
                        "Setting `pad_token_id` to `eos_token_id`:50256 for open-end generation.\n"
                    ]
                },
                {
                    "name": "stdout",
                    "output_type": "stream",
                    "text": [
                        "Names      : ['NLP_CHEST_027']\n",
                        "Predictions: ['Chest plain film shows:\\r\\nImpression:\\r\\n-Increased both lung markings']\n",
                        "Labels     : ['Chest PA View:\\r\\nImpression: \\r\\n> Cardiomegaly with bilateral pulmonary congestion.\\r\\n> Postinflammatory fibrosis in both upper lungs.\\r\\n> Atherosclerosis of aorta.\\r\\n> Old fractures of left 5th and 6th ribs.\\r\\n> R/O osteoporosis.\\r\\n> Spondylosis of thoracolumbar spine.\\r\\n> S/P abdominal operation in RUQ.']\n",
                        "\n"
                    ]
                },
                {
                    "name": "stderr",
                    "output_type": "stream",
                    "text": [
                        "Evaluting Epoch: 21:  80%|████████  | 8/10 [00:01<00:00,  4.44it/s]The attention mask and the pad token id were not set. As a consequence, you may observe unexpected behavior. Please pass your input's `attention_mask` to obtain reliable results.\n",
                        "Setting `pad_token_id` to `eos_token_id`:50256 for open-end generation.\n"
                    ]
                },
                {
                    "name": "stdout",
                    "output_type": "stream",
                    "text": [
                        "Names      : ['NLP_CHEST_085']\n",
                        "Predictions: ['Chest plain film shows:\\r\\nImpression:\\r\\n-Increased both lung markings']\n",
                        "Labels     : ['Chest X ray: \\r\\n\\r\\n- Right pneumothorax with pleural effusion, status post drainge \\r\\n  tube placement.\\r\\n- Extensive subcutaneous emphysema from neck to right side \\r\\n  thoracic cage.\\r\\n- Increased right hilar opacity.\\r\\n- Atherosclerosis and tortuous aorta. \\r\\n- Obscured bilateral costophrenic angles. \\r\\n- Spondylosis and mild scoliosis of thoracolumbar spine. \\r\\n- OA of right glenohumeral joint.\\r\\n- Generalized osteopenia. \\r\\n']\n",
                        "\n"
                    ]
                },
                {
                    "name": "stderr",
                    "output_type": "stream",
                    "text": [
                        "Evaluting Epoch: 21:  90%|█████████ | 9/10 [00:02<00:00,  4.40it/s]The attention mask and the pad token id were not set. As a consequence, you may observe unexpected behavior. Please pass your input's `attention_mask` to obtain reliable results.\n",
                        "Setting `pad_token_id` to `eos_token_id`:50256 for open-end generation.\n"
                    ]
                },
                {
                    "name": "stdout",
                    "output_type": "stream",
                    "text": [
                        "Names      : ['NLP_CHEST_011']\n",
                        "Predictions: ['Chest plain film shows:\\r\\nImpression:\\r\\n-Increased both lung markings']\n",
                        "Labels     : [\"Chest AP view showed:\\r\\n1.s/p sternotomy and CABG.\\r\\n  Enlarged heart size with tortuous aorta.\\r\\n2.R't middle and lower lung faint patches.\\r\\n  L't lower lung consolidation.\\r\\n  L't pleural effusion.\\r\\n3.No mediastinum widening.\\r\\n4.s/p endotracheal tube and NG intubation.\\r\\n\"]\n",
                        "\n"
                    ]
                },
                {
                    "name": "stderr",
                    "output_type": "stream",
                    "text": [
                        "Evaluting Epoch: 21: 100%|██████████| 10/10 [00:02<00:00,  4.43it/s]\n"
                    ]
                },
                {
                    "name": "stdout",
                    "output_type": "stream",
                    "text": [
                        "Names      : ['NLP_CHEST_015']\n",
                        "Predictions: ['Chest plain film shows:\\r\\nImpression:\\r\\n-Increased both lung markings']\n",
                        "Labels     : ['Chest X ray: \\r\\n\\r\\n- No obvious lung mass nor consolidation patch.\\r\\n- Normal heart size.\\r\\n- No pleural effusion. ']\n",
                        "\n",
                        "Rouge-2 score on epoch 20: {'Rouge-L-P': 0.227046485260771, 'Rouge-L-R': 0.04753698839324936, 'Rouge-L-F': 0.04753698839324936, 'Rouge-2-P': 0.0748015873015873, 'Rouge-2-R': 0.012430954674749774, 'Rouge-2-F': 0.012430954674749774}\n"
                    ]
                },
                {
                    "name": "stderr",
                    "output_type": "stream",
                    "text": [
                        "Training Epoch [22 / 30]: 100%|██████████| 89/89 [00:09<00:00,  9.51it/s, loss=0.437]\n",
                        "Evaluting Epoch: 22:   0%|          | 0/10 [00:00<?, ?it/s]The attention mask and the pad token id were not set. As a consequence, you may observe unexpected behavior. Please pass your input's `attention_mask` to obtain reliable results.\n",
                        "Setting `pad_token_id` to `eos_token_id`:50256 for open-end generation.\n",
                        "Evaluting Epoch: 22:  10%|█         | 1/10 [00:00<00:01,  4.55it/s]The attention mask and the pad token id were not set. As a consequence, you may observe unexpected behavior. Please pass your input's `attention_mask` to obtain reliable results.\n",
                        "Setting `pad_token_id` to `eos_token_id`:50256 for open-end generation.\n"
                    ]
                },
                {
                    "name": "stdout",
                    "output_type": "stream",
                    "text": [
                        "Names      : ['NLP_CHEST_071']\n",
                        "Predictions: ['Chest plain film shows:\\r\\nImpression:\\r\\n-Increased both lung markings']\n",
                        "Labels     : ['Chest film shows:\\r\\nImpression:\\r\\n-Bilateral lung infiltrations.\\r\\n-Suspect right lower lung patch. \\r\\n Blunting right CP angle. \\r\\n-Tortuous atherosclerotic aorta. \\r\\n-Scoliosis, DJD and osteoporosis of spine. \\r\\n Compression fracture of T12.\\r\\n Old fracture of left ribs.\\r\\n-S/P fixation in L-spine.  \\r\\n-S/P tracheostomy and NG tube.   \\r\\n']\n",
                        "\n"
                    ]
                },
                {
                    "name": "stderr",
                    "output_type": "stream",
                    "text": [
                        "Evaluting Epoch: 22:  20%|██        | 2/10 [00:00<00:01,  4.70it/s]The attention mask and the pad token id were not set. As a consequence, you may observe unexpected behavior. Please pass your input's `attention_mask` to obtain reliable results.\n",
                        "Setting `pad_token_id` to `eos_token_id`:50256 for open-end generation.\n"
                    ]
                },
                {
                    "name": "stdout",
                    "output_type": "stream",
                    "text": [
                        "Names      : ['NLP_CHEST_002']\n",
                        "Predictions: ['Chest plain film shows:\\r\\nImpression:\\r\\n-Increased both lung markings']\n",
                        "Labels     : ['Chest PA view shows: \\r\\n\\r\\nPartial atelectasis at left lower lung field. \\r\\nLeft pleural effusion.\\r\\n\\r\\nBorderline heart size. \\r\\nAtherosclerotic change of aortic knob. \\r\\n\\r\\nS/P port-A implantation via left subclavian vein. \\r\\nIntraperitoneal port catheter.\\r\\nSurgical clips at RUQ of abdomen.\\r\\n']\n",
                        "\n"
                    ]
                },
                {
                    "name": "stderr",
                    "output_type": "stream",
                    "text": [
                        "Evaluting Epoch: 22:  30%|███       | 3/10 [00:00<00:01,  4.55it/s]The attention mask and the pad token id were not set. As a consequence, you may observe unexpected behavior. Please pass your input's `attention_mask` to obtain reliable results.\n",
                        "Setting `pad_token_id` to `eos_token_id`:50256 for open-end generation.\n"
                    ]
                },
                {
                    "name": "stdout",
                    "output_type": "stream",
                    "text": [
                        "Names      : ['NLP_CHEST_004']\n",
                        "Predictions: ['Chest plain film shows:\\r\\nImpression:\\r\\n-Increased both lung markings']\n",
                        "Labels     : ['Chest PA view show: \\r\\nImpression:\\r\\n-S/P RLL wedge resection.\\u3000 \\r\\n-Bilateral lungs metastasis.\\r\\n-Left lower lung subsegmental atelectasis. \\r\\n-Increased infiltrations in both lungs.\\r\\n-Blunting right CP angle. \\r\\n-Tortuous atherosclerotic aorta.\\r\\n-Scoliosis, DJD and osteoporosis of spine. \\r\\n-Compression fracture of L1.']\n",
                        "\n"
                    ]
                },
                {
                    "name": "stderr",
                    "output_type": "stream",
                    "text": [
                        "Evaluting Epoch: 22:  40%|████      | 4/10 [00:00<00:01,  4.54it/s]The attention mask and the pad token id were not set. As a consequence, you may observe unexpected behavior. Please pass your input's `attention_mask` to obtain reliable results.\n",
                        "Setting `pad_token_id` to `eos_token_id`:50256 for open-end generation.\n"
                    ]
                },
                {
                    "name": "stdout",
                    "output_type": "stream",
                    "text": [
                        "Names      : ['NLP_CHEST_031']\n",
                        "Predictions: ['Chest plain film shows:\\r\\nImpression:\\r\\n-Increased both lung markings']\n",
                        "Labels     : ['Chest PA view:\\r\\nImpression:\\r\\n-Increased both lung markings. \\r\\n-Compatible with right lung nodules.\\r\\n-Fibrotic lesion in left upper lung.\\r\\n-Normal heart size. Atherosclerotic aorta. \\r\\n-Suspect right pleural effusion.\\r\\n-Spondylosis. R/O osteoporosis. \\r\\n-Compatible with multiple bony metastases.\\r\\n-S/P NG and endotracheal tube.\\r\\n-S/P Lt subclavian Port-A-cath. ']\n",
                        "\n"
                    ]
                },
                {
                    "name": "stderr",
                    "output_type": "stream",
                    "text": [
                        "Evaluting Epoch: 22:  50%|█████     | 5/10 [00:01<00:01,  4.55it/s]The attention mask and the pad token id were not set. As a consequence, you may observe unexpected behavior. Please pass your input's `attention_mask` to obtain reliable results.\n",
                        "Setting `pad_token_id` to `eos_token_id`:50256 for open-end generation.\n"
                    ]
                },
                {
                    "name": "stdout",
                    "output_type": "stream",
                    "text": [
                        "Names      : ['NLP_CHEST_057']\n",
                        "Predictions: ['Chest plain film shows:\\r\\nImpression:\\r\\n-Increased both lung markings']\n",
                        "Labels     : ['Chest plain film shows:\\r\\nImpression:\\r\\n-Increased infiltrations in both lungs.\\r\\n-Tortuous atherosclerotic dilated aorta.\\r\\n-Normal heart size. \\r\\n-DJD of spine. \\r\\n Old fracture of right ribs.\\r\\n-Increased both lung markings. \\r\\n S/P Lt jugular CVC insertion. \\r\\n S/P NG and endotracheal tube.\\r\\n-Susp. Lt pneumothorax. \\r\\n Suspect pneumomediastinum. \\r\\n Subcutaneous emphysema in bilateral neck.  \\r\\n-S/P bilateral chest tube insertion. ']\n",
                        "\n"
                    ]
                },
                {
                    "name": "stderr",
                    "output_type": "stream",
                    "text": [
                        "Evaluting Epoch: 22:  60%|██████    | 6/10 [00:01<00:00,  4.58it/s]The attention mask and the pad token id were not set. As a consequence, you may observe unexpected behavior. Please pass your input's `attention_mask` to obtain reliable results.\n",
                        "Setting `pad_token_id` to `eos_token_id`:50256 for open-end generation.\n"
                    ]
                },
                {
                    "name": "stdout",
                    "output_type": "stream",
                    "text": [
                        "Names      : ['NLP_CHEST_059']\n",
                        "Predictions: ['Chest plain film shows:\\r\\nImpression:\\r\\n-Increased both lung markings']\n",
                        "Labels     : ['Supine chest AP view shows: \\r\\n\\r\\nPigtail catheter at right lower chest.\\r\\nDecreased amount of right pleural effusion.\\r\\nAir in the right lower pleural space. Poor lung expansion.\\r\\nMild subcutaneous emphysema at right chest wall.\\r\\n\\r\\nRight pleural thickening.\\r\\nIll-defined masses at right perihilar region.\\r\\n\\r\\nNormal heart size. \\r\\n']\n",
                        "\n"
                    ]
                },
                {
                    "name": "stderr",
                    "output_type": "stream",
                    "text": [
                        "Evaluting Epoch: 22:  70%|███████   | 7/10 [00:01<00:00,  4.56it/s]The attention mask and the pad token id were not set. As a consequence, you may observe unexpected behavior. Please pass your input's `attention_mask` to obtain reliable results.\n",
                        "Setting `pad_token_id` to `eos_token_id`:50256 for open-end generation.\n"
                    ]
                },
                {
                    "name": "stdout",
                    "output_type": "stream",
                    "text": [
                        "Names      : ['NLP_CHEST_027']\n",
                        "Predictions: ['Chest plain film shows:\\r\\nImpression:\\r\\n-Increased both lung markings']\n",
                        "Labels     : ['Chest PA View:\\r\\nImpression: \\r\\n> Cardiomegaly with bilateral pulmonary congestion.\\r\\n> Postinflammatory fibrosis in both upper lungs.\\r\\n> Atherosclerosis of aorta.\\r\\n> Old fractures of left 5th and 6th ribs.\\r\\n> R/O osteoporosis.\\r\\n> Spondylosis of thoracolumbar spine.\\r\\n> S/P abdominal operation in RUQ.']\n",
                        "\n"
                    ]
                },
                {
                    "name": "stderr",
                    "output_type": "stream",
                    "text": [
                        "Evaluting Epoch: 22:  80%|████████  | 8/10 [00:01<00:00,  4.57it/s]The attention mask and the pad token id were not set. As a consequence, you may observe unexpected behavior. Please pass your input's `attention_mask` to obtain reliable results.\n",
                        "Setting `pad_token_id` to `eos_token_id`:50256 for open-end generation.\n"
                    ]
                },
                {
                    "name": "stdout",
                    "output_type": "stream",
                    "text": [
                        "Names      : ['NLP_CHEST_085']\n",
                        "Predictions: ['Chest plain film shows:\\r\\nImpression:\\r\\n-Increased both lung markings']\n",
                        "Labels     : ['Chest X ray: \\r\\n\\r\\n- Right pneumothorax with pleural effusion, status post drainge \\r\\n  tube placement.\\r\\n- Extensive subcutaneous emphysema from neck to right side \\r\\n  thoracic cage.\\r\\n- Increased right hilar opacity.\\r\\n- Atherosclerosis and tortuous aorta. \\r\\n- Obscured bilateral costophrenic angles. \\r\\n- Spondylosis and mild scoliosis of thoracolumbar spine. \\r\\n- OA of right glenohumeral joint.\\r\\n- Generalized osteopenia. \\r\\n']\n",
                        "\n"
                    ]
                },
                {
                    "name": "stderr",
                    "output_type": "stream",
                    "text": [
                        "Evaluting Epoch: 22:  90%|█████████ | 9/10 [00:01<00:00,  4.51it/s]The attention mask and the pad token id were not set. As a consequence, you may observe unexpected behavior. Please pass your input's `attention_mask` to obtain reliable results.\n",
                        "Setting `pad_token_id` to `eos_token_id`:50256 for open-end generation.\n"
                    ]
                },
                {
                    "name": "stdout",
                    "output_type": "stream",
                    "text": [
                        "Names      : ['NLP_CHEST_011']\n",
                        "Predictions: ['Chest plain film shows:\\r\\nImpression:\\r\\n-Increased both lung markings']\n",
                        "Labels     : [\"Chest AP view showed:\\r\\n1.s/p sternotomy and CABG.\\r\\n  Enlarged heart size with tortuous aorta.\\r\\n2.R't middle and lower lung faint patches.\\r\\n  L't lower lung consolidation.\\r\\n  L't pleural effusion.\\r\\n3.No mediastinum widening.\\r\\n4.s/p endotracheal tube and NG intubation.\\r\\n\"]\n",
                        "\n"
                    ]
                },
                {
                    "name": "stderr",
                    "output_type": "stream",
                    "text": [
                        "Evaluting Epoch: 22: 100%|██████████| 10/10 [00:02<00:00,  4.53it/s]\n"
                    ]
                },
                {
                    "name": "stdout",
                    "output_type": "stream",
                    "text": [
                        "Names      : ['NLP_CHEST_015']\n",
                        "Predictions: ['Chest plain film shows:\\r\\nImpression:\\r\\n-Increased both lung markings']\n",
                        "Labels     : ['Chest X ray: \\r\\n\\r\\n- No obvious lung mass nor consolidation patch.\\r\\n- Normal heart size.\\r\\n- No pleural effusion. ']\n",
                        "\n",
                        "Rouge-2 score on epoch 21: {'Rouge-L-P': 0.2344029581529582, 'Rouge-L-R': 0.04921972051474327, 'Rouge-L-F': 0.04921972051474327, 'Rouge-2-P': 0.07821969696969698, 'Rouge-2-R': 0.012992621905438326, 'Rouge-2-F': 0.012992621905438326}\n"
                    ]
                },
                {
                    "name": "stderr",
                    "output_type": "stream",
                    "text": [
                        "Training Epoch [23 / 30]: 100%|██████████| 89/89 [00:09<00:00,  9.64it/s, loss=0.423]\n",
                        "Evaluting Epoch: 23:   0%|          | 0/10 [00:00<?, ?it/s]The attention mask and the pad token id were not set. As a consequence, you may observe unexpected behavior. Please pass your input's `attention_mask` to obtain reliable results.\n",
                        "Setting `pad_token_id` to `eos_token_id`:50256 for open-end generation.\n",
                        "Evaluting Epoch: 23:  10%|█         | 1/10 [00:00<00:02,  4.38it/s]The attention mask and the pad token id were not set. As a consequence, you may observe unexpected behavior. Please pass your input's `attention_mask` to obtain reliable results.\n",
                        "Setting `pad_token_id` to `eos_token_id`:50256 for open-end generation.\n"
                    ]
                },
                {
                    "name": "stdout",
                    "output_type": "stream",
                    "text": [
                        "Names      : ['NLP_CHEST_071']\n",
                        "Predictions: ['Chest plain film shows:\\r\\nImpression:\\r\\n-Increased infiltrations in']\n",
                        "Labels     : ['Chest film shows:\\r\\nImpression:\\r\\n-Bilateral lung infiltrations.\\r\\n-Suspect right lower lung patch. \\r\\n Blunting right CP angle. \\r\\n-Tortuous atherosclerotic aorta. \\r\\n-Scoliosis, DJD and osteoporosis of spine. \\r\\n Compression fracture of T12.\\r\\n Old fracture of left ribs.\\r\\n-S/P fixation in L-spine.  \\r\\n-S/P tracheostomy and NG tube.   \\r\\n']\n",
                        "\n"
                    ]
                },
                {
                    "name": "stderr",
                    "output_type": "stream",
                    "text": [
                        "Evaluting Epoch: 23:  20%|██        | 2/10 [00:00<00:01,  4.62it/s]The attention mask and the pad token id were not set. As a consequence, you may observe unexpected behavior. Please pass your input's `attention_mask` to obtain reliable results.\n",
                        "Setting `pad_token_id` to `eos_token_id`:50256 for open-end generation.\n"
                    ]
                },
                {
                    "name": "stdout",
                    "output_type": "stream",
                    "text": [
                        "Names      : ['NLP_CHEST_002']\n",
                        "Predictions: ['Chest plain film shows:\\r\\nImpression:\\r\\n-Increased infiltrations in']\n",
                        "Labels     : ['Chest PA view shows: \\r\\n\\r\\nPartial atelectasis at left lower lung field. \\r\\nLeft pleural effusion.\\r\\n\\r\\nBorderline heart size. \\r\\nAtherosclerotic change of aortic knob. \\r\\n\\r\\nS/P port-A implantation via left subclavian vein. \\r\\nIntraperitoneal port catheter.\\r\\nSurgical clips at RUQ of abdomen.\\r\\n']\n",
                        "\n"
                    ]
                },
                {
                    "name": "stderr",
                    "output_type": "stream",
                    "text": [
                        "Evaluting Epoch: 23:  30%|███       | 3/10 [00:00<00:01,  4.50it/s]The attention mask and the pad token id were not set. As a consequence, you may observe unexpected behavior. Please pass your input's `attention_mask` to obtain reliable results.\n",
                        "Setting `pad_token_id` to `eos_token_id`:50256 for open-end generation.\n"
                    ]
                },
                {
                    "name": "stdout",
                    "output_type": "stream",
                    "text": [
                        "Names      : ['NLP_CHEST_004']\n",
                        "Predictions: ['Chest plain film shows:\\r\\nImpression:\\r\\n-Increased infiltrations in']\n",
                        "Labels     : ['Chest PA view show: \\r\\nImpression:\\r\\n-S/P RLL wedge resection.\\u3000 \\r\\n-Bilateral lungs metastasis.\\r\\n-Left lower lung subsegmental atelectasis. \\r\\n-Increased infiltrations in both lungs.\\r\\n-Blunting right CP angle. \\r\\n-Tortuous atherosclerotic aorta.\\r\\n-Scoliosis, DJD and osteoporosis of spine. \\r\\n-Compression fracture of L1.']\n",
                        "\n"
                    ]
                },
                {
                    "name": "stderr",
                    "output_type": "stream",
                    "text": [
                        "Evaluting Epoch: 23:  40%|████      | 4/10 [00:00<00:01,  4.51it/s]The attention mask and the pad token id were not set. As a consequence, you may observe unexpected behavior. Please pass your input's `attention_mask` to obtain reliable results.\n",
                        "Setting `pad_token_id` to `eos_token_id`:50256 for open-end generation.\n"
                    ]
                },
                {
                    "name": "stdout",
                    "output_type": "stream",
                    "text": [
                        "Names      : ['NLP_CHEST_031']\n",
                        "Predictions: ['Chest plain film shows:\\r\\nImpression:\\r\\n-Increased infiltrations in']\n",
                        "Labels     : ['Chest PA view:\\r\\nImpression:\\r\\n-Increased both lung markings. \\r\\n-Compatible with right lung nodules.\\r\\n-Fibrotic lesion in left upper lung.\\r\\n-Normal heart size. Atherosclerotic aorta. \\r\\n-Suspect right pleural effusion.\\r\\n-Spondylosis. R/O osteoporosis. \\r\\n-Compatible with multiple bony metastases.\\r\\n-S/P NG and endotracheal tube.\\r\\n-S/P Lt subclavian Port-A-cath. ']\n",
                        "\n"
                    ]
                },
                {
                    "name": "stderr",
                    "output_type": "stream",
                    "text": [
                        "Evaluting Epoch: 23:  50%|█████     | 5/10 [00:01<00:01,  4.51it/s]The attention mask and the pad token id were not set. As a consequence, you may observe unexpected behavior. Please pass your input's `attention_mask` to obtain reliable results.\n",
                        "Setting `pad_token_id` to `eos_token_id`:50256 for open-end generation.\n"
                    ]
                },
                {
                    "name": "stdout",
                    "output_type": "stream",
                    "text": [
                        "Names      : ['NLP_CHEST_057']\n",
                        "Predictions: ['Chest plain film shows:\\r\\nImpression:\\r\\n-Increased infiltrations in']\n",
                        "Labels     : ['Chest plain film shows:\\r\\nImpression:\\r\\n-Increased infiltrations in both lungs.\\r\\n-Tortuous atherosclerotic dilated aorta.\\r\\n-Normal heart size. \\r\\n-DJD of spine. \\r\\n Old fracture of right ribs.\\r\\n-Increased both lung markings. \\r\\n S/P Lt jugular CVC insertion. \\r\\n S/P NG and endotracheal tube.\\r\\n-Susp. Lt pneumothorax. \\r\\n Suspect pneumomediastinum. \\r\\n Subcutaneous emphysema in bilateral neck.  \\r\\n-S/P bilateral chest tube insertion. ']\n",
                        "\n"
                    ]
                },
                {
                    "name": "stderr",
                    "output_type": "stream",
                    "text": [
                        "Evaluting Epoch: 23:  60%|██████    | 6/10 [00:01<00:00,  4.57it/s]The attention mask and the pad token id were not set. As a consequence, you may observe unexpected behavior. Please pass your input's `attention_mask` to obtain reliable results.\n",
                        "Setting `pad_token_id` to `eos_token_id`:50256 for open-end generation.\n"
                    ]
                },
                {
                    "name": "stdout",
                    "output_type": "stream",
                    "text": [
                        "Names      : ['NLP_CHEST_059']\n",
                        "Predictions: ['Chest plain film shows:\\r\\nImpression:\\r\\n-Increased infiltrations in']\n",
                        "Labels     : ['Supine chest AP view shows: \\r\\n\\r\\nPigtail catheter at right lower chest.\\r\\nDecreased amount of right pleural effusion.\\r\\nAir in the right lower pleural space. Poor lung expansion.\\r\\nMild subcutaneous emphysema at right chest wall.\\r\\n\\r\\nRight pleural thickening.\\r\\nIll-defined masses at right perihilar region.\\r\\n\\r\\nNormal heart size. \\r\\n']\n",
                        "\n"
                    ]
                },
                {
                    "name": "stderr",
                    "output_type": "stream",
                    "text": [
                        "Evaluting Epoch: 23:  70%|███████   | 7/10 [00:01<00:00,  4.53it/s]The attention mask and the pad token id were not set. As a consequence, you may observe unexpected behavior. Please pass your input's `attention_mask` to obtain reliable results.\n",
                        "Setting `pad_token_id` to `eos_token_id`:50256 for open-end generation.\n"
                    ]
                },
                {
                    "name": "stdout",
                    "output_type": "stream",
                    "text": [
                        "Names      : ['NLP_CHEST_027']\n",
                        "Predictions: ['Chest plain film shows:\\r\\nImpression:\\r\\n-Increased infiltrations in']\n",
                        "Labels     : ['Chest PA View:\\r\\nImpression: \\r\\n> Cardiomegaly with bilateral pulmonary congestion.\\r\\n> Postinflammatory fibrosis in both upper lungs.\\r\\n> Atherosclerosis of aorta.\\r\\n> Old fractures of left 5th and 6th ribs.\\r\\n> R/O osteoporosis.\\r\\n> Spondylosis of thoracolumbar spine.\\r\\n> S/P abdominal operation in RUQ.']\n",
                        "\n"
                    ]
                },
                {
                    "name": "stderr",
                    "output_type": "stream",
                    "text": [
                        "Evaluting Epoch: 23:  80%|████████  | 8/10 [00:01<00:00,  4.55it/s]The attention mask and the pad token id were not set. As a consequence, you may observe unexpected behavior. Please pass your input's `attention_mask` to obtain reliable results.\n",
                        "Setting `pad_token_id` to `eos_token_id`:50256 for open-end generation.\n"
                    ]
                },
                {
                    "name": "stdout",
                    "output_type": "stream",
                    "text": [
                        "Names      : ['NLP_CHEST_085']\n",
                        "Predictions: ['Chest plain film shows:\\r\\nImpression:\\r\\n-Increased infiltrations in']\n",
                        "Labels     : ['Chest X ray: \\r\\n\\r\\n- Right pneumothorax with pleural effusion, status post drainge \\r\\n  tube placement.\\r\\n- Extensive subcutaneous emphysema from neck to right side \\r\\n  thoracic cage.\\r\\n- Increased right hilar opacity.\\r\\n- Atherosclerosis and tortuous aorta. \\r\\n- Obscured bilateral costophrenic angles. \\r\\n- Spondylosis and mild scoliosis of thoracolumbar spine. \\r\\n- OA of right glenohumeral joint.\\r\\n- Generalized osteopenia. \\r\\n']\n",
                        "\n"
                    ]
                },
                {
                    "name": "stderr",
                    "output_type": "stream",
                    "text": [
                        "Evaluting Epoch: 23:  90%|█████████ | 9/10 [00:01<00:00,  4.49it/s]The attention mask and the pad token id were not set. As a consequence, you may observe unexpected behavior. Please pass your input's `attention_mask` to obtain reliable results.\n",
                        "Setting `pad_token_id` to `eos_token_id`:50256 for open-end generation.\n"
                    ]
                },
                {
                    "name": "stdout",
                    "output_type": "stream",
                    "text": [
                        "Names      : ['NLP_CHEST_011']\n",
                        "Predictions: ['Chest plain film shows:\\r\\nImpression:\\r\\n-Increased infiltrations in']\n",
                        "Labels     : [\"Chest AP view showed:\\r\\n1.s/p sternotomy and CABG.\\r\\n  Enlarged heart size with tortuous aorta.\\r\\n2.R't middle and lower lung faint patches.\\r\\n  L't lower lung consolidation.\\r\\n  L't pleural effusion.\\r\\n3.No mediastinum widening.\\r\\n4.s/p endotracheal tube and NG intubation.\\r\\n\"]\n",
                        "\n"
                    ]
                },
                {
                    "name": "stderr",
                    "output_type": "stream",
                    "text": [
                        "Evaluting Epoch: 23: 100%|██████████| 10/10 [00:02<00:00,  4.52it/s]\n"
                    ]
                },
                {
                    "name": "stdout",
                    "output_type": "stream",
                    "text": [
                        "Names      : ['NLP_CHEST_015']\n",
                        "Predictions: ['Chest plain film shows:\\r\\nImpression:\\r\\n-Increased infiltrations in']\n",
                        "Labels     : ['Chest X ray: \\r\\n\\r\\n- No obvious lung mass nor consolidation patch.\\r\\n- Normal heart size.\\r\\n- No pleural effusion. ']\n",
                        "\n",
                        "Rouge-2 score on epoch 22: {'Rouge-L-P': 0.2416028295376122, 'Rouge-L-R': 0.050310234225545196, 'Rouge-L-F': 0.050310234225545196, 'Rouge-2-P': 0.08227225672877847, 'Rouge-2-R': 0.013536653000818409, 'Rouge-2-F': 0.013536653000818409}\n"
                    ]
                },
                {
                    "name": "stderr",
                    "output_type": "stream",
                    "text": [
                        "Training Epoch [24 / 30]: 100%|██████████| 89/89 [00:09<00:00,  9.60it/s, loss=0.415]\n",
                        "Evaluting Epoch: 24:   0%|          | 0/10 [00:00<?, ?it/s]The attention mask and the pad token id were not set. As a consequence, you may observe unexpected behavior. Please pass your input's `attention_mask` to obtain reliable results.\n",
                        "Setting `pad_token_id` to `eos_token_id`:50256 for open-end generation.\n",
                        "Evaluting Epoch: 24:  10%|█         | 1/10 [00:00<00:02,  4.40it/s]The attention mask and the pad token id were not set. As a consequence, you may observe unexpected behavior. Please pass your input's `attention_mask` to obtain reliable results.\n",
                        "Setting `pad_token_id` to `eos_token_id`:50256 for open-end generation.\n"
                    ]
                },
                {
                    "name": "stdout",
                    "output_type": "stream",
                    "text": [
                        "Names      : ['NLP_CHEST_071']\n",
                        "Predictions: ['Chest plain film shows:\\r\\nImpression:\\r\\n-Increased both lung markings']\n",
                        "Labels     : ['Chest film shows:\\r\\nImpression:\\r\\n-Bilateral lung infiltrations.\\r\\n-Suspect right lower lung patch. \\r\\n Blunting right CP angle. \\r\\n-Tortuous atherosclerotic aorta. \\r\\n-Scoliosis, DJD and osteoporosis of spine. \\r\\n Compression fracture of T12.\\r\\n Old fracture of left ribs.\\r\\n-S/P fixation in L-spine.  \\r\\n-S/P tracheostomy and NG tube.   \\r\\n']\n",
                        "\n"
                    ]
                },
                {
                    "name": "stderr",
                    "output_type": "stream",
                    "text": [
                        "Evaluting Epoch: 24:  20%|██        | 2/10 [00:00<00:01,  4.63it/s]The attention mask and the pad token id were not set. As a consequence, you may observe unexpected behavior. Please pass your input's `attention_mask` to obtain reliable results.\n",
                        "Setting `pad_token_id` to `eos_token_id`:50256 for open-end generation.\n"
                    ]
                },
                {
                    "name": "stdout",
                    "output_type": "stream",
                    "text": [
                        "Names      : ['NLP_CHEST_002']\n",
                        "Predictions: ['Chest plain film shows:\\r\\nImpression:\\r\\n-Increased both lung markings']\n",
                        "Labels     : ['Chest PA view shows: \\r\\n\\r\\nPartial atelectasis at left lower lung field. \\r\\nLeft pleural effusion.\\r\\n\\r\\nBorderline heart size. \\r\\nAtherosclerotic change of aortic knob. \\r\\n\\r\\nS/P port-A implantation via left subclavian vein. \\r\\nIntraperitoneal port catheter.\\r\\nSurgical clips at RUQ of abdomen.\\r\\n']\n",
                        "\n"
                    ]
                },
                {
                    "name": "stderr",
                    "output_type": "stream",
                    "text": [
                        "Evaluting Epoch: 24:  30%|███       | 3/10 [00:00<00:01,  4.52it/s]The attention mask and the pad token id were not set. As a consequence, you may observe unexpected behavior. Please pass your input's `attention_mask` to obtain reliable results.\n",
                        "Setting `pad_token_id` to `eos_token_id`:50256 for open-end generation.\n"
                    ]
                },
                {
                    "name": "stdout",
                    "output_type": "stream",
                    "text": [
                        "Names      : ['NLP_CHEST_004']\n",
                        "Predictions: ['Chest plain film shows:\\r\\nImpression:\\r\\n-Increased both lung markings']\n",
                        "Labels     : ['Chest PA view show: \\r\\nImpression:\\r\\n-S/P RLL wedge resection.\\u3000 \\r\\n-Bilateral lungs metastasis.\\r\\n-Left lower lung subsegmental atelectasis. \\r\\n-Increased infiltrations in both lungs.\\r\\n-Blunting right CP angle. \\r\\n-Tortuous atherosclerotic aorta.\\r\\n-Scoliosis, DJD and osteoporosis of spine. \\r\\n-Compression fracture of L1.']\n",
                        "\n"
                    ]
                },
                {
                    "name": "stderr",
                    "output_type": "stream",
                    "text": [
                        "Evaluting Epoch: 24:  40%|████      | 4/10 [00:00<00:01,  4.53it/s]The attention mask and the pad token id were not set. As a consequence, you may observe unexpected behavior. Please pass your input's `attention_mask` to obtain reliable results.\n",
                        "Setting `pad_token_id` to `eos_token_id`:50256 for open-end generation.\n"
                    ]
                },
                {
                    "name": "stdout",
                    "output_type": "stream",
                    "text": [
                        "Names      : ['NLP_CHEST_031']\n",
                        "Predictions: ['Chest plain film shows:\\r\\nImpression:\\r\\n-Increased both lung markings']\n",
                        "Labels     : ['Chest PA view:\\r\\nImpression:\\r\\n-Increased both lung markings. \\r\\n-Compatible with right lung nodules.\\r\\n-Fibrotic lesion in left upper lung.\\r\\n-Normal heart size. Atherosclerotic aorta. \\r\\n-Suspect right pleural effusion.\\r\\n-Spondylosis. R/O osteoporosis. \\r\\n-Compatible with multiple bony metastases.\\r\\n-S/P NG and endotracheal tube.\\r\\n-S/P Lt subclavian Port-A-cath. ']\n",
                        "\n"
                    ]
                },
                {
                    "name": "stderr",
                    "output_type": "stream",
                    "text": [
                        "Evaluting Epoch: 24:  50%|█████     | 5/10 [00:01<00:01,  4.53it/s]The attention mask and the pad token id were not set. As a consequence, you may observe unexpected behavior. Please pass your input's `attention_mask` to obtain reliable results.\n",
                        "Setting `pad_token_id` to `eos_token_id`:50256 for open-end generation.\n"
                    ]
                },
                {
                    "name": "stdout",
                    "output_type": "stream",
                    "text": [
                        "Names      : ['NLP_CHEST_057']\n",
                        "Predictions: ['Chest plain film shows:\\r\\nImpression:\\r\\n-Increased both lung markings']\n",
                        "Labels     : ['Chest plain film shows:\\r\\nImpression:\\r\\n-Increased infiltrations in both lungs.\\r\\n-Tortuous atherosclerotic dilated aorta.\\r\\n-Normal heart size. \\r\\n-DJD of spine. \\r\\n Old fracture of right ribs.\\r\\n-Increased both lung markings. \\r\\n S/P Lt jugular CVC insertion. \\r\\n S/P NG and endotracheal tube.\\r\\n-Susp. Lt pneumothorax. \\r\\n Suspect pneumomediastinum. \\r\\n Subcutaneous emphysema in bilateral neck.  \\r\\n-S/P bilateral chest tube insertion. ']\n",
                        "\n"
                    ]
                },
                {
                    "name": "stderr",
                    "output_type": "stream",
                    "text": [
                        "Evaluting Epoch: 24:  60%|██████    | 6/10 [00:01<00:00,  4.57it/s]The attention mask and the pad token id were not set. As a consequence, you may observe unexpected behavior. Please pass your input's `attention_mask` to obtain reliable results.\n",
                        "Setting `pad_token_id` to `eos_token_id`:50256 for open-end generation.\n"
                    ]
                },
                {
                    "name": "stdout",
                    "output_type": "stream",
                    "text": [
                        "Names      : ['NLP_CHEST_059']\n",
                        "Predictions: ['Chest plain film shows:\\r\\nImpression:\\r\\n-Increased both lung markings']\n",
                        "Labels     : ['Supine chest AP view shows: \\r\\n\\r\\nPigtail catheter at right lower chest.\\r\\nDecreased amount of right pleural effusion.\\r\\nAir in the right lower pleural space. Poor lung expansion.\\r\\nMild subcutaneous emphysema at right chest wall.\\r\\n\\r\\nRight pleural thickening.\\r\\nIll-defined masses at right perihilar region.\\r\\n\\r\\nNormal heart size. \\r\\n']\n",
                        "\n"
                    ]
                },
                {
                    "name": "stderr",
                    "output_type": "stream",
                    "text": [
                        "Evaluting Epoch: 24:  70%|███████   | 7/10 [00:01<00:00,  4.55it/s]The attention mask and the pad token id were not set. As a consequence, you may observe unexpected behavior. Please pass your input's `attention_mask` to obtain reliable results.\n",
                        "Setting `pad_token_id` to `eos_token_id`:50256 for open-end generation.\n"
                    ]
                },
                {
                    "name": "stdout",
                    "output_type": "stream",
                    "text": [
                        "Names      : ['NLP_CHEST_027']\n",
                        "Predictions: ['Chest plain film shows:\\r\\nImpression:\\r\\n-Increased both lung markings']\n",
                        "Labels     : ['Chest PA View:\\r\\nImpression: \\r\\n> Cardiomegaly with bilateral pulmonary congestion.\\r\\n> Postinflammatory fibrosis in both upper lungs.\\r\\n> Atherosclerosis of aorta.\\r\\n> Old fractures of left 5th and 6th ribs.\\r\\n> R/O osteoporosis.\\r\\n> Spondylosis of thoracolumbar spine.\\r\\n> S/P abdominal operation in RUQ.']\n",
                        "\n"
                    ]
                },
                {
                    "name": "stderr",
                    "output_type": "stream",
                    "text": [
                        "Evaluting Epoch: 24:  80%|████████  | 8/10 [00:01<00:00,  4.57it/s]The attention mask and the pad token id were not set. As a consequence, you may observe unexpected behavior. Please pass your input's `attention_mask` to obtain reliable results.\n",
                        "Setting `pad_token_id` to `eos_token_id`:50256 for open-end generation.\n"
                    ]
                },
                {
                    "name": "stdout",
                    "output_type": "stream",
                    "text": [
                        "Names      : ['NLP_CHEST_085']\n",
                        "Predictions: ['Chest plain film shows:\\r\\nImpression:\\r\\n-Increased both lung markings']\n",
                        "Labels     : ['Chest X ray: \\r\\n\\r\\n- Right pneumothorax with pleural effusion, status post drainge \\r\\n  tube placement.\\r\\n- Extensive subcutaneous emphysema from neck to right side \\r\\n  thoracic cage.\\r\\n- Increased right hilar opacity.\\r\\n- Atherosclerosis and tortuous aorta. \\r\\n- Obscured bilateral costophrenic angles. \\r\\n- Spondylosis and mild scoliosis of thoracolumbar spine. \\r\\n- OA of right glenohumeral joint.\\r\\n- Generalized osteopenia. \\r\\n']\n",
                        "\n"
                    ]
                },
                {
                    "name": "stderr",
                    "output_type": "stream",
                    "text": [
                        "Evaluting Epoch: 24:  90%|█████████ | 9/10 [00:01<00:00,  4.51it/s]The attention mask and the pad token id were not set. As a consequence, you may observe unexpected behavior. Please pass your input's `attention_mask` to obtain reliable results.\n",
                        "Setting `pad_token_id` to `eos_token_id`:50256 for open-end generation.\n"
                    ]
                },
                {
                    "name": "stdout",
                    "output_type": "stream",
                    "text": [
                        "Names      : ['NLP_CHEST_011']\n",
                        "Predictions: ['Chest plain film shows:\\r\\nImpression:\\r\\n-Increased both lung markings']\n",
                        "Labels     : [\"Chest AP view showed:\\r\\n1.s/p sternotomy and CABG.\\r\\n  Enlarged heart size with tortuous aorta.\\r\\n2.R't middle and lower lung faint patches.\\r\\n  L't lower lung consolidation.\\r\\n  L't pleural effusion.\\r\\n3.No mediastinum widening.\\r\\n4.s/p endotracheal tube and NG intubation.\\r\\n\"]\n",
                        "\n"
                    ]
                },
                {
                    "name": "stderr",
                    "output_type": "stream",
                    "text": [
                        "Evaluting Epoch: 24: 100%|██████████| 10/10 [00:02<00:00,  4.54it/s]\n"
                    ]
                },
                {
                    "name": "stdout",
                    "output_type": "stream",
                    "text": [
                        "Names      : ['NLP_CHEST_015']\n",
                        "Predictions: ['Chest plain film shows:\\r\\nImpression:\\r\\n-Increased both lung markings']\n",
                        "Labels     : ['Chest X ray: \\r\\n\\r\\n- No obvious lung mass nor consolidation patch.\\r\\n- Normal heart size.\\r\\n- No pleural effusion. ']\n",
                        "\n",
                        "Rouge-2 score on epoch 23: {'Rouge-L-P': 0.24773974867724874, 'Rouge-L-R': 0.05173718676056895, 'Rouge-L-F': 0.05173718676056895, 'Rouge-2-P': 0.08509424603174603, 'Rouge-2-R': 0.01400544386536339, 'Rouge-2-F': 0.01400544386536339}\n"
                    ]
                },
                {
                    "name": "stderr",
                    "output_type": "stream",
                    "text": [
                        "Training Epoch [25 / 30]: 100%|██████████| 89/89 [00:09<00:00,  9.62it/s, loss=0.402]\n",
                        "Evaluting Epoch: 25:   0%|          | 0/10 [00:00<?, ?it/s]The attention mask and the pad token id were not set. As a consequence, you may observe unexpected behavior. Please pass your input's `attention_mask` to obtain reliable results.\n",
                        "Setting `pad_token_id` to `eos_token_id`:50256 for open-end generation.\n",
                        "Evaluting Epoch: 25:  10%|█         | 1/10 [00:00<00:02,  4.37it/s]The attention mask and the pad token id were not set. As a consequence, you may observe unexpected behavior. Please pass your input's `attention_mask` to obtain reliable results.\n",
                        "Setting `pad_token_id` to `eos_token_id`:50256 for open-end generation.\n"
                    ]
                },
                {
                    "name": "stdout",
                    "output_type": "stream",
                    "text": [
                        "Names      : ['NLP_CHEST_071']\n",
                        "Predictions: ['Chest plain film shows:\\r\\nImpression:\\r\\n-Increased both lung markings']\n",
                        "Labels     : ['Chest film shows:\\r\\nImpression:\\r\\n-Bilateral lung infiltrations.\\r\\n-Suspect right lower lung patch. \\r\\n Blunting right CP angle. \\r\\n-Tortuous atherosclerotic aorta. \\r\\n-Scoliosis, DJD and osteoporosis of spine. \\r\\n Compression fracture of T12.\\r\\n Old fracture of left ribs.\\r\\n-S/P fixation in L-spine.  \\r\\n-S/P tracheostomy and NG tube.   \\r\\n']\n",
                        "\n"
                    ]
                },
                {
                    "name": "stderr",
                    "output_type": "stream",
                    "text": [
                        "Evaluting Epoch: 25:  20%|██        | 2/10 [00:00<00:01,  4.63it/s]The attention mask and the pad token id were not set. As a consequence, you may observe unexpected behavior. Please pass your input's `attention_mask` to obtain reliable results.\n",
                        "Setting `pad_token_id` to `eos_token_id`:50256 for open-end generation.\n"
                    ]
                },
                {
                    "name": "stdout",
                    "output_type": "stream",
                    "text": [
                        "Names      : ['NLP_CHEST_002']\n",
                        "Predictions: ['Chest plain film shows:\\r\\nImpression:\\r\\n-Increased both lung markings']\n",
                        "Labels     : ['Chest PA view shows: \\r\\n\\r\\nPartial atelectasis at left lower lung field. \\r\\nLeft pleural effusion.\\r\\n\\r\\nBorderline heart size. \\r\\nAtherosclerotic change of aortic knob. \\r\\n\\r\\nS/P port-A implantation via left subclavian vein. \\r\\nIntraperitoneal port catheter.\\r\\nSurgical clips at RUQ of abdomen.\\r\\n']\n",
                        "\n"
                    ]
                },
                {
                    "name": "stderr",
                    "output_type": "stream",
                    "text": [
                        "Evaluting Epoch: 25:  30%|███       | 3/10 [00:00<00:01,  4.51it/s]The attention mask and the pad token id were not set. As a consequence, you may observe unexpected behavior. Please pass your input's `attention_mask` to obtain reliable results.\n",
                        "Setting `pad_token_id` to `eos_token_id`:50256 for open-end generation.\n"
                    ]
                },
                {
                    "name": "stdout",
                    "output_type": "stream",
                    "text": [
                        "Names      : ['NLP_CHEST_004']\n",
                        "Predictions: ['Chest plain film shows:\\r\\nImpression:\\r\\n-Increased both lung markings']\n",
                        "Labels     : ['Chest PA view show: \\r\\nImpression:\\r\\n-S/P RLL wedge resection.\\u3000 \\r\\n-Bilateral lungs metastasis.\\r\\n-Left lower lung subsegmental atelectasis. \\r\\n-Increased infiltrations in both lungs.\\r\\n-Blunting right CP angle. \\r\\n-Tortuous atherosclerotic aorta.\\r\\n-Scoliosis, DJD and osteoporosis of spine. \\r\\n-Compression fracture of L1.']\n",
                        "\n"
                    ]
                },
                {
                    "name": "stderr",
                    "output_type": "stream",
                    "text": [
                        "Evaluting Epoch: 25:  40%|████      | 4/10 [00:00<00:01,  4.53it/s]The attention mask and the pad token id were not set. As a consequence, you may observe unexpected behavior. Please pass your input's `attention_mask` to obtain reliable results.\n",
                        "Setting `pad_token_id` to `eos_token_id`:50256 for open-end generation.\n"
                    ]
                },
                {
                    "name": "stdout",
                    "output_type": "stream",
                    "text": [
                        "Names      : ['NLP_CHEST_031']\n",
                        "Predictions: ['Chest plain film shows:\\r\\nImpression:\\r\\n-Increased both lung markings']\n",
                        "Labels     : ['Chest PA view:\\r\\nImpression:\\r\\n-Increased both lung markings. \\r\\n-Compatible with right lung nodules.\\r\\n-Fibrotic lesion in left upper lung.\\r\\n-Normal heart size. Atherosclerotic aorta. \\r\\n-Suspect right pleural effusion.\\r\\n-Spondylosis. R/O osteoporosis. \\r\\n-Compatible with multiple bony metastases.\\r\\n-S/P NG and endotracheal tube.\\r\\n-S/P Lt subclavian Port-A-cath. ']\n",
                        "\n"
                    ]
                },
                {
                    "name": "stderr",
                    "output_type": "stream",
                    "text": [
                        "Evaluting Epoch: 25:  50%|█████     | 5/10 [00:01<00:01,  4.53it/s]The attention mask and the pad token id were not set. As a consequence, you may observe unexpected behavior. Please pass your input's `attention_mask` to obtain reliable results.\n",
                        "Setting `pad_token_id` to `eos_token_id`:50256 for open-end generation.\n"
                    ]
                },
                {
                    "name": "stdout",
                    "output_type": "stream",
                    "text": [
                        "Names      : ['NLP_CHEST_057']\n",
                        "Predictions: ['Chest plain film shows:\\r\\nImpression:\\r\\n-Increased both lung markings']\n",
                        "Labels     : ['Chest plain film shows:\\r\\nImpression:\\r\\n-Increased infiltrations in both lungs.\\r\\n-Tortuous atherosclerotic dilated aorta.\\r\\n-Normal heart size. \\r\\n-DJD of spine. \\r\\n Old fracture of right ribs.\\r\\n-Increased both lung markings. \\r\\n S/P Lt jugular CVC insertion. \\r\\n S/P NG and endotracheal tube.\\r\\n-Susp. Lt pneumothorax. \\r\\n Suspect pneumomediastinum. \\r\\n Subcutaneous emphysema in bilateral neck.  \\r\\n-S/P bilateral chest tube insertion. ']\n",
                        "\n"
                    ]
                },
                {
                    "name": "stderr",
                    "output_type": "stream",
                    "text": [
                        "Evaluting Epoch: 25:  60%|██████    | 6/10 [00:01<00:00,  4.58it/s]The attention mask and the pad token id were not set. As a consequence, you may observe unexpected behavior. Please pass your input's `attention_mask` to obtain reliable results.\n",
                        "Setting `pad_token_id` to `eos_token_id`:50256 for open-end generation.\n"
                    ]
                },
                {
                    "name": "stdout",
                    "output_type": "stream",
                    "text": [
                        "Names      : ['NLP_CHEST_059']\n",
                        "Predictions: ['Chest plain film shows:\\r\\nImpression:\\r\\n-Increased both lung markings']\n",
                        "Labels     : ['Supine chest AP view shows: \\r\\n\\r\\nPigtail catheter at right lower chest.\\r\\nDecreased amount of right pleural effusion.\\r\\nAir in the right lower pleural space. Poor lung expansion.\\r\\nMild subcutaneous emphysema at right chest wall.\\r\\n\\r\\nRight pleural thickening.\\r\\nIll-defined masses at right perihilar region.\\r\\n\\r\\nNormal heart size. \\r\\n']\n",
                        "\n"
                    ]
                },
                {
                    "name": "stderr",
                    "output_type": "stream",
                    "text": [
                        "Evaluting Epoch: 25:  70%|███████   | 7/10 [00:01<00:00,  4.54it/s]The attention mask and the pad token id were not set. As a consequence, you may observe unexpected behavior. Please pass your input's `attention_mask` to obtain reliable results.\n",
                        "Setting `pad_token_id` to `eos_token_id`:50256 for open-end generation.\n"
                    ]
                },
                {
                    "name": "stdout",
                    "output_type": "stream",
                    "text": [
                        "Names      : ['NLP_CHEST_027']\n",
                        "Predictions: ['Chest plain film shows:\\r\\nImpression:\\r\\n-Increased both lung markings']\n",
                        "Labels     : ['Chest PA View:\\r\\nImpression: \\r\\n> Cardiomegaly with bilateral pulmonary congestion.\\r\\n> Postinflammatory fibrosis in both upper lungs.\\r\\n> Atherosclerosis of aorta.\\r\\n> Old fractures of left 5th and 6th ribs.\\r\\n> R/O osteoporosis.\\r\\n> Spondylosis of thoracolumbar spine.\\r\\n> S/P abdominal operation in RUQ.']\n",
                        "\n"
                    ]
                },
                {
                    "name": "stderr",
                    "output_type": "stream",
                    "text": [
                        "Evaluting Epoch: 25:  80%|████████  | 8/10 [00:01<00:00,  4.53it/s]The attention mask and the pad token id were not set. As a consequence, you may observe unexpected behavior. Please pass your input's `attention_mask` to obtain reliable results.\n",
                        "Setting `pad_token_id` to `eos_token_id`:50256 for open-end generation.\n"
                    ]
                },
                {
                    "name": "stdout",
                    "output_type": "stream",
                    "text": [
                        "Names      : ['NLP_CHEST_085']\n",
                        "Predictions: ['Chest plain film shows:\\r\\nImpression:\\r\\n-Increased both lung markings']\n",
                        "Labels     : ['Chest X ray: \\r\\n\\r\\n- Right pneumothorax with pleural effusion, status post drainge \\r\\n  tube placement.\\r\\n- Extensive subcutaneous emphysema from neck to right side \\r\\n  thoracic cage.\\r\\n- Increased right hilar opacity.\\r\\n- Atherosclerosis and tortuous aorta. \\r\\n- Obscured bilateral costophrenic angles. \\r\\n- Spondylosis and mild scoliosis of thoracolumbar spine. \\r\\n- OA of right glenohumeral joint.\\r\\n- Generalized osteopenia. \\r\\n']\n",
                        "\n"
                    ]
                },
                {
                    "name": "stderr",
                    "output_type": "stream",
                    "text": [
                        "Evaluting Epoch: 25:  90%|█████████ | 9/10 [00:01<00:00,  4.45it/s]The attention mask and the pad token id were not set. As a consequence, you may observe unexpected behavior. Please pass your input's `attention_mask` to obtain reliable results.\n",
                        "Setting `pad_token_id` to `eos_token_id`:50256 for open-end generation.\n"
                    ]
                },
                {
                    "name": "stdout",
                    "output_type": "stream",
                    "text": [
                        "Names      : ['NLP_CHEST_011']\n",
                        "Predictions: ['Chest plain film shows:\\r\\nImpression:\\r\\n-Increased both lung markings']\n",
                        "Labels     : [\"Chest AP view showed:\\r\\n1.s/p sternotomy and CABG.\\r\\n  Enlarged heart size with tortuous aorta.\\r\\n2.R't middle and lower lung faint patches.\\r\\n  L't lower lung consolidation.\\r\\n  L't pleural effusion.\\r\\n3.No mediastinum widening.\\r\\n4.s/p endotracheal tube and NG intubation.\\r\\n\"]\n",
                        "\n"
                    ]
                },
                {
                    "name": "stderr",
                    "output_type": "stream",
                    "text": [
                        "Evaluting Epoch: 25: 100%|██████████| 10/10 [00:02<00:00,  4.50it/s]\n"
                    ]
                },
                {
                    "name": "stdout",
                    "output_type": "stream",
                    "text": [
                        "Names      : ['NLP_CHEST_015']\n",
                        "Predictions: ['Chest plain film shows:\\r\\nImpression:\\r\\n-Increased both lung markings']\n",
                        "Labels     : ['Chest X ray: \\r\\n\\r\\n- No obvious lung mass nor consolidation patch.\\r\\n- Normal heart size.\\r\\n- No pleural effusion. ']\n",
                        "\n",
                        "Rouge-2 score on epoch 24: {'Rouge-L-P': 0.2533857142857144, 'Rouge-L-R': 0.05304998309279081, 'Rouge-L-F': 0.05304998309279081, 'Rouge-2-P': 0.0876904761904762, 'Rouge-2-R': 0.01443673146074477, 'Rouge-2-F': 0.01443673146074477}\n"
                    ]
                },
                {
                    "name": "stderr",
                    "output_type": "stream",
                    "text": [
                        "Training Epoch [26 / 30]: 100%|██████████| 89/89 [00:09<00:00,  9.29it/s, loss=0.39] \n",
                        "Evaluting Epoch: 26:   0%|          | 0/10 [00:00<?, ?it/s]The attention mask and the pad token id were not set. As a consequence, you may observe unexpected behavior. Please pass your input's `attention_mask` to obtain reliable results.\n",
                        "Setting `pad_token_id` to `eos_token_id`:50256 for open-end generation.\n",
                        "Evaluting Epoch: 26:  10%|█         | 1/10 [00:00<00:02,  4.42it/s]The attention mask and the pad token id were not set. As a consequence, you may observe unexpected behavior. Please pass your input's `attention_mask` to obtain reliable results.\n",
                        "Setting `pad_token_id` to `eos_token_id`:50256 for open-end generation.\n"
                    ]
                },
                {
                    "name": "stdout",
                    "output_type": "stream",
                    "text": [
                        "Names      : ['NLP_CHEST_071']\n",
                        "Predictions: ['Chest plain film shows:\\r\\nImpression:\\r\\n-Increased both lung markings']\n",
                        "Labels     : ['Chest film shows:\\r\\nImpression:\\r\\n-Bilateral lung infiltrations.\\r\\n-Suspect right lower lung patch. \\r\\n Blunting right CP angle. \\r\\n-Tortuous atherosclerotic aorta. \\r\\n-Scoliosis, DJD and osteoporosis of spine. \\r\\n Compression fracture of T12.\\r\\n Old fracture of left ribs.\\r\\n-S/P fixation in L-spine.  \\r\\n-S/P tracheostomy and NG tube.   \\r\\n']\n",
                        "\n"
                    ]
                },
                {
                    "name": "stderr",
                    "output_type": "stream",
                    "text": [
                        "Evaluting Epoch: 26:  20%|██        | 2/10 [00:00<00:01,  4.57it/s]The attention mask and the pad token id were not set. As a consequence, you may observe unexpected behavior. Please pass your input's `attention_mask` to obtain reliable results.\n",
                        "Setting `pad_token_id` to `eos_token_id`:50256 for open-end generation.\n"
                    ]
                },
                {
                    "name": "stdout",
                    "output_type": "stream",
                    "text": [
                        "Names      : ['NLP_CHEST_002']\n",
                        "Predictions: ['Chest plain film shows:\\r\\nImpression:\\r\\n-Increased both lung markings']\n",
                        "Labels     : ['Chest PA view shows: \\r\\n\\r\\nPartial atelectasis at left lower lung field. \\r\\nLeft pleural effusion.\\r\\n\\r\\nBorderline heart size. \\r\\nAtherosclerotic change of aortic knob. \\r\\n\\r\\nS/P port-A implantation via left subclavian vein. \\r\\nIntraperitoneal port catheter.\\r\\nSurgical clips at RUQ of abdomen.\\r\\n']\n",
                        "\n"
                    ]
                },
                {
                    "name": "stderr",
                    "output_type": "stream",
                    "text": [
                        "Evaluting Epoch: 26:  30%|███       | 3/10 [00:00<00:01,  4.43it/s]The attention mask and the pad token id were not set. As a consequence, you may observe unexpected behavior. Please pass your input's `attention_mask` to obtain reliable results.\n",
                        "Setting `pad_token_id` to `eos_token_id`:50256 for open-end generation.\n"
                    ]
                },
                {
                    "name": "stdout",
                    "output_type": "stream",
                    "text": [
                        "Names      : ['NLP_CHEST_004']\n",
                        "Predictions: ['Chest plain film shows:\\r\\nImpression:\\r\\n-Increased both lung markings']\n",
                        "Labels     : ['Chest PA view show: \\r\\nImpression:\\r\\n-S/P RLL wedge resection.\\u3000 \\r\\n-Bilateral lungs metastasis.\\r\\n-Left lower lung subsegmental atelectasis. \\r\\n-Increased infiltrations in both lungs.\\r\\n-Blunting right CP angle. \\r\\n-Tortuous atherosclerotic aorta.\\r\\n-Scoliosis, DJD and osteoporosis of spine. \\r\\n-Compression fracture of L1.']\n",
                        "\n"
                    ]
                },
                {
                    "name": "stderr",
                    "output_type": "stream",
                    "text": [
                        "Evaluting Epoch: 26:  40%|████      | 4/10 [00:00<00:01,  4.43it/s]The attention mask and the pad token id were not set. As a consequence, you may observe unexpected behavior. Please pass your input's `attention_mask` to obtain reliable results.\n",
                        "Setting `pad_token_id` to `eos_token_id`:50256 for open-end generation.\n"
                    ]
                },
                {
                    "name": "stdout",
                    "output_type": "stream",
                    "text": [
                        "Names      : ['NLP_CHEST_031']\n",
                        "Predictions: ['Chest plain film shows:\\r\\nImpression:\\r\\n-Increased both lung markings']\n",
                        "Labels     : ['Chest PA view:\\r\\nImpression:\\r\\n-Increased both lung markings. \\r\\n-Compatible with right lung nodules.\\r\\n-Fibrotic lesion in left upper lung.\\r\\n-Normal heart size. Atherosclerotic aorta. \\r\\n-Suspect right pleural effusion.\\r\\n-Spondylosis. R/O osteoporosis. \\r\\n-Compatible with multiple bony metastases.\\r\\n-S/P NG and endotracheal tube.\\r\\n-S/P Lt subclavian Port-A-cath. ']\n",
                        "\n"
                    ]
                },
                {
                    "name": "stderr",
                    "output_type": "stream",
                    "text": [
                        "Evaluting Epoch: 26:  50%|█████     | 5/10 [00:01<00:01,  4.43it/s]The attention mask and the pad token id were not set. As a consequence, you may observe unexpected behavior. Please pass your input's `attention_mask` to obtain reliable results.\n",
                        "Setting `pad_token_id` to `eos_token_id`:50256 for open-end generation.\n"
                    ]
                },
                {
                    "name": "stdout",
                    "output_type": "stream",
                    "text": [
                        "Names      : ['NLP_CHEST_057']\n",
                        "Predictions: ['Chest plain film shows:\\r\\nImpression:\\r\\n-Increased both lung markings']\n",
                        "Labels     : ['Chest plain film shows:\\r\\nImpression:\\r\\n-Increased infiltrations in both lungs.\\r\\n-Tortuous atherosclerotic dilated aorta.\\r\\n-Normal heart size. \\r\\n-DJD of spine. \\r\\n Old fracture of right ribs.\\r\\n-Increased both lung markings. \\r\\n S/P Lt jugular CVC insertion. \\r\\n S/P NG and endotracheal tube.\\r\\n-Susp. Lt pneumothorax. \\r\\n Suspect pneumomediastinum. \\r\\n Subcutaneous emphysema in bilateral neck.  \\r\\n-S/P bilateral chest tube insertion. ']\n",
                        "\n"
                    ]
                },
                {
                    "name": "stderr",
                    "output_type": "stream",
                    "text": [
                        "Evaluting Epoch: 26:  60%|██████    | 6/10 [00:01<00:00,  4.48it/s]The attention mask and the pad token id were not set. As a consequence, you may observe unexpected behavior. Please pass your input's `attention_mask` to obtain reliable results.\n",
                        "Setting `pad_token_id` to `eos_token_id`:50256 for open-end generation.\n"
                    ]
                },
                {
                    "name": "stdout",
                    "output_type": "stream",
                    "text": [
                        "Names      : ['NLP_CHEST_059']\n",
                        "Predictions: ['Chest plain film shows:\\r\\nImpression:\\r\\n-Increased both lung markings']\n",
                        "Labels     : ['Supine chest AP view shows: \\r\\n\\r\\nPigtail catheter at right lower chest.\\r\\nDecreased amount of right pleural effusion.\\r\\nAir in the right lower pleural space. Poor lung expansion.\\r\\nMild subcutaneous emphysema at right chest wall.\\r\\n\\r\\nRight pleural thickening.\\r\\nIll-defined masses at right perihilar region.\\r\\n\\r\\nNormal heart size. \\r\\n']\n",
                        "\n"
                    ]
                },
                {
                    "name": "stderr",
                    "output_type": "stream",
                    "text": [
                        "Evaluting Epoch: 26:  70%|███████   | 7/10 [00:01<00:00,  4.45it/s]The attention mask and the pad token id were not set. As a consequence, you may observe unexpected behavior. Please pass your input's `attention_mask` to obtain reliable results.\n",
                        "Setting `pad_token_id` to `eos_token_id`:50256 for open-end generation.\n"
                    ]
                },
                {
                    "name": "stdout",
                    "output_type": "stream",
                    "text": [
                        "Names      : ['NLP_CHEST_027']\n",
                        "Predictions: ['Chest plain film shows:\\r\\nImpression:\\r\\n-Increased both lung markings']\n",
                        "Labels     : ['Chest PA View:\\r\\nImpression: \\r\\n> Cardiomegaly with bilateral pulmonary congestion.\\r\\n> Postinflammatory fibrosis in both upper lungs.\\r\\n> Atherosclerosis of aorta.\\r\\n> Old fractures of left 5th and 6th ribs.\\r\\n> R/O osteoporosis.\\r\\n> Spondylosis of thoracolumbar spine.\\r\\n> S/P abdominal operation in RUQ.']\n",
                        "\n"
                    ]
                },
                {
                    "name": "stderr",
                    "output_type": "stream",
                    "text": [
                        "Evaluting Epoch: 26:  80%|████████  | 8/10 [00:01<00:00,  4.46it/s]The attention mask and the pad token id were not set. As a consequence, you may observe unexpected behavior. Please pass your input's `attention_mask` to obtain reliable results.\n",
                        "Setting `pad_token_id` to `eos_token_id`:50256 for open-end generation.\n"
                    ]
                },
                {
                    "name": "stdout",
                    "output_type": "stream",
                    "text": [
                        "Names      : ['NLP_CHEST_085']\n",
                        "Predictions: ['Chest plain film shows:\\r\\nImpression:\\r\\n-Increased both lung markings']\n",
                        "Labels     : ['Chest X ray: \\r\\n\\r\\n- Right pneumothorax with pleural effusion, status post drainge \\r\\n  tube placement.\\r\\n- Extensive subcutaneous emphysema from neck to right side \\r\\n  thoracic cage.\\r\\n- Increased right hilar opacity.\\r\\n- Atherosclerosis and tortuous aorta. \\r\\n- Obscured bilateral costophrenic angles. \\r\\n- Spondylosis and mild scoliosis of thoracolumbar spine. \\r\\n- OA of right glenohumeral joint.\\r\\n- Generalized osteopenia. \\r\\n']\n",
                        "\n"
                    ]
                },
                {
                    "name": "stderr",
                    "output_type": "stream",
                    "text": [
                        "Evaluting Epoch: 26:  90%|█████████ | 9/10 [00:02<00:00,  4.40it/s]The attention mask and the pad token id were not set. As a consequence, you may observe unexpected behavior. Please pass your input's `attention_mask` to obtain reliable results.\n",
                        "Setting `pad_token_id` to `eos_token_id`:50256 for open-end generation.\n"
                    ]
                },
                {
                    "name": "stdout",
                    "output_type": "stream",
                    "text": [
                        "Names      : ['NLP_CHEST_011']\n",
                        "Predictions: ['Chest plain film shows:\\r\\nImpression:\\r\\n-Increased both lung markings']\n",
                        "Labels     : [\"Chest AP view showed:\\r\\n1.s/p sternotomy and CABG.\\r\\n  Enlarged heart size with tortuous aorta.\\r\\n2.R't middle and lower lung faint patches.\\r\\n  L't lower lung consolidation.\\r\\n  L't pleural effusion.\\r\\n3.No mediastinum widening.\\r\\n4.s/p endotracheal tube and NG intubation.\\r\\n\"]\n",
                        "\n"
                    ]
                },
                {
                    "name": "stderr",
                    "output_type": "stream",
                    "text": [
                        "Evaluting Epoch: 26: 100%|██████████| 10/10 [00:02<00:00,  4.44it/s]\n"
                    ]
                },
                {
                    "name": "stdout",
                    "output_type": "stream",
                    "text": [
                        "Names      : ['NLP_CHEST_015']\n",
                        "Predictions: ['Chest plain film shows:\\r\\nImpression:\\r\\n-Increased both lung markings']\n",
                        "Labels     : ['Chest X ray: \\r\\n\\r\\n- No obvious lung mass nor consolidation patch.\\r\\n- Normal heart size.\\r\\n- No pleural effusion. ']\n",
                        "\n",
                        "Rouge-2 score on epoch 25: {'Rouge-L-P': 0.25859737484737494, 'Rouge-L-R': 0.05426179509176483, 'Rouge-L-F': 0.05426179509176483, 'Rouge-2-P': 0.09008699633699634, 'Rouge-2-R': 0.01483484308725066, 'Rouge-2-F': 0.01483484308725066}\n"
                    ]
                },
                {
                    "name": "stderr",
                    "output_type": "stream",
                    "text": [
                        "Training Epoch [27 / 30]: 100%|██████████| 89/89 [00:09<00:00,  9.36it/s, loss=0.38] \n",
                        "Evaluting Epoch: 27:   0%|          | 0/10 [00:00<?, ?it/s]The attention mask and the pad token id were not set. As a consequence, you may observe unexpected behavior. Please pass your input's `attention_mask` to obtain reliable results.\n",
                        "Setting `pad_token_id` to `eos_token_id`:50256 for open-end generation.\n",
                        "Evaluting Epoch: 27:  10%|█         | 1/10 [00:00<00:02,  4.29it/s]The attention mask and the pad token id were not set. As a consequence, you may observe unexpected behavior. Please pass your input's `attention_mask` to obtain reliable results.\n",
                        "Setting `pad_token_id` to `eos_token_id`:50256 for open-end generation.\n"
                    ]
                },
                {
                    "name": "stdout",
                    "output_type": "stream",
                    "text": [
                        "Names      : ['NLP_CHEST_071']\n",
                        "Predictions: ['Chest plain film shows:\\r\\nImpression:\\r\\n-Increased both lung markings']\n",
                        "Labels     : ['Chest film shows:\\r\\nImpression:\\r\\n-Bilateral lung infiltrations.\\r\\n-Suspect right lower lung patch. \\r\\n Blunting right CP angle. \\r\\n-Tortuous atherosclerotic aorta. \\r\\n-Scoliosis, DJD and osteoporosis of spine. \\r\\n Compression fracture of T12.\\r\\n Old fracture of left ribs.\\r\\n-S/P fixation in L-spine.  \\r\\n-S/P tracheostomy and NG tube.   \\r\\n']\n",
                        "\n"
                    ]
                },
                {
                    "name": "stderr",
                    "output_type": "stream",
                    "text": [
                        "Evaluting Epoch: 27:  20%|██        | 2/10 [00:00<00:01,  4.53it/s]The attention mask and the pad token id were not set. As a consequence, you may observe unexpected behavior. Please pass your input's `attention_mask` to obtain reliable results.\n",
                        "Setting `pad_token_id` to `eos_token_id`:50256 for open-end generation.\n"
                    ]
                },
                {
                    "name": "stdout",
                    "output_type": "stream",
                    "text": [
                        "Names      : ['NLP_CHEST_002']\n",
                        "Predictions: ['Chest plain film shows:\\r\\nImpression:\\r\\n-Increased both lung markings']\n",
                        "Labels     : ['Chest PA view shows: \\r\\n\\r\\nPartial atelectasis at left lower lung field. \\r\\nLeft pleural effusion.\\r\\n\\r\\nBorderline heart size. \\r\\nAtherosclerotic change of aortic knob. \\r\\n\\r\\nS/P port-A implantation via left subclavian vein. \\r\\nIntraperitoneal port catheter.\\r\\nSurgical clips at RUQ of abdomen.\\r\\n']\n",
                        "\n"
                    ]
                },
                {
                    "name": "stderr",
                    "output_type": "stream",
                    "text": [
                        "Evaluting Epoch: 27:  30%|███       | 3/10 [00:00<00:01,  4.42it/s]The attention mask and the pad token id were not set. As a consequence, you may observe unexpected behavior. Please pass your input's `attention_mask` to obtain reliable results.\n",
                        "Setting `pad_token_id` to `eos_token_id`:50256 for open-end generation.\n"
                    ]
                },
                {
                    "name": "stdout",
                    "output_type": "stream",
                    "text": [
                        "Names      : ['NLP_CHEST_004']\n",
                        "Predictions: ['Chest plain film shows:\\r\\nImpression:\\r\\n-Increased both lung markings']\n",
                        "Labels     : ['Chest PA view show: \\r\\nImpression:\\r\\n-S/P RLL wedge resection.\\u3000 \\r\\n-Bilateral lungs metastasis.\\r\\n-Left lower lung subsegmental atelectasis. \\r\\n-Increased infiltrations in both lungs.\\r\\n-Blunting right CP angle. \\r\\n-Tortuous atherosclerotic aorta.\\r\\n-Scoliosis, DJD and osteoporosis of spine. \\r\\n-Compression fracture of L1.']\n",
                        "\n"
                    ]
                },
                {
                    "name": "stderr",
                    "output_type": "stream",
                    "text": [
                        "Evaluting Epoch: 27:  40%|████      | 4/10 [00:00<00:01,  4.43it/s]The attention mask and the pad token id were not set. As a consequence, you may observe unexpected behavior. Please pass your input's `attention_mask` to obtain reliable results.\n",
                        "Setting `pad_token_id` to `eos_token_id`:50256 for open-end generation.\n"
                    ]
                },
                {
                    "name": "stdout",
                    "output_type": "stream",
                    "text": [
                        "Names      : ['NLP_CHEST_031']\n",
                        "Predictions: ['Chest plain film shows:\\r\\nImpression:\\r\\n-Increased both lung markings']\n",
                        "Labels     : ['Chest PA view:\\r\\nImpression:\\r\\n-Increased both lung markings. \\r\\n-Compatible with right lung nodules.\\r\\n-Fibrotic lesion in left upper lung.\\r\\n-Normal heart size. Atherosclerotic aorta. \\r\\n-Suspect right pleural effusion.\\r\\n-Spondylosis. R/O osteoporosis. \\r\\n-Compatible with multiple bony metastases.\\r\\n-S/P NG and endotracheal tube.\\r\\n-S/P Lt subclavian Port-A-cath. ']\n",
                        "\n"
                    ]
                },
                {
                    "name": "stderr",
                    "output_type": "stream",
                    "text": [
                        "Evaluting Epoch: 27:  50%|█████     | 5/10 [00:01<00:01,  4.43it/s]The attention mask and the pad token id were not set. As a consequence, you may observe unexpected behavior. Please pass your input's `attention_mask` to obtain reliable results.\n",
                        "Setting `pad_token_id` to `eos_token_id`:50256 for open-end generation.\n"
                    ]
                },
                {
                    "name": "stdout",
                    "output_type": "stream",
                    "text": [
                        "Names      : ['NLP_CHEST_057']\n",
                        "Predictions: ['Chest plain film shows:\\r\\nImpression:\\r\\n-Increased both lung markings']\n",
                        "Labels     : ['Chest plain film shows:\\r\\nImpression:\\r\\n-Increased infiltrations in both lungs.\\r\\n-Tortuous atherosclerotic dilated aorta.\\r\\n-Normal heart size. \\r\\n-DJD of spine. \\r\\n Old fracture of right ribs.\\r\\n-Increased both lung markings. \\r\\n S/P Lt jugular CVC insertion. \\r\\n S/P NG and endotracheal tube.\\r\\n-Susp. Lt pneumothorax. \\r\\n Suspect pneumomediastinum. \\r\\n Subcutaneous emphysema in bilateral neck.  \\r\\n-S/P bilateral chest tube insertion. ']\n",
                        "\n"
                    ]
                },
                {
                    "name": "stderr",
                    "output_type": "stream",
                    "text": [
                        "Evaluting Epoch: 27:  60%|██████    | 6/10 [00:01<00:00,  4.48it/s]The attention mask and the pad token id were not set. As a consequence, you may observe unexpected behavior. Please pass your input's `attention_mask` to obtain reliable results.\n",
                        "Setting `pad_token_id` to `eos_token_id`:50256 for open-end generation.\n"
                    ]
                },
                {
                    "name": "stdout",
                    "output_type": "stream",
                    "text": [
                        "Names      : ['NLP_CHEST_059']\n",
                        "Predictions: ['Chest plain film shows:\\r\\nImpression:\\r\\n-Increased both lung markings']\n",
                        "Labels     : ['Supine chest AP view shows: \\r\\n\\r\\nPigtail catheter at right lower chest.\\r\\nDecreased amount of right pleural effusion.\\r\\nAir in the right lower pleural space. Poor lung expansion.\\r\\nMild subcutaneous emphysema at right chest wall.\\r\\n\\r\\nRight pleural thickening.\\r\\nIll-defined masses at right perihilar region.\\r\\n\\r\\nNormal heart size. \\r\\n']\n",
                        "\n"
                    ]
                },
                {
                    "name": "stderr",
                    "output_type": "stream",
                    "text": [
                        "Evaluting Epoch: 27:  70%|███████   | 7/10 [00:01<00:00,  4.45it/s]The attention mask and the pad token id were not set. As a consequence, you may observe unexpected behavior. Please pass your input's `attention_mask` to obtain reliable results.\n",
                        "Setting `pad_token_id` to `eos_token_id`:50256 for open-end generation.\n"
                    ]
                },
                {
                    "name": "stdout",
                    "output_type": "stream",
                    "text": [
                        "Names      : ['NLP_CHEST_027']\n",
                        "Predictions: ['Chest plain film shows:\\r\\nImpression:\\r\\n-Increased both lung markings']\n",
                        "Labels     : ['Chest PA View:\\r\\nImpression: \\r\\n> Cardiomegaly with bilateral pulmonary congestion.\\r\\n> Postinflammatory fibrosis in both upper lungs.\\r\\n> Atherosclerosis of aorta.\\r\\n> Old fractures of left 5th and 6th ribs.\\r\\n> R/O osteoporosis.\\r\\n> Spondylosis of thoracolumbar spine.\\r\\n> S/P abdominal operation in RUQ.']\n",
                        "\n"
                    ]
                },
                {
                    "name": "stderr",
                    "output_type": "stream",
                    "text": [
                        "Evaluting Epoch: 27:  80%|████████  | 8/10 [00:01<00:00,  4.47it/s]The attention mask and the pad token id were not set. As a consequence, you may observe unexpected behavior. Please pass your input's `attention_mask` to obtain reliable results.\n",
                        "Setting `pad_token_id` to `eos_token_id`:50256 for open-end generation.\n"
                    ]
                },
                {
                    "name": "stdout",
                    "output_type": "stream",
                    "text": [
                        "Names      : ['NLP_CHEST_085']\n",
                        "Predictions: ['Chest plain film shows:\\r\\nImpression:\\r\\n-Increased both lung markings']\n",
                        "Labels     : ['Chest X ray: \\r\\n\\r\\n- Right pneumothorax with pleural effusion, status post drainge \\r\\n  tube placement.\\r\\n- Extensive subcutaneous emphysema from neck to right side \\r\\n  thoracic cage.\\r\\n- Increased right hilar opacity.\\r\\n- Atherosclerosis and tortuous aorta. \\r\\n- Obscured bilateral costophrenic angles. \\r\\n- Spondylosis and mild scoliosis of thoracolumbar spine. \\r\\n- OA of right glenohumeral joint.\\r\\n- Generalized osteopenia. \\r\\n']\n",
                        "\n"
                    ]
                },
                {
                    "name": "stderr",
                    "output_type": "stream",
                    "text": [
                        "Evaluting Epoch: 27:  90%|█████████ | 9/10 [00:02<00:00,  4.41it/s]The attention mask and the pad token id were not set. As a consequence, you may observe unexpected behavior. Please pass your input's `attention_mask` to obtain reliable results.\n",
                        "Setting `pad_token_id` to `eos_token_id`:50256 for open-end generation.\n"
                    ]
                },
                {
                    "name": "stdout",
                    "output_type": "stream",
                    "text": [
                        "Names      : ['NLP_CHEST_011']\n",
                        "Predictions: ['Chest plain film shows:\\r\\nImpression:\\r\\n-Increased both lung markings']\n",
                        "Labels     : [\"Chest AP view showed:\\r\\n1.s/p sternotomy and CABG.\\r\\n  Enlarged heart size with tortuous aorta.\\r\\n2.R't middle and lower lung faint patches.\\r\\n  L't lower lung consolidation.\\r\\n  L't pleural effusion.\\r\\n3.No mediastinum widening.\\r\\n4.s/p endotracheal tube and NG intubation.\\r\\n\"]\n",
                        "\n"
                    ]
                },
                {
                    "name": "stderr",
                    "output_type": "stream",
                    "text": [
                        "Evaluting Epoch: 27: 100%|██████████| 10/10 [00:02<00:00,  4.43it/s]\n"
                    ]
                },
                {
                    "name": "stdout",
                    "output_type": "stream",
                    "text": [
                        "Names      : ['NLP_CHEST_015']\n",
                        "Predictions: ['Chest plain film shows:\\r\\nImpression:\\r\\n-Increased both lung markings']\n",
                        "Labels     : ['Chest X ray: \\r\\n\\r\\n- No obvious lung mass nor consolidation patch.\\r\\n- Normal heart size.\\r\\n- No pleural effusion. ']\n",
                        "\n",
                        "Rouge-2 score on epoch 26: {'Rouge-L-P': 0.2634229864785422, 'Rouge-L-R': 0.055383843238963, 'Rouge-L-F': 0.055383843238963, 'Rouge-2-P': 0.09230599647266313, 'Rouge-2-R': 0.015203464963645004, 'Rouge-2-F': 0.015203464963645004}\n"
                    ]
                },
                {
                    "name": "stderr",
                    "output_type": "stream",
                    "text": [
                        "Training Epoch [28 / 30]: 100%|██████████| 89/89 [00:09<00:00,  9.39it/s, loss=0.371]\n",
                        "Evaluting Epoch: 28:   0%|          | 0/10 [00:00<?, ?it/s]The attention mask and the pad token id were not set. As a consequence, you may observe unexpected behavior. Please pass your input's `attention_mask` to obtain reliable results.\n",
                        "Setting `pad_token_id` to `eos_token_id`:50256 for open-end generation.\n",
                        "Evaluting Epoch: 28:  10%|█         | 1/10 [00:00<00:02,  4.29it/s]The attention mask and the pad token id were not set. As a consequence, you may observe unexpected behavior. Please pass your input's `attention_mask` to obtain reliable results.\n",
                        "Setting `pad_token_id` to `eos_token_id`:50256 for open-end generation.\n"
                    ]
                },
                {
                    "name": "stdout",
                    "output_type": "stream",
                    "text": [
                        "Names      : ['NLP_CHEST_071']\n",
                        "Predictions: ['Chest plain film shows:\\r\\nImpression:\\r\\n-Increased both lung markings']\n",
                        "Labels     : ['Chest film shows:\\r\\nImpression:\\r\\n-Bilateral lung infiltrations.\\r\\n-Suspect right lower lung patch. \\r\\n Blunting right CP angle. \\r\\n-Tortuous atherosclerotic aorta. \\r\\n-Scoliosis, DJD and osteoporosis of spine. \\r\\n Compression fracture of T12.\\r\\n Old fracture of left ribs.\\r\\n-S/P fixation in L-spine.  \\r\\n-S/P tracheostomy and NG tube.   \\r\\n']\n",
                        "\n"
                    ]
                },
                {
                    "name": "stderr",
                    "output_type": "stream",
                    "text": [
                        "Evaluting Epoch: 28:  20%|██        | 2/10 [00:00<00:01,  4.32it/s]The attention mask and the pad token id were not set. As a consequence, you may observe unexpected behavior. Please pass your input's `attention_mask` to obtain reliable results.\n",
                        "Setting `pad_token_id` to `eos_token_id`:50256 for open-end generation.\n"
                    ]
                },
                {
                    "name": "stdout",
                    "output_type": "stream",
                    "text": [
                        "Names      : ['NLP_CHEST_002']\n",
                        "Predictions: ['Chest plain film shows:\\r\\nImpression:\\r\\n-Increased both lung markings']\n",
                        "Labels     : ['Chest PA view shows: \\r\\n\\r\\nPartial atelectasis at left lower lung field. \\r\\nLeft pleural effusion.\\r\\n\\r\\nBorderline heart size. \\r\\nAtherosclerotic change of aortic knob. \\r\\n\\r\\nS/P port-A implantation via left subclavian vein. \\r\\nIntraperitoneal port catheter.\\r\\nSurgical clips at RUQ of abdomen.\\r\\n']\n",
                        "\n"
                    ]
                },
                {
                    "name": "stderr",
                    "output_type": "stream",
                    "text": [
                        "Evaluting Epoch: 28:  30%|███       | 3/10 [00:00<00:01,  4.31it/s]The attention mask and the pad token id were not set. As a consequence, you may observe unexpected behavior. Please pass your input's `attention_mask` to obtain reliable results.\n",
                        "Setting `pad_token_id` to `eos_token_id`:50256 for open-end generation.\n"
                    ]
                },
                {
                    "name": "stdout",
                    "output_type": "stream",
                    "text": [
                        "Names      : ['NLP_CHEST_004']\n",
                        "Predictions: ['Chest plain film shows:\\r\\nImpression:\\r\\n-Increased both lung markings']\n",
                        "Labels     : ['Chest PA view show: \\r\\nImpression:\\r\\n-S/P RLL wedge resection.\\u3000 \\r\\n-Bilateral lungs metastasis.\\r\\n-Left lower lung subsegmental atelectasis. \\r\\n-Increased infiltrations in both lungs.\\r\\n-Blunting right CP angle. \\r\\n-Tortuous atherosclerotic aorta.\\r\\n-Scoliosis, DJD and osteoporosis of spine. \\r\\n-Compression fracture of L1.']\n",
                        "\n"
                    ]
                },
                {
                    "name": "stderr",
                    "output_type": "stream",
                    "text": [
                        "Evaluting Epoch: 28:  40%|████      | 4/10 [00:00<00:01,  4.36it/s]The attention mask and the pad token id were not set. As a consequence, you may observe unexpected behavior. Please pass your input's `attention_mask` to obtain reliable results.\n",
                        "Setting `pad_token_id` to `eos_token_id`:50256 for open-end generation.\n"
                    ]
                },
                {
                    "name": "stdout",
                    "output_type": "stream",
                    "text": [
                        "Names      : ['NLP_CHEST_031']\n",
                        "Predictions: ['Chest plain film shows:\\r\\nImpression:\\r\\n-Increased both lung markings']\n",
                        "Labels     : ['Chest PA view:\\r\\nImpression:\\r\\n-Increased both lung markings. \\r\\n-Compatible with right lung nodules.\\r\\n-Fibrotic lesion in left upper lung.\\r\\n-Normal heart size. Atherosclerotic aorta. \\r\\n-Suspect right pleural effusion.\\r\\n-Spondylosis. R/O osteoporosis. \\r\\n-Compatible with multiple bony metastases.\\r\\n-S/P NG and endotracheal tube.\\r\\n-S/P Lt subclavian Port-A-cath. ']\n",
                        "\n"
                    ]
                },
                {
                    "name": "stderr",
                    "output_type": "stream",
                    "text": [
                        "Evaluting Epoch: 28:  50%|█████     | 5/10 [00:01<00:01,  4.37it/s]The attention mask and the pad token id were not set. As a consequence, you may observe unexpected behavior. Please pass your input's `attention_mask` to obtain reliable results.\n",
                        "Setting `pad_token_id` to `eos_token_id`:50256 for open-end generation.\n"
                    ]
                },
                {
                    "name": "stdout",
                    "output_type": "stream",
                    "text": [
                        "Names      : ['NLP_CHEST_057']\n",
                        "Predictions: ['Chest plain film shows:\\r\\nImpression:\\r\\n-Increased both lung markings']\n",
                        "Labels     : ['Chest plain film shows:\\r\\nImpression:\\r\\n-Increased infiltrations in both lungs.\\r\\n-Tortuous atherosclerotic dilated aorta.\\r\\n-Normal heart size. \\r\\n-DJD of spine. \\r\\n Old fracture of right ribs.\\r\\n-Increased both lung markings. \\r\\n S/P Lt jugular CVC insertion. \\r\\n S/P NG and endotracheal tube.\\r\\n-Susp. Lt pneumothorax. \\r\\n Suspect pneumomediastinum. \\r\\n Subcutaneous emphysema in bilateral neck.  \\r\\n-S/P bilateral chest tube insertion. ']\n",
                        "\n"
                    ]
                },
                {
                    "name": "stderr",
                    "output_type": "stream",
                    "text": [
                        "Evaluting Epoch: 28:  60%|██████    | 6/10 [00:01<00:00,  4.44it/s]The attention mask and the pad token id were not set. As a consequence, you may observe unexpected behavior. Please pass your input's `attention_mask` to obtain reliable results.\n",
                        "Setting `pad_token_id` to `eos_token_id`:50256 for open-end generation.\n"
                    ]
                },
                {
                    "name": "stdout",
                    "output_type": "stream",
                    "text": [
                        "Names      : ['NLP_CHEST_059']\n",
                        "Predictions: ['Chest plain film shows:\\r\\nImpression:\\r\\n-Increased both lung markings']\n",
                        "Labels     : ['Supine chest AP view shows: \\r\\n\\r\\nPigtail catheter at right lower chest.\\r\\nDecreased amount of right pleural effusion.\\r\\nAir in the right lower pleural space. Poor lung expansion.\\r\\nMild subcutaneous emphysema at right chest wall.\\r\\n\\r\\nRight pleural thickening.\\r\\nIll-defined masses at right perihilar region.\\r\\n\\r\\nNormal heart size. \\r\\n']\n",
                        "\n"
                    ]
                },
                {
                    "name": "stderr",
                    "output_type": "stream",
                    "text": [
                        "Evaluting Epoch: 28:  70%|███████   | 7/10 [00:01<00:00,  4.43it/s]The attention mask and the pad token id were not set. As a consequence, you may observe unexpected behavior. Please pass your input's `attention_mask` to obtain reliable results.\n",
                        "Setting `pad_token_id` to `eos_token_id`:50256 for open-end generation.\n"
                    ]
                },
                {
                    "name": "stdout",
                    "output_type": "stream",
                    "text": [
                        "Names      : ['NLP_CHEST_027']\n",
                        "Predictions: ['Chest plain film shows:\\r\\nImpression:\\r\\n-Increased both lung markings']\n",
                        "Labels     : ['Chest PA View:\\r\\nImpression: \\r\\n> Cardiomegaly with bilateral pulmonary congestion.\\r\\n> Postinflammatory fibrosis in both upper lungs.\\r\\n> Atherosclerosis of aorta.\\r\\n> Old fractures of left 5th and 6th ribs.\\r\\n> R/O osteoporosis.\\r\\n> Spondylosis of thoracolumbar spine.\\r\\n> S/P abdominal operation in RUQ.']\n",
                        "\n"
                    ]
                },
                {
                    "name": "stderr",
                    "output_type": "stream",
                    "text": [
                        "Evaluting Epoch: 28:  80%|████████  | 8/10 [00:01<00:00,  4.46it/s]The attention mask and the pad token id were not set. As a consequence, you may observe unexpected behavior. Please pass your input's `attention_mask` to obtain reliable results.\n",
                        "Setting `pad_token_id` to `eos_token_id`:50256 for open-end generation.\n"
                    ]
                },
                {
                    "name": "stdout",
                    "output_type": "stream",
                    "text": [
                        "Names      : ['NLP_CHEST_085']\n",
                        "Predictions: ['Chest plain film shows:\\r\\nImpression:\\r\\n-Increased both lung markings']\n",
                        "Labels     : ['Chest X ray: \\r\\n\\r\\n- Right pneumothorax with pleural effusion, status post drainge \\r\\n  tube placement.\\r\\n- Extensive subcutaneous emphysema from neck to right side \\r\\n  thoracic cage.\\r\\n- Increased right hilar opacity.\\r\\n- Atherosclerosis and tortuous aorta. \\r\\n- Obscured bilateral costophrenic angles. \\r\\n- Spondylosis and mild scoliosis of thoracolumbar spine. \\r\\n- OA of right glenohumeral joint.\\r\\n- Generalized osteopenia. \\r\\n']\n",
                        "\n"
                    ]
                },
                {
                    "name": "stderr",
                    "output_type": "stream",
                    "text": [
                        "Evaluting Epoch: 28:  90%|█████████ | 9/10 [00:02<00:00,  4.40it/s]The attention mask and the pad token id were not set. As a consequence, you may observe unexpected behavior. Please pass your input's `attention_mask` to obtain reliable results.\n",
                        "Setting `pad_token_id` to `eos_token_id`:50256 for open-end generation.\n"
                    ]
                },
                {
                    "name": "stdout",
                    "output_type": "stream",
                    "text": [
                        "Names      : ['NLP_CHEST_011']\n",
                        "Predictions: ['Chest plain film shows:\\r\\nImpression:\\r\\n-Increased both lung markings']\n",
                        "Labels     : [\"Chest AP view showed:\\r\\n1.s/p sternotomy and CABG.\\r\\n  Enlarged heart size with tortuous aorta.\\r\\n2.R't middle and lower lung faint patches.\\r\\n  L't lower lung consolidation.\\r\\n  L't pleural effusion.\\r\\n3.No mediastinum widening.\\r\\n4.s/p endotracheal tube and NG intubation.\\r\\n\"]\n",
                        "\n"
                    ]
                },
                {
                    "name": "stderr",
                    "output_type": "stream",
                    "text": [
                        "Evaluting Epoch: 28: 100%|██████████| 10/10 [00:02<00:00,  4.40it/s]\n"
                    ]
                },
                {
                    "name": "stdout",
                    "output_type": "stream",
                    "text": [
                        "Names      : ['NLP_CHEST_015']\n",
                        "Predictions: ['Chest plain film shows:\\r\\nImpression:\\r\\n-Increased both lung markings']\n",
                        "Labels     : ['Chest X ray: \\r\\n\\r\\n- No obvious lung mass nor consolidation patch.\\r\\n- Normal heart size.\\r\\n- No pleural effusion. ']\n",
                        "\n",
                        "Rouge-2 score on epoch 27: {'Rouge-L-P': 0.267903911564626, 'Rouge-L-R': 0.05642574508993273, 'Rouge-L-F': 0.05642574508993273, 'Rouge-2-P': 0.09436649659863945, 'Rouge-2-R': 0.015545756706011177, 'Rouge-2-F': 0.015545756706011177}\n"
                    ]
                },
                {
                    "name": "stderr",
                    "output_type": "stream",
                    "text": [
                        "Training Epoch [29 / 30]: 100%|██████████| 89/89 [00:09<00:00,  9.47it/s, loss=0.359]\n",
                        "Evaluting Epoch: 29:   0%|          | 0/10 [00:00<?, ?it/s]The attention mask and the pad token id were not set. As a consequence, you may observe unexpected behavior. Please pass your input's `attention_mask` to obtain reliable results.\n",
                        "Setting `pad_token_id` to `eos_token_id`:50256 for open-end generation.\n",
                        "Evaluting Epoch: 29:  10%|█         | 1/10 [00:00<00:02,  4.30it/s]The attention mask and the pad token id were not set. As a consequence, you may observe unexpected behavior. Please pass your input's `attention_mask` to obtain reliable results.\n",
                        "Setting `pad_token_id` to `eos_token_id`:50256 for open-end generation.\n"
                    ]
                },
                {
                    "name": "stdout",
                    "output_type": "stream",
                    "text": [
                        "Names      : ['NLP_CHEST_071']\n",
                        "Predictions: ['Chest plain film shows:\\r\\nImpression:\\r\\n-Increased both lung markings']\n",
                        "Labels     : ['Chest film shows:\\r\\nImpression:\\r\\n-Bilateral lung infiltrations.\\r\\n-Suspect right lower lung patch. \\r\\n Blunting right CP angle. \\r\\n-Tortuous atherosclerotic aorta. \\r\\n-Scoliosis, DJD and osteoporosis of spine. \\r\\n Compression fracture of T12.\\r\\n Old fracture of left ribs.\\r\\n-S/P fixation in L-spine.  \\r\\n-S/P tracheostomy and NG tube.   \\r\\n']\n",
                        "\n"
                    ]
                },
                {
                    "name": "stderr",
                    "output_type": "stream",
                    "text": [
                        "Evaluting Epoch: 29:  20%|██        | 2/10 [00:00<00:01,  4.53it/s]The attention mask and the pad token id were not set. As a consequence, you may observe unexpected behavior. Please pass your input's `attention_mask` to obtain reliable results.\n",
                        "Setting `pad_token_id` to `eos_token_id`:50256 for open-end generation.\n"
                    ]
                },
                {
                    "name": "stdout",
                    "output_type": "stream",
                    "text": [
                        "Names      : ['NLP_CHEST_002']\n",
                        "Predictions: ['Chest plain film shows:\\r\\nImpression:\\r\\n-Increased both lung markings']\n",
                        "Labels     : ['Chest PA view shows: \\r\\n\\r\\nPartial atelectasis at left lower lung field. \\r\\nLeft pleural effusion.\\r\\n\\r\\nBorderline heart size. \\r\\nAtherosclerotic change of aortic knob. \\r\\n\\r\\nS/P port-A implantation via left subclavian vein. \\r\\nIntraperitoneal port catheter.\\r\\nSurgical clips at RUQ of abdomen.\\r\\n']\n",
                        "\n"
                    ]
                },
                {
                    "name": "stderr",
                    "output_type": "stream",
                    "text": [
                        "Evaluting Epoch: 29:  30%|███       | 3/10 [00:00<00:01,  4.41it/s]The attention mask and the pad token id were not set. As a consequence, you may observe unexpected behavior. Please pass your input's `attention_mask` to obtain reliable results.\n",
                        "Setting `pad_token_id` to `eos_token_id`:50256 for open-end generation.\n"
                    ]
                },
                {
                    "name": "stdout",
                    "output_type": "stream",
                    "text": [
                        "Names      : ['NLP_CHEST_004']\n",
                        "Predictions: ['Chest plain film shows:\\r\\nImpression:\\r\\n-Increased both lung markings']\n",
                        "Labels     : ['Chest PA view show: \\r\\nImpression:\\r\\n-S/P RLL wedge resection.\\u3000 \\r\\n-Bilateral lungs metastasis.\\r\\n-Left lower lung subsegmental atelectasis. \\r\\n-Increased infiltrations in both lungs.\\r\\n-Blunting right CP angle. \\r\\n-Tortuous atherosclerotic aorta.\\r\\n-Scoliosis, DJD and osteoporosis of spine. \\r\\n-Compression fracture of L1.']\n",
                        "\n"
                    ]
                },
                {
                    "name": "stderr",
                    "output_type": "stream",
                    "text": [
                        "Evaluting Epoch: 29:  40%|████      | 4/10 [00:00<00:01,  4.42it/s]The attention mask and the pad token id were not set. As a consequence, you may observe unexpected behavior. Please pass your input's `attention_mask` to obtain reliable results.\n",
                        "Setting `pad_token_id` to `eos_token_id`:50256 for open-end generation.\n"
                    ]
                },
                {
                    "name": "stdout",
                    "output_type": "stream",
                    "text": [
                        "Names      : ['NLP_CHEST_031']\n",
                        "Predictions: ['Chest plain film shows:\\r\\nImpression:\\r\\n-Increased both lung markings']\n",
                        "Labels     : ['Chest PA view:\\r\\nImpression:\\r\\n-Increased both lung markings. \\r\\n-Compatible with right lung nodules.\\r\\n-Fibrotic lesion in left upper lung.\\r\\n-Normal heart size. Atherosclerotic aorta. \\r\\n-Suspect right pleural effusion.\\r\\n-Spondylosis. R/O osteoporosis. \\r\\n-Compatible with multiple bony metastases.\\r\\n-S/P NG and endotracheal tube.\\r\\n-S/P Lt subclavian Port-A-cath. ']\n",
                        "\n"
                    ]
                },
                {
                    "name": "stderr",
                    "output_type": "stream",
                    "text": [
                        "Evaluting Epoch: 29:  50%|█████     | 5/10 [00:01<00:01,  4.41it/s]The attention mask and the pad token id were not set. As a consequence, you may observe unexpected behavior. Please pass your input's `attention_mask` to obtain reliable results.\n",
                        "Setting `pad_token_id` to `eos_token_id`:50256 for open-end generation.\n"
                    ]
                },
                {
                    "name": "stdout",
                    "output_type": "stream",
                    "text": [
                        "Names      : ['NLP_CHEST_057']\n",
                        "Predictions: ['Chest plain film shows:\\r\\nImpression:\\r\\n-Increased both lung markings']\n",
                        "Labels     : ['Chest plain film shows:\\r\\nImpression:\\r\\n-Increased infiltrations in both lungs.\\r\\n-Tortuous atherosclerotic dilated aorta.\\r\\n-Normal heart size. \\r\\n-DJD of spine. \\r\\n Old fracture of right ribs.\\r\\n-Increased both lung markings. \\r\\n S/P Lt jugular CVC insertion. \\r\\n S/P NG and endotracheal tube.\\r\\n-Susp. Lt pneumothorax. \\r\\n Suspect pneumomediastinum. \\r\\n Subcutaneous emphysema in bilateral neck.  \\r\\n-S/P bilateral chest tube insertion. ']\n",
                        "\n"
                    ]
                },
                {
                    "name": "stderr",
                    "output_type": "stream",
                    "text": [
                        "Evaluting Epoch: 29:  60%|██████    | 6/10 [00:01<00:00,  4.46it/s]The attention mask and the pad token id were not set. As a consequence, you may observe unexpected behavior. Please pass your input's `attention_mask` to obtain reliable results.\n",
                        "Setting `pad_token_id` to `eos_token_id`:50256 for open-end generation.\n"
                    ]
                },
                {
                    "name": "stdout",
                    "output_type": "stream",
                    "text": [
                        "Names      : ['NLP_CHEST_059']\n",
                        "Predictions: ['Chest plain film shows:\\r\\nImpression:\\r\\n-Increased both lung markings']\n",
                        "Labels     : ['Supine chest AP view shows: \\r\\n\\r\\nPigtail catheter at right lower chest.\\r\\nDecreased amount of right pleural effusion.\\r\\nAir in the right lower pleural space. Poor lung expansion.\\r\\nMild subcutaneous emphysema at right chest wall.\\r\\n\\r\\nRight pleural thickening.\\r\\nIll-defined masses at right perihilar region.\\r\\n\\r\\nNormal heart size. \\r\\n']\n",
                        "\n"
                    ]
                },
                {
                    "name": "stderr",
                    "output_type": "stream",
                    "text": [
                        "Evaluting Epoch: 29:  70%|███████   | 7/10 [00:01<00:00,  4.45it/s]The attention mask and the pad token id were not set. As a consequence, you may observe unexpected behavior. Please pass your input's `attention_mask` to obtain reliable results.\n",
                        "Setting `pad_token_id` to `eos_token_id`:50256 for open-end generation.\n"
                    ]
                },
                {
                    "name": "stdout",
                    "output_type": "stream",
                    "text": [
                        "Names      : ['NLP_CHEST_027']\n",
                        "Predictions: ['Chest plain film shows:\\r\\nImpression:\\r\\n-Increased both lung markings']\n",
                        "Labels     : ['Chest PA View:\\r\\nImpression: \\r\\n> Cardiomegaly with bilateral pulmonary congestion.\\r\\n> Postinflammatory fibrosis in both upper lungs.\\r\\n> Atherosclerosis of aorta.\\r\\n> Old fractures of left 5th and 6th ribs.\\r\\n> R/O osteoporosis.\\r\\n> Spondylosis of thoracolumbar spine.\\r\\n> S/P abdominal operation in RUQ.']\n",
                        "\n"
                    ]
                },
                {
                    "name": "stderr",
                    "output_type": "stream",
                    "text": [
                        "Evaluting Epoch: 29:  80%|████████  | 8/10 [00:01<00:00,  4.46it/s]The attention mask and the pad token id were not set. As a consequence, you may observe unexpected behavior. Please pass your input's `attention_mask` to obtain reliable results.\n",
                        "Setting `pad_token_id` to `eos_token_id`:50256 for open-end generation.\n"
                    ]
                },
                {
                    "name": "stdout",
                    "output_type": "stream",
                    "text": [
                        "Names      : ['NLP_CHEST_085']\n",
                        "Predictions: ['Chest plain film shows:\\r\\nImpression:\\r\\n-Increased both lung markings']\n",
                        "Labels     : ['Chest X ray: \\r\\n\\r\\n- Right pneumothorax with pleural effusion, status post drainge \\r\\n  tube placement.\\r\\n- Extensive subcutaneous emphysema from neck to right side \\r\\n  thoracic cage.\\r\\n- Increased right hilar opacity.\\r\\n- Atherosclerosis and tortuous aorta. \\r\\n- Obscured bilateral costophrenic angles. \\r\\n- Spondylosis and mild scoliosis of thoracolumbar spine. \\r\\n- OA of right glenohumeral joint.\\r\\n- Generalized osteopenia. \\r\\n']\n",
                        "\n"
                    ]
                },
                {
                    "name": "stderr",
                    "output_type": "stream",
                    "text": [
                        "Evaluting Epoch: 29:  90%|█████████ | 9/10 [00:02<00:00,  4.40it/s]The attention mask and the pad token id were not set. As a consequence, you may observe unexpected behavior. Please pass your input's `attention_mask` to obtain reliable results.\n",
                        "Setting `pad_token_id` to `eos_token_id`:50256 for open-end generation.\n"
                    ]
                },
                {
                    "name": "stdout",
                    "output_type": "stream",
                    "text": [
                        "Names      : ['NLP_CHEST_011']\n",
                        "Predictions: ['Chest plain film shows:\\r\\nImpression:\\r\\n-Increased both lung markings']\n",
                        "Labels     : [\"Chest AP view showed:\\r\\n1.s/p sternotomy and CABG.\\r\\n  Enlarged heart size with tortuous aorta.\\r\\n2.R't middle and lower lung faint patches.\\r\\n  L't lower lung consolidation.\\r\\n  L't pleural effusion.\\r\\n3.No mediastinum widening.\\r\\n4.s/p endotracheal tube and NG intubation.\\r\\n\"]\n",
                        "\n"
                    ]
                },
                {
                    "name": "stderr",
                    "output_type": "stream",
                    "text": [
                        "Evaluting Epoch: 29: 100%|██████████| 10/10 [00:02<00:00,  4.43it/s]\n"
                    ]
                },
                {
                    "name": "stdout",
                    "output_type": "stream",
                    "text": [
                        "Names      : ['NLP_CHEST_015']\n",
                        "Predictions: ['Chest plain film shows:\\r\\nImpression:\\r\\n-Increased both lung markings']\n",
                        "Labels     : ['Chest X ray: \\r\\n\\r\\n- No obvious lung mass nor consolidation patch.\\r\\n- Normal heart size.\\r\\n- No pleural effusion. ']\n",
                        "\n",
                        "Rouge-2 score on epoch 28: {'Rouge-L-P': 0.27207580733442827, 'Rouge-L-R': 0.05739579164083558, 'Rouge-L-F': 0.05739579164083558, 'Rouge-2-P': 0.09628489326765188, 'Rouge-2-R': 0.015864442121317615, 'Rouge-2-F': 0.015864442121317615}\n"
                    ]
                },
                {
                    "name": "stderr",
                    "output_type": "stream",
                    "text": [
                        "Training Epoch [30 / 30]: 100%|██████████| 89/89 [00:09<00:00,  9.44it/s, loss=0.355]\n",
                        "Evaluting Epoch: 30:   0%|          | 0/10 [00:00<?, ?it/s]The attention mask and the pad token id were not set. As a consequence, you may observe unexpected behavior. Please pass your input's `attention_mask` to obtain reliable results.\n",
                        "Setting `pad_token_id` to `eos_token_id`:50256 for open-end generation.\n",
                        "Evaluting Epoch: 30:  10%|█         | 1/10 [00:00<00:02,  4.44it/s]The attention mask and the pad token id were not set. As a consequence, you may observe unexpected behavior. Please pass your input's `attention_mask` to obtain reliable results.\n",
                        "Setting `pad_token_id` to `eos_token_id`:50256 for open-end generation.\n"
                    ]
                },
                {
                    "name": "stdout",
                    "output_type": "stream",
                    "text": [
                        "Names      : ['NLP_CHEST_071']\n",
                        "Predictions: ['Chest plain film shows:\\r\\nImpression:\\r\\n-Increased both lung markings']\n",
                        "Labels     : ['Chest film shows:\\r\\nImpression:\\r\\n-Bilateral lung infiltrations.\\r\\n-Suspect right lower lung patch. \\r\\n Blunting right CP angle. \\r\\n-Tortuous atherosclerotic aorta. \\r\\n-Scoliosis, DJD and osteoporosis of spine. \\r\\n Compression fracture of T12.\\r\\n Old fracture of left ribs.\\r\\n-S/P fixation in L-spine.  \\r\\n-S/P tracheostomy and NG tube.   \\r\\n']\n",
                        "\n"
                    ]
                },
                {
                    "name": "stderr",
                    "output_type": "stream",
                    "text": [
                        "Evaluting Epoch: 30:  20%|██        | 2/10 [00:00<00:01,  4.58it/s]The attention mask and the pad token id were not set. As a consequence, you may observe unexpected behavior. Please pass your input's `attention_mask` to obtain reliable results.\n",
                        "Setting `pad_token_id` to `eos_token_id`:50256 for open-end generation.\n"
                    ]
                },
                {
                    "name": "stdout",
                    "output_type": "stream",
                    "text": [
                        "Names      : ['NLP_CHEST_002']\n",
                        "Predictions: ['Chest plain film shows:\\r\\nImpression:\\r\\n-Increased both lung markings']\n",
                        "Labels     : ['Chest PA view shows: \\r\\n\\r\\nPartial atelectasis at left lower lung field. \\r\\nLeft pleural effusion.\\r\\n\\r\\nBorderline heart size. \\r\\nAtherosclerotic change of aortic knob. \\r\\n\\r\\nS/P port-A implantation via left subclavian vein. \\r\\nIntraperitoneal port catheter.\\r\\nSurgical clips at RUQ of abdomen.\\r\\n']\n",
                        "\n"
                    ]
                },
                {
                    "name": "stderr",
                    "output_type": "stream",
                    "text": [
                        "Evaluting Epoch: 30:  30%|███       | 3/10 [00:00<00:01,  4.44it/s]The attention mask and the pad token id were not set. As a consequence, you may observe unexpected behavior. Please pass your input's `attention_mask` to obtain reliable results.\n",
                        "Setting `pad_token_id` to `eos_token_id`:50256 for open-end generation.\n"
                    ]
                },
                {
                    "name": "stdout",
                    "output_type": "stream",
                    "text": [
                        "Names      : ['NLP_CHEST_004']\n",
                        "Predictions: ['Chest plain film shows:\\r\\nImpression:\\r\\n-Increased both lung markings']\n",
                        "Labels     : ['Chest PA view show: \\r\\nImpression:\\r\\n-S/P RLL wedge resection.\\u3000 \\r\\n-Bilateral lungs metastasis.\\r\\n-Left lower lung subsegmental atelectasis. \\r\\n-Increased infiltrations in both lungs.\\r\\n-Blunting right CP angle. \\r\\n-Tortuous atherosclerotic aorta.\\r\\n-Scoliosis, DJD and osteoporosis of spine. \\r\\n-Compression fracture of L1.']\n",
                        "\n"
                    ]
                },
                {
                    "name": "stderr",
                    "output_type": "stream",
                    "text": [
                        "Evaluting Epoch: 30:  40%|████      | 4/10 [00:00<00:01,  4.43it/s]The attention mask and the pad token id were not set. As a consequence, you may observe unexpected behavior. Please pass your input's `attention_mask` to obtain reliable results.\n",
                        "Setting `pad_token_id` to `eos_token_id`:50256 for open-end generation.\n"
                    ]
                },
                {
                    "name": "stdout",
                    "output_type": "stream",
                    "text": [
                        "Names      : ['NLP_CHEST_031']\n",
                        "Predictions: ['Chest plain film shows:\\r\\nImpression:\\r\\n-Increased both lung markings']\n",
                        "Labels     : ['Chest PA view:\\r\\nImpression:\\r\\n-Increased both lung markings. \\r\\n-Compatible with right lung nodules.\\r\\n-Fibrotic lesion in left upper lung.\\r\\n-Normal heart size. Atherosclerotic aorta. \\r\\n-Suspect right pleural effusion.\\r\\n-Spondylosis. R/O osteoporosis. \\r\\n-Compatible with multiple bony metastases.\\r\\n-S/P NG and endotracheal tube.\\r\\n-S/P Lt subclavian Port-A-cath. ']\n",
                        "\n"
                    ]
                },
                {
                    "name": "stderr",
                    "output_type": "stream",
                    "text": [
                        "Evaluting Epoch: 30:  50%|█████     | 5/10 [00:01<00:01,  4.43it/s]The attention mask and the pad token id were not set. As a consequence, you may observe unexpected behavior. Please pass your input's `attention_mask` to obtain reliable results.\n",
                        "Setting `pad_token_id` to `eos_token_id`:50256 for open-end generation.\n"
                    ]
                },
                {
                    "name": "stdout",
                    "output_type": "stream",
                    "text": [
                        "Names      : ['NLP_CHEST_057']\n",
                        "Predictions: ['Chest plain film shows:\\r\\nImpression:\\r\\n-Increased both lung markings']\n",
                        "Labels     : ['Chest plain film shows:\\r\\nImpression:\\r\\n-Increased infiltrations in both lungs.\\r\\n-Tortuous atherosclerotic dilated aorta.\\r\\n-Normal heart size. \\r\\n-DJD of spine. \\r\\n Old fracture of right ribs.\\r\\n-Increased both lung markings. \\r\\n S/P Lt jugular CVC insertion. \\r\\n S/P NG and endotracheal tube.\\r\\n-Susp. Lt pneumothorax. \\r\\n Suspect pneumomediastinum. \\r\\n Subcutaneous emphysema in bilateral neck.  \\r\\n-S/P bilateral chest tube insertion. ']\n",
                        "\n"
                    ]
                },
                {
                    "name": "stderr",
                    "output_type": "stream",
                    "text": [
                        "Evaluting Epoch: 30:  60%|██████    | 6/10 [00:01<00:00,  4.48it/s]The attention mask and the pad token id were not set. As a consequence, you may observe unexpected behavior. Please pass your input's `attention_mask` to obtain reliable results.\n",
                        "Setting `pad_token_id` to `eos_token_id`:50256 for open-end generation.\n"
                    ]
                },
                {
                    "name": "stdout",
                    "output_type": "stream",
                    "text": [
                        "Names      : ['NLP_CHEST_059']\n",
                        "Predictions: ['Chest plain film shows:\\r\\nImpression:\\r\\n-Increased both lung markings']\n",
                        "Labels     : ['Supine chest AP view shows: \\r\\n\\r\\nPigtail catheter at right lower chest.\\r\\nDecreased amount of right pleural effusion.\\r\\nAir in the right lower pleural space. Poor lung expansion.\\r\\nMild subcutaneous emphysema at right chest wall.\\r\\n\\r\\nRight pleural thickening.\\r\\nIll-defined masses at right perihilar region.\\r\\n\\r\\nNormal heart size. \\r\\n']\n",
                        "\n"
                    ]
                },
                {
                    "name": "stderr",
                    "output_type": "stream",
                    "text": [
                        "Evaluting Epoch: 30:  70%|███████   | 7/10 [00:01<00:00,  4.47it/s]The attention mask and the pad token id were not set. As a consequence, you may observe unexpected behavior. Please pass your input's `attention_mask` to obtain reliable results.\n",
                        "Setting `pad_token_id` to `eos_token_id`:50256 for open-end generation.\n"
                    ]
                },
                {
                    "name": "stdout",
                    "output_type": "stream",
                    "text": [
                        "Names      : ['NLP_CHEST_027']\n",
                        "Predictions: ['Chest plain film shows:\\r\\nImpression:\\r\\n-Increased both lung markings']\n",
                        "Labels     : ['Chest PA View:\\r\\nImpression: \\r\\n> Cardiomegaly with bilateral pulmonary congestion.\\r\\n> Postinflammatory fibrosis in both upper lungs.\\r\\n> Atherosclerosis of aorta.\\r\\n> Old fractures of left 5th and 6th ribs.\\r\\n> R/O osteoporosis.\\r\\n> Spondylosis of thoracolumbar spine.\\r\\n> S/P abdominal operation in RUQ.']\n",
                        "\n"
                    ]
                },
                {
                    "name": "stderr",
                    "output_type": "stream",
                    "text": [
                        "Evaluting Epoch: 30:  80%|████████  | 8/10 [00:01<00:00,  4.49it/s]The attention mask and the pad token id were not set. As a consequence, you may observe unexpected behavior. Please pass your input's `attention_mask` to obtain reliable results.\n",
                        "Setting `pad_token_id` to `eos_token_id`:50256 for open-end generation.\n"
                    ]
                },
                {
                    "name": "stdout",
                    "output_type": "stream",
                    "text": [
                        "Names      : ['NLP_CHEST_085']\n",
                        "Predictions: ['Chest plain film shows:\\r\\nImpression:\\r\\n-Increased both lung markings']\n",
                        "Labels     : ['Chest X ray: \\r\\n\\r\\n- Right pneumothorax with pleural effusion, status post drainge \\r\\n  tube placement.\\r\\n- Extensive subcutaneous emphysema from neck to right side \\r\\n  thoracic cage.\\r\\n- Increased right hilar opacity.\\r\\n- Atherosclerosis and tortuous aorta. \\r\\n- Obscured bilateral costophrenic angles. \\r\\n- Spondylosis and mild scoliosis of thoracolumbar spine. \\r\\n- OA of right glenohumeral joint.\\r\\n- Generalized osteopenia. \\r\\n']\n",
                        "\n"
                    ]
                },
                {
                    "name": "stderr",
                    "output_type": "stream",
                    "text": [
                        "Evaluting Epoch: 30:  90%|█████████ | 9/10 [00:02<00:00,  4.43it/s]The attention mask and the pad token id were not set. As a consequence, you may observe unexpected behavior. Please pass your input's `attention_mask` to obtain reliable results.\n",
                        "Setting `pad_token_id` to `eos_token_id`:50256 for open-end generation.\n"
                    ]
                },
                {
                    "name": "stdout",
                    "output_type": "stream",
                    "text": [
                        "Names      : ['NLP_CHEST_011']\n",
                        "Predictions: ['Chest plain film shows:\\r\\nImpression:\\r\\n-Increased both lung markings']\n",
                        "Labels     : [\"Chest AP view showed:\\r\\n1.s/p sternotomy and CABG.\\r\\n  Enlarged heart size with tortuous aorta.\\r\\n2.R't middle and lower lung faint patches.\\r\\n  L't lower lung consolidation.\\r\\n  L't pleural effusion.\\r\\n3.No mediastinum widening.\\r\\n4.s/p endotracheal tube and NG intubation.\\r\\n\"]\n",
                        "\n"
                    ]
                },
                {
                    "name": "stderr",
                    "output_type": "stream",
                    "text": [
                        "Evaluting Epoch: 30: 100%|██████████| 10/10 [00:02<00:00,  4.46it/s]"
                    ]
                },
                {
                    "name": "stdout",
                    "output_type": "stream",
                    "text": [
                        "Names      : ['NLP_CHEST_015']\n",
                        "Predictions: ['Chest plain film shows:\\r\\nImpression:\\r\\n-Increased both lung markings']\n",
                        "Labels     : ['Chest X ray: \\r\\n\\r\\n- No obvious lung mass nor consolidation patch.\\r\\n- Normal heart size.\\r\\n- No pleural effusion. ']\n",
                        "\n",
                        "Rouge-2 score on epoch 29: {'Rouge-L-P': 0.27596957671957695, 'Rouge-L-R': 0.05830116842167822, 'Rouge-L-F': 0.05830116842167822, 'Rouge-2-P': 0.09807539682539683, 'Rouge-2-R': 0.01616188184227029, 'Rouge-2-F': 0.01616188184227029}\n"
                    ]
                },
                {
                    "name": "stderr",
                    "output_type": "stream",
                    "text": [
                        "\n"
                    ]
                }
            ],
            "source": [
                "min_loss = float(\"inf\")\n",
                "\n",
                "for epoch in range(epochs):\n",
                "    model.train()\n",
                "\n",
                "    pbar = tqdm(train_dataloader)\n",
                "    pbar.set_description(f\"Training Epoch [{epoch + 1} / {epochs}]\")\n",
                "\n",
                "    lost_list = []\n",
                "    average_loss = 0\n",
                "\n",
                "    for _, pixel_values, label_ids in pbar:\n",
                "        optimizer.zero_grad()\n",
                "\n",
                "        loss = model(\n",
                "            pixel_values=pixel_values,\n",
                "            labels=label_ids\n",
                "        ).loss\n",
                "\n",
                "        lost_list.append(loss.item())\n",
                "        average_loss = np.mean(np.array(lost_list))\n",
                "        loss.backward()\n",
                "        optimizer.step()\n",
                "\n",
                "        pbar.set_postfix(loss=average_loss)\n",
                "\n",
                "    if average_loss < min_loss:\n",
                "        min_loss = average_loss\n",
                "        torch.save(model, f\"outputs/best_checkpoint.pt\")\n",
                "\n",
                "    print(f\"Rouge-2 score on epoch {epoch}:\", evaluate(model=model, epoch=epoch))"
            ]
        }
    ],
    "metadata": {
        "kernelspec": {
            "display_name": "GAI",
            "language": "python",
            "name": "python3"
        },
        "language_info": {
            "codemirror_mode": {
                "name": "ipython",
                "version": 3
            },
            "file_extension": ".py",
            "mimetype": "text/x-python",
            "name": "python",
            "nbconvert_exporter": "python",
            "pygments_lexer": "ipython3",
            "version": "3.10.14"
        }
    },
    "nbformat": 4,
    "nbformat_minor": 2
}
